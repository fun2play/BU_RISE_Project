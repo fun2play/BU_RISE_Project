{
 "cells": [
  {
   "cell_type": "code",
   "execution_count": 1,
   "id": "99c62658",
   "metadata": {},
   "outputs": [],
   "source": [
    "from pathlib import Path\n",
    "import pandas as pd\n",
    "import mne\n",
    "import numpy as np\n",
    "from HFODetector import ste  # or mni, if you prefer"
   ]
  },
  {
   "cell_type": "code",
   "execution_count": 2,
   "id": "63878339",
   "metadata": {},
   "outputs": [],
   "source": [
    "# 1) instantiate your detector once\n",
    "detector = ste.STEDetector(\n",
    "    sample_freq=2000,\n",
    "    filter_freq=[80,500],\n",
    "    rms_window=3e-3,\n",
    "    min_window=6e-3,\n",
    "    min_gap=10e-3,\n",
    "    epoch_len=600,\n",
    "    min_osc=6,\n",
    "    rms_thres=5,\n",
    "    peak_thres=3,\n",
    "    n_jobs=8\n",
    ")\n",
    "\n",
    "results = []"
   ]
  },
  {
   "cell_type": "code",
   "execution_count": 3,
   "id": "2b37a1d6",
   "metadata": {},
   "outputs": [
    {
     "name": "stdout",
     "output_type": "stream",
     "text": [
      "Path exists.\n"
     ]
    }
   ],
   "source": [
    "# 2) point to your top‐level BIDS folder\n",
    "data_root = Path(\"data/ds004100\")\n",
    "\n",
    "# Sanity Check\n",
    "if data_root.exists():\n",
    "        print(\"Path exists.\")\n",
    "else:\n",
    "        print(\"Path does not exist.\")"
   ]
  },
  {
   "cell_type": "code",
   "execution_count": 4,
   "id": "2ad9ff72",
   "metadata": {},
   "outputs": [
    {
     "name": "stdout",
     "output_type": "stream",
     "text": [
      "Extracting EDF parameters from /Users/billhuang/Desktop/BU_RISE/BU_RISE_Project/data/ds004100/sub-HUP089/ses-presurgery/ieeg/sub-HUP089_ses-presurgery_task-ictal_acq-ecog_run-01_ieeg.edf...\n",
      "EDF file detected\n",
      "Setting channel info structure...\n",
      "Creating raw.info structure...\n"
     ]
    },
    {
     "name": "stderr",
     "output_type": "stream",
     "text": [
      "100%|██████████| 97.0/97.0 [00:02<00:00, 40.5it/s]\n"
     ]
    },
    {
     "name": "stdout",
     "output_type": "stream",
     "text": [
      "Extracting EDF parameters from /Users/billhuang/Desktop/BU_RISE/BU_RISE_Project/data/ds004100/sub-HUP089/ses-presurgery/ieeg/sub-HUP089_ses-presurgery_task-ictal_acq-ecog_run-01_ieeg.edf...\n",
      "EDF file detected\n",
      "Setting channel info structure...\n",
      "Creating raw.info structure...\n",
      "Extracting EDF parameters from /Users/billhuang/Desktop/BU_RISE/BU_RISE_Project/data/ds004100/sub-HUP089/ses-presurgery/ieeg/sub-HUP089_ses-presurgery_task-ictal_acq-ecog_run-02_ieeg.edf...\n",
      "EDF file detected\n",
      "Setting channel info structure...\n",
      "Creating raw.info structure...\n"
     ]
    },
    {
     "name": "stderr",
     "output_type": "stream",
     "text": [
      "100%|██████████| 97.0/97.0 [00:02<00:00, 40.9it/s]\n"
     ]
    },
    {
     "name": "stdout",
     "output_type": "stream",
     "text": [
      "Extracting EDF parameters from /Users/billhuang/Desktop/BU_RISE/BU_RISE_Project/data/ds004100/sub-HUP089/ses-presurgery/ieeg/sub-HUP089_ses-presurgery_task-ictal_acq-ecog_run-02_ieeg.edf...\n",
      "EDF file detected\n",
      "Setting channel info structure...\n",
      "Creating raw.info structure...\n",
      "Extracting EDF parameters from /Users/billhuang/Desktop/BU_RISE/BU_RISE_Project/data/ds004100/sub-HUP089/ses-presurgery/ieeg/sub-HUP089_ses-presurgery_task-ictal_acq-ecog_run-03_ieeg.edf...\n",
      "EDF file detected\n",
      "Setting channel info structure...\n",
      "Creating raw.info structure...\n"
     ]
    },
    {
     "name": "stderr",
     "output_type": "stream",
     "text": [
      "100%|██████████| 97.0/97.0 [00:02<00:00, 42.4it/s]\n"
     ]
    },
    {
     "name": "stdout",
     "output_type": "stream",
     "text": [
      "Extracting EDF parameters from /Users/billhuang/Desktop/BU_RISE/BU_RISE_Project/data/ds004100/sub-HUP089/ses-presurgery/ieeg/sub-HUP089_ses-presurgery_task-ictal_acq-ecog_run-03_ieeg.edf...\n",
      "EDF file detected\n",
      "Setting channel info structure...\n",
      "Creating raw.info structure...\n",
      "Extracting EDF parameters from /Users/billhuang/Desktop/BU_RISE/BU_RISE_Project/data/ds004100/sub-HUP089/ses-presurgery/ieeg/sub-HUP089_ses-presurgery_task-ictal_acq-ecog_run-04_ieeg.edf...\n",
      "EDF file detected\n",
      "Setting channel info structure...\n",
      "Creating raw.info structure...\n"
     ]
    },
    {
     "name": "stderr",
     "output_type": "stream",
     "text": [
      "100%|██████████| 97.0/97.0 [00:02<00:00, 43.9it/s]\n"
     ]
    },
    {
     "name": "stdout",
     "output_type": "stream",
     "text": [
      "Extracting EDF parameters from /Users/billhuang/Desktop/BU_RISE/BU_RISE_Project/data/ds004100/sub-HUP089/ses-presurgery/ieeg/sub-HUP089_ses-presurgery_task-ictal_acq-ecog_run-04_ieeg.edf...\n",
      "EDF file detected\n",
      "Setting channel info structure...\n",
      "Creating raw.info structure...\n",
      "Extracting EDF parameters from /Users/billhuang/Desktop/BU_RISE/BU_RISE_Project/data/ds004100/sub-HUP087/ses-presurgery/ieeg/sub-HUP087_ses-presurgery_task-ictal_acq-ecog_run-01_ieeg.edf...\n",
      "EDF file detected\n",
      "Setting channel info structure...\n",
      "Creating raw.info structure...\n"
     ]
    },
    {
     "name": "stderr",
     "output_type": "stream",
     "text": [
      "100%|██████████| 89.0/89.0 [00:01<00:00, 48.9it/s]\n"
     ]
    },
    {
     "name": "stdout",
     "output_type": "stream",
     "text": [
      "Extracting EDF parameters from /Users/billhuang/Desktop/BU_RISE/BU_RISE_Project/data/ds004100/sub-HUP087/ses-presurgery/ieeg/sub-HUP087_ses-presurgery_task-ictal_acq-ecog_run-01_ieeg.edf...\n",
      "EDF file detected\n",
      "Setting channel info structure...\n",
      "Creating raw.info structure...\n",
      "Extracting EDF parameters from /Users/billhuang/Desktop/BU_RISE/BU_RISE_Project/data/ds004100/sub-HUP087/ses-presurgery/ieeg/sub-HUP087_ses-presurgery_task-ictal_acq-ecog_run-02_ieeg.edf...\n",
      "EDF file detected\n",
      "Setting channel info structure...\n",
      "Creating raw.info structure...\n"
     ]
    },
    {
     "name": "stderr",
     "output_type": "stream",
     "text": [
      "100%|██████████| 89.0/89.0 [00:02<00:00, 42.5it/s]\n"
     ]
    },
    {
     "name": "stdout",
     "output_type": "stream",
     "text": [
      "Extracting EDF parameters from /Users/billhuang/Desktop/BU_RISE/BU_RISE_Project/data/ds004100/sub-HUP087/ses-presurgery/ieeg/sub-HUP087_ses-presurgery_task-ictal_acq-ecog_run-02_ieeg.edf...\n",
      "EDF file detected\n",
      "Setting channel info structure...\n",
      "Creating raw.info structure...\n",
      "Extracting EDF parameters from /Users/billhuang/Desktop/BU_RISE/BU_RISE_Project/data/ds004100/sub-HUP074/ses-presurgery/ieeg/sub-HUP074_ses-presurgery_task-ictal_acq-ecog_run-05_ieeg.edf...\n",
      "EDF file detected\n",
      "Setting channel info structure...\n",
      "Creating raw.info structure...\n"
     ]
    },
    {
     "name": "stderr",
     "output_type": "stream",
     "text": [
      "100%|██████████| 121/121 [00:02<00:00, 46.0it/s] \n"
     ]
    },
    {
     "name": "stdout",
     "output_type": "stream",
     "text": [
      "Extracting EDF parameters from /Users/billhuang/Desktop/BU_RISE/BU_RISE_Project/data/ds004100/sub-HUP074/ses-presurgery/ieeg/sub-HUP074_ses-presurgery_task-ictal_acq-ecog_run-05_ieeg.edf...\n",
      "EDF file detected\n",
      "Setting channel info structure...\n",
      "Creating raw.info structure...\n",
      "Extracting EDF parameters from /Users/billhuang/Desktop/BU_RISE/BU_RISE_Project/data/ds004100/sub-HUP074/ses-presurgery/ieeg/sub-HUP074_ses-presurgery_task-ictal_acq-ecog_run-04_ieeg.edf...\n",
      "EDF file detected\n",
      "Setting channel info structure...\n",
      "Creating raw.info structure...\n"
     ]
    },
    {
     "name": "stderr",
     "output_type": "stream",
     "text": [
      "100%|██████████| 121/121 [00:02<00:00, 51.5it/s] \n"
     ]
    },
    {
     "name": "stdout",
     "output_type": "stream",
     "text": [
      "Extracting EDF parameters from /Users/billhuang/Desktop/BU_RISE/BU_RISE_Project/data/ds004100/sub-HUP074/ses-presurgery/ieeg/sub-HUP074_ses-presurgery_task-ictal_acq-ecog_run-04_ieeg.edf...\n",
      "EDF file detected\n",
      "Setting channel info structure...\n",
      "Creating raw.info structure...\n",
      "Extracting EDF parameters from /Users/billhuang/Desktop/BU_RISE/BU_RISE_Project/data/ds004100/sub-HUP074/ses-presurgery/ieeg/sub-HUP074_ses-presurgery_task-ictal_acq-ecog_run-02_ieeg.edf...\n",
      "EDF file detected\n",
      "Setting channel info structure...\n",
      "Creating raw.info structure...\n"
     ]
    },
    {
     "name": "stderr",
     "output_type": "stream",
     "text": [
      "100%|██████████| 121/121 [00:02<00:00, 47.5it/s] \n"
     ]
    },
    {
     "name": "stdout",
     "output_type": "stream",
     "text": [
      "Extracting EDF parameters from /Users/billhuang/Desktop/BU_RISE/BU_RISE_Project/data/ds004100/sub-HUP074/ses-presurgery/ieeg/sub-HUP074_ses-presurgery_task-ictal_acq-ecog_run-02_ieeg.edf...\n",
      "EDF file detected\n",
      "Setting channel info structure...\n",
      "Creating raw.info structure...\n",
      "Extracting EDF parameters from /Users/billhuang/Desktop/BU_RISE/BU_RISE_Project/data/ds004100/sub-HUP074/ses-presurgery/ieeg/sub-HUP074_ses-presurgery_task-ictal_acq-ecog_run-03_ieeg.edf...\n",
      "EDF file detected\n",
      "Setting channel info structure...\n",
      "Creating raw.info structure...\n"
     ]
    },
    {
     "name": "stderr",
     "output_type": "stream",
     "text": [
      "100%|██████████| 121/121 [00:02<00:00, 50.0it/s] \n"
     ]
    },
    {
     "name": "stdout",
     "output_type": "stream",
     "text": [
      "Extracting EDF parameters from /Users/billhuang/Desktop/BU_RISE/BU_RISE_Project/data/ds004100/sub-HUP074/ses-presurgery/ieeg/sub-HUP074_ses-presurgery_task-ictal_acq-ecog_run-03_ieeg.edf...\n",
      "EDF file detected\n",
      "Setting channel info structure...\n",
      "Creating raw.info structure...\n",
      "Extracting EDF parameters from /Users/billhuang/Desktop/BU_RISE/BU_RISE_Project/data/ds004100/sub-HUP074/ses-presurgery/ieeg/sub-HUP074_ses-presurgery_task-ictal_acq-ecog_run-01_ieeg.edf...\n",
      "EDF file detected\n",
      "Setting channel info structure...\n",
      "Creating raw.info structure...\n"
     ]
    },
    {
     "name": "stderr",
     "output_type": "stream",
     "text": [
      "100%|██████████| 121/121 [00:02<00:00, 45.8it/s] \n"
     ]
    },
    {
     "name": "stdout",
     "output_type": "stream",
     "text": [
      "Extracting EDF parameters from /Users/billhuang/Desktop/BU_RISE/BU_RISE_Project/data/ds004100/sub-HUP074/ses-presurgery/ieeg/sub-HUP074_ses-presurgery_task-ictal_acq-ecog_run-01_ieeg.edf...\n",
      "EDF file detected\n",
      "Setting channel info structure...\n",
      "Creating raw.info structure...\n",
      "Extracting EDF parameters from /Users/billhuang/Desktop/BU_RISE/BU_RISE_Project/data/ds004100/sub-HUP080/ses-presurgery/ieeg/sub-HUP080_ses-presurgery_task-ictal_acq-ecog_run-01_ieeg.edf...\n",
      "EDF file detected\n",
      "Setting channel info structure...\n",
      "Creating raw.info structure...\n"
     ]
    },
    {
     "name": "stderr",
     "output_type": "stream",
     "text": [
      "100%|██████████| 103/103 [00:02<00:00, 46.1it/s] \n"
     ]
    },
    {
     "name": "stdout",
     "output_type": "stream",
     "text": [
      "Extracting EDF parameters from /Users/billhuang/Desktop/BU_RISE/BU_RISE_Project/data/ds004100/sub-HUP080/ses-presurgery/ieeg/sub-HUP080_ses-presurgery_task-ictal_acq-ecog_run-01_ieeg.edf...\n",
      "EDF file detected\n",
      "Setting channel info structure...\n",
      "Creating raw.info structure...\n",
      "Extracting EDF parameters from /Users/billhuang/Desktop/BU_RISE/BU_RISE_Project/data/ds004100/sub-HUP080/ses-presurgery/ieeg/sub-HUP080_ses-presurgery_task-ictal_acq-ecog_run-02_ieeg.edf...\n",
      "EDF file detected\n",
      "Setting channel info structure...\n",
      "Creating raw.info structure...\n"
     ]
    },
    {
     "name": "stderr",
     "output_type": "stream",
     "text": [
      "100%|██████████| 103/103 [00:02<00:00, 46.0it/s] \n"
     ]
    },
    {
     "name": "stdout",
     "output_type": "stream",
     "text": [
      "Extracting EDF parameters from /Users/billhuang/Desktop/BU_RISE/BU_RISE_Project/data/ds004100/sub-HUP080/ses-presurgery/ieeg/sub-HUP080_ses-presurgery_task-ictal_acq-ecog_run-02_ieeg.edf...\n",
      "EDF file detected\n",
      "Setting channel info structure...\n",
      "Creating raw.info structure...\n",
      "Extracting EDF parameters from /Users/billhuang/Desktop/BU_RISE/BU_RISE_Project/data/ds004100/sub-HUP080/ses-presurgery/ieeg/sub-HUP080_ses-presurgery_task-ictal_acq-ecog_run-03_ieeg.edf...\n",
      "EDF file detected\n",
      "Setting channel info structure...\n",
      "Creating raw.info structure...\n"
     ]
    },
    {
     "name": "stderr",
     "output_type": "stream",
     "text": [
      "100%|██████████| 103/103 [00:02<00:00, 45.1it/s] \n"
     ]
    },
    {
     "name": "stdout",
     "output_type": "stream",
     "text": [
      "Extracting EDF parameters from /Users/billhuang/Desktop/BU_RISE/BU_RISE_Project/data/ds004100/sub-HUP080/ses-presurgery/ieeg/sub-HUP080_ses-presurgery_task-ictal_acq-ecog_run-03_ieeg.edf...\n",
      "EDF file detected\n",
      "Setting channel info structure...\n",
      "Creating raw.info structure...\n",
      "Extracting EDF parameters from /Users/billhuang/Desktop/BU_RISE/BU_RISE_Project/data/ds004100/sub-HUP080/ses-presurgery/ieeg/sub-HUP080_ses-presurgery_task-ictal_acq-ecog_run-04_ieeg.edf...\n",
      "EDF file detected\n",
      "Setting channel info structure...\n",
      "Creating raw.info structure...\n"
     ]
    },
    {
     "name": "stderr",
     "output_type": "stream",
     "text": [
      "100%|██████████| 103/103 [00:02<00:00, 46.9it/s] \n"
     ]
    },
    {
     "name": "stdout",
     "output_type": "stream",
     "text": [
      "Extracting EDF parameters from /Users/billhuang/Desktop/BU_RISE/BU_RISE_Project/data/ds004100/sub-HUP080/ses-presurgery/ieeg/sub-HUP080_ses-presurgery_task-ictal_acq-ecog_run-04_ieeg.edf...\n",
      "EDF file detected\n",
      "Setting channel info structure...\n",
      "Creating raw.info structure...\n",
      "Extracting EDF parameters from /Users/billhuang/Desktop/BU_RISE/BU_RISE_Project/data/ds004100/sub-HUP075/ses-presurgery/ieeg/sub-HUP075_ses-presurgery_task-ictal_acq-ecog_run-01_ieeg.edf...\n",
      "EDF file detected\n",
      "Setting channel info structure...\n",
      "Creating raw.info structure...\n"
     ]
    },
    {
     "name": "stderr",
     "output_type": "stream",
     "text": [
      "100%|██████████| 117/117 [00:06<00:00, 19.4it/s] \n"
     ]
    },
    {
     "name": "stdout",
     "output_type": "stream",
     "text": [
      "Extracting EDF parameters from /Users/billhuang/Desktop/BU_RISE/BU_RISE_Project/data/ds004100/sub-HUP075/ses-presurgery/ieeg/sub-HUP075_ses-presurgery_task-ictal_acq-ecog_run-01_ieeg.edf...\n",
      "EDF file detected\n",
      "Setting channel info structure...\n",
      "Creating raw.info structure...\n",
      "Extracting EDF parameters from /Users/billhuang/Desktop/BU_RISE/BU_RISE_Project/data/ds004100/sub-HUP086/ses-presurgery/ieeg/sub-HUP086_ses-presurgery_task-ictal_acq-ecog_run-02_ieeg.edf...\n",
      "EDF file detected\n",
      "Setting channel info structure...\n",
      "Creating raw.info structure...\n"
     ]
    },
    {
     "name": "stderr",
     "output_type": "stream",
     "text": [
      "100%|██████████| 117/117 [00:02<00:00, 46.4it/s] \n"
     ]
    },
    {
     "name": "stdout",
     "output_type": "stream",
     "text": [
      "Extracting EDF parameters from /Users/billhuang/Desktop/BU_RISE/BU_RISE_Project/data/ds004100/sub-HUP086/ses-presurgery/ieeg/sub-HUP086_ses-presurgery_task-ictal_acq-ecog_run-02_ieeg.edf...\n",
      "EDF file detected\n",
      "Setting channel info structure...\n",
      "Creating raw.info structure...\n",
      "Extracting EDF parameters from /Users/billhuang/Desktop/BU_RISE/BU_RISE_Project/data/ds004100/sub-HUP086/ses-presurgery/ieeg/sub-HUP086_ses-presurgery_task-ictal_acq-ecog_run-01_ieeg.edf...\n",
      "EDF file detected\n",
      "Setting channel info structure...\n",
      "Creating raw.info structure...\n"
     ]
    },
    {
     "name": "stderr",
     "output_type": "stream",
     "text": [
      "100%|██████████| 117/117 [00:02<00:00, 47.3it/s] \n"
     ]
    },
    {
     "name": "stdout",
     "output_type": "stream",
     "text": [
      "Extracting EDF parameters from /Users/billhuang/Desktop/BU_RISE/BU_RISE_Project/data/ds004100/sub-HUP086/ses-presurgery/ieeg/sub-HUP086_ses-presurgery_task-ictal_acq-ecog_run-01_ieeg.edf...\n",
      "EDF file detected\n",
      "Setting channel info structure...\n",
      "Creating raw.info structure...\n",
      "Extracting EDF parameters from /Users/billhuang/Desktop/BU_RISE/BU_RISE_Project/data/ds004100/sub-HUP088/ses-presurgery/ieeg/sub-HUP088_ses-presurgery_task-ictal_acq-ecog_run-03_ieeg.edf...\n",
      "EDF file detected\n",
      "Setting channel info structure...\n",
      "Creating raw.info structure...\n"
     ]
    },
    {
     "name": "stderr",
     "output_type": "stream",
     "text": [
      "100%|██████████| 62.0/62.0 [00:02<00:00, 23.9it/s]"
     ]
    },
    {
     "name": "stdout",
     "output_type": "stream",
     "text": [
      "Extracting EDF parameters from /Users/billhuang/Desktop/BU_RISE/BU_RISE_Project/data/ds004100/sub-HUP088/ses-presurgery/ieeg/sub-HUP088_ses-presurgery_task-ictal_acq-ecog_run-03_ieeg.edf...\n",
      "EDF file detected\n",
      "Setting channel info structure...\n",
      "Creating raw.info structure...\n",
      "Extracting EDF parameters from /Users/billhuang/Desktop/BU_RISE/BU_RISE_Project/data/ds004100/sub-HUP088/ses-presurgery/ieeg/sub-HUP088_ses-presurgery_task-ictal_acq-ecog_run-02_ieeg.edf...\n",
      "EDF file detected\n",
      "Setting channel info structure...\n",
      "Creating raw.info structure...\n"
     ]
    },
    {
     "name": "stderr",
     "output_type": "stream",
     "text": [
      "\n",
      "100%|██████████| 62.0/62.0 [00:02<00:00, 30.7it/s]\n"
     ]
    },
    {
     "name": "stdout",
     "output_type": "stream",
     "text": [
      "Extracting EDF parameters from /Users/billhuang/Desktop/BU_RISE/BU_RISE_Project/data/ds004100/sub-HUP088/ses-presurgery/ieeg/sub-HUP088_ses-presurgery_task-ictal_acq-ecog_run-02_ieeg.edf...\n",
      "EDF file detected\n",
      "Setting channel info structure...\n",
      "Creating raw.info structure...\n",
      "Extracting EDF parameters from /Users/billhuang/Desktop/BU_RISE/BU_RISE_Project/data/ds004100/sub-HUP088/ses-presurgery/ieeg/sub-HUP088_ses-presurgery_task-ictal_acq-ecog_run-01_ieeg.edf...\n",
      "EDF file detected\n",
      "Setting channel info structure...\n",
      "Creating raw.info structure...\n"
     ]
    },
    {
     "name": "stderr",
     "output_type": "stream",
     "text": [
      "100%|██████████| 62.0/62.0 [00:02<00:00, 28.6it/s]\n"
     ]
    },
    {
     "name": "stdout",
     "output_type": "stream",
     "text": [
      "Extracting EDF parameters from /Users/billhuang/Desktop/BU_RISE/BU_RISE_Project/data/ds004100/sub-HUP088/ses-presurgery/ieeg/sub-HUP088_ses-presurgery_task-ictal_acq-ecog_run-01_ieeg.edf...\n",
      "EDF file detected\n",
      "Setting channel info structure...\n",
      "Creating raw.info structure...\n",
      "Extracting EDF parameters from /Users/billhuang/Desktop/BU_RISE/BU_RISE_Project/data/ds004100/sub-HUP138/ses-presurgery/ieeg/sub-HUP138_ses-presurgery_task-ictal_acq-seeg_run-02_ieeg.edf...\n",
      "EDF file detected\n",
      "Setting channel info structure...\n",
      "Creating raw.info structure...\n"
     ]
    },
    {
     "name": "stderr",
     "output_type": "stream",
     "text": [
      "100%|██████████| 121/121 [00:05<00:00, 24.0it/s] \n"
     ]
    },
    {
     "name": "stdout",
     "output_type": "stream",
     "text": [
      "Extracting EDF parameters from /Users/billhuang/Desktop/BU_RISE/BU_RISE_Project/data/ds004100/sub-HUP138/ses-presurgery/ieeg/sub-HUP138_ses-presurgery_task-ictal_acq-seeg_run-02_ieeg.edf...\n",
      "EDF file detected\n",
      "Setting channel info structure...\n",
      "Creating raw.info structure...\n",
      "Extracting EDF parameters from /Users/billhuang/Desktop/BU_RISE/BU_RISE_Project/data/ds004100/sub-HUP138/ses-presurgery/ieeg/sub-HUP138_ses-presurgery_task-ictal_acq-seeg_run-03_ieeg.edf...\n",
      "EDF file detected\n",
      "Setting channel info structure...\n",
      "Creating raw.info structure...\n"
     ]
    },
    {
     "name": "stderr",
     "output_type": "stream",
     "text": [
      "100%|██████████| 121/121 [00:04<00:00, 29.1it/s] "
     ]
    },
    {
     "name": "stdout",
     "output_type": "stream",
     "text": [
      "Extracting EDF parameters from /Users/billhuang/Desktop/BU_RISE/BU_RISE_Project/data/ds004100/sub-HUP138/ses-presurgery/ieeg/sub-HUP138_ses-presurgery_task-ictal_acq-seeg_run-03_ieeg.edf...\n",
      "EDF file detected\n",
      "Setting channel info structure...\n",
      "Creating raw.info structure...\n"
     ]
    },
    {
     "name": "stderr",
     "output_type": "stream",
     "text": [
      "\n"
     ]
    },
    {
     "name": "stdout",
     "output_type": "stream",
     "text": [
      "Extracting EDF parameters from /Users/billhuang/Desktop/BU_RISE/BU_RISE_Project/data/ds004100/sub-HUP138/ses-presurgery/ieeg/sub-HUP138_ses-presurgery_task-ictal_acq-seeg_run-05_ieeg.edf...\n",
      "EDF file detected\n",
      "Setting channel info structure...\n",
      "Creating raw.info structure...\n"
     ]
    },
    {
     "name": "stderr",
     "output_type": "stream",
     "text": [
      "100%|██████████| 121/121 [00:04<00:00, 28.0it/s] \n"
     ]
    },
    {
     "name": "stdout",
     "output_type": "stream",
     "text": [
      "Extracting EDF parameters from /Users/billhuang/Desktop/BU_RISE/BU_RISE_Project/data/ds004100/sub-HUP138/ses-presurgery/ieeg/sub-HUP138_ses-presurgery_task-ictal_acq-seeg_run-05_ieeg.edf...\n",
      "EDF file detected\n",
      "Setting channel info structure...\n",
      "Creating raw.info structure...\n",
      "Extracting EDF parameters from /Users/billhuang/Desktop/BU_RISE/BU_RISE_Project/data/ds004100/sub-HUP138/ses-presurgery/ieeg/sub-HUP138_ses-presurgery_task-ictal_acq-seeg_run-04_ieeg.edf...\n",
      "EDF file detected\n",
      "Setting channel info structure...\n",
      "Creating raw.info structure...\n"
     ]
    },
    {
     "name": "stderr",
     "output_type": "stream",
     "text": [
      "100%|██████████| 121/121 [00:04<00:00, 28.1it/s] "
     ]
    },
    {
     "name": "stdout",
     "output_type": "stream",
     "text": [
      "Extracting EDF parameters from /Users/billhuang/Desktop/BU_RISE/BU_RISE_Project/data/ds004100/sub-HUP138/ses-presurgery/ieeg/sub-HUP138_ses-presurgery_task-ictal_acq-seeg_run-04_ieeg.edf...\n",
      "EDF file detected\n",
      "Setting channel info structure...\n",
      "Creating raw.info structure...\n"
     ]
    },
    {
     "name": "stderr",
     "output_type": "stream",
     "text": [
      "\n"
     ]
    },
    {
     "name": "stdout",
     "output_type": "stream",
     "text": [
      "Extracting EDF parameters from /Users/billhuang/Desktop/BU_RISE/BU_RISE_Project/data/ds004100/sub-HUP138/ses-presurgery/ieeg/sub-HUP138_ses-presurgery_task-ictal_acq-seeg_run-01_ieeg.edf...\n",
      "EDF file detected\n",
      "Setting channel info structure...\n",
      "Creating raw.info structure...\n"
     ]
    },
    {
     "name": "stderr",
     "output_type": "stream",
     "text": [
      "100%|██████████| 121/121 [00:04<00:00, 27.2it/s] \n"
     ]
    },
    {
     "name": "stdout",
     "output_type": "stream",
     "text": [
      "Extracting EDF parameters from /Users/billhuang/Desktop/BU_RISE/BU_RISE_Project/data/ds004100/sub-HUP138/ses-presurgery/ieeg/sub-HUP138_ses-presurgery_task-ictal_acq-seeg_run-01_ieeg.edf...\n",
      "EDF file detected\n",
      "Setting channel info structure...\n",
      "Creating raw.info structure...\n",
      "Extracting EDF parameters from /Users/billhuang/Desktop/BU_RISE/BU_RISE_Project/data/ds004100/sub-HUP107/ses-presurgery/ieeg/sub-HUP107_ses-presurgery_task-ictal_acq-ecog_run-01_ieeg.edf...\n",
      "EDF file detected\n",
      "Setting channel info structure...\n",
      "Creating raw.info structure...\n"
     ]
    },
    {
     "name": "stderr",
     "output_type": "stream",
     "text": [
      "100%|██████████| 119/119 [00:03<00:00, 35.5it/s] \n"
     ]
    },
    {
     "name": "stdout",
     "output_type": "stream",
     "text": [
      "Extracting EDF parameters from /Users/billhuang/Desktop/BU_RISE/BU_RISE_Project/data/ds004100/sub-HUP107/ses-presurgery/ieeg/sub-HUP107_ses-presurgery_task-ictal_acq-ecog_run-01_ieeg.edf...\n",
      "EDF file detected\n",
      "Setting channel info structure...\n",
      "Creating raw.info structure...\n",
      "Extracting EDF parameters from /Users/billhuang/Desktop/BU_RISE/BU_RISE_Project/data/ds004100/sub-HUP107/ses-presurgery/ieeg/sub-HUP107_ses-presurgery_task-ictal_acq-ecog_run-03_ieeg.edf...\n",
      "EDF file detected\n",
      "Setting channel info structure...\n",
      "Creating raw.info structure...\n"
     ]
    },
    {
     "name": "stderr",
     "output_type": "stream",
     "text": [
      "100%|██████████| 119/119 [00:02<00:00, 40.1it/s] \n"
     ]
    },
    {
     "name": "stdout",
     "output_type": "stream",
     "text": [
      "Extracting EDF parameters from /Users/billhuang/Desktop/BU_RISE/BU_RISE_Project/data/ds004100/sub-HUP107/ses-presurgery/ieeg/sub-HUP107_ses-presurgery_task-ictal_acq-ecog_run-03_ieeg.edf...\n",
      "EDF file detected\n",
      "Setting channel info structure...\n",
      "Creating raw.info structure...\n",
      "Extracting EDF parameters from /Users/billhuang/Desktop/BU_RISE/BU_RISE_Project/data/ds004100/sub-HUP107/ses-presurgery/ieeg/sub-HUP107_ses-presurgery_task-ictal_acq-ecog_run-02_ieeg.edf...\n",
      "EDF file detected\n",
      "Setting channel info structure...\n",
      "Creating raw.info structure...\n"
     ]
    },
    {
     "name": "stderr",
     "output_type": "stream",
     "text": [
      "100%|██████████| 119/119 [00:02<00:00, 47.7it/s] \n"
     ]
    },
    {
     "name": "stdout",
     "output_type": "stream",
     "text": [
      "Extracting EDF parameters from /Users/billhuang/Desktop/BU_RISE/BU_RISE_Project/data/ds004100/sub-HUP107/ses-presurgery/ieeg/sub-HUP107_ses-presurgery_task-ictal_acq-ecog_run-02_ieeg.edf...\n",
      "EDF file detected\n",
      "Setting channel info structure...\n",
      "Creating raw.info structure...\n",
      "Extracting EDF parameters from /Users/billhuang/Desktop/BU_RISE/BU_RISE_Project/data/ds004100/sub-HUP107/ses-presurgery/ieeg/sub-HUP107_ses-presurgery_task-ictal_acq-ecog_run-04_ieeg.edf...\n",
      "EDF file detected\n",
      "Setting channel info structure...\n",
      "Creating raw.info structure...\n"
     ]
    },
    {
     "name": "stderr",
     "output_type": "stream",
     "text": [
      "100%|██████████| 119/119 [00:02<00:00, 47.7it/s] \n"
     ]
    },
    {
     "name": "stdout",
     "output_type": "stream",
     "text": [
      "Extracting EDF parameters from /Users/billhuang/Desktop/BU_RISE/BU_RISE_Project/data/ds004100/sub-HUP107/ses-presurgery/ieeg/sub-HUP107_ses-presurgery_task-ictal_acq-ecog_run-04_ieeg.edf...\n",
      "EDF file detected\n",
      "Setting channel info structure...\n",
      "Creating raw.info structure...\n",
      "Extracting EDF parameters from /Users/billhuang/Desktop/BU_RISE/BU_RISE_Project/data/ds004100/sub-HUP107/ses-presurgery/ieeg/sub-HUP107_ses-presurgery_task-ictal_acq-ecog_run-05_ieeg.edf...\n",
      "EDF file detected\n",
      "Setting channel info structure...\n",
      "Creating raw.info structure...\n"
     ]
    },
    {
     "name": "stderr",
     "output_type": "stream",
     "text": [
      "100%|██████████| 119/119 [00:02<00:00, 51.8it/s] \n"
     ]
    },
    {
     "name": "stdout",
     "output_type": "stream",
     "text": [
      "Extracting EDF parameters from /Users/billhuang/Desktop/BU_RISE/BU_RISE_Project/data/ds004100/sub-HUP107/ses-presurgery/ieeg/sub-HUP107_ses-presurgery_task-ictal_acq-ecog_run-05_ieeg.edf...\n",
      "EDF file detected\n",
      "Setting channel info structure...\n",
      "Creating raw.info structure...\n",
      "Extracting EDF parameters from /Users/billhuang/Desktop/BU_RISE/BU_RISE_Project/data/ds004100/sub-HUP162/ses-presurgery/ieeg/sub-HUP162_ses-presurgery_task-ictal_acq-seeg_run-01_ieeg.edf...\n",
      "EDF file detected\n",
      "Setting channel info structure...\n",
      "Creating raw.info structure...\n"
     ]
    },
    {
     "name": "stderr",
     "output_type": "stream",
     "text": [
      "100%|██████████| 189/189 [00:04<00:00, 38.7it/s] "
     ]
    },
    {
     "name": "stdout",
     "output_type": "stream",
     "text": [
      "Extracting EDF parameters from /Users/billhuang/Desktop/BU_RISE/BU_RISE_Project/data/ds004100/sub-HUP162/ses-presurgery/ieeg/sub-HUP162_ses-presurgery_task-ictal_acq-seeg_run-01_ieeg.edf...\n",
      "EDF file detected\n",
      "Setting channel info structure...\n",
      "Creating raw.info structure...\n"
     ]
    },
    {
     "name": "stderr",
     "output_type": "stream",
     "text": [
      "\n"
     ]
    },
    {
     "name": "stdout",
     "output_type": "stream",
     "text": [
      "Extracting EDF parameters from /Users/billhuang/Desktop/BU_RISE/BU_RISE_Project/data/ds004100/sub-HUP162/ses-presurgery/ieeg/sub-HUP162_ses-presurgery_task-ictal_acq-seeg_run-03_ieeg.edf...\n",
      "EDF file detected\n",
      "Setting channel info structure...\n",
      "Creating raw.info structure...\n"
     ]
    },
    {
     "name": "stderr",
     "output_type": "stream",
     "text": [
      "100%|██████████| 189/189 [00:05<00:00, 33.0it/s] \n"
     ]
    },
    {
     "name": "stdout",
     "output_type": "stream",
     "text": [
      "Extracting EDF parameters from /Users/billhuang/Desktop/BU_RISE/BU_RISE_Project/data/ds004100/sub-HUP162/ses-presurgery/ieeg/sub-HUP162_ses-presurgery_task-ictal_acq-seeg_run-03_ieeg.edf...\n",
      "EDF file detected\n",
      "Setting channel info structure...\n",
      "Creating raw.info structure...\n",
      "Extracting EDF parameters from /Users/billhuang/Desktop/BU_RISE/BU_RISE_Project/data/ds004100/sub-HUP162/ses-presurgery/ieeg/sub-HUP162_ses-presurgery_task-ictal_acq-seeg_run-02_ieeg.edf...\n",
      "EDF file detected\n",
      "Setting channel info structure...\n",
      "Creating raw.info structure...\n"
     ]
    },
    {
     "name": "stderr",
     "output_type": "stream",
     "text": [
      "100%|██████████| 189/189 [00:05<00:00, 35.4it/s] \n"
     ]
    },
    {
     "name": "stdout",
     "output_type": "stream",
     "text": [
      "Extracting EDF parameters from /Users/billhuang/Desktop/BU_RISE/BU_RISE_Project/data/ds004100/sub-HUP162/ses-presurgery/ieeg/sub-HUP162_ses-presurgery_task-ictal_acq-seeg_run-02_ieeg.edf...\n",
      "EDF file detected\n",
      "Setting channel info structure...\n",
      "Creating raw.info structure...\n",
      "Extracting EDF parameters from /Users/billhuang/Desktop/BU_RISE/BU_RISE_Project/data/ds004100/sub-HUP162/ses-presurgery/ieeg/sub-HUP162_ses-presurgery_task-ictal_acq-seeg_run-04_ieeg.edf...\n",
      "EDF file detected\n",
      "Setting channel info structure...\n",
      "Creating raw.info structure...\n"
     ]
    },
    {
     "name": "stderr",
     "output_type": "stream",
     "text": [
      "100%|██████████| 189/189 [00:05<00:00, 35.0it/s] \n"
     ]
    },
    {
     "name": "stdout",
     "output_type": "stream",
     "text": [
      "Extracting EDF parameters from /Users/billhuang/Desktop/BU_RISE/BU_RISE_Project/data/ds004100/sub-HUP162/ses-presurgery/ieeg/sub-HUP162_ses-presurgery_task-ictal_acq-seeg_run-04_ieeg.edf...\n",
      "EDF file detected\n",
      "Setting channel info structure...\n",
      "Creating raw.info structure...\n",
      "Extracting EDF parameters from /Users/billhuang/Desktop/BU_RISE/BU_RISE_Project/data/ds004100/sub-HUP162/ses-presurgery/ieeg/sub-HUP162_ses-presurgery_task-ictal_acq-seeg_run-05_ieeg.edf...\n",
      "EDF file detected\n",
      "Setting channel info structure...\n",
      "Creating raw.info structure...\n"
     ]
    },
    {
     "name": "stderr",
     "output_type": "stream",
     "text": [
      "100%|██████████| 189/189 [00:05<00:00, 32.2it/s] \n"
     ]
    },
    {
     "name": "stdout",
     "output_type": "stream",
     "text": [
      "Extracting EDF parameters from /Users/billhuang/Desktop/BU_RISE/BU_RISE_Project/data/ds004100/sub-HUP162/ses-presurgery/ieeg/sub-HUP162_ses-presurgery_task-ictal_acq-seeg_run-05_ieeg.edf...\n",
      "EDF file detected\n",
      "Setting channel info structure...\n",
      "Creating raw.info structure...\n",
      "Extracting EDF parameters from /Users/billhuang/Desktop/BU_RISE/BU_RISE_Project/data/ds004100/sub-HUP139/ses-presurgery/ieeg/sub-HUP139_ses-presurgery_task-ictal_acq-seeg_run-01_ieeg.edf...\n",
      "EDF file detected\n",
      "Setting channel info structure...\n",
      "Creating raw.info structure...\n"
     ]
    },
    {
     "name": "stderr",
     "output_type": "stream",
     "text": [
      "100%|██████████| 99.0/99.0 [00:02<00:00, 34.3it/s]\n"
     ]
    },
    {
     "name": "stdout",
     "output_type": "stream",
     "text": [
      "Extracting EDF parameters from /Users/billhuang/Desktop/BU_RISE/BU_RISE_Project/data/ds004100/sub-HUP139/ses-presurgery/ieeg/sub-HUP139_ses-presurgery_task-ictal_acq-seeg_run-01_ieeg.edf...\n",
      "EDF file detected\n",
      "Setting channel info structure...\n",
      "Creating raw.info structure...\n",
      "Extracting EDF parameters from /Users/billhuang/Desktop/BU_RISE/BU_RISE_Project/data/ds004100/sub-HUP139/ses-presurgery/ieeg/sub-HUP139_ses-presurgery_task-ictal_acq-seeg_run-03_ieeg.edf...\n",
      "EDF file detected\n",
      "Setting channel info structure...\n",
      "Creating raw.info structure...\n"
     ]
    },
    {
     "name": "stderr",
     "output_type": "stream",
     "text": [
      "100%|██████████| 99.0/99.0 [00:03<00:00, 25.1it/s]\n"
     ]
    },
    {
     "name": "stdout",
     "output_type": "stream",
     "text": [
      "Extracting EDF parameters from /Users/billhuang/Desktop/BU_RISE/BU_RISE_Project/data/ds004100/sub-HUP139/ses-presurgery/ieeg/sub-HUP139_ses-presurgery_task-ictal_acq-seeg_run-03_ieeg.edf...\n",
      "EDF file detected\n",
      "Setting channel info structure...\n",
      "Creating raw.info structure...\n",
      "Extracting EDF parameters from /Users/billhuang/Desktop/BU_RISE/BU_RISE_Project/data/ds004100/sub-HUP139/ses-presurgery/ieeg/sub-HUP139_ses-presurgery_task-ictal_acq-seeg_run-02_ieeg.edf...\n",
      "EDF file detected\n",
      "Setting channel info structure...\n",
      "Creating raw.info structure...\n"
     ]
    },
    {
     "name": "stderr",
     "output_type": "stream",
     "text": [
      "100%|██████████| 99.0/99.0 [00:03<00:00, 31.6it/s]\n"
     ]
    },
    {
     "name": "stdout",
     "output_type": "stream",
     "text": [
      "Extracting EDF parameters from /Users/billhuang/Desktop/BU_RISE/BU_RISE_Project/data/ds004100/sub-HUP139/ses-presurgery/ieeg/sub-HUP139_ses-presurgery_task-ictal_acq-seeg_run-02_ieeg.edf...\n",
      "EDF file detected\n",
      "Setting channel info structure...\n",
      "Creating raw.info structure...\n",
      "Extracting EDF parameters from /Users/billhuang/Desktop/BU_RISE/BU_RISE_Project/data/ds004100/sub-HUP106/ses-presurgery/ieeg/sub-HUP106_ses-presurgery_task-ictal_acq-ecog_run-02_ieeg.edf...\n",
      "EDF file detected\n",
      "Setting channel info structure...\n",
      "Creating raw.info structure...\n"
     ]
    },
    {
     "name": "stderr",
     "output_type": "stream",
     "text": [
      "100%|██████████| 117/117 [00:02<00:00, 47.4it/s] \n"
     ]
    },
    {
     "name": "stdout",
     "output_type": "stream",
     "text": [
      "Extracting EDF parameters from /Users/billhuang/Desktop/BU_RISE/BU_RISE_Project/data/ds004100/sub-HUP106/ses-presurgery/ieeg/sub-HUP106_ses-presurgery_task-ictal_acq-ecog_run-02_ieeg.edf...\n",
      "EDF file detected\n",
      "Setting channel info structure...\n",
      "Creating raw.info structure...\n",
      "Extracting EDF parameters from /Users/billhuang/Desktop/BU_RISE/BU_RISE_Project/data/ds004100/sub-HUP106/ses-presurgery/ieeg/sub-HUP106_ses-presurgery_task-ictal_acq-ecog_run-03_ieeg.edf...\n",
      "EDF file detected\n",
      "Setting channel info structure...\n",
      "Creating raw.info structure...\n"
     ]
    },
    {
     "name": "stderr",
     "output_type": "stream",
     "text": [
      "100%|██████████| 117/117 [00:02<00:00, 45.0it/s] \n"
     ]
    },
    {
     "name": "stdout",
     "output_type": "stream",
     "text": [
      "Extracting EDF parameters from /Users/billhuang/Desktop/BU_RISE/BU_RISE_Project/data/ds004100/sub-HUP106/ses-presurgery/ieeg/sub-HUP106_ses-presurgery_task-ictal_acq-ecog_run-03_ieeg.edf...\n",
      "EDF file detected\n",
      "Setting channel info structure...\n",
      "Creating raw.info structure...\n",
      "Extracting EDF parameters from /Users/billhuang/Desktop/BU_RISE/BU_RISE_Project/data/ds004100/sub-HUP106/ses-presurgery/ieeg/sub-HUP106_ses-presurgery_task-ictal_acq-ecog_run-01_ieeg.edf...\n",
      "EDF file detected\n",
      "Setting channel info structure...\n",
      "Creating raw.info structure...\n"
     ]
    },
    {
     "name": "stderr",
     "output_type": "stream",
     "text": [
      "100%|██████████| 117/117 [00:02<00:00, 46.6it/s] \n"
     ]
    },
    {
     "name": "stdout",
     "output_type": "stream",
     "text": [
      "Extracting EDF parameters from /Users/billhuang/Desktop/BU_RISE/BU_RISE_Project/data/ds004100/sub-HUP106/ses-presurgery/ieeg/sub-HUP106_ses-presurgery_task-ictal_acq-ecog_run-01_ieeg.edf...\n",
      "EDF file detected\n",
      "Setting channel info structure...\n",
      "Creating raw.info structure...\n",
      "Extracting EDF parameters from /Users/billhuang/Desktop/BU_RISE/BU_RISE_Project/data/ds004100/sub-HUP130/ses-presurgery/ieeg/sub-HUP130_ses-presurgery_task-ictal_acq-seeg_run-01_ieeg.edf...\n",
      "EDF file detected\n",
      "Setting channel info structure...\n",
      "Creating raw.info structure...\n"
     ]
    },
    {
     "name": "stderr",
     "output_type": "stream",
     "text": [
      "100%|██████████| 127/127 [00:04<00:00, 31.6it/s] \n"
     ]
    },
    {
     "name": "stdout",
     "output_type": "stream",
     "text": [
      "Extracting EDF parameters from /Users/billhuang/Desktop/BU_RISE/BU_RISE_Project/data/ds004100/sub-HUP130/ses-presurgery/ieeg/sub-HUP130_ses-presurgery_task-ictal_acq-seeg_run-01_ieeg.edf...\n",
      "EDF file detected\n",
      "Setting channel info structure...\n",
      "Creating raw.info structure...\n",
      "Extracting EDF parameters from /Users/billhuang/Desktop/BU_RISE/BU_RISE_Project/data/ds004100/sub-HUP130/ses-presurgery/ieeg/sub-HUP130_ses-presurgery_task-ictal_acq-seeg_run-03_ieeg.edf...\n",
      "EDF file detected\n",
      "Setting channel info structure...\n",
      "Creating raw.info structure...\n"
     ]
    },
    {
     "name": "stderr",
     "output_type": "stream",
     "text": [
      "100%|██████████| 127/127 [00:03<00:00, 34.5it/s] \n"
     ]
    },
    {
     "name": "stdout",
     "output_type": "stream",
     "text": [
      "Extracting EDF parameters from /Users/billhuang/Desktop/BU_RISE/BU_RISE_Project/data/ds004100/sub-HUP130/ses-presurgery/ieeg/sub-HUP130_ses-presurgery_task-ictal_acq-seeg_run-03_ieeg.edf...\n",
      "EDF file detected\n",
      "Setting channel info structure...\n",
      "Creating raw.info structure...\n",
      "Extracting EDF parameters from /Users/billhuang/Desktop/BU_RISE/BU_RISE_Project/data/ds004100/sub-HUP130/ses-presurgery/ieeg/sub-HUP130_ses-presurgery_task-ictal_acq-seeg_run-02_ieeg.edf...\n",
      "EDF file detected\n",
      "Setting channel info structure...\n",
      "Creating raw.info structure...\n"
     ]
    },
    {
     "name": "stderr",
     "output_type": "stream",
     "text": [
      "100%|██████████| 127/127 [00:03<00:00, 35.8it/s] \n"
     ]
    },
    {
     "name": "stdout",
     "output_type": "stream",
     "text": [
      "Extracting EDF parameters from /Users/billhuang/Desktop/BU_RISE/BU_RISE_Project/data/ds004100/sub-HUP130/ses-presurgery/ieeg/sub-HUP130_ses-presurgery_task-ictal_acq-seeg_run-02_ieeg.edf...\n",
      "EDF file detected\n",
      "Setting channel info structure...\n",
      "Creating raw.info structure...\n",
      "Extracting EDF parameters from /Users/billhuang/Desktop/BU_RISE/BU_RISE_Project/data/ds004100/sub-HUP130/ses-presurgery/ieeg/sub-HUP130_ses-presurgery_task-ictal_acq-seeg_run-04_ieeg.edf...\n",
      "EDF file detected\n",
      "Setting channel info structure...\n",
      "Creating raw.info structure...\n"
     ]
    },
    {
     "name": "stderr",
     "output_type": "stream",
     "text": [
      "100%|██████████| 127/127 [00:03<00:00, 34.7it/s] \n"
     ]
    },
    {
     "name": "stdout",
     "output_type": "stream",
     "text": [
      "Extracting EDF parameters from /Users/billhuang/Desktop/BU_RISE/BU_RISE_Project/data/ds004100/sub-HUP130/ses-presurgery/ieeg/sub-HUP130_ses-presurgery_task-ictal_acq-seeg_run-04_ieeg.edf...\n",
      "EDF file detected\n",
      "Setting channel info structure...\n",
      "Creating raw.info structure...\n",
      "Extracting EDF parameters from /Users/billhuang/Desktop/BU_RISE/BU_RISE_Project/data/ds004100/sub-HUP130/ses-presurgery/ieeg/sub-HUP130_ses-presurgery_task-ictal_acq-seeg_run-05_ieeg.edf...\n",
      "EDF file detected\n",
      "Setting channel info structure...\n",
      "Creating raw.info structure...\n"
     ]
    },
    {
     "name": "stderr",
     "output_type": "stream",
     "text": [
      "100%|██████████| 127/127 [00:04<00:00, 30.1it/s] \n"
     ]
    },
    {
     "name": "stdout",
     "output_type": "stream",
     "text": [
      "Extracting EDF parameters from /Users/billhuang/Desktop/BU_RISE/BU_RISE_Project/data/ds004100/sub-HUP130/ses-presurgery/ieeg/sub-HUP130_ses-presurgery_task-ictal_acq-seeg_run-05_ieeg.edf...\n",
      "EDF file detected\n",
      "Setting channel info structure...\n",
      "Creating raw.info structure...\n",
      "Extracting EDF parameters from /Users/billhuang/Desktop/BU_RISE/BU_RISE_Project/data/ds004100/sub-HUP190/ses-presurgery/ieeg/sub-HUP190_ses-presurgery_task-ictal_acq-seeg_run-01_ieeg.edf...\n",
      "EDF file detected\n",
      "Setting channel info structure...\n",
      "Creating raw.info structure...\n"
     ]
    },
    {
     "name": "stderr",
     "output_type": "stream",
     "text": [
      "100%|██████████| 161/161 [00:05<00:00, 29.5it/s] \n"
     ]
    },
    {
     "name": "stdout",
     "output_type": "stream",
     "text": [
      "Extracting EDF parameters from /Users/billhuang/Desktop/BU_RISE/BU_RISE_Project/data/ds004100/sub-HUP190/ses-presurgery/ieeg/sub-HUP190_ses-presurgery_task-ictal_acq-seeg_run-01_ieeg.edf...\n",
      "EDF file detected\n",
      "Setting channel info structure...\n",
      "Creating raw.info structure...\n",
      "Extracting EDF parameters from /Users/billhuang/Desktop/BU_RISE/BU_RISE_Project/data/ds004100/sub-HUP190/ses-presurgery/ieeg/sub-HUP190_ses-presurgery_task-ictal_acq-seeg_run-03_ieeg.edf...\n",
      "EDF file detected\n",
      "Setting channel info structure...\n",
      "Creating raw.info structure...\n"
     ]
    },
    {
     "name": "stderr",
     "output_type": "stream",
     "text": [
      "100%|██████████| 161/161 [00:05<00:00, 31.2it/s] \n"
     ]
    },
    {
     "name": "stdout",
     "output_type": "stream",
     "text": [
      "Extracting EDF parameters from /Users/billhuang/Desktop/BU_RISE/BU_RISE_Project/data/ds004100/sub-HUP190/ses-presurgery/ieeg/sub-HUP190_ses-presurgery_task-ictal_acq-seeg_run-03_ieeg.edf...\n",
      "EDF file detected\n",
      "Setting channel info structure...\n",
      "Creating raw.info structure...\n",
      "Extracting EDF parameters from /Users/billhuang/Desktop/BU_RISE/BU_RISE_Project/data/ds004100/sub-HUP190/ses-presurgery/ieeg/sub-HUP190_ses-presurgery_task-ictal_acq-seeg_run-02_ieeg.edf...\n",
      "EDF file detected\n",
      "Setting channel info structure...\n",
      "Creating raw.info structure...\n"
     ]
    },
    {
     "name": "stderr",
     "output_type": "stream",
     "text": [
      "100%|██████████| 161/161 [00:05<00:00, 28.7it/s] \n"
     ]
    },
    {
     "name": "stdout",
     "output_type": "stream",
     "text": [
      "Extracting EDF parameters from /Users/billhuang/Desktop/BU_RISE/BU_RISE_Project/data/ds004100/sub-HUP190/ses-presurgery/ieeg/sub-HUP190_ses-presurgery_task-ictal_acq-seeg_run-02_ieeg.edf...\n",
      "EDF file detected\n",
      "Setting channel info structure...\n",
      "Creating raw.info structure...\n",
      "Extracting EDF parameters from /Users/billhuang/Desktop/BU_RISE/BU_RISE_Project/data/ds004100/sub-HUP164/ses-presurgery/ieeg/sub-HUP164_ses-presurgery_task-ictal_acq-seeg_run-03_ieeg.edf...\n",
      "EDF file detected\n",
      "Setting channel info structure...\n",
      "Creating raw.info structure...\n"
     ]
    },
    {
     "name": "stderr",
     "output_type": "stream",
     "text": [
      "100%|██████████| 179/179 [00:06<00:00, 28.8it/s] \n"
     ]
    },
    {
     "name": "stdout",
     "output_type": "stream",
     "text": [
      "Extracting EDF parameters from /Users/billhuang/Desktop/BU_RISE/BU_RISE_Project/data/ds004100/sub-HUP164/ses-presurgery/ieeg/sub-HUP164_ses-presurgery_task-ictal_acq-seeg_run-03_ieeg.edf...\n",
      "EDF file detected\n",
      "Setting channel info structure...\n",
      "Creating raw.info structure...\n",
      "Extracting EDF parameters from /Users/billhuang/Desktop/BU_RISE/BU_RISE_Project/data/ds004100/sub-HUP164/ses-presurgery/ieeg/sub-HUP164_ses-presurgery_task-ictal_acq-seeg_run-02_ieeg.edf...\n",
      "EDF file detected\n",
      "Setting channel info structure...\n",
      "Creating raw.info structure...\n"
     ]
    },
    {
     "name": "stderr",
     "output_type": "stream",
     "text": [
      "100%|██████████| 179/179 [00:05<00:00, 32.2it/s] \n"
     ]
    },
    {
     "name": "stdout",
     "output_type": "stream",
     "text": [
      "Extracting EDF parameters from /Users/billhuang/Desktop/BU_RISE/BU_RISE_Project/data/ds004100/sub-HUP164/ses-presurgery/ieeg/sub-HUP164_ses-presurgery_task-ictal_acq-seeg_run-02_ieeg.edf...\n",
      "EDF file detected\n",
      "Setting channel info structure...\n",
      "Creating raw.info structure...\n",
      "Extracting EDF parameters from /Users/billhuang/Desktop/BU_RISE/BU_RISE_Project/data/ds004100/sub-HUP164/ses-presurgery/ieeg/sub-HUP164_ses-presurgery_task-ictal_acq-seeg_run-01_ieeg.edf...\n",
      "EDF file detected\n",
      "Setting channel info structure...\n",
      "Creating raw.info structure...\n"
     ]
    },
    {
     "name": "stderr",
     "output_type": "stream",
     "text": [
      "100%|██████████| 179/179 [00:05<00:00, 32.8it/s] \n"
     ]
    },
    {
     "name": "stdout",
     "output_type": "stream",
     "text": [
      "Extracting EDF parameters from /Users/billhuang/Desktop/BU_RISE/BU_RISE_Project/data/ds004100/sub-HUP164/ses-presurgery/ieeg/sub-HUP164_ses-presurgery_task-ictal_acq-seeg_run-01_ieeg.edf...\n",
      "EDF file detected\n",
      "Setting channel info structure...\n",
      "Creating raw.info structure...\n",
      "Extracting EDF parameters from /Users/billhuang/Desktop/BU_RISE/BU_RISE_Project/data/ds004100/sub-HUP163/ses-presurgery/ieeg/sub-HUP163_ses-presurgery_task-ictal_acq-seeg_run-02_ieeg.edf...\n",
      "EDF file detected\n",
      "Setting channel info structure...\n",
      "Creating raw.info structure...\n"
     ]
    },
    {
     "name": "stderr",
     "output_type": "stream",
     "text": [
      "100%|██████████| 163/163 [00:05<00:00, 28.0it/s] \n"
     ]
    },
    {
     "name": "stdout",
     "output_type": "stream",
     "text": [
      "Extracting EDF parameters from /Users/billhuang/Desktop/BU_RISE/BU_RISE_Project/data/ds004100/sub-HUP163/ses-presurgery/ieeg/sub-HUP163_ses-presurgery_task-ictal_acq-seeg_run-02_ieeg.edf...\n",
      "EDF file detected\n",
      "Setting channel info structure...\n",
      "Creating raw.info structure...\n",
      "Extracting EDF parameters from /Users/billhuang/Desktop/BU_RISE/BU_RISE_Project/data/ds004100/sub-HUP163/ses-presurgery/ieeg/sub-HUP163_ses-presurgery_task-ictal_acq-seeg_run-03_ieeg.edf...\n",
      "EDF file detected\n",
      "Setting channel info structure...\n",
      "Creating raw.info structure...\n"
     ]
    },
    {
     "name": "stderr",
     "output_type": "stream",
     "text": [
      "100%|██████████| 163/163 [00:05<00:00, 32.0it/s] \n"
     ]
    },
    {
     "name": "stdout",
     "output_type": "stream",
     "text": [
      "Extracting EDF parameters from /Users/billhuang/Desktop/BU_RISE/BU_RISE_Project/data/ds004100/sub-HUP163/ses-presurgery/ieeg/sub-HUP163_ses-presurgery_task-ictal_acq-seeg_run-03_ieeg.edf...\n",
      "EDF file detected\n",
      "Setting channel info structure...\n",
      "Creating raw.info structure...\n",
      "Extracting EDF parameters from /Users/billhuang/Desktop/BU_RISE/BU_RISE_Project/data/ds004100/sub-HUP163/ses-presurgery/ieeg/sub-HUP163_ses-presurgery_task-ictal_acq-seeg_run-01_ieeg.edf...\n",
      "EDF file detected\n",
      "Setting channel info structure...\n",
      "Creating raw.info structure...\n"
     ]
    },
    {
     "name": "stderr",
     "output_type": "stream",
     "text": [
      "100%|██████████| 163/163 [00:05<00:00, 29.8it/s] \n"
     ]
    },
    {
     "name": "stdout",
     "output_type": "stream",
     "text": [
      "Extracting EDF parameters from /Users/billhuang/Desktop/BU_RISE/BU_RISE_Project/data/ds004100/sub-HUP163/ses-presurgery/ieeg/sub-HUP163_ses-presurgery_task-ictal_acq-seeg_run-01_ieeg.edf...\n",
      "EDF file detected\n",
      "Setting channel info structure...\n",
      "Creating raw.info structure...\n",
      "Extracting EDF parameters from /Users/billhuang/Desktop/BU_RISE/BU_RISE_Project/data/ds004100/sub-HUP148/ses-presurgery/ieeg/sub-HUP148_ses-presurgery_task-ictal_acq-seeg_run-02_ieeg.edf...\n",
      "EDF file detected\n",
      "Setting channel info structure...\n",
      "Creating raw.info structure...\n"
     ]
    },
    {
     "name": "stderr",
     "output_type": "stream",
     "text": [
      "100%|██████████| 107/107 [00:02<00:00, 41.5it/s] \n"
     ]
    },
    {
     "name": "stdout",
     "output_type": "stream",
     "text": [
      "Extracting EDF parameters from /Users/billhuang/Desktop/BU_RISE/BU_RISE_Project/data/ds004100/sub-HUP148/ses-presurgery/ieeg/sub-HUP148_ses-presurgery_task-ictal_acq-seeg_run-02_ieeg.edf...\n",
      "EDF file detected\n",
      "Setting channel info structure...\n",
      "Creating raw.info structure...\n",
      "Extracting EDF parameters from /Users/billhuang/Desktop/BU_RISE/BU_RISE_Project/data/ds004100/sub-HUP148/ses-presurgery/ieeg/sub-HUP148_ses-presurgery_task-ictal_acq-seeg_run-03_ieeg.edf...\n",
      "EDF file detected\n",
      "Setting channel info structure...\n",
      "Creating raw.info structure...\n"
     ]
    },
    {
     "name": "stderr",
     "output_type": "stream",
     "text": [
      "100%|██████████| 107/107 [00:02<00:00, 38.1it/s] \n"
     ]
    },
    {
     "name": "stdout",
     "output_type": "stream",
     "text": [
      "Extracting EDF parameters from /Users/billhuang/Desktop/BU_RISE/BU_RISE_Project/data/ds004100/sub-HUP148/ses-presurgery/ieeg/sub-HUP148_ses-presurgery_task-ictal_acq-seeg_run-03_ieeg.edf...\n",
      "EDF file detected\n",
      "Setting channel info structure...\n",
      "Creating raw.info structure...\n",
      "Extracting EDF parameters from /Users/billhuang/Desktop/BU_RISE/BU_RISE_Project/data/ds004100/sub-HUP148/ses-presurgery/ieeg/sub-HUP148_ses-presurgery_task-ictal_acq-seeg_run-05_ieeg.edf...\n",
      "EDF file detected\n",
      "Setting channel info structure...\n",
      "Creating raw.info structure...\n"
     ]
    },
    {
     "name": "stderr",
     "output_type": "stream",
     "text": [
      "100%|██████████| 107/107 [00:02<00:00, 45.6it/s] \n"
     ]
    },
    {
     "name": "stdout",
     "output_type": "stream",
     "text": [
      "Extracting EDF parameters from /Users/billhuang/Desktop/BU_RISE/BU_RISE_Project/data/ds004100/sub-HUP148/ses-presurgery/ieeg/sub-HUP148_ses-presurgery_task-ictal_acq-seeg_run-05_ieeg.edf...\n",
      "EDF file detected\n",
      "Setting channel info structure...\n",
      "Creating raw.info structure...\n",
      "Extracting EDF parameters from /Users/billhuang/Desktop/BU_RISE/BU_RISE_Project/data/ds004100/sub-HUP148/ses-presurgery/ieeg/sub-HUP148_ses-presurgery_task-ictal_acq-seeg_run-04_ieeg.edf...\n",
      "EDF file detected\n",
      "Setting channel info structure...\n",
      "Creating raw.info structure...\n"
     ]
    },
    {
     "name": "stderr",
     "output_type": "stream",
     "text": [
      "100%|██████████| 107/107 [00:02<00:00, 40.7it/s] \n"
     ]
    },
    {
     "name": "stdout",
     "output_type": "stream",
     "text": [
      "Extracting EDF parameters from /Users/billhuang/Desktop/BU_RISE/BU_RISE_Project/data/ds004100/sub-HUP148/ses-presurgery/ieeg/sub-HUP148_ses-presurgery_task-ictal_acq-seeg_run-04_ieeg.edf...\n",
      "EDF file detected\n",
      "Setting channel info structure...\n",
      "Creating raw.info structure...\n",
      "Extracting EDF parameters from /Users/billhuang/Desktop/BU_RISE/BU_RISE_Project/data/ds004100/sub-HUP148/ses-presurgery/ieeg/sub-HUP148_ses-presurgery_task-ictal_acq-seeg_run-01_ieeg.edf...\n",
      "EDF file detected\n",
      "Setting channel info structure...\n",
      "Creating raw.info structure...\n"
     ]
    },
    {
     "name": "stderr",
     "output_type": "stream",
     "text": [
      "100%|██████████| 107/107 [00:01<00:00, 53.8it/s] \n"
     ]
    },
    {
     "name": "stdout",
     "output_type": "stream",
     "text": [
      "Extracting EDF parameters from /Users/billhuang/Desktop/BU_RISE/BU_RISE_Project/data/ds004100/sub-HUP148/ses-presurgery/ieeg/sub-HUP148_ses-presurgery_task-ictal_acq-seeg_run-01_ieeg.edf...\n",
      "EDF file detected\n",
      "Setting channel info structure...\n",
      "Creating raw.info structure...\n",
      "Extracting EDF parameters from /Users/billhuang/Desktop/BU_RISE/BU_RISE_Project/data/ds004100/sub-HUP177/ses-presurgery/ieeg/sub-HUP177_ses-presurgery_task-ictal_acq-seeg_run-02_ieeg.edf...\n",
      "EDF file detected\n",
      "Setting channel info structure...\n",
      "Creating raw.info structure...\n"
     ]
    },
    {
     "name": "stderr",
     "output_type": "stream",
     "text": [
      "100%|██████████| 185/185 [00:03<00:00, 50.4it/s] \n"
     ]
    },
    {
     "name": "stdout",
     "output_type": "stream",
     "text": [
      "Extracting EDF parameters from /Users/billhuang/Desktop/BU_RISE/BU_RISE_Project/data/ds004100/sub-HUP177/ses-presurgery/ieeg/sub-HUP177_ses-presurgery_task-ictal_acq-seeg_run-02_ieeg.edf...\n",
      "EDF file detected\n",
      "Setting channel info structure...\n",
      "Creating raw.info structure...\n",
      "Extracting EDF parameters from /Users/billhuang/Desktop/BU_RISE/BU_RISE_Project/data/ds004100/sub-HUP177/ses-presurgery/ieeg/sub-HUP177_ses-presurgery_task-ictal_acq-seeg_run-03_ieeg.edf...\n",
      "EDF file detected\n",
      "Setting channel info structure...\n",
      "Creating raw.info structure...\n"
     ]
    },
    {
     "name": "stderr",
     "output_type": "stream",
     "text": [
      "100%|██████████| 185/185 [00:03<00:00, 50.1it/s] \n"
     ]
    },
    {
     "name": "stdout",
     "output_type": "stream",
     "text": [
      "Extracting EDF parameters from /Users/billhuang/Desktop/BU_RISE/BU_RISE_Project/data/ds004100/sub-HUP177/ses-presurgery/ieeg/sub-HUP177_ses-presurgery_task-ictal_acq-seeg_run-03_ieeg.edf...\n",
      "EDF file detected\n",
      "Setting channel info structure...\n",
      "Creating raw.info structure...\n",
      "Extracting EDF parameters from /Users/billhuang/Desktop/BU_RISE/BU_RISE_Project/data/ds004100/sub-HUP177/ses-presurgery/ieeg/sub-HUP177_ses-presurgery_task-ictal_acq-seeg_run-01_ieeg.edf...\n",
      "EDF file detected\n",
      "Setting channel info structure...\n",
      "Creating raw.info structure...\n"
     ]
    },
    {
     "name": "stderr",
     "output_type": "stream",
     "text": [
      "100%|██████████| 185/185 [00:02<00:00, 63.8it/s] \n"
     ]
    },
    {
     "name": "stdout",
     "output_type": "stream",
     "text": [
      "Extracting EDF parameters from /Users/billhuang/Desktop/BU_RISE/BU_RISE_Project/data/ds004100/sub-HUP177/ses-presurgery/ieeg/sub-HUP177_ses-presurgery_task-ictal_acq-seeg_run-01_ieeg.edf...\n",
      "EDF file detected\n",
      "Setting channel info structure...\n",
      "Creating raw.info structure...\n",
      "Extracting EDF parameters from /Users/billhuang/Desktop/BU_RISE/BU_RISE_Project/data/ds004100/sub-HUP141/ses-presurgery/ieeg/sub-HUP141_ses-presurgery_task-ictal_acq-seeg_run-02_ieeg.edf...\n",
      "EDF file detected\n",
      "Setting channel info structure...\n",
      "Creating raw.info structure...\n"
     ]
    },
    {
     "name": "stderr",
     "output_type": "stream",
     "text": [
      "100%|██████████| 116/116 [00:02<00:00, 50.7it/s] \n"
     ]
    },
    {
     "name": "stdout",
     "output_type": "stream",
     "text": [
      "Extracting EDF parameters from /Users/billhuang/Desktop/BU_RISE/BU_RISE_Project/data/ds004100/sub-HUP141/ses-presurgery/ieeg/sub-HUP141_ses-presurgery_task-ictal_acq-seeg_run-02_ieeg.edf...\n",
      "EDF file detected\n",
      "Setting channel info structure...\n",
      "Creating raw.info structure...\n",
      "Extracting EDF parameters from /Users/billhuang/Desktop/BU_RISE/BU_RISE_Project/data/ds004100/sub-HUP141/ses-presurgery/ieeg/sub-HUP141_ses-presurgery_task-ictal_acq-seeg_run-03_ieeg.edf...\n",
      "EDF file detected\n",
      "Setting channel info structure...\n",
      "Creating raw.info structure...\n"
     ]
    },
    {
     "name": "stderr",
     "output_type": "stream",
     "text": [
      "100%|██████████| 116/116 [00:02<00:00, 52.5it/s] \n"
     ]
    },
    {
     "name": "stdout",
     "output_type": "stream",
     "text": [
      "Extracting EDF parameters from /Users/billhuang/Desktop/BU_RISE/BU_RISE_Project/data/ds004100/sub-HUP141/ses-presurgery/ieeg/sub-HUP141_ses-presurgery_task-ictal_acq-seeg_run-03_ieeg.edf...\n",
      "EDF file detected\n",
      "Setting channel info structure...\n",
      "Creating raw.info structure...\n",
      "Extracting EDF parameters from /Users/billhuang/Desktop/BU_RISE/BU_RISE_Project/data/ds004100/sub-HUP141/ses-presurgery/ieeg/sub-HUP141_ses-presurgery_task-ictal_acq-seeg_run-05_ieeg.edf...\n",
      "EDF file detected\n",
      "Setting channel info structure...\n",
      "Creating raw.info structure...\n"
     ]
    },
    {
     "name": "stderr",
     "output_type": "stream",
     "text": [
      "100%|██████████| 116/116 [00:02<00:00, 42.5it/s] \n"
     ]
    },
    {
     "name": "stdout",
     "output_type": "stream",
     "text": [
      "Extracting EDF parameters from /Users/billhuang/Desktop/BU_RISE/BU_RISE_Project/data/ds004100/sub-HUP141/ses-presurgery/ieeg/sub-HUP141_ses-presurgery_task-ictal_acq-seeg_run-05_ieeg.edf...\n",
      "EDF file detected\n",
      "Setting channel info structure...\n",
      "Creating raw.info structure...\n",
      "Extracting EDF parameters from /Users/billhuang/Desktop/BU_RISE/BU_RISE_Project/data/ds004100/sub-HUP141/ses-presurgery/ieeg/sub-HUP141_ses-presurgery_task-ictal_acq-seeg_run-04_ieeg.edf...\n",
      "EDF file detected\n",
      "Setting channel info structure...\n",
      "Creating raw.info structure...\n"
     ]
    },
    {
     "name": "stderr",
     "output_type": "stream",
     "text": [
      "100%|██████████| 116/116 [00:02<00:00, 55.4it/s] \n"
     ]
    },
    {
     "name": "stdout",
     "output_type": "stream",
     "text": [
      "Extracting EDF parameters from /Users/billhuang/Desktop/BU_RISE/BU_RISE_Project/data/ds004100/sub-HUP141/ses-presurgery/ieeg/sub-HUP141_ses-presurgery_task-ictal_acq-seeg_run-04_ieeg.edf...\n",
      "EDF file detected\n",
      "Setting channel info structure...\n",
      "Creating raw.info structure...\n",
      "Extracting EDF parameters from /Users/billhuang/Desktop/BU_RISE/BU_RISE_Project/data/ds004100/sub-HUP141/ses-presurgery/ieeg/sub-HUP141_ses-presurgery_task-ictal_acq-seeg_run-01_ieeg.edf...\n",
      "EDF file detected\n",
      "Setting channel info structure...\n",
      "Creating raw.info structure...\n"
     ]
    },
    {
     "name": "stderr",
     "output_type": "stream",
     "text": [
      "100%|██████████| 116/116 [00:02<00:00, 51.6it/s] \n"
     ]
    },
    {
     "name": "stdout",
     "output_type": "stream",
     "text": [
      "Extracting EDF parameters from /Users/billhuang/Desktop/BU_RISE/BU_RISE_Project/data/ds004100/sub-HUP141/ses-presurgery/ieeg/sub-HUP141_ses-presurgery_task-ictal_acq-seeg_run-01_ieeg.edf...\n",
      "EDF file detected\n",
      "Setting channel info structure...\n",
      "Creating raw.info structure...\n",
      "Extracting EDF parameters from /Users/billhuang/Desktop/BU_RISE/BU_RISE_Project/data/ds004100/sub-HUP179/ses-presurgery/ieeg/sub-HUP179_ses-presurgery_task-ictal_acq-seeg_run-02_ieeg.edf...\n",
      "EDF file detected\n",
      "Setting channel info structure...\n",
      "Creating raw.info structure...\n"
     ]
    },
    {
     "name": "stderr",
     "output_type": "stream",
     "text": [
      "100%|██████████| 171/171 [00:03<00:00, 56.3it/s] \n"
     ]
    },
    {
     "name": "stdout",
     "output_type": "stream",
     "text": [
      "Extracting EDF parameters from /Users/billhuang/Desktop/BU_RISE/BU_RISE_Project/data/ds004100/sub-HUP179/ses-presurgery/ieeg/sub-HUP179_ses-presurgery_task-ictal_acq-seeg_run-02_ieeg.edf...\n",
      "EDF file detected\n",
      "Setting channel info structure...\n",
      "Creating raw.info structure...\n",
      "Extracting EDF parameters from /Users/billhuang/Desktop/BU_RISE/BU_RISE_Project/data/ds004100/sub-HUP179/ses-presurgery/ieeg/sub-HUP179_ses-presurgery_task-ictal_acq-seeg_run-01_ieeg.edf...\n",
      "EDF file detected\n",
      "Setting channel info structure...\n",
      "Creating raw.info structure...\n"
     ]
    },
    {
     "name": "stderr",
     "output_type": "stream",
     "text": [
      "100%|██████████| 171/171 [00:02<00:00, 59.4it/s] \n"
     ]
    },
    {
     "name": "stdout",
     "output_type": "stream",
     "text": [
      "Extracting EDF parameters from /Users/billhuang/Desktop/BU_RISE/BU_RISE_Project/data/ds004100/sub-HUP179/ses-presurgery/ieeg/sub-HUP179_ses-presurgery_task-ictal_acq-seeg_run-01_ieeg.edf...\n",
      "EDF file detected\n",
      "Setting channel info structure...\n",
      "Creating raw.info structure...\n",
      "Extracting EDF parameters from /Users/billhuang/Desktop/BU_RISE/BU_RISE_Project/data/ds004100/sub-HUP146/ses-presurgery/ieeg/sub-HUP146_ses-presurgery_task-ictal_acq-seeg_run-03_ieeg.edf...\n",
      "EDF file detected\n",
      "Setting channel info structure...\n",
      "Creating raw.info structure...\n"
     ]
    },
    {
     "name": "stderr",
     "output_type": "stream",
     "text": [
      "100%|██████████| 127/127 [00:04<00:00, 28.8it/s] \n"
     ]
    },
    {
     "name": "stdout",
     "output_type": "stream",
     "text": [
      "Extracting EDF parameters from /Users/billhuang/Desktop/BU_RISE/BU_RISE_Project/data/ds004100/sub-HUP146/ses-presurgery/ieeg/sub-HUP146_ses-presurgery_task-ictal_acq-seeg_run-03_ieeg.edf...\n",
      "EDF file detected\n",
      "Setting channel info structure...\n",
      "Creating raw.info structure...\n",
      "Extracting EDF parameters from /Users/billhuang/Desktop/BU_RISE/BU_RISE_Project/data/ds004100/sub-HUP146/ses-presurgery/ieeg/sub-HUP146_ses-presurgery_task-ictal_acq-seeg_run-02_ieeg.edf...\n",
      "EDF file detected\n",
      "Setting channel info structure...\n",
      "Creating raw.info structure...\n"
     ]
    },
    {
     "name": "stderr",
     "output_type": "stream",
     "text": [
      "100%|██████████| 127/127 [00:04<00:00, 29.3it/s] \n"
     ]
    },
    {
     "name": "stdout",
     "output_type": "stream",
     "text": [
      "Extracting EDF parameters from /Users/billhuang/Desktop/BU_RISE/BU_RISE_Project/data/ds004100/sub-HUP146/ses-presurgery/ieeg/sub-HUP146_ses-presurgery_task-ictal_acq-seeg_run-02_ieeg.edf...\n",
      "EDF file detected\n",
      "Setting channel info structure...\n",
      "Creating raw.info structure...\n",
      "Extracting EDF parameters from /Users/billhuang/Desktop/BU_RISE/BU_RISE_Project/data/ds004100/sub-HUP146/ses-presurgery/ieeg/sub-HUP146_ses-presurgery_task-ictal_acq-seeg_run-01_ieeg.edf...\n",
      "EDF file detected\n",
      "Setting channel info structure...\n",
      "Creating raw.info structure...\n"
     ]
    },
    {
     "name": "stderr",
     "output_type": "stream",
     "text": [
      "100%|██████████| 127/127 [00:04<00:00, 30.5it/s] \n"
     ]
    },
    {
     "name": "stdout",
     "output_type": "stream",
     "text": [
      "Extracting EDF parameters from /Users/billhuang/Desktop/BU_RISE/BU_RISE_Project/data/ds004100/sub-HUP146/ses-presurgery/ieeg/sub-HUP146_ses-presurgery_task-ictal_acq-seeg_run-01_ieeg.edf...\n",
      "EDF file detected\n",
      "Setting channel info structure...\n",
      "Creating raw.info structure...\n",
      "Extracting EDF parameters from /Users/billhuang/Desktop/BU_RISE/BU_RISE_Project/data/ds004100/sub-HUP112/ses-presurgery/ieeg/sub-HUP112_ses-presurgery_task-ictal_acq-seeg_run-01_ieeg.edf...\n",
      "EDF file detected\n",
      "Setting channel info structure...\n",
      "Creating raw.info structure...\n"
     ]
    },
    {
     "name": "stderr",
     "output_type": "stream",
     "text": [
      "100%|██████████| 73.0/73.0 [00:01<00:00, 44.8it/s]\n"
     ]
    },
    {
     "name": "stdout",
     "output_type": "stream",
     "text": [
      "Extracting EDF parameters from /Users/billhuang/Desktop/BU_RISE/BU_RISE_Project/data/ds004100/sub-HUP112/ses-presurgery/ieeg/sub-HUP112_ses-presurgery_task-ictal_acq-seeg_run-01_ieeg.edf...\n",
      "EDF file detected\n",
      "Setting channel info structure...\n",
      "Creating raw.info structure...\n",
      "Extracting EDF parameters from /Users/billhuang/Desktop/BU_RISE/BU_RISE_Project/data/ds004100/sub-HUP112/ses-presurgery/ieeg/sub-HUP112_ses-presurgery_task-ictal_acq-seeg_run-03_ieeg.edf...\n",
      "EDF file detected\n",
      "Setting channel info structure...\n",
      "Creating raw.info structure...\n"
     ]
    },
    {
     "name": "stderr",
     "output_type": "stream",
     "text": [
      "100%|██████████| 73.0/73.0 [00:01<00:00, 46.1it/s]\n"
     ]
    },
    {
     "name": "stdout",
     "output_type": "stream",
     "text": [
      "Extracting EDF parameters from /Users/billhuang/Desktop/BU_RISE/BU_RISE_Project/data/ds004100/sub-HUP112/ses-presurgery/ieeg/sub-HUP112_ses-presurgery_task-ictal_acq-seeg_run-03_ieeg.edf...\n",
      "EDF file detected\n",
      "Setting channel info structure...\n",
      "Creating raw.info structure...\n",
      "Extracting EDF parameters from /Users/billhuang/Desktop/BU_RISE/BU_RISE_Project/data/ds004100/sub-HUP112/ses-presurgery/ieeg/sub-HUP112_ses-presurgery_task-ictal_acq-seeg_run-02_ieeg.edf...\n",
      "EDF file detected\n",
      "Setting channel info structure...\n",
      "Creating raw.info structure...\n"
     ]
    },
    {
     "name": "stderr",
     "output_type": "stream",
     "text": [
      "100%|██████████| 73.0/73.0 [00:01<00:00, 44.2it/s]\n"
     ]
    },
    {
     "name": "stdout",
     "output_type": "stream",
     "text": [
      "Extracting EDF parameters from /Users/billhuang/Desktop/BU_RISE/BU_RISE_Project/data/ds004100/sub-HUP112/ses-presurgery/ieeg/sub-HUP112_ses-presurgery_task-ictal_acq-seeg_run-02_ieeg.edf...\n",
      "EDF file detected\n",
      "Setting channel info structure...\n",
      "Creating raw.info structure...\n",
      "Extracting EDF parameters from /Users/billhuang/Desktop/BU_RISE/BU_RISE_Project/data/ds004100/sub-HUP112/ses-presurgery/ieeg/sub-HUP112_ses-presurgery_task-ictal_acq-seeg_run-04_ieeg.edf...\n",
      "EDF file detected\n",
      "Setting channel info structure...\n",
      "Creating raw.info structure...\n"
     ]
    },
    {
     "name": "stderr",
     "output_type": "stream",
     "text": [
      "100%|██████████| 73.0/73.0 [00:01<00:00, 42.4it/s]\n"
     ]
    },
    {
     "name": "stdout",
     "output_type": "stream",
     "text": [
      "Extracting EDF parameters from /Users/billhuang/Desktop/BU_RISE/BU_RISE_Project/data/ds004100/sub-HUP112/ses-presurgery/ieeg/sub-HUP112_ses-presurgery_task-ictal_acq-seeg_run-04_ieeg.edf...\n",
      "EDF file detected\n",
      "Setting channel info structure...\n",
      "Creating raw.info structure...\n",
      "Extracting EDF parameters from /Users/billhuang/Desktop/BU_RISE/BU_RISE_Project/data/ds004100/sub-HUP112/ses-presurgery/ieeg/sub-HUP112_ses-presurgery_task-ictal_acq-seeg_run-05_ieeg.edf...\n",
      "EDF file detected\n",
      "Setting channel info structure...\n",
      "Creating raw.info structure...\n"
     ]
    },
    {
     "name": "stderr",
     "output_type": "stream",
     "text": [
      "100%|██████████| 73.0/73.0 [00:01<00:00, 46.5it/s]\n"
     ]
    },
    {
     "name": "stdout",
     "output_type": "stream",
     "text": [
      "Extracting EDF parameters from /Users/billhuang/Desktop/BU_RISE/BU_RISE_Project/data/ds004100/sub-HUP112/ses-presurgery/ieeg/sub-HUP112_ses-presurgery_task-ictal_acq-seeg_run-05_ieeg.edf...\n",
      "EDF file detected\n",
      "Setting channel info structure...\n",
      "Creating raw.info structure...\n",
      "Extracting EDF parameters from /Users/billhuang/Desktop/BU_RISE/BU_RISE_Project/data/ds004100/sub-HUP123/ses-presurgery/ieeg/sub-HUP123_ses-presurgery_task-ictal_acq-ecog_run-04_ieeg.edf...\n",
      "EDF file detected\n",
      "Setting channel info structure...\n",
      "Creating raw.info structure...\n"
     ]
    },
    {
     "name": "stderr",
     "output_type": "stream",
     "text": [
      "100%|██████████| 126/126 [00:03<00:00, 40.4it/s] \n"
     ]
    },
    {
     "name": "stdout",
     "output_type": "stream",
     "text": [
      "Extracting EDF parameters from /Users/billhuang/Desktop/BU_RISE/BU_RISE_Project/data/ds004100/sub-HUP123/ses-presurgery/ieeg/sub-HUP123_ses-presurgery_task-ictal_acq-ecog_run-04_ieeg.edf...\n",
      "EDF file detected\n",
      "Setting channel info structure...\n",
      "Creating raw.info structure...\n",
      "Extracting EDF parameters from /Users/billhuang/Desktop/BU_RISE/BU_RISE_Project/data/ds004100/sub-HUP123/ses-presurgery/ieeg/sub-HUP123_ses-presurgery_task-ictal_acq-ecog_run-03_ieeg.edf...\n",
      "EDF file detected\n",
      "Setting channel info structure...\n",
      "Creating raw.info structure...\n"
     ]
    },
    {
     "name": "stderr",
     "output_type": "stream",
     "text": [
      "100%|██████████| 126/126 [00:02<00:00, 42.1it/s] \n"
     ]
    },
    {
     "name": "stdout",
     "output_type": "stream",
     "text": [
      "Extracting EDF parameters from /Users/billhuang/Desktop/BU_RISE/BU_RISE_Project/data/ds004100/sub-HUP123/ses-presurgery/ieeg/sub-HUP123_ses-presurgery_task-ictal_acq-ecog_run-03_ieeg.edf...\n",
      "EDF file detected\n",
      "Setting channel info structure...\n",
      "Creating raw.info structure...\n",
      "Extracting EDF parameters from /Users/billhuang/Desktop/BU_RISE/BU_RISE_Project/data/ds004100/sub-HUP123/ses-presurgery/ieeg/sub-HUP123_ses-presurgery_task-ictal_acq-ecog_run-02_ieeg.edf...\n",
      "EDF file detected\n",
      "Setting channel info structure...\n",
      "Creating raw.info structure...\n"
     ]
    },
    {
     "name": "stderr",
     "output_type": "stream",
     "text": [
      "100%|██████████| 126/126 [00:02<00:00, 49.7it/s] \n"
     ]
    },
    {
     "name": "stdout",
     "output_type": "stream",
     "text": [
      "Extracting EDF parameters from /Users/billhuang/Desktop/BU_RISE/BU_RISE_Project/data/ds004100/sub-HUP123/ses-presurgery/ieeg/sub-HUP123_ses-presurgery_task-ictal_acq-ecog_run-02_ieeg.edf...\n",
      "EDF file detected\n",
      "Setting channel info structure...\n",
      "Creating raw.info structure...\n",
      "Extracting EDF parameters from /Users/billhuang/Desktop/BU_RISE/BU_RISE_Project/data/ds004100/sub-HUP123/ses-presurgery/ieeg/sub-HUP123_ses-presurgery_task-ictal_acq-ecog_run-01_ieeg.edf...\n",
      "EDF file detected\n",
      "Setting channel info structure...\n",
      "Creating raw.info structure...\n"
     ]
    },
    {
     "name": "stderr",
     "output_type": "stream",
     "text": [
      "100%|██████████| 126/126 [00:02<00:00, 50.1it/s] \n"
     ]
    },
    {
     "name": "stdout",
     "output_type": "stream",
     "text": [
      "Extracting EDF parameters from /Users/billhuang/Desktop/BU_RISE/BU_RISE_Project/data/ds004100/sub-HUP123/ses-presurgery/ieeg/sub-HUP123_ses-presurgery_task-ictal_acq-ecog_run-01_ieeg.edf...\n",
      "EDF file detected\n",
      "Setting channel info structure...\n",
      "Creating raw.info structure...\n",
      "Extracting EDF parameters from /Users/billhuang/Desktop/BU_RISE/BU_RISE_Project/data/ds004100/sub-HUP140/ses-presurgery/ieeg/sub-HUP140_ses-presurgery_task-ictal_acq-seeg_run-01_ieeg.edf...\n",
      "EDF file detected\n",
      "Setting channel info structure...\n",
      "Creating raw.info structure...\n"
     ]
    },
    {
     "name": "stderr",
     "output_type": "stream",
     "text": [
      "100%|██████████| 95.0/95.0 [00:06<00:00, 15.4it/s]\n"
     ]
    },
    {
     "name": "stdout",
     "output_type": "stream",
     "text": [
      "Extracting EDF parameters from /Users/billhuang/Desktop/BU_RISE/BU_RISE_Project/data/ds004100/sub-HUP140/ses-presurgery/ieeg/sub-HUP140_ses-presurgery_task-ictal_acq-seeg_run-01_ieeg.edf...\n",
      "EDF file detected\n",
      "Setting channel info structure...\n",
      "Creating raw.info structure...\n",
      "Extracting EDF parameters from /Users/billhuang/Desktop/BU_RISE/BU_RISE_Project/data/ds004100/sub-HUP140/ses-presurgery/ieeg/sub-HUP140_ses-presurgery_task-ictal_acq-seeg_run-03_ieeg.edf...\n",
      "EDF file detected\n",
      "Setting channel info structure...\n",
      "Creating raw.info structure...\n"
     ]
    },
    {
     "name": "stderr",
     "output_type": "stream",
     "text": [
      "100%|██████████| 95.0/95.0 [00:05<00:00, 16.5it/s]\n"
     ]
    },
    {
     "name": "stdout",
     "output_type": "stream",
     "text": [
      "Extracting EDF parameters from /Users/billhuang/Desktop/BU_RISE/BU_RISE_Project/data/ds004100/sub-HUP140/ses-presurgery/ieeg/sub-HUP140_ses-presurgery_task-ictal_acq-seeg_run-03_ieeg.edf...\n",
      "EDF file detected\n",
      "Setting channel info structure...\n",
      "Creating raw.info structure...\n",
      "Extracting EDF parameters from /Users/billhuang/Desktop/BU_RISE/BU_RISE_Project/data/ds004100/sub-HUP140/ses-presurgery/ieeg/sub-HUP140_ses-presurgery_task-ictal_acq-seeg_run-02_ieeg.edf...\n",
      "EDF file detected\n",
      "Setting channel info structure...\n",
      "Creating raw.info structure...\n"
     ]
    },
    {
     "name": "stderr",
     "output_type": "stream",
     "text": [
      "100%|██████████| 95.0/95.0 [00:06<00:00, 15.6it/s]\n"
     ]
    },
    {
     "name": "stdout",
     "output_type": "stream",
     "text": [
      "Extracting EDF parameters from /Users/billhuang/Desktop/BU_RISE/BU_RISE_Project/data/ds004100/sub-HUP140/ses-presurgery/ieeg/sub-HUP140_ses-presurgery_task-ictal_acq-seeg_run-02_ieeg.edf...\n",
      "EDF file detected\n",
      "Setting channel info structure...\n",
      "Creating raw.info structure...\n",
      "Extracting EDF parameters from /Users/billhuang/Desktop/BU_RISE/BU_RISE_Project/data/ds004100/sub-HUP171/ses-presurgery/ieeg/sub-HUP171_ses-presurgery_task-ictal_acq-seeg_run-01_ieeg.edf...\n",
      "EDF file detected\n",
      "Setting channel info structure...\n",
      "Creating raw.info structure...\n"
     ]
    },
    {
     "name": "stderr",
     "output_type": "stream",
     "text": [
      "100%|██████████| 162/162 [00:02<00:00, 56.9it/s] \n"
     ]
    },
    {
     "name": "stdout",
     "output_type": "stream",
     "text": [
      "Extracting EDF parameters from /Users/billhuang/Desktop/BU_RISE/BU_RISE_Project/data/ds004100/sub-HUP171/ses-presurgery/ieeg/sub-HUP171_ses-presurgery_task-ictal_acq-seeg_run-01_ieeg.edf...\n",
      "EDF file detected\n",
      "Setting channel info structure...\n",
      "Creating raw.info structure...\n",
      "Extracting EDF parameters from /Users/billhuang/Desktop/BU_RISE/BU_RISE_Project/data/ds004100/sub-HUP171/ses-presurgery/ieeg/sub-HUP171_ses-presurgery_task-ictal_acq-seeg_run-02_ieeg.edf...\n",
      "EDF file detected\n",
      "Setting channel info structure...\n",
      "Creating raw.info structure...\n"
     ]
    },
    {
     "name": "stderr",
     "output_type": "stream",
     "text": [
      "100%|██████████| 162/162 [00:02<00:00, 58.8it/s] \n"
     ]
    },
    {
     "name": "stdout",
     "output_type": "stream",
     "text": [
      "Extracting EDF parameters from /Users/billhuang/Desktop/BU_RISE/BU_RISE_Project/data/ds004100/sub-HUP171/ses-presurgery/ieeg/sub-HUP171_ses-presurgery_task-ictal_acq-seeg_run-02_ieeg.edf...\n",
      "EDF file detected\n",
      "Setting channel info structure...\n",
      "Creating raw.info structure...\n",
      "Extracting EDF parameters from /Users/billhuang/Desktop/BU_RISE/BU_RISE_Project/data/ds004100/sub-HUP171/ses-presurgery/ieeg/sub-HUP171_ses-presurgery_task-ictal_acq-seeg_run-03_ieeg.edf...\n",
      "EDF file detected\n",
      "Setting channel info structure...\n",
      "Creating raw.info structure...\n"
     ]
    },
    {
     "name": "stderr",
     "output_type": "stream",
     "text": [
      "100%|██████████| 162/162 [00:02<00:00, 61.9it/s] \n"
     ]
    },
    {
     "name": "stdout",
     "output_type": "stream",
     "text": [
      "Extracting EDF parameters from /Users/billhuang/Desktop/BU_RISE/BU_RISE_Project/data/ds004100/sub-HUP171/ses-presurgery/ieeg/sub-HUP171_ses-presurgery_task-ictal_acq-seeg_run-03_ieeg.edf...\n",
      "EDF file detected\n",
      "Setting channel info structure...\n",
      "Creating raw.info structure...\n",
      "Extracting EDF parameters from /Users/billhuang/Desktop/BU_RISE/BU_RISE_Project/data/ds004100/sub-HUP171/ses-presurgery/ieeg/sub-HUP171_ses-presurgery_task-ictal_acq-seeg_run-04_ieeg.edf...\n",
      "EDF file detected\n",
      "Setting channel info structure...\n",
      "Creating raw.info structure...\n"
     ]
    },
    {
     "name": "stderr",
     "output_type": "stream",
     "text": [
      "100%|██████████| 162/162 [00:02<00:00, 56.7it/s] \n"
     ]
    },
    {
     "name": "stdout",
     "output_type": "stream",
     "text": [
      "Extracting EDF parameters from /Users/billhuang/Desktop/BU_RISE/BU_RISE_Project/data/ds004100/sub-HUP171/ses-presurgery/ieeg/sub-HUP171_ses-presurgery_task-ictal_acq-seeg_run-04_ieeg.edf...\n",
      "EDF file detected\n",
      "Setting channel info structure...\n",
      "Creating raw.info structure...\n",
      "Extracting EDF parameters from /Users/billhuang/Desktop/BU_RISE/BU_RISE_Project/data/ds004100/sub-HUP185/ses-presurgery/ieeg/sub-HUP185_ses-presurgery_task-ictal_acq-seeg_run-05_ieeg.edf...\n",
      "EDF file detected\n",
      "Setting channel info structure...\n",
      "Creating raw.info structure...\n"
     ]
    },
    {
     "name": "stderr",
     "output_type": "stream",
     "text": [
      "100%|██████████| 125/125 [00:03<00:00, 38.6it/s] \n"
     ]
    },
    {
     "name": "stdout",
     "output_type": "stream",
     "text": [
      "Extracting EDF parameters from /Users/billhuang/Desktop/BU_RISE/BU_RISE_Project/data/ds004100/sub-HUP185/ses-presurgery/ieeg/sub-HUP185_ses-presurgery_task-ictal_acq-seeg_run-05_ieeg.edf...\n",
      "EDF file detected\n",
      "Setting channel info structure...\n",
      "Creating raw.info structure...\n",
      "Extracting EDF parameters from /Users/billhuang/Desktop/BU_RISE/BU_RISE_Project/data/ds004100/sub-HUP185/ses-presurgery/ieeg/sub-HUP185_ses-presurgery_task-ictal_acq-seeg_run-04_ieeg.edf...\n",
      "EDF file detected\n",
      "Setting channel info structure...\n",
      "Creating raw.info structure...\n"
     ]
    },
    {
     "name": "stderr",
     "output_type": "stream",
     "text": [
      "100%|██████████| 125/125 [00:02<00:00, 52.5it/s] \n"
     ]
    },
    {
     "name": "stdout",
     "output_type": "stream",
     "text": [
      "Extracting EDF parameters from /Users/billhuang/Desktop/BU_RISE/BU_RISE_Project/data/ds004100/sub-HUP185/ses-presurgery/ieeg/sub-HUP185_ses-presurgery_task-ictal_acq-seeg_run-04_ieeg.edf...\n",
      "EDF file detected\n",
      "Setting channel info structure...\n",
      "Creating raw.info structure...\n",
      "Extracting EDF parameters from /Users/billhuang/Desktop/BU_RISE/BU_RISE_Project/data/ds004100/sub-HUP185/ses-presurgery/ieeg/sub-HUP185_ses-presurgery_task-ictal_acq-seeg_run-02_ieeg.edf...\n",
      "EDF file detected\n",
      "Setting channel info structure...\n",
      "Creating raw.info structure...\n"
     ]
    },
    {
     "name": "stderr",
     "output_type": "stream",
     "text": [
      "100%|██████████| 125/125 [00:02<00:00, 52.3it/s] \n"
     ]
    },
    {
     "name": "stdout",
     "output_type": "stream",
     "text": [
      "Extracting EDF parameters from /Users/billhuang/Desktop/BU_RISE/BU_RISE_Project/data/ds004100/sub-HUP185/ses-presurgery/ieeg/sub-HUP185_ses-presurgery_task-ictal_acq-seeg_run-02_ieeg.edf...\n",
      "EDF file detected\n",
      "Setting channel info structure...\n",
      "Creating raw.info structure...\n",
      "Extracting EDF parameters from /Users/billhuang/Desktop/BU_RISE/BU_RISE_Project/data/ds004100/sub-HUP185/ses-presurgery/ieeg/sub-HUP185_ses-presurgery_task-ictal_acq-seeg_run-03_ieeg.edf...\n",
      "EDF file detected\n",
      "Setting channel info structure...\n",
      "Creating raw.info structure...\n"
     ]
    },
    {
     "name": "stderr",
     "output_type": "stream",
     "text": [
      "100%|██████████| 125/125 [00:02<00:00, 55.9it/s] \n"
     ]
    },
    {
     "name": "stdout",
     "output_type": "stream",
     "text": [
      "Extracting EDF parameters from /Users/billhuang/Desktop/BU_RISE/BU_RISE_Project/data/ds004100/sub-HUP185/ses-presurgery/ieeg/sub-HUP185_ses-presurgery_task-ictal_acq-seeg_run-03_ieeg.edf...\n",
      "EDF file detected\n",
      "Setting channel info structure...\n",
      "Creating raw.info structure...\n",
      "Extracting EDF parameters from /Users/billhuang/Desktop/BU_RISE/BU_RISE_Project/data/ds004100/sub-HUP185/ses-presurgery/ieeg/sub-HUP185_ses-presurgery_task-ictal_acq-seeg_run-01_ieeg.edf...\n",
      "EDF file detected\n",
      "Setting channel info structure...\n",
      "Creating raw.info structure...\n"
     ]
    },
    {
     "name": "stderr",
     "output_type": "stream",
     "text": [
      "100%|██████████| 125/125 [00:02<00:00, 51.1it/s] \n"
     ]
    },
    {
     "name": "stdout",
     "output_type": "stream",
     "text": [
      "Extracting EDF parameters from /Users/billhuang/Desktop/BU_RISE/BU_RISE_Project/data/ds004100/sub-HUP185/ses-presurgery/ieeg/sub-HUP185_ses-presurgery_task-ictal_acq-seeg_run-01_ieeg.edf...\n",
      "EDF file detected\n",
      "Setting channel info structure...\n",
      "Creating raw.info structure...\n",
      "Extracting EDF parameters from /Users/billhuang/Desktop/BU_RISE/BU_RISE_Project/data/ds004100/sub-HUP114/ses-presurgery/ieeg/sub-HUP114_ses-presurgery_task-ictal_acq-ecog_run-01_ieeg.edf...\n",
      "EDF file detected\n",
      "Setting channel info structure...\n",
      "Creating raw.info structure...\n"
     ]
    },
    {
     "name": "stderr",
     "output_type": "stream",
     "text": [
      "100%|██████████| 126/126 [00:02<00:00, 50.8it/s] \n"
     ]
    },
    {
     "name": "stdout",
     "output_type": "stream",
     "text": [
      "Extracting EDF parameters from /Users/billhuang/Desktop/BU_RISE/BU_RISE_Project/data/ds004100/sub-HUP114/ses-presurgery/ieeg/sub-HUP114_ses-presurgery_task-ictal_acq-ecog_run-01_ieeg.edf...\n",
      "EDF file detected\n",
      "Setting channel info structure...\n",
      "Creating raw.info structure...\n",
      "Extracting EDF parameters from /Users/billhuang/Desktop/BU_RISE/BU_RISE_Project/data/ds004100/sub-HUP114/ses-presurgery/ieeg/sub-HUP114_ses-presurgery_task-ictal_acq-ecog_run-02_ieeg.edf...\n",
      "EDF file detected\n",
      "Setting channel info structure...\n",
      "Creating raw.info structure...\n"
     ]
    },
    {
     "name": "stderr",
     "output_type": "stream",
     "text": [
      "100%|██████████| 126/126 [00:02<00:00, 51.4it/s] \n"
     ]
    },
    {
     "name": "stdout",
     "output_type": "stream",
     "text": [
      "Extracting EDF parameters from /Users/billhuang/Desktop/BU_RISE/BU_RISE_Project/data/ds004100/sub-HUP114/ses-presurgery/ieeg/sub-HUP114_ses-presurgery_task-ictal_acq-ecog_run-02_ieeg.edf...\n",
      "EDF file detected\n",
      "Setting channel info structure...\n",
      "Creating raw.info structure...\n",
      "Extracting EDF parameters from /Users/billhuang/Desktop/BU_RISE/BU_RISE_Project/data/ds004100/sub-HUP114/ses-presurgery/ieeg/sub-HUP114_ses-presurgery_task-ictal_acq-ecog_run-03_ieeg.edf...\n",
      "EDF file detected\n",
      "Setting channel info structure...\n",
      "Creating raw.info structure...\n"
     ]
    },
    {
     "name": "stderr",
     "output_type": "stream",
     "text": [
      "100%|██████████| 126/126 [00:02<00:00, 51.0it/s] \n"
     ]
    },
    {
     "name": "stdout",
     "output_type": "stream",
     "text": [
      "Extracting EDF parameters from /Users/billhuang/Desktop/BU_RISE/BU_RISE_Project/data/ds004100/sub-HUP114/ses-presurgery/ieeg/sub-HUP114_ses-presurgery_task-ictal_acq-ecog_run-03_ieeg.edf...\n",
      "EDF file detected\n",
      "Setting channel info structure...\n",
      "Creating raw.info structure...\n",
      "Extracting EDF parameters from /Users/billhuang/Desktop/BU_RISE/BU_RISE_Project/data/ds004100/sub-HUP114/ses-presurgery/ieeg/sub-HUP114_ses-presurgery_task-ictal_acq-ecog_run-04_ieeg.edf...\n",
      "EDF file detected\n",
      "Setting channel info structure...\n",
      "Creating raw.info structure...\n"
     ]
    },
    {
     "name": "stderr",
     "output_type": "stream",
     "text": [
      "100%|██████████| 126/126 [00:02<00:00, 50.0it/s] \n"
     ]
    },
    {
     "name": "stdout",
     "output_type": "stream",
     "text": [
      "Extracting EDF parameters from /Users/billhuang/Desktop/BU_RISE/BU_RISE_Project/data/ds004100/sub-HUP114/ses-presurgery/ieeg/sub-HUP114_ses-presurgery_task-ictal_acq-ecog_run-04_ieeg.edf...\n",
      "EDF file detected\n",
      "Setting channel info structure...\n",
      "Creating raw.info structure...\n",
      "Extracting EDF parameters from /Users/billhuang/Desktop/BU_RISE/BU_RISE_Project/data/ds004100/sub-HUP060/ses-presurgery/ieeg/sub-HUP060_ses-presurgery_task-ictal_acq-seeg_run-01_ieeg.edf...\n",
      "EDF file detected\n",
      "Setting channel info structure...\n",
      "Creating raw.info structure...\n"
     ]
    },
    {
     "name": "stderr",
     "output_type": "stream",
     "text": [
      "100%|██████████| 58.0/58.0 [00:02<00:00, 28.3it/s]\n"
     ]
    },
    {
     "name": "stdout",
     "output_type": "stream",
     "text": [
      "Extracting EDF parameters from /Users/billhuang/Desktop/BU_RISE/BU_RISE_Project/data/ds004100/sub-HUP060/ses-presurgery/ieeg/sub-HUP060_ses-presurgery_task-ictal_acq-seeg_run-01_ieeg.edf...\n",
      "EDF file detected\n",
      "Setting channel info structure...\n",
      "Creating raw.info structure...\n",
      "Extracting EDF parameters from /Users/billhuang/Desktop/BU_RISE/BU_RISE_Project/data/ds004100/sub-HUP060/ses-presurgery/ieeg/sub-HUP060_ses-presurgery_task-ictal_acq-seeg_run-03_ieeg.edf...\n",
      "EDF file detected\n",
      "Setting channel info structure...\n",
      "Creating raw.info structure...\n"
     ]
    },
    {
     "name": "stderr",
     "output_type": "stream",
     "text": [
      "100%|██████████| 58.0/58.0 [00:01<00:00, 31.2it/s]\n"
     ]
    },
    {
     "name": "stdout",
     "output_type": "stream",
     "text": [
      "Extracting EDF parameters from /Users/billhuang/Desktop/BU_RISE/BU_RISE_Project/data/ds004100/sub-HUP060/ses-presurgery/ieeg/sub-HUP060_ses-presurgery_task-ictal_acq-seeg_run-03_ieeg.edf...\n",
      "EDF file detected\n",
      "Setting channel info structure...\n",
      "Creating raw.info structure...\n",
      "Extracting EDF parameters from /Users/billhuang/Desktop/BU_RISE/BU_RISE_Project/data/ds004100/sub-HUP060/ses-presurgery/ieeg/sub-HUP060_ses-presurgery_task-ictal_acq-seeg_run-02_ieeg.edf...\n",
      "EDF file detected\n",
      "Setting channel info structure...\n",
      "Creating raw.info structure...\n"
     ]
    },
    {
     "name": "stderr",
     "output_type": "stream",
     "text": [
      "100%|██████████| 58.0/58.0 [00:01<00:00, 30.9it/s]\n"
     ]
    },
    {
     "name": "stdout",
     "output_type": "stream",
     "text": [
      "Extracting EDF parameters from /Users/billhuang/Desktop/BU_RISE/BU_RISE_Project/data/ds004100/sub-HUP060/ses-presurgery/ieeg/sub-HUP060_ses-presurgery_task-ictal_acq-seeg_run-02_ieeg.edf...\n",
      "EDF file detected\n",
      "Setting channel info structure...\n",
      "Creating raw.info structure...\n",
      "Extracting EDF parameters from /Users/billhuang/Desktop/BU_RISE/BU_RISE_Project/data/ds004100/sub-HUP094/ses-presurgery/ieeg/sub-HUP094_ses-presurgery_task-ictal_acq-ecog_run-01_ieeg.edf...\n",
      "EDF file detected\n",
      "Setting channel info structure...\n",
      "Creating raw.info structure...\n"
     ]
    },
    {
     "name": "stderr",
     "output_type": "stream",
     "text": [
      "100%|██████████| 87.0/87.0 [00:02<00:00, 42.3it/s]\n"
     ]
    },
    {
     "name": "stdout",
     "output_type": "stream",
     "text": [
      "Extracting EDF parameters from /Users/billhuang/Desktop/BU_RISE/BU_RISE_Project/data/ds004100/sub-HUP094/ses-presurgery/ieeg/sub-HUP094_ses-presurgery_task-ictal_acq-ecog_run-01_ieeg.edf...\n",
      "EDF file detected\n",
      "Setting channel info structure...\n",
      "Creating raw.info structure...\n",
      "Extracting EDF parameters from /Users/billhuang/Desktop/BU_RISE/BU_RISE_Project/data/ds004100/sub-HUP094/ses-presurgery/ieeg/sub-HUP094_ses-presurgery_task-ictal_acq-ecog_run-02_ieeg.edf...\n",
      "EDF file detected\n",
      "Setting channel info structure...\n",
      "Creating raw.info structure...\n"
     ]
    },
    {
     "name": "stderr",
     "output_type": "stream",
     "text": [
      "100%|██████████| 87.0/87.0 [00:01<00:00, 44.0it/s]\n"
     ]
    },
    {
     "name": "stdout",
     "output_type": "stream",
     "text": [
      "Extracting EDF parameters from /Users/billhuang/Desktop/BU_RISE/BU_RISE_Project/data/ds004100/sub-HUP094/ses-presurgery/ieeg/sub-HUP094_ses-presurgery_task-ictal_acq-ecog_run-02_ieeg.edf...\n",
      "EDF file detected\n",
      "Setting channel info structure...\n",
      "Creating raw.info structure...\n",
      "Extracting EDF parameters from /Users/billhuang/Desktop/BU_RISE/BU_RISE_Project/data/ds004100/sub-HUP094/ses-presurgery/ieeg/sub-HUP094_ses-presurgery_task-ictal_acq-ecog_run-03_ieeg.edf...\n",
      "EDF file detected\n",
      "Setting channel info structure...\n",
      "Creating raw.info structure...\n"
     ]
    },
    {
     "name": "stderr",
     "output_type": "stream",
     "text": [
      "100%|██████████| 87.0/87.0 [00:02<00:00, 40.2it/s]\n"
     ]
    },
    {
     "name": "stdout",
     "output_type": "stream",
     "text": [
      "Extracting EDF parameters from /Users/billhuang/Desktop/BU_RISE/BU_RISE_Project/data/ds004100/sub-HUP094/ses-presurgery/ieeg/sub-HUP094_ses-presurgery_task-ictal_acq-ecog_run-03_ieeg.edf...\n",
      "EDF file detected\n",
      "Setting channel info structure...\n",
      "Creating raw.info structure...\n",
      "Extracting EDF parameters from /Users/billhuang/Desktop/BU_RISE/BU_RISE_Project/data/ds004100/sub-HUP070/ses-presurgery/ieeg/sub-HUP070_ses-presurgery_task-ictal_acq-ecog_run-02_ieeg.edf...\n",
      "EDF file detected\n",
      "Setting channel info structure...\n",
      "Creating raw.info structure...\n"
     ]
    },
    {
     "name": "stderr",
     "output_type": "stream",
     "text": [
      "100%|██████████| 81.0/81.0 [00:01<00:00, 46.8it/s]\n"
     ]
    },
    {
     "name": "stdout",
     "output_type": "stream",
     "text": [
      "Extracting EDF parameters from /Users/billhuang/Desktop/BU_RISE/BU_RISE_Project/data/ds004100/sub-HUP070/ses-presurgery/ieeg/sub-HUP070_ses-presurgery_task-ictal_acq-ecog_run-02_ieeg.edf...\n",
      "EDF file detected\n",
      "Setting channel info structure...\n",
      "Creating raw.info structure...\n",
      "Extracting EDF parameters from /Users/billhuang/Desktop/BU_RISE/BU_RISE_Project/data/ds004100/sub-HUP070/ses-presurgery/ieeg/sub-HUP070_ses-presurgery_task-ictal_acq-ecog_run-03_ieeg.edf...\n",
      "EDF file detected\n",
      "Setting channel info structure...\n",
      "Creating raw.info structure...\n"
     ]
    },
    {
     "name": "stderr",
     "output_type": "stream",
     "text": [
      "100%|██████████| 81.0/81.0 [00:01<00:00, 45.7it/s]\n"
     ]
    },
    {
     "name": "stdout",
     "output_type": "stream",
     "text": [
      "Extracting EDF parameters from /Users/billhuang/Desktop/BU_RISE/BU_RISE_Project/data/ds004100/sub-HUP070/ses-presurgery/ieeg/sub-HUP070_ses-presurgery_task-ictal_acq-ecog_run-03_ieeg.edf...\n",
      "EDF file detected\n",
      "Setting channel info structure...\n",
      "Creating raw.info structure...\n",
      "Extracting EDF parameters from /Users/billhuang/Desktop/BU_RISE/BU_RISE_Project/data/ds004100/sub-HUP070/ses-presurgery/ieeg/sub-HUP070_ses-presurgery_task-ictal_acq-ecog_run-05_ieeg.edf...\n",
      "EDF file detected\n",
      "Setting channel info structure...\n",
      "Creating raw.info structure...\n"
     ]
    },
    {
     "name": "stderr",
     "output_type": "stream",
     "text": [
      "100%|██████████| 81.0/81.0 [00:01<00:00, 49.1it/s]\n"
     ]
    },
    {
     "name": "stdout",
     "output_type": "stream",
     "text": [
      "Extracting EDF parameters from /Users/billhuang/Desktop/BU_RISE/BU_RISE_Project/data/ds004100/sub-HUP070/ses-presurgery/ieeg/sub-HUP070_ses-presurgery_task-ictal_acq-ecog_run-05_ieeg.edf...\n",
      "EDF file detected\n",
      "Setting channel info structure...\n",
      "Creating raw.info structure...\n",
      "Extracting EDF parameters from /Users/billhuang/Desktop/BU_RISE/BU_RISE_Project/data/ds004100/sub-HUP070/ses-presurgery/ieeg/sub-HUP070_ses-presurgery_task-ictal_acq-ecog_run-04_ieeg.edf...\n",
      "EDF file detected\n",
      "Setting channel info structure...\n",
      "Creating raw.info structure...\n"
     ]
    },
    {
     "name": "stderr",
     "output_type": "stream",
     "text": [
      "100%|██████████| 81.0/81.0 [00:01<00:00, 51.2it/s]\n"
     ]
    },
    {
     "name": "stdout",
     "output_type": "stream",
     "text": [
      "Extracting EDF parameters from /Users/billhuang/Desktop/BU_RISE/BU_RISE_Project/data/ds004100/sub-HUP070/ses-presurgery/ieeg/sub-HUP070_ses-presurgery_task-ictal_acq-ecog_run-04_ieeg.edf...\n",
      "EDF file detected\n",
      "Setting channel info structure...\n",
      "Creating raw.info structure...\n",
      "Extracting EDF parameters from /Users/billhuang/Desktop/BU_RISE/BU_RISE_Project/data/ds004100/sub-HUP070/ses-presurgery/ieeg/sub-HUP070_ses-presurgery_task-ictal_acq-ecog_run-01_ieeg.edf...\n",
      "EDF file detected\n",
      "Setting channel info structure...\n",
      "Creating raw.info structure...\n"
     ]
    },
    {
     "name": "stderr",
     "output_type": "stream",
     "text": [
      "100%|██████████| 81.0/81.0 [00:01<00:00, 46.0it/s]\n"
     ]
    },
    {
     "name": "stdout",
     "output_type": "stream",
     "text": [
      "Extracting EDF parameters from /Users/billhuang/Desktop/BU_RISE/BU_RISE_Project/data/ds004100/sub-HUP070/ses-presurgery/ieeg/sub-HUP070_ses-presurgery_task-ictal_acq-ecog_run-01_ieeg.edf...\n",
      "EDF file detected\n",
      "Setting channel info structure...\n",
      "Creating raw.info structure...\n",
      "Extracting EDF parameters from /Users/billhuang/Desktop/BU_RISE/BU_RISE_Project/data/ds004100/sub-HUP082/ses-presurgery/ieeg/sub-HUP082_ses-presurgery_task-ictal_acq-ecog_run-02_ieeg.edf...\n",
      "EDF file detected\n",
      "Setting channel info structure...\n",
      "Creating raw.info structure...\n"
     ]
    },
    {
     "name": "stderr",
     "output_type": "stream",
     "text": [
      "100%|██████████| 91.0/91.0 [00:07<00:00, 12.6it/s]\n"
     ]
    },
    {
     "name": "stdout",
     "output_type": "stream",
     "text": [
      "Extracting EDF parameters from /Users/billhuang/Desktop/BU_RISE/BU_RISE_Project/data/ds004100/sub-HUP082/ses-presurgery/ieeg/sub-HUP082_ses-presurgery_task-ictal_acq-ecog_run-02_ieeg.edf...\n",
      "EDF file detected\n",
      "Setting channel info structure...\n",
      "Creating raw.info structure...\n",
      "Extracting EDF parameters from /Users/billhuang/Desktop/BU_RISE/BU_RISE_Project/data/ds004100/sub-HUP082/ses-presurgery/ieeg/sub-HUP082_ses-presurgery_task-ictal_acq-ecog_run-03_ieeg.edf...\n",
      "EDF file detected\n",
      "Setting channel info structure...\n",
      "Creating raw.info structure...\n"
     ]
    },
    {
     "name": "stderr",
     "output_type": "stream",
     "text": [
      "100%|██████████| 91.0/91.0 [00:04<00:00, 20.4it/s]"
     ]
    },
    {
     "name": "stdout",
     "output_type": "stream",
     "text": [
      "Extracting EDF parameters from /Users/billhuang/Desktop/BU_RISE/BU_RISE_Project/data/ds004100/sub-HUP082/ses-presurgery/ieeg/sub-HUP082_ses-presurgery_task-ictal_acq-ecog_run-03_ieeg.edf...\n",
      "EDF file detected\n"
     ]
    },
    {
     "name": "stderr",
     "output_type": "stream",
     "text": [
      "\n"
     ]
    },
    {
     "name": "stdout",
     "output_type": "stream",
     "text": [
      "Setting channel info structure...\n",
      "Creating raw.info structure...\n",
      "Extracting EDF parameters from /Users/billhuang/Desktop/BU_RISE/BU_RISE_Project/data/ds004100/sub-HUP082/ses-presurgery/ieeg/sub-HUP082_ses-presurgery_task-ictal_acq-ecog_run-05_ieeg.edf...\n",
      "EDF file detected\n",
      "Setting channel info structure...\n",
      "Creating raw.info structure...\n"
     ]
    },
    {
     "name": "stderr",
     "output_type": "stream",
     "text": [
      "100%|██████████| 91.0/91.0 [00:04<00:00, 20.5it/s]"
     ]
    },
    {
     "name": "stdout",
     "output_type": "stream",
     "text": [
      "Extracting EDF parameters from /Users/billhuang/Desktop/BU_RISE/BU_RISE_Project/data/ds004100/sub-HUP082/ses-presurgery/ieeg/sub-HUP082_ses-presurgery_task-ictal_acq-ecog_run-05_ieeg.edf...\n",
      "EDF file detected\n",
      "Setting channel info structure...\n",
      "Creating raw.info structure...\n",
      "Extracting EDF parameters from /Users/billhuang/Desktop/BU_RISE/BU_RISE_Project/data/ds004100/sub-HUP082/ses-presurgery/ieeg/sub-HUP082_ses-presurgery_task-ictal_acq-ecog_run-04_ieeg.edf...\n",
      "EDF file detected\n",
      "Setting channel info structure...\n",
      "Creating raw.info structure...\n"
     ]
    },
    {
     "name": "stderr",
     "output_type": "stream",
     "text": [
      "\n",
      "100%|██████████| 91.0/91.0 [00:02<00:00, 41.2it/s]\n"
     ]
    },
    {
     "name": "stdout",
     "output_type": "stream",
     "text": [
      "Extracting EDF parameters from /Users/billhuang/Desktop/BU_RISE/BU_RISE_Project/data/ds004100/sub-HUP082/ses-presurgery/ieeg/sub-HUP082_ses-presurgery_task-ictal_acq-ecog_run-04_ieeg.edf...\n",
      "EDF file detected\n",
      "Setting channel info structure...\n",
      "Creating raw.info structure...\n",
      "Extracting EDF parameters from /Users/billhuang/Desktop/BU_RISE/BU_RISE_Project/data/ds004100/sub-HUP082/ses-presurgery/ieeg/sub-HUP082_ses-presurgery_task-ictal_acq-ecog_run-01_ieeg.edf...\n",
      "EDF file detected\n",
      "Setting channel info structure...\n",
      "Creating raw.info structure...\n"
     ]
    },
    {
     "name": "stderr",
     "output_type": "stream",
     "text": [
      "100%|██████████| 91.0/91.0 [00:04<00:00, 18.8it/s]\n"
     ]
    },
    {
     "name": "stdout",
     "output_type": "stream",
     "text": [
      "Extracting EDF parameters from /Users/billhuang/Desktop/BU_RISE/BU_RISE_Project/data/ds004100/sub-HUP082/ses-presurgery/ieeg/sub-HUP082_ses-presurgery_task-ictal_acq-ecog_run-01_ieeg.edf...\n",
      "EDF file detected\n",
      "Setting channel info structure...\n",
      "Creating raw.info structure...\n",
      "Extracting EDF parameters from /Users/billhuang/Desktop/BU_RISE/BU_RISE_Project/data/ds004100/sub-HUP157/ses-presurgery/ieeg/sub-HUP157_ses-presurgery_task-ictal_acq-seeg_run-01_ieeg.edf...\n",
      "EDF file detected\n",
      "Setting channel info structure...\n",
      "Creating raw.info structure...\n"
     ]
    },
    {
     "name": "stderr",
     "output_type": "stream",
     "text": [
      "100%|██████████| 171/171 [00:05<00:00, 33.3it/s] \n"
     ]
    },
    {
     "name": "stdout",
     "output_type": "stream",
     "text": [
      "Extracting EDF parameters from /Users/billhuang/Desktop/BU_RISE/BU_RISE_Project/data/ds004100/sub-HUP157/ses-presurgery/ieeg/sub-HUP157_ses-presurgery_task-ictal_acq-seeg_run-01_ieeg.edf...\n",
      "EDF file detected\n",
      "Setting channel info structure...\n",
      "Creating raw.info structure...\n",
      "Extracting EDF parameters from /Users/billhuang/Desktop/BU_RISE/BU_RISE_Project/data/ds004100/sub-HUP157/ses-presurgery/ieeg/sub-HUP157_ses-presurgery_task-ictal_acq-seeg_run-05_ieeg.edf...\n",
      "EDF file detected\n",
      "Setting channel info structure...\n",
      "Creating raw.info structure...\n"
     ]
    },
    {
     "name": "stderr",
     "output_type": "stream",
     "text": [
      "100%|██████████| 171/171 [00:05<00:00, 32.0it/s] \n"
     ]
    },
    {
     "name": "stdout",
     "output_type": "stream",
     "text": [
      "Extracting EDF parameters from /Users/billhuang/Desktop/BU_RISE/BU_RISE_Project/data/ds004100/sub-HUP157/ses-presurgery/ieeg/sub-HUP157_ses-presurgery_task-ictal_acq-seeg_run-05_ieeg.edf...\n",
      "EDF file detected\n",
      "Setting channel info structure...\n",
      "Creating raw.info structure...\n",
      "Extracting EDF parameters from /Users/billhuang/Desktop/BU_RISE/BU_RISE_Project/data/ds004100/sub-HUP157/ses-presurgery/ieeg/sub-HUP157_ses-presurgery_task-ictal_acq-seeg_run-04_ieeg.edf...\n",
      "EDF file detected\n",
      "Setting channel info structure...\n",
      "Creating raw.info structure...\n"
     ]
    },
    {
     "name": "stderr",
     "output_type": "stream",
     "text": [
      "100%|██████████| 171/171 [00:05<00:00, 33.1it/s] \n"
     ]
    },
    {
     "name": "stdout",
     "output_type": "stream",
     "text": [
      "Extracting EDF parameters from /Users/billhuang/Desktop/BU_RISE/BU_RISE_Project/data/ds004100/sub-HUP157/ses-presurgery/ieeg/sub-HUP157_ses-presurgery_task-ictal_acq-seeg_run-04_ieeg.edf...\n",
      "EDF file detected\n",
      "Setting channel info structure...\n",
      "Creating raw.info structure...\n",
      "Extracting EDF parameters from /Users/billhuang/Desktop/BU_RISE/BU_RISE_Project/data/ds004100/sub-HUP157/ses-presurgery/ieeg/sub-HUP157_ses-presurgery_task-ictal_acq-seeg_run-02_ieeg.edf...\n",
      "EDF file detected\n",
      "Setting channel info structure...\n",
      "Creating raw.info structure...\n"
     ]
    },
    {
     "name": "stderr",
     "output_type": "stream",
     "text": [
      "100%|██████████| 171/171 [00:05<00:00, 30.7it/s] \n"
     ]
    },
    {
     "name": "stdout",
     "output_type": "stream",
     "text": [
      "Extracting EDF parameters from /Users/billhuang/Desktop/BU_RISE/BU_RISE_Project/data/ds004100/sub-HUP157/ses-presurgery/ieeg/sub-HUP157_ses-presurgery_task-ictal_acq-seeg_run-02_ieeg.edf...\n",
      "EDF file detected\n",
      "Setting channel info structure...\n",
      "Creating raw.info structure...\n",
      "Extracting EDF parameters from /Users/billhuang/Desktop/BU_RISE/BU_RISE_Project/data/ds004100/sub-HUP157/ses-presurgery/ieeg/sub-HUP157_ses-presurgery_task-ictal_acq-seeg_run-03_ieeg.edf...\n",
      "EDF file detected\n",
      "Setting channel info structure...\n",
      "Creating raw.info structure...\n"
     ]
    },
    {
     "name": "stderr",
     "output_type": "stream",
     "text": [
      "100%|██████████| 171/171 [00:05<00:00, 30.7it/s] "
     ]
    },
    {
     "name": "stdout",
     "output_type": "stream",
     "text": [
      "Extracting EDF parameters from /Users/billhuang/Desktop/BU_RISE/BU_RISE_Project/data/ds004100/sub-HUP157/ses-presurgery/ieeg/sub-HUP157_ses-presurgery_task-ictal_acq-seeg_run-03_ieeg.edf...\n",
      "EDF file detected\n",
      "Setting channel info structure...\n",
      "Creating raw.info structure...\n",
      "Extracting EDF parameters from /Users/billhuang/Desktop/BU_RISE/BU_RISE_Project/data/ds004100/sub-HUP150/ses-presurgery/ieeg/sub-HUP150_ses-presurgery_task-ictal_acq-seeg_run-01_ieeg.edf...\n",
      "EDF file detected\n",
      "Setting channel info structure...\n",
      "Creating raw.info structure...\n"
     ]
    },
    {
     "name": "stderr",
     "output_type": "stream",
     "text": [
      "\n",
      "100%|██████████| 95.0/95.0 [00:01<00:00, 49.2it/s]\n"
     ]
    },
    {
     "name": "stdout",
     "output_type": "stream",
     "text": [
      "Extracting EDF parameters from /Users/billhuang/Desktop/BU_RISE/BU_RISE_Project/data/ds004100/sub-HUP150/ses-presurgery/ieeg/sub-HUP150_ses-presurgery_task-ictal_acq-seeg_run-01_ieeg.edf...\n",
      "EDF file detected\n",
      "Setting channel info structure...\n",
      "Creating raw.info structure...\n",
      "Extracting EDF parameters from /Users/billhuang/Desktop/BU_RISE/BU_RISE_Project/data/ds004100/sub-HUP150/ses-presurgery/ieeg/sub-HUP150_ses-presurgery_task-ictal_acq-seeg_run-03_ieeg.edf...\n",
      "EDF file detected\n",
      "Setting channel info structure...\n",
      "Creating raw.info structure...\n"
     ]
    },
    {
     "name": "stderr",
     "output_type": "stream",
     "text": [
      "100%|██████████| 95.0/95.0 [00:01<00:00, 47.6it/s]\n"
     ]
    },
    {
     "name": "stdout",
     "output_type": "stream",
     "text": [
      "Extracting EDF parameters from /Users/billhuang/Desktop/BU_RISE/BU_RISE_Project/data/ds004100/sub-HUP150/ses-presurgery/ieeg/sub-HUP150_ses-presurgery_task-ictal_acq-seeg_run-03_ieeg.edf...\n",
      "EDF file detected\n",
      "Setting channel info structure...\n",
      "Creating raw.info structure...\n",
      "Extracting EDF parameters from /Users/billhuang/Desktop/BU_RISE/BU_RISE_Project/data/ds004100/sub-HUP150/ses-presurgery/ieeg/sub-HUP150_ses-presurgery_task-ictal_acq-seeg_run-02_ieeg.edf...\n",
      "EDF file detected\n",
      "Setting channel info structure...\n",
      "Creating raw.info structure...\n"
     ]
    },
    {
     "name": "stderr",
     "output_type": "stream",
     "text": [
      "100%|██████████| 95.0/95.0 [00:02<00:00, 45.9it/s]\n"
     ]
    },
    {
     "name": "stdout",
     "output_type": "stream",
     "text": [
      "Extracting EDF parameters from /Users/billhuang/Desktop/BU_RISE/BU_RISE_Project/data/ds004100/sub-HUP150/ses-presurgery/ieeg/sub-HUP150_ses-presurgery_task-ictal_acq-seeg_run-02_ieeg.edf...\n",
      "EDF file detected\n",
      "Setting channel info structure...\n",
      "Creating raw.info structure...\n",
      "Extracting EDF parameters from /Users/billhuang/Desktop/BU_RISE/BU_RISE_Project/data/ds004100/sub-HUP150/ses-presurgery/ieeg/sub-HUP150_ses-presurgery_task-ictal_acq-seeg_run-04_ieeg.edf...\n",
      "EDF file detected\n",
      "Setting channel info structure...\n",
      "Creating raw.info structure...\n"
     ]
    },
    {
     "name": "stderr",
     "output_type": "stream",
     "text": [
      "100%|██████████| 95.0/95.0 [00:02<00:00, 47.2it/s]\n"
     ]
    },
    {
     "name": "stdout",
     "output_type": "stream",
     "text": [
      "Extracting EDF parameters from /Users/billhuang/Desktop/BU_RISE/BU_RISE_Project/data/ds004100/sub-HUP150/ses-presurgery/ieeg/sub-HUP150_ses-presurgery_task-ictal_acq-seeg_run-04_ieeg.edf...\n",
      "EDF file detected\n",
      "Setting channel info structure...\n",
      "Creating raw.info structure...\n",
      "Extracting EDF parameters from /Users/billhuang/Desktop/BU_RISE/BU_RISE_Project/data/ds004100/sub-HUP150/ses-presurgery/ieeg/sub-HUP150_ses-presurgery_task-ictal_acq-seeg_run-05_ieeg.edf...\n",
      "EDF file detected\n",
      "Setting channel info structure...\n",
      "Creating raw.info structure...\n"
     ]
    },
    {
     "name": "stderr",
     "output_type": "stream",
     "text": [
      "100%|██████████| 95.0/95.0 [00:02<00:00, 47.0it/s]\n"
     ]
    },
    {
     "name": "stdout",
     "output_type": "stream",
     "text": [
      "Extracting EDF parameters from /Users/billhuang/Desktop/BU_RISE/BU_RISE_Project/data/ds004100/sub-HUP150/ses-presurgery/ieeg/sub-HUP150_ses-presurgery_task-ictal_acq-seeg_run-05_ieeg.edf...\n",
      "EDF file detected\n",
      "Setting channel info structure...\n",
      "Creating raw.info structure...\n",
      "Extracting EDF parameters from /Users/billhuang/Desktop/BU_RISE/BU_RISE_Project/data/ds004100/sub-HUP166/ses-presurgery/ieeg/sub-HUP166_ses-presurgery_task-ictal_acq-seeg_run-01_ieeg.edf...\n",
      "EDF file detected\n",
      "Setting channel info structure...\n",
      "Creating raw.info structure...\n"
     ]
    },
    {
     "name": "stderr",
     "output_type": "stream",
     "text": [
      "100%|██████████| 171/171 [00:06<00:00, 27.0it/s] \n"
     ]
    },
    {
     "name": "stdout",
     "output_type": "stream",
     "text": [
      "Extracting EDF parameters from /Users/billhuang/Desktop/BU_RISE/BU_RISE_Project/data/ds004100/sub-HUP166/ses-presurgery/ieeg/sub-HUP166_ses-presurgery_task-ictal_acq-seeg_run-01_ieeg.edf...\n",
      "EDF file detected\n",
      "Setting channel info structure...\n",
      "Creating raw.info structure...\n",
      "Extracting EDF parameters from /Users/billhuang/Desktop/BU_RISE/BU_RISE_Project/data/ds004100/sub-HUP166/ses-presurgery/ieeg/sub-HUP166_ses-presurgery_task-ictal_acq-seeg_run-02_ieeg.edf...\n",
      "EDF file detected\n",
      "Setting channel info structure...\n",
      "Creating raw.info structure...\n"
     ]
    },
    {
     "name": "stderr",
     "output_type": "stream",
     "text": [
      "100%|██████████| 171/171 [00:06<00:00, 25.3it/s] \n"
     ]
    },
    {
     "name": "stdout",
     "output_type": "stream",
     "text": [
      "Extracting EDF parameters from /Users/billhuang/Desktop/BU_RISE/BU_RISE_Project/data/ds004100/sub-HUP166/ses-presurgery/ieeg/sub-HUP166_ses-presurgery_task-ictal_acq-seeg_run-02_ieeg.edf...\n",
      "EDF file detected\n",
      "Setting channel info structure...\n",
      "Creating raw.info structure...\n",
      "Extracting EDF parameters from /Users/billhuang/Desktop/BU_RISE/BU_RISE_Project/data/ds004100/sub-HUP135/ses-presurgery/ieeg/sub-HUP135_ses-presurgery_task-ictal_acq-seeg_run-02_ieeg.edf...\n",
      "EDF file detected\n",
      "Setting channel info structure...\n",
      "Creating raw.info structure...\n"
     ]
    },
    {
     "name": "stderr",
     "output_type": "stream",
     "text": [
      "100%|██████████| 104/104 [00:03<00:00, 27.5it/s] "
     ]
    },
    {
     "name": "stdout",
     "output_type": "stream",
     "text": [
      "Extracting EDF parameters from /Users/billhuang/Desktop/BU_RISE/BU_RISE_Project/data/ds004100/sub-HUP135/ses-presurgery/ieeg/sub-HUP135_ses-presurgery_task-ictal_acq-seeg_run-02_ieeg.edf...\n",
      "EDF file detected\n",
      "Setting channel info structure...\n",
      "Creating raw.info structure...\n",
      "Extracting EDF parameters from /Users/billhuang/Desktop/BU_RISE/BU_RISE_Project/data/ds004100/sub-HUP135/ses-presurgery/ieeg/sub-HUP135_ses-presurgery_task-ictal_acq-seeg_run-01_ieeg.edf...\n"
     ]
    },
    {
     "name": "stderr",
     "output_type": "stream",
     "text": [
      "\n"
     ]
    },
    {
     "name": "stdout",
     "output_type": "stream",
     "text": [
      "EDF file detected\n",
      "Setting channel info structure...\n",
      "Creating raw.info structure...\n"
     ]
    },
    {
     "name": "stderr",
     "output_type": "stream",
     "text": [
      "100%|██████████| 104/104 [00:02<00:00, 46.2it/s] \n"
     ]
    },
    {
     "name": "stdout",
     "output_type": "stream",
     "text": [
      "Extracting EDF parameters from /Users/billhuang/Desktop/BU_RISE/BU_RISE_Project/data/ds004100/sub-HUP135/ses-presurgery/ieeg/sub-HUP135_ses-presurgery_task-ictal_acq-seeg_run-01_ieeg.edf...\n",
      "EDF file detected\n",
      "Setting channel info structure...\n",
      "Creating raw.info structure...\n",
      "Extracting EDF parameters from /Users/billhuang/Desktop/BU_RISE/BU_RISE_Project/data/ds004100/sub-HUP160/ses-presurgery/ieeg/sub-HUP160_ses-presurgery_task-ictal_acq-seeg_run-03_ieeg.edf...\n",
      "EDF file detected\n",
      "Setting channel info structure...\n",
      "Creating raw.info structure...\n"
     ]
    },
    {
     "name": "stderr",
     "output_type": "stream",
     "text": [
      "100%|██████████| 117/117 [00:03<00:00, 31.2it/s] \n"
     ]
    },
    {
     "name": "stdout",
     "output_type": "stream",
     "text": [
      "Extracting EDF parameters from /Users/billhuang/Desktop/BU_RISE/BU_RISE_Project/data/ds004100/sub-HUP160/ses-presurgery/ieeg/sub-HUP160_ses-presurgery_task-ictal_acq-seeg_run-03_ieeg.edf...\n",
      "EDF file detected\n",
      "Setting channel info structure...\n",
      "Creating raw.info structure...\n",
      "Extracting EDF parameters from /Users/billhuang/Desktop/BU_RISE/BU_RISE_Project/data/ds004100/sub-HUP160/ses-presurgery/ieeg/sub-HUP160_ses-presurgery_task-ictal_acq-seeg_run-02_ieeg.edf...\n",
      "EDF file detected\n",
      "Setting channel info structure...\n",
      "Creating raw.info structure...\n"
     ]
    },
    {
     "name": "stderr",
     "output_type": "stream",
     "text": [
      "100%|██████████| 117/117 [00:03<00:00, 30.8it/s] \n"
     ]
    },
    {
     "name": "stdout",
     "output_type": "stream",
     "text": [
      "Extracting EDF parameters from /Users/billhuang/Desktop/BU_RISE/BU_RISE_Project/data/ds004100/sub-HUP160/ses-presurgery/ieeg/sub-HUP160_ses-presurgery_task-ictal_acq-seeg_run-02_ieeg.edf...\n",
      "EDF file detected\n",
      "Setting channel info structure...\n",
      "Creating raw.info structure...\n",
      "Extracting EDF parameters from /Users/billhuang/Desktop/BU_RISE/BU_RISE_Project/data/ds004100/sub-HUP160/ses-presurgery/ieeg/sub-HUP160_ses-presurgery_task-ictal_acq-seeg_run-01_ieeg.edf...\n",
      "EDF file detected\n",
      "Setting channel info structure...\n",
      "Creating raw.info structure...\n"
     ]
    },
    {
     "name": "stderr",
     "output_type": "stream",
     "text": [
      "100%|██████████| 117/117 [00:03<00:00, 31.5it/s] \n"
     ]
    },
    {
     "name": "stdout",
     "output_type": "stream",
     "text": [
      "Extracting EDF parameters from /Users/billhuang/Desktop/BU_RISE/BU_RISE_Project/data/ds004100/sub-HUP160/ses-presurgery/ieeg/sub-HUP160_ses-presurgery_task-ictal_acq-seeg_run-01_ieeg.edf...\n",
      "EDF file detected\n",
      "Setting channel info structure...\n",
      "Creating raw.info structure...\n",
      "Extracting EDF parameters from /Users/billhuang/Desktop/BU_RISE/BU_RISE_Project/data/ds004100/sub-HUP158/ses-presurgery/ieeg/sub-HUP158_ses-presurgery_task-ictal_acq-seeg_run-04_ieeg.edf...\n",
      "EDF file detected\n",
      "Setting channel info structure...\n",
      "Creating raw.info structure...\n"
     ]
    },
    {
     "name": "stderr",
     "output_type": "stream",
     "text": [
      "100%|██████████| 231/231 [00:04<00:00, 49.5it/s] \n"
     ]
    },
    {
     "name": "stdout",
     "output_type": "stream",
     "text": [
      "Extracting EDF parameters from /Users/billhuang/Desktop/BU_RISE/BU_RISE_Project/data/ds004100/sub-HUP158/ses-presurgery/ieeg/sub-HUP158_ses-presurgery_task-ictal_acq-seeg_run-04_ieeg.edf...\n",
      "EDF file detected\n",
      "Setting channel info structure...\n",
      "Creating raw.info structure...\n",
      "Extracting EDF parameters from /Users/billhuang/Desktop/BU_RISE/BU_RISE_Project/data/ds004100/sub-HUP151/ses-presurgery/ieeg/sub-HUP151_ses-presurgery_task-ictal_acq-seeg_run-02_ieeg.edf...\n",
      "EDF file detected\n",
      "Setting channel info structure...\n",
      "Creating raw.info structure...\n"
     ]
    },
    {
     "name": "stderr",
     "output_type": "stream",
     "text": [
      "100%|██████████| 179/179 [00:03<00:00, 54.8it/s] \n"
     ]
    },
    {
     "name": "stdout",
     "output_type": "stream",
     "text": [
      "Extracting EDF parameters from /Users/billhuang/Desktop/BU_RISE/BU_RISE_Project/data/ds004100/sub-HUP151/ses-presurgery/ieeg/sub-HUP151_ses-presurgery_task-ictal_acq-seeg_run-02_ieeg.edf...\n",
      "EDF file detected\n",
      "Setting channel info structure...\n",
      "Creating raw.info structure...\n",
      "Extracting EDF parameters from /Users/billhuang/Desktop/BU_RISE/BU_RISE_Project/data/ds004100/sub-HUP151/ses-presurgery/ieeg/sub-HUP151_ses-presurgery_task-ictal_acq-seeg_run-03_ieeg.edf...\n",
      "EDF file detected\n",
      "Setting channel info structure...\n",
      "Creating raw.info structure...\n"
     ]
    },
    {
     "name": "stderr",
     "output_type": "stream",
     "text": [
      "100%|██████████| 179/179 [00:03<00:00, 52.6it/s] \n"
     ]
    },
    {
     "name": "stdout",
     "output_type": "stream",
     "text": [
      "Extracting EDF parameters from /Users/billhuang/Desktop/BU_RISE/BU_RISE_Project/data/ds004100/sub-HUP151/ses-presurgery/ieeg/sub-HUP151_ses-presurgery_task-ictal_acq-seeg_run-03_ieeg.edf...\n",
      "EDF file detected\n",
      "Setting channel info structure...\n",
      "Creating raw.info structure...\n",
      "Extracting EDF parameters from /Users/billhuang/Desktop/BU_RISE/BU_RISE_Project/data/ds004100/sub-HUP151/ses-presurgery/ieeg/sub-HUP151_ses-presurgery_task-ictal_acq-seeg_run-05_ieeg.edf...\n",
      "EDF file detected\n",
      "Setting channel info structure...\n",
      "Creating raw.info structure...\n"
     ]
    },
    {
     "name": "stderr",
     "output_type": "stream",
     "text": [
      "100%|██████████| 179/179 [00:03<00:00, 50.9it/s] \n"
     ]
    },
    {
     "name": "stdout",
     "output_type": "stream",
     "text": [
      "Extracting EDF parameters from /Users/billhuang/Desktop/BU_RISE/BU_RISE_Project/data/ds004100/sub-HUP151/ses-presurgery/ieeg/sub-HUP151_ses-presurgery_task-ictal_acq-seeg_run-05_ieeg.edf...\n",
      "EDF file detected\n",
      "Setting channel info structure...\n",
      "Creating raw.info structure...\n",
      "Extracting EDF parameters from /Users/billhuang/Desktop/BU_RISE/BU_RISE_Project/data/ds004100/sub-HUP151/ses-presurgery/ieeg/sub-HUP151_ses-presurgery_task-ictal_acq-seeg_run-04_ieeg.edf...\n",
      "EDF file detected\n",
      "Setting channel info structure...\n",
      "Creating raw.info structure...\n"
     ]
    },
    {
     "name": "stderr",
     "output_type": "stream",
     "text": [
      "100%|██████████| 179/179 [00:03<00:00, 55.1it/s] \n"
     ]
    },
    {
     "name": "stdout",
     "output_type": "stream",
     "text": [
      "Extracting EDF parameters from /Users/billhuang/Desktop/BU_RISE/BU_RISE_Project/data/ds004100/sub-HUP151/ses-presurgery/ieeg/sub-HUP151_ses-presurgery_task-ictal_acq-seeg_run-04_ieeg.edf...\n",
      "EDF file detected\n",
      "Setting channel info structure...\n",
      "Creating raw.info structure...\n",
      "Extracting EDF parameters from /Users/billhuang/Desktop/BU_RISE/BU_RISE_Project/data/ds004100/sub-HUP151/ses-presurgery/ieeg/sub-HUP151_ses-presurgery_task-ictal_acq-seeg_run-01_ieeg.edf...\n",
      "EDF file detected\n",
      "Setting channel info structure...\n",
      "Creating raw.info structure...\n"
     ]
    },
    {
     "name": "stderr",
     "output_type": "stream",
     "text": [
      "100%|██████████| 179/179 [00:03<00:00, 54.6it/s] \n"
     ]
    },
    {
     "name": "stdout",
     "output_type": "stream",
     "text": [
      "Extracting EDF parameters from /Users/billhuang/Desktop/BU_RISE/BU_RISE_Project/data/ds004100/sub-HUP151/ses-presurgery/ieeg/sub-HUP151_ses-presurgery_task-ictal_acq-seeg_run-01_ieeg.edf...\n",
      "EDF file detected\n",
      "Setting channel info structure...\n",
      "Creating raw.info structure...\n",
      "Extracting EDF parameters from /Users/billhuang/Desktop/BU_RISE/BU_RISE_Project/data/ds004100/sub-HUP105/ses-presurgery/ieeg/sub-HUP105_ses-presurgery_task-ictal_acq-ecog_run-02_ieeg.edf...\n",
      "EDF file detected\n",
      "Setting channel info structure...\n",
      "Creating raw.info structure...\n"
     ]
    },
    {
     "name": "stderr",
     "output_type": "stream",
     "text": [
      "100%|██████████| 60.0/60.0 [00:01<00:00, 35.3it/s]\n"
     ]
    },
    {
     "name": "stdout",
     "output_type": "stream",
     "text": [
      "Extracting EDF parameters from /Users/billhuang/Desktop/BU_RISE/BU_RISE_Project/data/ds004100/sub-HUP105/ses-presurgery/ieeg/sub-HUP105_ses-presurgery_task-ictal_acq-ecog_run-02_ieeg.edf...\n",
      "EDF file detected\n",
      "Setting channel info structure...\n",
      "Creating raw.info structure...\n",
      "Extracting EDF parameters from /Users/billhuang/Desktop/BU_RISE/BU_RISE_Project/data/ds004100/sub-HUP105/ses-presurgery/ieeg/sub-HUP105_ses-presurgery_task-ictal_acq-ecog_run-01_ieeg.edf...\n",
      "EDF file detected\n",
      "Setting channel info structure...\n",
      "Creating raw.info structure...\n"
     ]
    },
    {
     "name": "stderr",
     "output_type": "stream",
     "text": [
      "100%|██████████| 60.0/60.0 [00:01<00:00, 37.0it/s]\n"
     ]
    },
    {
     "name": "stdout",
     "output_type": "stream",
     "text": [
      "Extracting EDF parameters from /Users/billhuang/Desktop/BU_RISE/BU_RISE_Project/data/ds004100/sub-HUP105/ses-presurgery/ieeg/sub-HUP105_ses-presurgery_task-ictal_acq-ecog_run-01_ieeg.edf...\n",
      "EDF file detected\n",
      "Setting channel info structure...\n",
      "Creating raw.info structure...\n",
      "Extracting EDF parameters from /Users/billhuang/Desktop/BU_RISE/BU_RISE_Project/data/ds004100/sub-HUP133/ses-presurgery/ieeg/sub-HUP133_ses-presurgery_task-ictal_acq-seeg_run-01_ieeg.edf...\n",
      "EDF file detected\n",
      "Setting channel info structure...\n",
      "Creating raw.info structure...\n"
     ]
    },
    {
     "name": "stderr",
     "output_type": "stream",
     "text": [
      "100%|██████████| 79.0/79.0 [00:02<00:00, 38.3it/s]\n"
     ]
    },
    {
     "name": "stdout",
     "output_type": "stream",
     "text": [
      "Extracting EDF parameters from /Users/billhuang/Desktop/BU_RISE/BU_RISE_Project/data/ds004100/sub-HUP133/ses-presurgery/ieeg/sub-HUP133_ses-presurgery_task-ictal_acq-seeg_run-01_ieeg.edf...\n",
      "EDF file detected\n",
      "Setting channel info structure...\n",
      "Creating raw.info structure...\n",
      "Extracting EDF parameters from /Users/billhuang/Desktop/BU_RISE/BU_RISE_Project/data/ds004100/sub-HUP133/ses-presurgery/ieeg/sub-HUP133_ses-presurgery_task-ictal_acq-seeg_run-02_ieeg.edf...\n",
      "EDF file detected\n",
      "Setting channel info structure...\n",
      "Creating raw.info structure...\n"
     ]
    },
    {
     "name": "stderr",
     "output_type": "stream",
     "text": [
      "100%|██████████| 79.0/79.0 [00:02<00:00, 36.4it/s]\n"
     ]
    },
    {
     "name": "stdout",
     "output_type": "stream",
     "text": [
      "Extracting EDF parameters from /Users/billhuang/Desktop/BU_RISE/BU_RISE_Project/data/ds004100/sub-HUP133/ses-presurgery/ieeg/sub-HUP133_ses-presurgery_task-ictal_acq-seeg_run-02_ieeg.edf...\n",
      "EDF file detected\n",
      "Setting channel info structure...\n",
      "Creating raw.info structure...\n",
      "Extracting EDF parameters from /Users/billhuang/Desktop/BU_RISE/BU_RISE_Project/data/ds004100/sub-HUP133/ses-presurgery/ieeg/sub-HUP133_ses-presurgery_task-ictal_acq-seeg_run-03_ieeg.edf...\n",
      "EDF file detected\n",
      "Setting channel info structure...\n",
      "Creating raw.info structure...\n"
     ]
    },
    {
     "name": "stderr",
     "output_type": "stream",
     "text": [
      "100%|██████████| 79.0/79.0 [00:02<00:00, 39.2it/s]\n"
     ]
    },
    {
     "name": "stdout",
     "output_type": "stream",
     "text": [
      "Extracting EDF parameters from /Users/billhuang/Desktop/BU_RISE/BU_RISE_Project/data/ds004100/sub-HUP133/ses-presurgery/ieeg/sub-HUP133_ses-presurgery_task-ictal_acq-seeg_run-03_ieeg.edf...\n",
      "EDF file detected\n",
      "Setting channel info structure...\n",
      "Creating raw.info structure...\n",
      "Extracting EDF parameters from /Users/billhuang/Desktop/BU_RISE/BU_RISE_Project/data/ds004100/sub-HUP133/ses-presurgery/ieeg/sub-HUP133_ses-presurgery_task-ictal_acq-seeg_run-05_ieeg.edf...\n",
      "EDF file detected\n",
      "Setting channel info structure...\n",
      "Creating raw.info structure...\n"
     ]
    },
    {
     "name": "stderr",
     "output_type": "stream",
     "text": [
      "100%|██████████| 79.0/79.0 [00:01<00:00, 42.1it/s]\n"
     ]
    },
    {
     "name": "stdout",
     "output_type": "stream",
     "text": [
      "Extracting EDF parameters from /Users/billhuang/Desktop/BU_RISE/BU_RISE_Project/data/ds004100/sub-HUP133/ses-presurgery/ieeg/sub-HUP133_ses-presurgery_task-ictal_acq-seeg_run-05_ieeg.edf...\n",
      "EDF file detected\n",
      "Setting channel info structure...\n",
      "Creating raw.info structure...\n",
      "Extracting EDF parameters from /Users/billhuang/Desktop/BU_RISE/BU_RISE_Project/data/ds004100/sub-HUP133/ses-presurgery/ieeg/sub-HUP133_ses-presurgery_task-ictal_acq-seeg_run-04_ieeg.edf...\n",
      "EDF file detected\n",
      "Setting channel info structure...\n",
      "Creating raw.info structure...\n"
     ]
    },
    {
     "name": "stderr",
     "output_type": "stream",
     "text": [
      "100%|██████████| 79.0/79.0 [00:01<00:00, 40.2it/s]\n"
     ]
    },
    {
     "name": "stdout",
     "output_type": "stream",
     "text": [
      "Extracting EDF parameters from /Users/billhuang/Desktop/BU_RISE/BU_RISE_Project/data/ds004100/sub-HUP133/ses-presurgery/ieeg/sub-HUP133_ses-presurgery_task-ictal_acq-seeg_run-04_ieeg.edf...\n",
      "EDF file detected\n",
      "Setting channel info structure...\n",
      "Creating raw.info structure...\n",
      "Extracting EDF parameters from /Users/billhuang/Desktop/BU_RISE/BU_RISE_Project/data/ds004100/sub-HUP134/ses-presurgery/ieeg/sub-HUP134_ses-presurgery_task-ictal_acq-seeg_run-01_ieeg.edf...\n",
      "EDF file detected\n",
      "Setting channel info structure...\n",
      "Creating raw.info structure...\n"
     ]
    },
    {
     "name": "stderr",
     "output_type": "stream",
     "text": [
      "100%|██████████| 84.0/84.0 [00:03<00:00, 26.6it/s]\n"
     ]
    },
    {
     "name": "stdout",
     "output_type": "stream",
     "text": [
      "Extracting EDF parameters from /Users/billhuang/Desktop/BU_RISE/BU_RISE_Project/data/ds004100/sub-HUP134/ses-presurgery/ieeg/sub-HUP134_ses-presurgery_task-ictal_acq-seeg_run-01_ieeg.edf...\n",
      "EDF file detected\n",
      "Setting channel info structure...\n",
      "Creating raw.info structure...\n",
      "Extracting EDF parameters from /Users/billhuang/Desktop/BU_RISE/BU_RISE_Project/data/ds004100/sub-HUP116/ses-presurgery/ieeg/sub-HUP116_ses-presurgery_task-ictal_acq-seeg_run-01_ieeg.edf...\n",
      "EDF file detected\n",
      "Setting channel info structure...\n",
      "Creating raw.info structure...\n"
     ]
    },
    {
     "name": "stderr",
     "output_type": "stream",
     "text": [
      "100%|██████████| 51.0/51.0 [00:01<00:00, 28.6it/s]\n"
     ]
    },
    {
     "name": "stdout",
     "output_type": "stream",
     "text": [
      "Extracting EDF parameters from /Users/billhuang/Desktop/BU_RISE/BU_RISE_Project/data/ds004100/sub-HUP116/ses-presurgery/ieeg/sub-HUP116_ses-presurgery_task-ictal_acq-seeg_run-01_ieeg.edf...\n",
      "EDF file detected\n",
      "Setting channel info structure...\n",
      "Creating raw.info structure...\n",
      "Extracting EDF parameters from /Users/billhuang/Desktop/BU_RISE/BU_RISE_Project/data/ds004100/sub-HUP116/ses-presurgery/ieeg/sub-HUP116_ses-presurgery_task-ictal_acq-seeg_run-03_ieeg.edf...\n",
      "EDF file detected\n",
      "Setting channel info structure...\n",
      "Creating raw.info structure...\n"
     ]
    },
    {
     "name": "stderr",
     "output_type": "stream",
     "text": [
      "100%|██████████| 51.0/51.0 [00:02<00:00, 19.7it/s]"
     ]
    },
    {
     "name": "stdout",
     "output_type": "stream",
     "text": [
      "Extracting EDF parameters from /Users/billhuang/Desktop/BU_RISE/BU_RISE_Project/data/ds004100/sub-HUP116/ses-presurgery/ieeg/sub-HUP116_ses-presurgery_task-ictal_acq-seeg_run-03_ieeg.edf...\n",
      "EDF file detected\n",
      "Setting channel info structure...\n",
      "Creating raw.info structure...\n"
     ]
    },
    {
     "name": "stderr",
     "output_type": "stream",
     "text": [
      "\n"
     ]
    },
    {
     "name": "stdout",
     "output_type": "stream",
     "text": [
      "Extracting EDF parameters from /Users/billhuang/Desktop/BU_RISE/BU_RISE_Project/data/ds004100/sub-HUP116/ses-presurgery/ieeg/sub-HUP116_ses-presurgery_task-ictal_acq-seeg_run-02_ieeg.edf...\n",
      "EDF file detected\n",
      "Setting channel info structure...\n",
      "Creating raw.info structure...\n"
     ]
    },
    {
     "name": "stderr",
     "output_type": "stream",
     "text": [
      "100%|██████████| 51.0/51.0 [00:01<00:00, 30.9it/s]\n"
     ]
    },
    {
     "name": "stdout",
     "output_type": "stream",
     "text": [
      "Extracting EDF parameters from /Users/billhuang/Desktop/BU_RISE/BU_RISE_Project/data/ds004100/sub-HUP116/ses-presurgery/ieeg/sub-HUP116_ses-presurgery_task-ictal_acq-seeg_run-02_ieeg.edf...\n",
      "EDF file detected\n",
      "Setting channel info structure...\n",
      "Creating raw.info structure...\n",
      "Extracting EDF parameters from /Users/billhuang/Desktop/BU_RISE/BU_RISE_Project/data/ds004100/sub-HUP111/ses-presurgery/ieeg/sub-HUP111_ses-presurgery_task-ictal_acq-ecog_run-04_ieeg.edf...\n",
      "EDF file detected\n",
      "Setting channel info structure...\n",
      "Creating raw.info structure...\n"
     ]
    },
    {
     "name": "stderr",
     "output_type": "stream",
     "text": [
      "100%|██████████| 103/103 [00:02<00:00, 47.0it/s] \n"
     ]
    },
    {
     "name": "stdout",
     "output_type": "stream",
     "text": [
      "Extracting EDF parameters from /Users/billhuang/Desktop/BU_RISE/BU_RISE_Project/data/ds004100/sub-HUP111/ses-presurgery/ieeg/sub-HUP111_ses-presurgery_task-ictal_acq-ecog_run-04_ieeg.edf...\n",
      "EDF file detected\n",
      "Setting channel info structure...\n",
      "Creating raw.info structure...\n",
      "Extracting EDF parameters from /Users/billhuang/Desktop/BU_RISE/BU_RISE_Project/data/ds004100/sub-HUP111/ses-presurgery/ieeg/sub-HUP111_ses-presurgery_task-ictal_acq-ecog_run-05_ieeg.edf...\n",
      "EDF file detected\n",
      "Setting channel info structure...\n",
      "Creating raw.info structure...\n"
     ]
    },
    {
     "name": "stderr",
     "output_type": "stream",
     "text": [
      "100%|██████████| 103/103 [00:02<00:00, 46.8it/s] \n"
     ]
    },
    {
     "name": "stdout",
     "output_type": "stream",
     "text": [
      "Extracting EDF parameters from /Users/billhuang/Desktop/BU_RISE/BU_RISE_Project/data/ds004100/sub-HUP111/ses-presurgery/ieeg/sub-HUP111_ses-presurgery_task-ictal_acq-ecog_run-05_ieeg.edf...\n",
      "EDF file detected\n",
      "Setting channel info structure...\n",
      "Creating raw.info structure...\n",
      "Extracting EDF parameters from /Users/billhuang/Desktop/BU_RISE/BU_RISE_Project/data/ds004100/sub-HUP111/ses-presurgery/ieeg/sub-HUP111_ses-presurgery_task-ictal_acq-ecog_run-03_ieeg.edf...\n",
      "EDF file detected\n",
      "Setting channel info structure...\n",
      "Creating raw.info structure...\n"
     ]
    },
    {
     "name": "stderr",
     "output_type": "stream",
     "text": [
      "100%|██████████| 103/103 [00:02<00:00, 44.4it/s] \n"
     ]
    },
    {
     "name": "stdout",
     "output_type": "stream",
     "text": [
      "Extracting EDF parameters from /Users/billhuang/Desktop/BU_RISE/BU_RISE_Project/data/ds004100/sub-HUP111/ses-presurgery/ieeg/sub-HUP111_ses-presurgery_task-ictal_acq-ecog_run-03_ieeg.edf...\n",
      "EDF file detected\n",
      "Setting channel info structure...\n",
      "Creating raw.info structure...\n",
      "Extracting EDF parameters from /Users/billhuang/Desktop/BU_RISE/BU_RISE_Project/data/ds004100/sub-HUP111/ses-presurgery/ieeg/sub-HUP111_ses-presurgery_task-ictal_acq-ecog_run-02_ieeg.edf...\n",
      "EDF file detected\n",
      "Setting channel info structure...\n",
      "Creating raw.info structure...\n"
     ]
    },
    {
     "name": "stderr",
     "output_type": "stream",
     "text": [
      "100%|██████████| 103/103 [00:02<00:00, 47.1it/s] \n"
     ]
    },
    {
     "name": "stdout",
     "output_type": "stream",
     "text": [
      "Extracting EDF parameters from /Users/billhuang/Desktop/BU_RISE/BU_RISE_Project/data/ds004100/sub-HUP111/ses-presurgery/ieeg/sub-HUP111_ses-presurgery_task-ictal_acq-ecog_run-02_ieeg.edf...\n",
      "EDF file detected\n",
      "Setting channel info structure...\n",
      "Creating raw.info structure...\n",
      "Extracting EDF parameters from /Users/billhuang/Desktop/BU_RISE/BU_RISE_Project/data/ds004100/sub-HUP111/ses-presurgery/ieeg/sub-HUP111_ses-presurgery_task-ictal_acq-ecog_run-01_ieeg.edf...\n",
      "EDF file detected\n",
      "Setting channel info structure...\n",
      "Creating raw.info structure...\n"
     ]
    },
    {
     "name": "stderr",
     "output_type": "stream",
     "text": [
      "100%|██████████| 103/103 [00:03<00:00, 34.0it/s] "
     ]
    },
    {
     "name": "stdout",
     "output_type": "stream",
     "text": [
      "Extracting EDF parameters from /Users/billhuang/Desktop/BU_RISE/BU_RISE_Project/data/ds004100/sub-HUP111/ses-presurgery/ieeg/sub-HUP111_ses-presurgery_task-ictal_acq-ecog_run-01_ieeg.edf...\n",
      "EDF file detected\n",
      "Setting channel info structure...\n",
      "Creating raw.info structure...\n",
      "Extracting EDF parameters from /Users/billhuang/Desktop/BU_RISE/BU_RISE_Project/data/ds004100/sub-HUP180/ses-presurgery/ieeg/sub-HUP180_ses-presurgery_task-ictal_acq-seeg_run-01_ieeg.edf...\n",
      "EDF file detected\n",
      "Setting channel info structure...\n",
      "Creating raw.info structure...\n"
     ]
    },
    {
     "name": "stderr",
     "output_type": "stream",
     "text": [
      "\n",
      "100%|██████████| 120/120 [00:02<00:00, 53.8it/s] \n"
     ]
    },
    {
     "name": "stdout",
     "output_type": "stream",
     "text": [
      "Extracting EDF parameters from /Users/billhuang/Desktop/BU_RISE/BU_RISE_Project/data/ds004100/sub-HUP180/ses-presurgery/ieeg/sub-HUP180_ses-presurgery_task-ictal_acq-seeg_run-01_ieeg.edf...\n",
      "EDF file detected\n",
      "Setting channel info structure...\n",
      "Creating raw.info structure...\n",
      "Extracting EDF parameters from /Users/billhuang/Desktop/BU_RISE/BU_RISE_Project/data/ds004100/sub-HUP180/ses-presurgery/ieeg/sub-HUP180_ses-presurgery_task-ictal_acq-seeg_run-03_ieeg.edf...\n",
      "EDF file detected\n",
      "Setting channel info structure...\n",
      "Creating raw.info structure...\n"
     ]
    },
    {
     "name": "stderr",
     "output_type": "stream",
     "text": [
      "100%|██████████| 120/120 [00:02<00:00, 54.9it/s] \n"
     ]
    },
    {
     "name": "stdout",
     "output_type": "stream",
     "text": [
      "Extracting EDF parameters from /Users/billhuang/Desktop/BU_RISE/BU_RISE_Project/data/ds004100/sub-HUP180/ses-presurgery/ieeg/sub-HUP180_ses-presurgery_task-ictal_acq-seeg_run-03_ieeg.edf...\n",
      "EDF file detected\n",
      "Setting channel info structure...\n",
      "Creating raw.info structure...\n",
      "Extracting EDF parameters from /Users/billhuang/Desktop/BU_RISE/BU_RISE_Project/data/ds004100/sub-HUP180/ses-presurgery/ieeg/sub-HUP180_ses-presurgery_task-ictal_acq-seeg_run-02_ieeg.edf...\n",
      "EDF file detected\n",
      "Setting channel info structure...\n",
      "Creating raw.info structure...\n"
     ]
    },
    {
     "name": "stderr",
     "output_type": "stream",
     "text": [
      "100%|██████████| 120/120 [00:02<00:00, 50.7it/s] \n"
     ]
    },
    {
     "name": "stdout",
     "output_type": "stream",
     "text": [
      "Extracting EDF parameters from /Users/billhuang/Desktop/BU_RISE/BU_RISE_Project/data/ds004100/sub-HUP180/ses-presurgery/ieeg/sub-HUP180_ses-presurgery_task-ictal_acq-seeg_run-02_ieeg.edf...\n",
      "EDF file detected\n",
      "Setting channel info structure...\n",
      "Creating raw.info structure...\n",
      "Extracting EDF parameters from /Users/billhuang/Desktop/BU_RISE/BU_RISE_Project/data/ds004100/sub-HUP180/ses-presurgery/ieeg/sub-HUP180_ses-presurgery_task-ictal_acq-seeg_run-04_ieeg.edf...\n",
      "EDF file detected\n",
      "Setting channel info structure...\n",
      "Creating raw.info structure...\n"
     ]
    },
    {
     "name": "stderr",
     "output_type": "stream",
     "text": [
      "100%|██████████| 120/120 [00:02<00:00, 49.3it/s] \n"
     ]
    },
    {
     "name": "stdout",
     "output_type": "stream",
     "text": [
      "Extracting EDF parameters from /Users/billhuang/Desktop/BU_RISE/BU_RISE_Project/data/ds004100/sub-HUP180/ses-presurgery/ieeg/sub-HUP180_ses-presurgery_task-ictal_acq-seeg_run-04_ieeg.edf...\n",
      "EDF file detected\n",
      "Setting channel info structure...\n",
      "Creating raw.info structure...\n",
      "Extracting EDF parameters from /Users/billhuang/Desktop/BU_RISE/BU_RISE_Project/data/ds004100/sub-HUP180/ses-presurgery/ieeg/sub-HUP180_ses-presurgery_task-ictal_acq-seeg_run-05_ieeg.edf...\n",
      "EDF file detected\n",
      "Setting channel info structure...\n",
      "Creating raw.info structure...\n"
     ]
    },
    {
     "name": "stderr",
     "output_type": "stream",
     "text": [
      "100%|██████████| 120/120 [00:02<00:00, 52.4it/s] \n"
     ]
    },
    {
     "name": "stdout",
     "output_type": "stream",
     "text": [
      "Extracting EDF parameters from /Users/billhuang/Desktop/BU_RISE/BU_RISE_Project/data/ds004100/sub-HUP180/ses-presurgery/ieeg/sub-HUP180_ses-presurgery_task-ictal_acq-seeg_run-05_ieeg.edf...\n",
      "EDF file detected\n",
      "Setting channel info structure...\n",
      "Creating raw.info structure...\n",
      "Extracting EDF parameters from /Users/billhuang/Desktop/BU_RISE/BU_RISE_Project/data/ds004100/sub-HUP187/ses-presurgery/ieeg/sub-HUP187_ses-presurgery_task-ictal_acq-seeg_run-01_ieeg.edf...\n",
      "EDF file detected\n",
      "Setting channel info structure...\n",
      "Creating raw.info structure...\n"
     ]
    },
    {
     "name": "stderr",
     "output_type": "stream",
     "text": [
      "100%|██████████| 108/108 [00:02<00:00, 50.4it/s] \n"
     ]
    },
    {
     "name": "stdout",
     "output_type": "stream",
     "text": [
      "Extracting EDF parameters from /Users/billhuang/Desktop/BU_RISE/BU_RISE_Project/data/ds004100/sub-HUP187/ses-presurgery/ieeg/sub-HUP187_ses-presurgery_task-ictal_acq-seeg_run-01_ieeg.edf...\n",
      "EDF file detected\n",
      "Setting channel info structure...\n",
      "Creating raw.info structure...\n",
      "Extracting EDF parameters from /Users/billhuang/Desktop/BU_RISE/BU_RISE_Project/data/ds004100/sub-HUP187/ses-presurgery/ieeg/sub-HUP187_ses-presurgery_task-ictal_acq-seeg_run-05_ieeg.edf...\n",
      "EDF file detected\n",
      "Setting channel info structure...\n",
      "Creating raw.info structure...\n"
     ]
    },
    {
     "name": "stderr",
     "output_type": "stream",
     "text": [
      "100%|██████████| 108/108 [00:02<00:00, 50.0it/s] \n"
     ]
    },
    {
     "name": "stdout",
     "output_type": "stream",
     "text": [
      "Extracting EDF parameters from /Users/billhuang/Desktop/BU_RISE/BU_RISE_Project/data/ds004100/sub-HUP187/ses-presurgery/ieeg/sub-HUP187_ses-presurgery_task-ictal_acq-seeg_run-05_ieeg.edf...\n",
      "EDF file detected\n",
      "Setting channel info structure...\n",
      "Creating raw.info structure...\n",
      "Extracting EDF parameters from /Users/billhuang/Desktop/BU_RISE/BU_RISE_Project/data/ds004100/sub-HUP187/ses-presurgery/ieeg/sub-HUP187_ses-presurgery_task-ictal_acq-seeg_run-04_ieeg.edf...\n",
      "EDF file detected\n",
      "Setting channel info structure...\n",
      "Creating raw.info structure...\n"
     ]
    },
    {
     "name": "stderr",
     "output_type": "stream",
     "text": [
      "100%|██████████| 108/108 [00:02<00:00, 45.7it/s] \n"
     ]
    },
    {
     "name": "stdout",
     "output_type": "stream",
     "text": [
      "Extracting EDF parameters from /Users/billhuang/Desktop/BU_RISE/BU_RISE_Project/data/ds004100/sub-HUP187/ses-presurgery/ieeg/sub-HUP187_ses-presurgery_task-ictal_acq-seeg_run-04_ieeg.edf...\n",
      "EDF file detected\n",
      "Setting channel info structure...\n",
      "Creating raw.info structure...\n",
      "Extracting EDF parameters from /Users/billhuang/Desktop/BU_RISE/BU_RISE_Project/data/ds004100/sub-HUP187/ses-presurgery/ieeg/sub-HUP187_ses-presurgery_task-ictal_acq-seeg_run-02_ieeg.edf...\n",
      "EDF file detected\n",
      "Setting channel info structure...\n",
      "Creating raw.info structure...\n"
     ]
    },
    {
     "name": "stderr",
     "output_type": "stream",
     "text": [
      "100%|██████████| 108/108 [00:02<00:00, 49.3it/s] \n"
     ]
    },
    {
     "name": "stdout",
     "output_type": "stream",
     "text": [
      "Extracting EDF parameters from /Users/billhuang/Desktop/BU_RISE/BU_RISE_Project/data/ds004100/sub-HUP187/ses-presurgery/ieeg/sub-HUP187_ses-presurgery_task-ictal_acq-seeg_run-02_ieeg.edf...\n",
      "EDF file detected\n",
      "Setting channel info structure...\n",
      "Creating raw.info structure...\n",
      "Extracting EDF parameters from /Users/billhuang/Desktop/BU_RISE/BU_RISE_Project/data/ds004100/sub-HUP187/ses-presurgery/ieeg/sub-HUP187_ses-presurgery_task-ictal_acq-seeg_run-03_ieeg.edf...\n",
      "EDF file detected\n",
      "Setting channel info structure...\n",
      "Creating raw.info structure...\n"
     ]
    },
    {
     "name": "stderr",
     "output_type": "stream",
     "text": [
      "100%|██████████| 108/108 [00:02<00:00, 46.1it/s] \n"
     ]
    },
    {
     "name": "stdout",
     "output_type": "stream",
     "text": [
      "Extracting EDF parameters from /Users/billhuang/Desktop/BU_RISE/BU_RISE_Project/data/ds004100/sub-HUP187/ses-presurgery/ieeg/sub-HUP187_ses-presurgery_task-ictal_acq-seeg_run-03_ieeg.edf...\n",
      "EDF file detected\n",
      "Setting channel info structure...\n",
      "Creating raw.info structure...\n",
      "Extracting EDF parameters from /Users/billhuang/Desktop/BU_RISE/BU_RISE_Project/data/ds004100/sub-HUP173/ses-presurgery/ieeg/sub-HUP173_ses-presurgery_task-ictal_acq-seeg_run-02_ieeg.edf...\n",
      "EDF file detected\n",
      "Setting channel info structure...\n",
      "Creating raw.info structure...\n"
     ]
    },
    {
     "name": "stderr",
     "output_type": "stream",
     "text": [
      "100%|██████████| 125/125 [00:01<00:00, 73.5it/s] \n"
     ]
    },
    {
     "name": "stdout",
     "output_type": "stream",
     "text": [
      "Extracting EDF parameters from /Users/billhuang/Desktop/BU_RISE/BU_RISE_Project/data/ds004100/sub-HUP173/ses-presurgery/ieeg/sub-HUP173_ses-presurgery_task-ictal_acq-seeg_run-02_ieeg.edf...\n",
      "EDF file detected\n",
      "Setting channel info structure...\n",
      "Creating raw.info structure...\n",
      "Extracting EDF parameters from /Users/billhuang/Desktop/BU_RISE/BU_RISE_Project/data/ds004100/sub-HUP173/ses-presurgery/ieeg/sub-HUP173_ses-presurgery_task-ictal_acq-seeg_run-03_ieeg.edf...\n",
      "EDF file detected\n",
      "Setting channel info structure...\n",
      "Creating raw.info structure...\n"
     ]
    },
    {
     "name": "stderr",
     "output_type": "stream",
     "text": [
      "100%|██████████| 125/125 [00:01<00:00, 76.0it/s] \n"
     ]
    },
    {
     "name": "stdout",
     "output_type": "stream",
     "text": [
      "Extracting EDF parameters from /Users/billhuang/Desktop/BU_RISE/BU_RISE_Project/data/ds004100/sub-HUP173/ses-presurgery/ieeg/sub-HUP173_ses-presurgery_task-ictal_acq-seeg_run-03_ieeg.edf...\n",
      "EDF file detected\n",
      "Setting channel info structure...\n",
      "Creating raw.info structure...\n",
      "Extracting EDF parameters from /Users/billhuang/Desktop/BU_RISE/BU_RISE_Project/data/ds004100/sub-HUP173/ses-presurgery/ieeg/sub-HUP173_ses-presurgery_task-ictal_acq-seeg_run-05_ieeg.edf...\n",
      "EDF file detected\n",
      "Setting channel info structure...\n",
      "Creating raw.info structure...\n"
     ]
    },
    {
     "name": "stderr",
     "output_type": "stream",
     "text": [
      "100%|██████████| 125/125 [00:01<00:00, 66.5it/s] \n"
     ]
    },
    {
     "name": "stdout",
     "output_type": "stream",
     "text": [
      "Extracting EDF parameters from /Users/billhuang/Desktop/BU_RISE/BU_RISE_Project/data/ds004100/sub-HUP173/ses-presurgery/ieeg/sub-HUP173_ses-presurgery_task-ictal_acq-seeg_run-05_ieeg.edf...\n",
      "EDF file detected\n",
      "Setting channel info structure...\n",
      "Creating raw.info structure...\n",
      "Extracting EDF parameters from /Users/billhuang/Desktop/BU_RISE/BU_RISE_Project/data/ds004100/sub-HUP173/ses-presurgery/ieeg/sub-HUP173_ses-presurgery_task-ictal_acq-seeg_run-04_ieeg.edf...\n",
      "EDF file detected\n",
      "Setting channel info structure...\n",
      "Creating raw.info structure...\n"
     ]
    },
    {
     "name": "stderr",
     "output_type": "stream",
     "text": [
      "100%|██████████| 125/125 [00:01<00:00, 70.7it/s] \n"
     ]
    },
    {
     "name": "stdout",
     "output_type": "stream",
     "text": [
      "Extracting EDF parameters from /Users/billhuang/Desktop/BU_RISE/BU_RISE_Project/data/ds004100/sub-HUP173/ses-presurgery/ieeg/sub-HUP173_ses-presurgery_task-ictal_acq-seeg_run-04_ieeg.edf...\n",
      "EDF file detected\n",
      "Setting channel info structure...\n",
      "Creating raw.info structure...\n",
      "Extracting EDF parameters from /Users/billhuang/Desktop/BU_RISE/BU_RISE_Project/data/ds004100/sub-HUP173/ses-presurgery/ieeg/sub-HUP173_ses-presurgery_task-ictal_acq-seeg_run-01_ieeg.edf...\n",
      "EDF file detected\n",
      "Setting channel info structure...\n",
      "Creating raw.info structure...\n"
     ]
    },
    {
     "name": "stderr",
     "output_type": "stream",
     "text": [
      "100%|██████████| 125/125 [00:01<00:00, 74.7it/s] \n"
     ]
    },
    {
     "name": "stdout",
     "output_type": "stream",
     "text": [
      "Extracting EDF parameters from /Users/billhuang/Desktop/BU_RISE/BU_RISE_Project/data/ds004100/sub-HUP173/ses-presurgery/ieeg/sub-HUP173_ses-presurgery_task-ictal_acq-seeg_run-01_ieeg.edf...\n",
      "EDF file detected\n",
      "Setting channel info structure...\n",
      "Creating raw.info structure...\n",
      "Extracting EDF parameters from /Users/billhuang/Desktop/BU_RISE/BU_RISE_Project/data/ds004100/sub-HUP142/ses-presurgery/ieeg/sub-HUP142_ses-presurgery_task-ictal_acq-seeg_run-03_ieeg.edf...\n",
      "EDF file detected\n",
      "Setting channel info structure...\n",
      "Creating raw.info structure...\n"
     ]
    },
    {
     "name": "stderr",
     "output_type": "stream",
     "text": [
      "100%|██████████| 115/115 [00:02<00:00, 46.4it/s] \n"
     ]
    },
    {
     "name": "stdout",
     "output_type": "stream",
     "text": [
      "Extracting EDF parameters from /Users/billhuang/Desktop/BU_RISE/BU_RISE_Project/data/ds004100/sub-HUP142/ses-presurgery/ieeg/sub-HUP142_ses-presurgery_task-ictal_acq-seeg_run-03_ieeg.edf...\n",
      "EDF file detected\n",
      "Setting channel info structure...\n",
      "Creating raw.info structure...\n",
      "Extracting EDF parameters from /Users/billhuang/Desktop/BU_RISE/BU_RISE_Project/data/ds004100/sub-HUP142/ses-presurgery/ieeg/sub-HUP142_ses-presurgery_task-ictal_acq-seeg_run-02_ieeg.edf...\n",
      "EDF file detected\n",
      "Setting channel info structure...\n",
      "Creating raw.info structure...\n"
     ]
    },
    {
     "name": "stderr",
     "output_type": "stream",
     "text": [
      "100%|██████████| 115/115 [00:02<00:00, 43.7it/s] \n"
     ]
    },
    {
     "name": "stdout",
     "output_type": "stream",
     "text": [
      "Extracting EDF parameters from /Users/billhuang/Desktop/BU_RISE/BU_RISE_Project/data/ds004100/sub-HUP142/ses-presurgery/ieeg/sub-HUP142_ses-presurgery_task-ictal_acq-seeg_run-02_ieeg.edf...\n",
      "EDF file detected\n",
      "Setting channel info structure...\n",
      "Creating raw.info structure...\n",
      "Extracting EDF parameters from /Users/billhuang/Desktop/BU_RISE/BU_RISE_Project/data/ds004100/sub-HUP142/ses-presurgery/ieeg/sub-HUP142_ses-presurgery_task-ictal_acq-seeg_run-01_ieeg.edf...\n",
      "EDF file detected\n",
      "Setting channel info structure...\n",
      "Creating raw.info structure...\n"
     ]
    },
    {
     "name": "stderr",
     "output_type": "stream",
     "text": [
      "100%|██████████| 115/115 [00:02<00:00, 45.5it/s] \n"
     ]
    },
    {
     "name": "stdout",
     "output_type": "stream",
     "text": [
      "Extracting EDF parameters from /Users/billhuang/Desktop/BU_RISE/BU_RISE_Project/data/ds004100/sub-HUP142/ses-presurgery/ieeg/sub-HUP142_ses-presurgery_task-ictal_acq-seeg_run-01_ieeg.edf...\n",
      "EDF file detected\n",
      "Setting channel info structure...\n",
      "Creating raw.info structure...\n",
      "Extracting EDF parameters from /Users/billhuang/Desktop/BU_RISE/BU_RISE_Project/data/ds004100/sub-HUP126/ses-presurgery/ieeg/sub-HUP126_ses-presurgery_task-ictal_acq-ecog_run-01_ieeg.edf...\n",
      "EDF file detected\n",
      "Setting channel info structure...\n",
      "Creating raw.info structure...\n"
     ]
    },
    {
     "name": "stderr",
     "output_type": "stream",
     "text": [
      "100%|██████████| 127/127 [00:03<00:00, 34.4it/s] \n"
     ]
    },
    {
     "name": "stdout",
     "output_type": "stream",
     "text": [
      "Extracting EDF parameters from /Users/billhuang/Desktop/BU_RISE/BU_RISE_Project/data/ds004100/sub-HUP126/ses-presurgery/ieeg/sub-HUP126_ses-presurgery_task-ictal_acq-ecog_run-01_ieeg.edf...\n",
      "EDF file detected\n",
      "Setting channel info structure...\n",
      "Creating raw.info structure...\n",
      "Extracting EDF parameters from /Users/billhuang/Desktop/BU_RISE/BU_RISE_Project/data/ds004100/sub-HUP126/ses-presurgery/ieeg/sub-HUP126_ses-presurgery_task-ictal_acq-ecog_run-02_ieeg.edf...\n",
      "EDF file detected\n",
      "Setting channel info structure...\n",
      "Creating raw.info structure...\n"
     ]
    },
    {
     "name": "stderr",
     "output_type": "stream",
     "text": [
      "100%|██████████| 127/127 [00:03<00:00, 35.0it/s] "
     ]
    },
    {
     "name": "stdout",
     "output_type": "stream",
     "text": [
      "Extracting EDF parameters from /Users/billhuang/Desktop/BU_RISE/BU_RISE_Project/data/ds004100/sub-HUP126/ses-presurgery/ieeg/sub-HUP126_ses-presurgery_task-ictal_acq-ecog_run-02_ieeg.edf...\n",
      "EDF file detected\n",
      "Setting channel info structure...\n",
      "Creating raw.info structure...\n"
     ]
    },
    {
     "name": "stderr",
     "output_type": "stream",
     "text": [
      "\n"
     ]
    },
    {
     "name": "stdout",
     "output_type": "stream",
     "text": [
      "Extracting EDF parameters from /Users/billhuang/Desktop/BU_RISE/BU_RISE_Project/data/ds004100/sub-HUP126/ses-presurgery/ieeg/sub-HUP126_ses-presurgery_task-ictal_acq-ecog_run-03_ieeg.edf...\n",
      "EDF file detected\n",
      "Setting channel info structure...\n",
      "Creating raw.info structure...\n"
     ]
    },
    {
     "name": "stderr",
     "output_type": "stream",
     "text": [
      "100%|██████████| 127/127 [00:03<00:00, 34.3it/s] \n"
     ]
    },
    {
     "name": "stdout",
     "output_type": "stream",
     "text": [
      "Extracting EDF parameters from /Users/billhuang/Desktop/BU_RISE/BU_RISE_Project/data/ds004100/sub-HUP126/ses-presurgery/ieeg/sub-HUP126_ses-presurgery_task-ictal_acq-ecog_run-03_ieeg.edf...\n",
      "EDF file detected\n",
      "Setting channel info structure...\n",
      "Creating raw.info structure...\n",
      "Extracting EDF parameters from /Users/billhuang/Desktop/BU_RISE/BU_RISE_Project/data/ds004100/sub-HUP126/ses-presurgery/ieeg/sub-HUP126_ses-presurgery_task-ictal_acq-ecog_run-04_ieeg.edf...\n",
      "EDF file detected\n",
      "Setting channel info structure...\n",
      "Creating raw.info structure...\n"
     ]
    },
    {
     "name": "stderr",
     "output_type": "stream",
     "text": [
      "100%|██████████| 127/127 [00:03<00:00, 33.6it/s] "
     ]
    },
    {
     "name": "stdout",
     "output_type": "stream",
     "text": [
      "Extracting EDF parameters from /Users/billhuang/Desktop/BU_RISE/BU_RISE_Project/data/ds004100/sub-HUP126/ses-presurgery/ieeg/sub-HUP126_ses-presurgery_task-ictal_acq-ecog_run-04_ieeg.edf...\n",
      "EDF file detected\n",
      "Setting channel info structure...\n",
      "Creating raw.info structure...\n",
      "Extracting EDF parameters from /Users/billhuang/Desktop/BU_RISE/BU_RISE_Project/data/ds004100/sub-HUP117/ses-presurgery/ieeg/sub-HUP117_ses-presurgery_task-ictal_acq-seeg_run-02_ieeg.edf...\n",
      "EDF file detected\n",
      "Setting channel info structure...\n",
      "Creating raw.info structure...\n"
     ]
    },
    {
     "name": "stderr",
     "output_type": "stream",
     "text": [
      "\n",
      "100%|██████████| 70.0/70.0 [00:01<00:00, 38.9it/s]\n"
     ]
    },
    {
     "name": "stdout",
     "output_type": "stream",
     "text": [
      "Extracting EDF parameters from /Users/billhuang/Desktop/BU_RISE/BU_RISE_Project/data/ds004100/sub-HUP117/ses-presurgery/ieeg/sub-HUP117_ses-presurgery_task-ictal_acq-seeg_run-02_ieeg.edf...\n",
      "EDF file detected\n",
      "Setting channel info structure...\n",
      "Creating raw.info structure...\n",
      "Extracting EDF parameters from /Users/billhuang/Desktop/BU_RISE/BU_RISE_Project/data/ds004100/sub-HUP117/ses-presurgery/ieeg/sub-HUP117_ses-presurgery_task-ictal_acq-seeg_run-03_ieeg.edf...\n",
      "EDF file detected\n",
      "Setting channel info structure...\n",
      "Creating raw.info structure...\n"
     ]
    },
    {
     "name": "stderr",
     "output_type": "stream",
     "text": [
      "100%|██████████| 70.0/70.0 [00:01<00:00, 42.4it/s]\n"
     ]
    },
    {
     "name": "stdout",
     "output_type": "stream",
     "text": [
      "Extracting EDF parameters from /Users/billhuang/Desktop/BU_RISE/BU_RISE_Project/data/ds004100/sub-HUP117/ses-presurgery/ieeg/sub-HUP117_ses-presurgery_task-ictal_acq-seeg_run-03_ieeg.edf...\n",
      "EDF file detected\n",
      "Setting channel info structure...\n",
      "Creating raw.info structure...\n",
      "Extracting EDF parameters from /Users/billhuang/Desktop/BU_RISE/BU_RISE_Project/data/ds004100/sub-HUP117/ses-presurgery/ieeg/sub-HUP117_ses-presurgery_task-ictal_acq-seeg_run-01_ieeg.edf...\n",
      "EDF file detected\n",
      "Setting channel info structure...\n",
      "Creating raw.info structure...\n"
     ]
    },
    {
     "name": "stderr",
     "output_type": "stream",
     "text": [
      "100%|██████████| 70.0/70.0 [00:02<00:00, 33.7it/s]\n"
     ]
    },
    {
     "name": "stdout",
     "output_type": "stream",
     "text": [
      "Extracting EDF parameters from /Users/billhuang/Desktop/BU_RISE/BU_RISE_Project/data/ds004100/sub-HUP117/ses-presurgery/ieeg/sub-HUP117_ses-presurgery_task-ictal_acq-seeg_run-01_ieeg.edf...\n",
      "EDF file detected\n",
      "Setting channel info structure...\n",
      "Creating raw.info structure...\n",
      "Extracting EDF parameters from /Users/billhuang/Desktop/BU_RISE/BU_RISE_Project/data/ds004100/sub-HUP188/ses-presurgery/ieeg/sub-HUP188_ses-presurgery_task-ictal_acq-seeg_run-02_ieeg.edf...\n",
      "EDF file detected\n",
      "Setting channel info structure...\n",
      "Creating raw.info structure...\n"
     ]
    },
    {
     "name": "stderr",
     "output_type": "stream",
     "text": [
      "100%|██████████| 173/173 [00:02<00:00, 65.5it/s] \n"
     ]
    },
    {
     "name": "stdout",
     "output_type": "stream",
     "text": [
      "Extracting EDF parameters from /Users/billhuang/Desktop/BU_RISE/BU_RISE_Project/data/ds004100/sub-HUP188/ses-presurgery/ieeg/sub-HUP188_ses-presurgery_task-ictal_acq-seeg_run-02_ieeg.edf...\n",
      "EDF file detected\n",
      "Setting channel info structure...\n",
      "Creating raw.info structure...\n",
      "Extracting EDF parameters from /Users/billhuang/Desktop/BU_RISE/BU_RISE_Project/data/ds004100/sub-HUP188/ses-presurgery/ieeg/sub-HUP188_ses-presurgery_task-ictal_acq-seeg_run-03_ieeg.edf...\n",
      "EDF file detected\n",
      "Setting channel info structure...\n",
      "Creating raw.info structure...\n"
     ]
    },
    {
     "name": "stderr",
     "output_type": "stream",
     "text": [
      "100%|██████████| 173/173 [00:02<00:00, 65.1it/s] \n"
     ]
    },
    {
     "name": "stdout",
     "output_type": "stream",
     "text": [
      "Extracting EDF parameters from /Users/billhuang/Desktop/BU_RISE/BU_RISE_Project/data/ds004100/sub-HUP188/ses-presurgery/ieeg/sub-HUP188_ses-presurgery_task-ictal_acq-seeg_run-03_ieeg.edf...\n",
      "EDF file detected\n",
      "Setting channel info structure...\n",
      "Creating raw.info structure...\n",
      "Extracting EDF parameters from /Users/billhuang/Desktop/BU_RISE/BU_RISE_Project/data/ds004100/sub-HUP188/ses-presurgery/ieeg/sub-HUP188_ses-presurgery_task-ictal_acq-seeg_run-05_ieeg.edf...\n",
      "EDF file detected\n",
      "Setting channel info structure...\n",
      "Creating raw.info structure...\n"
     ]
    },
    {
     "name": "stderr",
     "output_type": "stream",
     "text": [
      "100%|██████████| 173/173 [00:02<00:00, 60.9it/s] \n"
     ]
    },
    {
     "name": "stdout",
     "output_type": "stream",
     "text": [
      "Extracting EDF parameters from /Users/billhuang/Desktop/BU_RISE/BU_RISE_Project/data/ds004100/sub-HUP188/ses-presurgery/ieeg/sub-HUP188_ses-presurgery_task-ictal_acq-seeg_run-05_ieeg.edf...\n",
      "EDF file detected\n",
      "Setting channel info structure...\n",
      "Creating raw.info structure...\n",
      "Extracting EDF parameters from /Users/billhuang/Desktop/BU_RISE/BU_RISE_Project/data/ds004100/sub-HUP188/ses-presurgery/ieeg/sub-HUP188_ses-presurgery_task-ictal_acq-seeg_run-04_ieeg.edf...\n",
      "EDF file detected\n",
      "Setting channel info structure...\n",
      "Creating raw.info structure...\n"
     ]
    },
    {
     "name": "stderr",
     "output_type": "stream",
     "text": [
      "100%|██████████| 173/173 [00:02<00:00, 63.1it/s] \n"
     ]
    },
    {
     "name": "stdout",
     "output_type": "stream",
     "text": [
      "Extracting EDF parameters from /Users/billhuang/Desktop/BU_RISE/BU_RISE_Project/data/ds004100/sub-HUP188/ses-presurgery/ieeg/sub-HUP188_ses-presurgery_task-ictal_acq-seeg_run-04_ieeg.edf...\n",
      "EDF file detected\n",
      "Setting channel info structure...\n",
      "Creating raw.info structure...\n",
      "Extracting EDF parameters from /Users/billhuang/Desktop/BU_RISE/BU_RISE_Project/data/ds004100/sub-HUP188/ses-presurgery/ieeg/sub-HUP188_ses-presurgery_task-ictal_acq-seeg_run-01_ieeg.edf...\n",
      "EDF file detected\n",
      "Setting channel info structure...\n",
      "Creating raw.info structure...\n"
     ]
    },
    {
     "name": "stderr",
     "output_type": "stream",
     "text": [
      "100%|██████████| 173/173 [00:02<00:00, 63.9it/s] \n"
     ]
    },
    {
     "name": "stdout",
     "output_type": "stream",
     "text": [
      "Extracting EDF parameters from /Users/billhuang/Desktop/BU_RISE/BU_RISE_Project/data/ds004100/sub-HUP188/ses-presurgery/ieeg/sub-HUP188_ses-presurgery_task-ictal_acq-seeg_run-01_ieeg.edf...\n",
      "EDF file detected\n",
      "Setting channel info structure...\n",
      "Creating raw.info structure...\n",
      "Extracting EDF parameters from /Users/billhuang/Desktop/BU_RISE/BU_RISE_Project/data/ds004100/sub-HUP144/ses-presurgery/ieeg/sub-HUP144_ses-presurgery_task-ictal_acq-seeg_run-01_ieeg.edf...\n",
      "EDF file detected\n",
      "Setting channel info structure...\n",
      "Creating raw.info structure...\n"
     ]
    },
    {
     "name": "stderr",
     "output_type": "stream",
     "text": [
      "100%|██████████| 121/121 [00:02<00:00, 44.4it/s] \n"
     ]
    },
    {
     "name": "stdout",
     "output_type": "stream",
     "text": [
      "Extracting EDF parameters from /Users/billhuang/Desktop/BU_RISE/BU_RISE_Project/data/ds004100/sub-HUP144/ses-presurgery/ieeg/sub-HUP144_ses-presurgery_task-ictal_acq-seeg_run-01_ieeg.edf...\n",
      "EDF file detected\n",
      "Setting channel info structure...\n",
      "Creating raw.info structure...\n",
      "Extracting EDF parameters from /Users/billhuang/Desktop/BU_RISE/BU_RISE_Project/data/ds004100/sub-HUP144/ses-presurgery/ieeg/sub-HUP144_ses-presurgery_task-ictal_acq-seeg_run-04_ieeg.edf...\n",
      "EDF file detected\n",
      "Setting channel info structure...\n",
      "Creating raw.info structure...\n"
     ]
    },
    {
     "name": "stderr",
     "output_type": "stream",
     "text": [
      "100%|██████████| 121/121 [00:02<00:00, 46.7it/s] \n"
     ]
    },
    {
     "name": "stdout",
     "output_type": "stream",
     "text": [
      "Extracting EDF parameters from /Users/billhuang/Desktop/BU_RISE/BU_RISE_Project/data/ds004100/sub-HUP144/ses-presurgery/ieeg/sub-HUP144_ses-presurgery_task-ictal_acq-seeg_run-04_ieeg.edf...\n",
      "EDF file detected\n",
      "Setting channel info structure...\n",
      "Creating raw.info structure...\n",
      "Extracting EDF parameters from /Users/billhuang/Desktop/BU_RISE/BU_RISE_Project/data/ds004100/sub-HUP144/ses-presurgery/ieeg/sub-HUP144_ses-presurgery_task-ictal_acq-seeg_run-05_ieeg.edf...\n",
      "EDF file detected\n",
      "Setting channel info structure...\n",
      "Creating raw.info structure...\n"
     ]
    },
    {
     "name": "stderr",
     "output_type": "stream",
     "text": [
      "100%|██████████| 121/121 [00:02<00:00, 47.8it/s] \n"
     ]
    },
    {
     "name": "stdout",
     "output_type": "stream",
     "text": [
      "Extracting EDF parameters from /Users/billhuang/Desktop/BU_RISE/BU_RISE_Project/data/ds004100/sub-HUP144/ses-presurgery/ieeg/sub-HUP144_ses-presurgery_task-ictal_acq-seeg_run-05_ieeg.edf...\n",
      "EDF file detected\n",
      "Setting channel info structure...\n",
      "Creating raw.info structure...\n",
      "Extracting EDF parameters from /Users/billhuang/Desktop/BU_RISE/BU_RISE_Project/data/ds004100/sub-HUP144/ses-presurgery/ieeg/sub-HUP144_ses-presurgery_task-ictal_acq-seeg_run-03_ieeg.edf...\n",
      "EDF file detected\n",
      "Setting channel info structure...\n",
      "Creating raw.info structure...\n"
     ]
    },
    {
     "name": "stderr",
     "output_type": "stream",
     "text": [
      "100%|██████████| 121/121 [00:02<00:00, 47.3it/s] \n"
     ]
    },
    {
     "name": "stdout",
     "output_type": "stream",
     "text": [
      "Extracting EDF parameters from /Users/billhuang/Desktop/BU_RISE/BU_RISE_Project/data/ds004100/sub-HUP144/ses-presurgery/ieeg/sub-HUP144_ses-presurgery_task-ictal_acq-seeg_run-03_ieeg.edf...\n",
      "EDF file detected\n",
      "Setting channel info structure...\n",
      "Creating raw.info structure...\n",
      "Extracting EDF parameters from /Users/billhuang/Desktop/BU_RISE/BU_RISE_Project/data/ds004100/sub-HUP144/ses-presurgery/ieeg/sub-HUP144_ses-presurgery_task-ictal_acq-seeg_run-02_ieeg.edf...\n",
      "EDF file detected\n",
      "Setting channel info structure...\n",
      "Creating raw.info structure...\n"
     ]
    },
    {
     "name": "stderr",
     "output_type": "stream",
     "text": [
      "100%|██████████| 121/121 [00:02<00:00, 46.4it/s] \n"
     ]
    },
    {
     "name": "stdout",
     "output_type": "stream",
     "text": [
      "Extracting EDF parameters from /Users/billhuang/Desktop/BU_RISE/BU_RISE_Project/data/ds004100/sub-HUP144/ses-presurgery/ieeg/sub-HUP144_ses-presurgery_task-ictal_acq-seeg_run-02_ieeg.edf...\n",
      "EDF file detected\n",
      "Setting channel info structure...\n",
      "Creating raw.info structure...\n",
      "Extracting EDF parameters from /Users/billhuang/Desktop/BU_RISE/BU_RISE_Project/data/ds004100/sub-HUP172/ses-presurgery/ieeg/sub-HUP172_ses-presurgery_task-ictal_acq-seeg_run-01_ieeg.edf...\n",
      "EDF file detected\n",
      "Setting channel info structure...\n",
      "Creating raw.info structure...\n"
     ]
    },
    {
     "name": "stderr",
     "output_type": "stream",
     "text": [
      "100%|██████████| 135/135 [00:02<00:00, 52.5it/s] \n"
     ]
    },
    {
     "name": "stdout",
     "output_type": "stream",
     "text": [
      "Extracting EDF parameters from /Users/billhuang/Desktop/BU_RISE/BU_RISE_Project/data/ds004100/sub-HUP172/ses-presurgery/ieeg/sub-HUP172_ses-presurgery_task-ictal_acq-seeg_run-01_ieeg.edf...\n",
      "EDF file detected\n",
      "Setting channel info structure...\n",
      "Creating raw.info structure...\n",
      "Extracting EDF parameters from /Users/billhuang/Desktop/BU_RISE/BU_RISE_Project/data/ds004100/sub-HUP172/ses-presurgery/ieeg/sub-HUP172_ses-presurgery_task-ictal_acq-seeg_run-03_ieeg.edf...\n",
      "EDF file detected\n",
      "Setting channel info structure...\n",
      "Creating raw.info structure...\n"
     ]
    },
    {
     "name": "stderr",
     "output_type": "stream",
     "text": [
      "100%|██████████| 135/135 [00:02<00:00, 52.5it/s] \n"
     ]
    },
    {
     "name": "stdout",
     "output_type": "stream",
     "text": [
      "Extracting EDF parameters from /Users/billhuang/Desktop/BU_RISE/BU_RISE_Project/data/ds004100/sub-HUP172/ses-presurgery/ieeg/sub-HUP172_ses-presurgery_task-ictal_acq-seeg_run-03_ieeg.edf...\n",
      "EDF file detected\n",
      "Setting channel info structure...\n",
      "Creating raw.info structure...\n",
      "Extracting EDF parameters from /Users/billhuang/Desktop/BU_RISE/BU_RISE_Project/data/ds004100/sub-HUP172/ses-presurgery/ieeg/sub-HUP172_ses-presurgery_task-ictal_acq-seeg_run-02_ieeg.edf...\n",
      "EDF file detected\n",
      "Setting channel info structure...\n",
      "Creating raw.info structure...\n"
     ]
    },
    {
     "name": "stderr",
     "output_type": "stream",
     "text": [
      "100%|██████████| 135/135 [00:02<00:00, 50.3it/s] \n"
     ]
    },
    {
     "name": "stdout",
     "output_type": "stream",
     "text": [
      "Extracting EDF parameters from /Users/billhuang/Desktop/BU_RISE/BU_RISE_Project/data/ds004100/sub-HUP172/ses-presurgery/ieeg/sub-HUP172_ses-presurgery_task-ictal_acq-seeg_run-02_ieeg.edf...\n",
      "EDF file detected\n",
      "Setting channel info structure...\n",
      "Creating raw.info structure...\n",
      "Extracting EDF parameters from /Users/billhuang/Desktop/BU_RISE/BU_RISE_Project/data/ds004100/sub-HUP172/ses-presurgery/ieeg/sub-HUP172_ses-presurgery_task-ictal_acq-seeg_run-04_ieeg.edf...\n",
      "EDF file detected\n",
      "Setting channel info structure...\n",
      "Creating raw.info structure...\n"
     ]
    },
    {
     "name": "stderr",
     "output_type": "stream",
     "text": [
      "100%|██████████| 135/135 [00:02<00:00, 51.9it/s] \n"
     ]
    },
    {
     "name": "stdout",
     "output_type": "stream",
     "text": [
      "Extracting EDF parameters from /Users/billhuang/Desktop/BU_RISE/BU_RISE_Project/data/ds004100/sub-HUP172/ses-presurgery/ieeg/sub-HUP172_ses-presurgery_task-ictal_acq-seeg_run-04_ieeg.edf...\n",
      "EDF file detected\n",
      "Setting channel info structure...\n",
      "Creating raw.info structure...\n",
      "Extracting EDF parameters from /Users/billhuang/Desktop/BU_RISE/BU_RISE_Project/data/ds004100/sub-HUP172/ses-presurgery/ieeg/sub-HUP172_ses-presurgery_task-ictal_acq-seeg_run-05_ieeg.edf...\n",
      "EDF file detected\n",
      "Setting channel info structure...\n",
      "Creating raw.info structure...\n"
     ]
    },
    {
     "name": "stderr",
     "output_type": "stream",
     "text": [
      "100%|██████████| 135/135 [00:02<00:00, 52.7it/s] \n"
     ]
    },
    {
     "name": "stdout",
     "output_type": "stream",
     "text": [
      "Extracting EDF parameters from /Users/billhuang/Desktop/BU_RISE/BU_RISE_Project/data/ds004100/sub-HUP172/ses-presurgery/ieeg/sub-HUP172_ses-presurgery_task-ictal_acq-seeg_run-05_ieeg.edf...\n",
      "EDF file detected\n",
      "Setting channel info structure...\n",
      "Creating raw.info structure...\n",
      "Extracting EDF parameters from /Users/billhuang/Desktop/BU_RISE/BU_RISE_Project/data/ds004100/sub-HUP181/ses-presurgery/ieeg/sub-HUP181_ses-presurgery_task-ictal_acq-seeg_run-02_ieeg.edf...\n",
      "EDF file detected\n",
      "Setting channel info structure...\n",
      "Creating raw.info structure...\n"
     ]
    },
    {
     "name": "stderr",
     "output_type": "stream",
     "text": [
      "100%|██████████| 148/148 [00:03<00:00, 40.9it/s] \n"
     ]
    },
    {
     "name": "stdout",
     "output_type": "stream",
     "text": [
      "Extracting EDF parameters from /Users/billhuang/Desktop/BU_RISE/BU_RISE_Project/data/ds004100/sub-HUP181/ses-presurgery/ieeg/sub-HUP181_ses-presurgery_task-ictal_acq-seeg_run-02_ieeg.edf...\n",
      "EDF file detected\n",
      "Setting channel info structure...\n",
      "Creating raw.info structure...\n",
      "Extracting EDF parameters from /Users/billhuang/Desktop/BU_RISE/BU_RISE_Project/data/ds004100/sub-HUP181/ses-presurgery/ieeg/sub-HUP181_ses-presurgery_task-ictal_acq-seeg_run-03_ieeg.edf...\n",
      "EDF file detected\n",
      "Setting channel info structure...\n",
      "Creating raw.info structure...\n"
     ]
    },
    {
     "name": "stderr",
     "output_type": "stream",
     "text": [
      "100%|██████████| 148/148 [00:04<00:00, 35.4it/s] \n"
     ]
    },
    {
     "name": "stdout",
     "output_type": "stream",
     "text": [
      "Extracting EDF parameters from /Users/billhuang/Desktop/BU_RISE/BU_RISE_Project/data/ds004100/sub-HUP181/ses-presurgery/ieeg/sub-HUP181_ses-presurgery_task-ictal_acq-seeg_run-03_ieeg.edf...\n",
      "EDF file detected\n",
      "Setting channel info structure...\n",
      "Creating raw.info structure...\n",
      "Extracting EDF parameters from /Users/billhuang/Desktop/BU_RISE/BU_RISE_Project/data/ds004100/sub-HUP181/ses-presurgery/ieeg/sub-HUP181_ses-presurgery_task-ictal_acq-seeg_run-05_ieeg.edf...\n",
      "EDF file detected\n",
      "Setting channel info structure...\n",
      "Creating raw.info structure...\n"
     ]
    },
    {
     "name": "stderr",
     "output_type": "stream",
     "text": [
      "100%|██████████| 148/148 [00:03<00:00, 38.5it/s] \n"
     ]
    },
    {
     "name": "stdout",
     "output_type": "stream",
     "text": [
      "Extracting EDF parameters from /Users/billhuang/Desktop/BU_RISE/BU_RISE_Project/data/ds004100/sub-HUP181/ses-presurgery/ieeg/sub-HUP181_ses-presurgery_task-ictal_acq-seeg_run-05_ieeg.edf...\n",
      "EDF file detected\n",
      "Setting channel info structure...\n",
      "Creating raw.info structure...\n",
      "Extracting EDF parameters from /Users/billhuang/Desktop/BU_RISE/BU_RISE_Project/data/ds004100/sub-HUP181/ses-presurgery/ieeg/sub-HUP181_ses-presurgery_task-ictal_acq-seeg_run-04_ieeg.edf...\n",
      "EDF file detected\n",
      "Setting channel info structure...\n",
      "Creating raw.info structure...\n"
     ]
    },
    {
     "name": "stderr",
     "output_type": "stream",
     "text": [
      "100%|██████████| 148/148 [00:04<00:00, 35.2it/s] \n"
     ]
    },
    {
     "name": "stdout",
     "output_type": "stream",
     "text": [
      "Extracting EDF parameters from /Users/billhuang/Desktop/BU_RISE/BU_RISE_Project/data/ds004100/sub-HUP181/ses-presurgery/ieeg/sub-HUP181_ses-presurgery_task-ictal_acq-seeg_run-04_ieeg.edf...\n",
      "EDF file detected\n",
      "Setting channel info structure...\n",
      "Creating raw.info structure...\n",
      "Extracting EDF parameters from /Users/billhuang/Desktop/BU_RISE/BU_RISE_Project/data/ds004100/sub-HUP181/ses-presurgery/ieeg/sub-HUP181_ses-presurgery_task-ictal_acq-seeg_run-01_ieeg.edf...\n",
      "EDF file detected\n",
      "Setting channel info structure...\n",
      "Creating raw.info structure...\n"
     ]
    },
    {
     "name": "stderr",
     "output_type": "stream",
     "text": [
      "100%|██████████| 148/148 [00:02<00:00, 58.7it/s] \n"
     ]
    },
    {
     "name": "stdout",
     "output_type": "stream",
     "text": [
      "Extracting EDF parameters from /Users/billhuang/Desktop/BU_RISE/BU_RISE_Project/data/ds004100/sub-HUP181/ses-presurgery/ieeg/sub-HUP181_ses-presurgery_task-ictal_acq-seeg_run-01_ieeg.edf...\n",
      "EDF file detected\n",
      "Setting channel info structure...\n",
      "Creating raw.info structure...\n",
      "Extracting EDF parameters from /Users/billhuang/Desktop/BU_RISE/BU_RISE_Project/data/ds004100/sub-HUP065/ses-presurgery/ieeg/sub-HUP065_ses-presurgery_task-ictal_acq-ecog_run-01_ieeg.edf...\n",
      "EDF file detected\n",
      "Setting channel info structure...\n",
      "Creating raw.info structure...\n"
     ]
    },
    {
     "name": "stderr",
     "output_type": "stream",
     "text": [
      "100%|██████████| 81.0/81.0 [00:01<00:00, 41.9it/s]\n"
     ]
    },
    {
     "name": "stdout",
     "output_type": "stream",
     "text": [
      "Extracting EDF parameters from /Users/billhuang/Desktop/BU_RISE/BU_RISE_Project/data/ds004100/sub-HUP065/ses-presurgery/ieeg/sub-HUP065_ses-presurgery_task-ictal_acq-ecog_run-01_ieeg.edf...\n",
      "EDF file detected\n",
      "Setting channel info structure...\n",
      "Creating raw.info structure...\n",
      "Extracting EDF parameters from /Users/billhuang/Desktop/BU_RISE/BU_RISE_Project/data/ds004100/sub-HUP065/ses-presurgery/ieeg/sub-HUP065_ses-presurgery_task-ictal_acq-ecog_run-03_ieeg.edf...\n",
      "EDF file detected\n",
      "Setting channel info structure...\n",
      "Creating raw.info structure...\n"
     ]
    },
    {
     "name": "stderr",
     "output_type": "stream",
     "text": [
      "100%|██████████| 81.0/81.0 [00:02<00:00, 39.2it/s]\n"
     ]
    },
    {
     "name": "stdout",
     "output_type": "stream",
     "text": [
      "Extracting EDF parameters from /Users/billhuang/Desktop/BU_RISE/BU_RISE_Project/data/ds004100/sub-HUP065/ses-presurgery/ieeg/sub-HUP065_ses-presurgery_task-ictal_acq-ecog_run-03_ieeg.edf...\n",
      "EDF file detected\n",
      "Setting channel info structure...\n",
      "Creating raw.info structure...\n",
      "Extracting EDF parameters from /Users/billhuang/Desktop/BU_RISE/BU_RISE_Project/data/ds004100/sub-HUP065/ses-presurgery/ieeg/sub-HUP065_ses-presurgery_task-ictal_acq-ecog_run-02_ieeg.edf...\n",
      "EDF file detected\n",
      "Setting channel info structure...\n",
      "Creating raw.info structure...\n"
     ]
    },
    {
     "name": "stderr",
     "output_type": "stream",
     "text": [
      "100%|██████████| 81.0/81.0 [00:02<00:00, 39.9it/s]\n"
     ]
    },
    {
     "name": "stdout",
     "output_type": "stream",
     "text": [
      "Extracting EDF parameters from /Users/billhuang/Desktop/BU_RISE/BU_RISE_Project/data/ds004100/sub-HUP065/ses-presurgery/ieeg/sub-HUP065_ses-presurgery_task-ictal_acq-ecog_run-02_ieeg.edf...\n",
      "EDF file detected\n",
      "Setting channel info structure...\n",
      "Creating raw.info structure...\n",
      "Extracting EDF parameters from /Users/billhuang/Desktop/BU_RISE/BU_RISE_Project/data/ds004100/sub-HUP097/ses-presurgery/ieeg/sub-HUP097_ses-presurgery_task-ictal_acq-ecog_run-01_ieeg.edf...\n",
      "EDF file detected\n",
      "Setting channel info structure...\n",
      "Creating raw.info structure...\n"
     ]
    },
    {
     "name": "stderr",
     "output_type": "stream",
     "text": [
      "100%|██████████| 101/101 [00:03<00:00, 26.1it/s] \n"
     ]
    },
    {
     "name": "stdout",
     "output_type": "stream",
     "text": [
      "Extracting EDF parameters from /Users/billhuang/Desktop/BU_RISE/BU_RISE_Project/data/ds004100/sub-HUP097/ses-presurgery/ieeg/sub-HUP097_ses-presurgery_task-ictal_acq-ecog_run-01_ieeg.edf...\n",
      "EDF file detected\n",
      "Setting channel info structure...\n",
      "Creating raw.info structure...\n",
      "Extracting EDF parameters from /Users/billhuang/Desktop/BU_RISE/BU_RISE_Project/data/ds004100/sub-HUP097/ses-presurgery/ieeg/sub-HUP097_ses-presurgery_task-ictal_acq-ecog_run-04_ieeg.edf...\n",
      "EDF file detected\n",
      "Setting channel info structure...\n",
      "Creating raw.info structure...\n"
     ]
    },
    {
     "name": "stderr",
     "output_type": "stream",
     "text": [
      "100%|██████████| 101/101 [25:29<00:00, 15.1s/it] \n"
     ]
    },
    {
     "name": "stdout",
     "output_type": "stream",
     "text": [
      "Extracting EDF parameters from /Users/billhuang/Desktop/BU_RISE/BU_RISE_Project/data/ds004100/sub-HUP097/ses-presurgery/ieeg/sub-HUP097_ses-presurgery_task-ictal_acq-ecog_run-04_ieeg.edf...\n",
      "EDF file detected\n",
      "Setting channel info structure...\n",
      "Creating raw.info structure...\n",
      "Extracting EDF parameters from /Users/billhuang/Desktop/BU_RISE/BU_RISE_Project/data/ds004100/sub-HUP097/ses-presurgery/ieeg/sub-HUP097_ses-presurgery_task-ictal_acq-ecog_run-05_ieeg.edf...\n",
      "EDF file detected\n",
      "Setting channel info structure...\n",
      "Creating raw.info structure...\n"
     ]
    },
    {
     "name": "stderr",
     "output_type": "stream",
     "text": [
      "100%|██████████| 101/101 [00:04<00:00, 23.7it/s] "
     ]
    },
    {
     "name": "stdout",
     "output_type": "stream",
     "text": [
      "Extracting EDF parameters from /Users/billhuang/Desktop/BU_RISE/BU_RISE_Project/data/ds004100/sub-HUP097/ses-presurgery/ieeg/sub-HUP097_ses-presurgery_task-ictal_acq-ecog_run-05_ieeg.edf...\n",
      "EDF file detected\n",
      "Setting channel info structure...\n",
      "Creating raw.info structure...\n",
      "Extracting EDF parameters from /Users/billhuang/Desktop/BU_RISE/BU_RISE_Project/data/ds004100/sub-HUP097/ses-presurgery/ieeg/sub-HUP097_ses-presurgery_task-ictal_acq-ecog_run-03_ieeg.edf...\n",
      "EDF file detected\n",
      "Setting channel info structure...\n",
      "Creating raw.info structure...\n"
     ]
    },
    {
     "name": "stderr",
     "output_type": "stream",
     "text": [
      "\n",
      "100%|██████████| 101/101 [00:04<00:00, 24.4it/s] "
     ]
    },
    {
     "name": "stdout",
     "output_type": "stream",
     "text": [
      "Extracting EDF parameters from /Users/billhuang/Desktop/BU_RISE/BU_RISE_Project/data/ds004100/sub-HUP097/ses-presurgery/ieeg/sub-HUP097_ses-presurgery_task-ictal_acq-ecog_run-03_ieeg.edf...\n",
      "EDF file detected\n",
      "Setting channel info structure...\n",
      "Creating raw.info structure...\n",
      "Extracting EDF parameters from /Users/billhuang/Desktop/BU_RISE/BU_RISE_Project/data/ds004100/sub-HUP097/ses-presurgery/ieeg/sub-HUP097_ses-presurgery_task-ictal_acq-ecog_run-02_ieeg.edf...\n",
      "EDF file detected\n",
      "Setting channel info structure...\n",
      "Creating raw.info structure...\n"
     ]
    },
    {
     "name": "stderr",
     "output_type": "stream",
     "text": [
      "\n",
      "100%|██████████| 101/101 [00:04<00:00, 23.1it/s] "
     ]
    },
    {
     "name": "stdout",
     "output_type": "stream",
     "text": [
      "Extracting EDF parameters from /Users/billhuang/Desktop/BU_RISE/BU_RISE_Project/data/ds004100/sub-HUP097/ses-presurgery/ieeg/sub-HUP097_ses-presurgery_task-ictal_acq-ecog_run-02_ieeg.edf...\n",
      "EDF file detected\n",
      "Setting channel info structure...\n",
      "Creating raw.info structure...\n",
      "Extracting EDF parameters from /Users/billhuang/Desktop/BU_RISE/BU_RISE_Project/data/ds004100/sub-HUP064/ses-presurgery/ieeg/sub-HUP064_ses-presurgery_task-ictal_acq-ecog_run-01_ieeg.edf...\n",
      "EDF file detected\n",
      "Setting channel info structure...\n",
      "Creating raw.info structure...\n"
     ]
    },
    {
     "name": "stderr",
     "output_type": "stream",
     "text": [
      "\n",
      "100%|██████████| 93.0/93.0 [00:02<00:00, 41.8it/s]\n"
     ]
    },
    {
     "name": "stdout",
     "output_type": "stream",
     "text": [
      "Extracting EDF parameters from /Users/billhuang/Desktop/BU_RISE/BU_RISE_Project/data/ds004100/sub-HUP064/ses-presurgery/ieeg/sub-HUP064_ses-presurgery_task-ictal_acq-ecog_run-01_ieeg.edf...\n",
      "EDF file detected\n",
      "Setting channel info structure...\n",
      "Creating raw.info structure...\n"
     ]
    }
   ],
   "source": [
    "for edf_path in data_root.rglob(\"*_task-ictal_*_ieeg.edf\"):\n",
    "    # skip any placeholder/pointer files\n",
    "    if not edf_path.is_file():\n",
    "        print(f\"Missing on disk, skipping: {edf_path}\")\n",
    "        continue\n",
    "\n",
    "    # 3) Load the channels.tsv to find which channels are GOOD\n",
    "    ch_path = edf_path.with_name(edf_path.name.replace(\"_ieeg.edf\", \"_channels.tsv\"))\n",
    "    ch_df   = pd.read_csv(ch_path, sep=\"\\t\")\n",
    "    good_chs = ch_df.loc[ch_df.status != \"bad\", \"name\"].tolist()\n",
    "\n",
    "    # 4) Run the detector directly on the EDF\n",
    "    chns, se = detector.detect_edf(str(edf_path))\n",
    "\n",
    "    # 5) Flatten into a list of event‐dicts (handles zero events gracefully)\n",
    "    records = [\n",
    "        {\n",
    "            \"channel\": ch_name,\n",
    "            \"start_s\": start_idx / detector.sample_freq,\n",
    "            \"end_s\":   end_idx   / detector.sample_freq\n",
    "        }\n",
    "        for ch_name, chan_events in zip(chns, se)\n",
    "        for start_idx, end_idx in chan_events\n",
    "    ]\n",
    "    hfo_df = pd.DataFrame.from_records(records, columns=[\"channel\",\"start_s\",\"end_s\"])\n",
    "\n",
    "    # 6) Drop any HFOs on “bad” channels\n",
    "    hfo_df = hfo_df[hfo_df.channel.isin(good_chs)]\n",
    "\n",
    "    # 7) Summarize count & rate\n",
    "    n_hfos = len(hfo_df)\n",
    "    raw    = mne.io.read_raw_edf(str(edf_path), preload=False)\n",
    "    duration_s = raw.n_times / raw.info[\"sfreq\"]\n",
    "    hfo_rate   = n_hfos / duration_s if duration_s > 0 else np.nan\n",
    "\n",
    "    # 8) Extract subject/run IDs\n",
    "    subj = edf_path.parents[2].name   # == \"sub-HUP060\"               # e.g. \"sub-HUP060\"\n",
    "    run  = edf_path.stem.split(\"_\")[-2]        # e.g. \"run-01\"\n",
    "\n",
    "    results.append({\n",
    "        \"subject\":    subj,\n",
    "        \"run\":        run,\n",
    "        \"n_hfos\":     n_hfos,\n",
    "        \"duration_s\": duration_s,\n",
    "        \"hfo_rate\":   hfo_rate\n",
    "    })"
   ]
  },
  {
   "cell_type": "code",
   "execution_count": 1,
   "id": "5a8500b4",
   "metadata": {},
   "outputs": [
    {
     "ename": "NameError",
     "evalue": "name 'pd' is not defined",
     "output_type": "error",
     "traceback": [
      "\u001b[31m---------------------------------------------------------------------------\u001b[39m",
      "\u001b[31mNameError\u001b[39m                                 Traceback (most recent call last)",
      "\u001b[36mCell\u001b[39m\u001b[36m \u001b[39m\u001b[32mIn[1]\u001b[39m\u001b[32m, line 2\u001b[39m\n\u001b[32m      1\u001b[39m \u001b[38;5;66;03m# 4) assemble everything into a single DataFrame\u001b[39;00m\n\u001b[32m----> \u001b[39m\u001b[32m2\u001b[39m all_runs = pd.DataFrame(results)\n\u001b[32m      3\u001b[39m all_runs.head()\n",
      "\u001b[31mNameError\u001b[39m: name 'pd' is not defined"
     ]
    }
   ],
   "source": [
    "# 4) assemble everything into a single DataFrame\n",
    "all_runs = pd.DataFrame(results)\n",
    "all_runs.head()"
   ]
  },
  {
   "cell_type": "code",
   "execution_count": 9,
   "id": "c4df4524",
   "metadata": {},
   "outputs": [],
   "source": [
    "all_runs.to_csv('all_runs.csv', index=False) "
   ]
  }
 ],
 "metadata": {
  "kernelspec": {
   "display_name": "mbta_env",
   "language": "python",
   "name": "python3"
  },
  "language_info": {
   "codemirror_mode": {
    "name": "ipython",
    "version": 3
   },
   "file_extension": ".py",
   "mimetype": "text/x-python",
   "name": "python",
   "nbconvert_exporter": "python",
   "pygments_lexer": "ipython3",
   "version": "3.13.5"
  }
 },
 "nbformat": 4,
 "nbformat_minor": 5
}
