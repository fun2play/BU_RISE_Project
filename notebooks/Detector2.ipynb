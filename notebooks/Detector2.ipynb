{
 "cells": [
  {
   "cell_type": "markdown",
   "id": "39fff169",
   "metadata": {},
   "source": [
    "### STE Detector"
   ]
  },
  {
   "cell_type": "code",
   "execution_count": 5,
   "id": "f764578c",
   "metadata": {},
   "outputs": [],
   "source": [
    "import numpy as np\n",
    "import mne\n",
    "import matplotlib.pyplot as plt\n",
    "import pandas as pd\n",
    "from HFODetector import ste\n",
    "from pathlib import Path"
   ]
  },
  {
   "cell_type": "code",
   "execution_count": 10,
   "id": "f19845ca",
   "metadata": {},
   "outputs": [],
   "source": [
    "data_root = Path('../data/ds004100')\n",
    "edf_files = sorted(data_root.rglob(\"*.edf\"))"
   ]
  },
  {
   "cell_type": "code",
   "execution_count": null,
   "id": "14415757",
   "metadata": {},
   "outputs": [
    {
     "name": "stdout",
     "output_type": "stream",
     "text": [
      "Extracting EDF parameters from C:\\Users\\washi\\OneDrive\\Documents\\Final Project\\sub-HUP060\\ses-presurgery\\ieeg\\sub-HUP060_ses-presurgery_task-ictal_acq-seeg_run-01_ieeg.edf...\n",
      "EDF file detected\n",
      "Setting channel info structure...\n",
      "Creating raw.info structure...\n"
     ]
    }
   ],
   "source": [
    "\n",
    "# edf = mne.io.read_raw_edf('../data/ds004100/')\n",
    "# header = ','.join(edf.ch_names)\n",
    "# np.savetxt('test1.csv', edf.get_data().T, delimiter=',', header=header)"
   ]
  },
  {
   "cell_type": "code",
   "execution_count": null,
   "id": "fb5b3892",
   "metadata": {},
   "outputs": [
    {
     "name": "stdout",
     "output_type": "stream",
     "text": [
      "Processing: MD5E-s37544344--734ddefb86c1eaf513c1974bec1239fe.edf\n",
      "Error with MD5E-s37544344--734ddefb86c1eaf513c1974bec1239fe.edf: [Errno 21] Is a directory: '../data/ds004100/.git/annex/objects/0P/MG/MD5E-s37544344--734ddefb86c1eaf513c1974bec1239fe.edf'\n",
      "Processing: MD5E-s37544344--734ddefb86c1eaf513c1974bec1239fe.edf\n",
      "Error with MD5E-s37544344--734ddefb86c1eaf513c1974bec1239fe.edf: 'utf-8' codec can't decode byte 0xf7 in position 31745: invalid start byte\n",
      "Processing: MD5E-s15648024--feabc2fff2e566c20b610fc4f842f603.edf\n",
      "Error with MD5E-s15648024--feabc2fff2e566c20b610fc4f842f603.edf: [Errno 21] Is a directory: '../data/ds004100/.git/annex/objects/0P/m0/MD5E-s15648024--feabc2fff2e566c20b610fc4f842f603.edf'\n",
      "Processing: MD5E-s15648024--feabc2fff2e566c20b610fc4f842f603.edf\n",
      "Error with MD5E-s15648024--feabc2fff2e566c20b610fc4f842f603.edf: 'utf-8' codec can't decode byte 0xc3 in position 13824: invalid continuation byte\n",
      "Processing: MD5E-s24385556--4fcbd91eb1b14666f3eb15b51406b463.edf\n",
      "Error with MD5E-s24385556--4fcbd91eb1b14666f3eb15b51406b463.edf: [Errno 21] Is a directory: '../data/ds004100/.git/annex/objects/0j/kp/MD5E-s24385556--4fcbd91eb1b14666f3eb15b51406b463.edf'\n",
      "Processing: MD5E-s24385556--4fcbd91eb1b14666f3eb15b51406b463.edf\n",
      "Error with MD5E-s24385556--4fcbd91eb1b14666f3eb15b51406b463.edf: 'utf-8' codec can't decode byte 0xfe in position 28454: invalid start byte\n",
      "Processing: MD5E-s33239960--d5f3ab6e679356b4bb2829a7e8875263.edf\n",
      "Error with MD5E-s33239960--d5f3ab6e679356b4bb2829a7e8875263.edf: [Errno 21] Is a directory: '../data/ds004100/.git/annex/objects/0k/8J/MD5E-s33239960--d5f3ab6e679356b4bb2829a7e8875263.edf'\n",
      "Processing: MD5E-s33239960--d5f3ab6e679356b4bb2829a7e8875263.edf\n",
      "Error with MD5E-s33239960--d5f3ab6e679356b4bb2829a7e8875263.edf: 'utf-8' codec can't decode byte 0xe8 in position 28160: invalid continuation byte\n",
      "Processing: MD5E-s19420568--f2c99b4b5461001a14113d955497e883.edf\n",
      "Error with MD5E-s19420568--f2c99b4b5461001a14113d955497e883.edf: [Errno 21] Is a directory: '../data/ds004100/.git/annex/objects/0k/Gz/MD5E-s19420568--f2c99b4b5461001a14113d955497e883.edf'\n",
      "Processing: MD5E-s19420568--f2c99b4b5461001a14113d955497e883.edf\n",
      "Error with MD5E-s19420568--f2c99b4b5461001a14113d955497e883.edf: 'utf-8' codec can't decode byte 0xf9 in position 32768: invalid start byte\n",
      "Processing: MD5E-s52457078--b79378f54c100eb546960eaa4303c94c.edf\n",
      "Error with MD5E-s52457078--b79378f54c100eb546960eaa4303c94c.edf: [Errno 21] Is a directory: '../data/ds004100/.git/annex/objects/0k/f6/MD5E-s52457078--b79378f54c100eb546960eaa4303c94c.edf'\n",
      "Processing: MD5E-s52457078--b79378f54c100eb546960eaa4303c94c.edf\n",
      "Error with MD5E-s52457078--b79378f54c100eb546960eaa4303c94c.edf: 'utf-8' codec can't decode byte 0xf4 in position 48164: invalid continuation byte\n",
      "Processing: MD5E-s58299218--3bcfdbae4690c64fdcc2d295390d8e03.edf\n",
      "Error with MD5E-s58299218--3bcfdbae4690c64fdcc2d295390d8e03.edf: [Errno 21] Is a directory: '../data/ds004100/.git/annex/objects/0q/PG/MD5E-s58299218--3bcfdbae4690c64fdcc2d295390d8e03.edf'\n",
      "Processing: MD5E-s58299218--3bcfdbae4690c64fdcc2d295390d8e03.edf\n",
      "Error with MD5E-s58299218--3bcfdbae4690c64fdcc2d295390d8e03.edf: 'utf-8' codec can't decode byte 0xff in position 30721: invalid start byte\n",
      "Processing: MD5E-s55376792--bd889445a794bf6ab6e21a22ec51b4e0.edf\n",
      "Error with MD5E-s55376792--bd889445a794bf6ab6e21a22ec51b4e0.edf: [Errno 21] Is a directory: '../data/ds004100/.git/annex/objects/0q/qq/MD5E-s55376792--bd889445a794bf6ab6e21a22ec51b4e0.edf'\n",
      "Processing: MD5E-s55376792--bd889445a794bf6ab6e21a22ec51b4e0.edf\n",
      "Error with MD5E-s55376792--bd889445a794bf6ab6e21a22ec51b4e0.edf: 'utf-8' codec can't decode byte 0xb1 in position 46592: invalid start byte\n",
      "Processing: MD5E-s56642876--667c10191e146392853f9596a2f381c0.edf\n",
      "Error with MD5E-s56642876--667c10191e146392853f9596a2f381c0.edf: [Errno 21] Is a directory: '../data/ds004100/.git/annex/objects/0w/9F/MD5E-s56642876--667c10191e146392853f9596a2f381c0.edf'\n",
      "Processing: MD5E-s56642876--667c10191e146392853f9596a2f381c0.edf\n",
      "Error with MD5E-s56642876--667c10191e146392853f9596a2f381c0.edf: 'utf-8' codec can't decode byte 0xff in position 27396: invalid start byte\n",
      "Processing: MD5E-s21798742--dd2ac67802a50a20e046f35171457f74.edf\n",
      "Error with MD5E-s21798742--dd2ac67802a50a20e046f35171457f74.edf: [Errno 21] Is a directory: '../data/ds004100/.git/annex/objects/0x/9W/MD5E-s21798742--dd2ac67802a50a20e046f35171457f74.edf'\n",
      "Processing: MD5E-s21798742--dd2ac67802a50a20e046f35171457f74.edf\n",
      "Error with MD5E-s21798742--dd2ac67802a50a20e046f35171457f74.edf: 'utf-8' codec can't decode byte 0xf7 in position 21504: invalid start byte\n",
      "Processing: MD5E-s18350328--2921c17a61c3341c37bbb96c3d7cf0de.edf\n",
      "Error with MD5E-s18350328--2921c17a61c3341c37bbb96c3d7cf0de.edf: [Errno 21] Is a directory: '../data/ds004100/.git/annex/objects/0x/QW/MD5E-s18350328--2921c17a61c3341c37bbb96c3d7cf0de.edf'\n",
      "Processing: MD5E-s18350328--2921c17a61c3341c37bbb96c3d7cf0de.edf\n",
      "Error with MD5E-s18350328--2921c17a61c3341c37bbb96c3d7cf0de.edf: 'utf-8' codec can't decode byte 0x9f in position 16128: invalid start byte\n",
      "Processing: MD5E-s41848728--9578a8b2ff9d635f0edde0cfb5242c2d.edf\n",
      "Error with MD5E-s41848728--9578a8b2ff9d635f0edde0cfb5242c2d.edf: [Errno 21] Is a directory: '../data/ds004100/.git/annex/objects/16/mk/MD5E-s41848728--9578a8b2ff9d635f0edde0cfb5242c2d.edf'\n",
      "Processing: MD5E-s41848728--9578a8b2ff9d635f0edde0cfb5242c2d.edf\n",
      "Error with MD5E-s41848728--9578a8b2ff9d635f0edde0cfb5242c2d.edf: 'utf-8' codec can't decode byte 0xff in position 35328: invalid start byte\n",
      "Processing: MD5E-s52838234--fc7ae98974c90c96dec304d1b2b1ccf1.edf\n",
      "Error with MD5E-s52838234--fc7ae98974c90c96dec304d1b2b1ccf1.edf: [Errno 21] Is a directory: '../data/ds004100/.git/annex/objects/1G/JV/MD5E-s52838234--fc7ae98974c90c96dec304d1b2b1ccf1.edf'\n",
      "Processing: MD5E-s52838234--fc7ae98974c90c96dec304d1b2b1ccf1.edf\n",
      "Error with MD5E-s52838234--fc7ae98974c90c96dec304d1b2b1ccf1.edf: 'utf-8' codec can't decode byte 0xff in position 48129: invalid start byte\n",
      "Processing: MD5E-s29550488--89201e4c8c8036c396ac31d3e64c7a8a.edf\n",
      "Error with MD5E-s29550488--89201e4c8c8036c396ac31d3e64c7a8a.edf: [Errno 21] Is a directory: '../data/ds004100/.git/annex/objects/1G/VP/MD5E-s29550488--89201e4c8c8036c396ac31d3e64c7a8a.edf'\n",
      "Processing: MD5E-s29550488--89201e4c8c8036c396ac31d3e64c7a8a.edf\n",
      "Error with MD5E-s29550488--89201e4c8c8036c396ac31d3e64c7a8a.edf: 'utf-8' codec can't decode byte 0xff in position 25092: invalid start byte\n",
      "Processing: MD5E-s18932096--e3de3a724fc191ea003e2448d87ebf52.edf\n",
      "Error with MD5E-s18932096--e3de3a724fc191ea003e2448d87ebf52.edf: [Errno 21] Is a directory: '../data/ds004100/.git/annex/objects/1P/kg/MD5E-s18932096--e3de3a724fc191ea003e2448d87ebf52.edf'\n",
      "Processing: MD5E-s18932096--e3de3a724fc191ea003e2448d87ebf52.edf\n",
      "Error with MD5E-s18932096--e3de3a724fc191ea003e2448d87ebf52.edf: 'utf-8' codec can't decode byte 0x8c in position 15616: invalid start byte\n",
      "Processing: MD5E-s36065432--9be0d6d9c292dc976665d9480d03af51.edf\n",
      "Error with MD5E-s36065432--9be0d6d9c292dc976665d9480d03af51.edf: [Errno 21] Is a directory: '../data/ds004100/.git/annex/objects/1k/Jq/MD5E-s36065432--9be0d6d9c292dc976665d9480d03af51.edf'\n",
      "Processing: MD5E-s36065432--9be0d6d9c292dc976665d9480d03af51.edf\n",
      "Error with MD5E-s36065432--9be0d6d9c292dc976665d9480d03af51.edf: 'utf-8' codec can't decode byte 0xf9 in position 31232: invalid start byte\n",
      "Processing: MD5E-s53532056--e12fa2a8f42afcd52eff60d8890a0044.edf\n",
      "Error with MD5E-s53532056--e12fa2a8f42afcd52eff60d8890a0044.edf: [Errno 21] Is a directory: '../data/ds004100/.git/annex/objects/1w/mg/MD5E-s53532056--e12fa2a8f42afcd52eff60d8890a0044.edf'\n",
      "Processing: MD5E-s53532056--e12fa2a8f42afcd52eff60d8890a0044.edf\n",
      "Error with MD5E-s53532056--e12fa2a8f42afcd52eff60d8890a0044.edf: 'utf-8' codec can't decode byte 0xf4 in position 45056: invalid continuation byte\n",
      "Processing: MD5E-s44082622--a404e9b439a19a623c6476f9862fb574.edf\n",
      "Error with MD5E-s44082622--a404e9b439a19a623c6476f9862fb574.edf: [Errno 21] Is a directory: '../data/ds004100/.git/annex/objects/1z/gF/MD5E-s44082622--a404e9b439a19a623c6476f9862fb574.edf'\n",
      "Processing: MD5E-s44082622--a404e9b439a19a623c6476f9862fb574.edf\n",
      "Error with MD5E-s44082622--a404e9b439a19a623c6476f9862fb574.edf: 'utf-8' codec can't decode byte 0xff in position 26132: invalid start byte\n",
      "Processing: MD5E-s44864054--29c3433e6674023d6aaf118a89b3de13.edf\n",
      "Error with MD5E-s44864054--29c3433e6674023d6aaf118a89b3de13.edf: [Errno 21] Is a directory: '../data/ds004100/.git/annex/objects/1z/mq/MD5E-s44864054--29c3433e6674023d6aaf118a89b3de13.edf'\n",
      "Processing: MD5E-s44864054--29c3433e6674023d6aaf118a89b3de13.edf\n",
      "Error with MD5E-s44864054--29c3433e6674023d6aaf118a89b3de13.edf: 'utf-8' codec can't decode byte 0xce in position 46594: invalid continuation byte\n",
      "Processing: MD5E-s22907504--f2b6224ef7fe7974436c6f2bcad92e4b.edf\n",
      "Error with MD5E-s22907504--f2b6224ef7fe7974436c6f2bcad92e4b.edf: [Errno 21] Is a directory: '../data/ds004100/.git/annex/objects/20/vF/MD5E-s22907504--f2b6224ef7fe7974436c6f2bcad92e4b.edf'\n",
      "Processing: MD5E-s22907504--f2b6224ef7fe7974436c6f2bcad92e4b.edf\n",
      "Error with MD5E-s22907504--f2b6224ef7fe7974436c6f2bcad92e4b.edf: 'utf-8' codec can't decode byte 0xfc in position 23604: invalid start byte\n",
      "Processing: MD5E-s27811520--eb07b455d3d2206784b91e5b345b9d94.edf\n",
      "Error with MD5E-s27811520--eb07b455d3d2206784b91e5b345b9d94.edf: [Errno 21] Is a directory: '../data/ds004100/.git/annex/objects/22/6K/MD5E-s27811520--eb07b455d3d2206784b91e5b345b9d94.edf'\n",
      "Processing: MD5E-s27811520--eb07b455d3d2206784b91e5b345b9d94.edf\n",
      "Error with MD5E-s27811520--eb07b455d3d2206784b91e5b345b9d94.edf: 'utf-8' codec can't decode byte 0xfe in position 31492: invalid start byte\n",
      "Processing: MD5E-s15648024--7ea115d6089e2f788fa7a9c7e5878849.edf\n",
      "Error with MD5E-s15648024--7ea115d6089e2f788fa7a9c7e5878849.edf: [Errno 21] Is a directory: '../data/ds004100/.git/annex/objects/28/44/MD5E-s15648024--7ea115d6089e2f788fa7a9c7e5878849.edf'\n",
      "Processing: MD5E-s15648024--7ea115d6089e2f788fa7a9c7e5878849.edf\n",
      "Error with MD5E-s15648024--7ea115d6089e2f788fa7a9c7e5878849.edf: 'utf-8' codec can't decode byte 0xf9 in position 13825: invalid start byte\n",
      "Processing: MD5E-s28590308--dd801bfb61b384aee338acb27fea03dd.edf\n",
      "Error with MD5E-s28590308--dd801bfb61b384aee338acb27fea03dd.edf: [Errno 21] Is a directory: '../data/ds004100/.git/annex/objects/2F/J8/MD5E-s28590308--dd801bfb61b384aee338acb27fea03dd.edf'\n",
      "Processing: MD5E-s28590308--dd801bfb61b384aee338acb27fea03dd.edf\n",
      "Error with MD5E-s28590308--dd801bfb61b384aee338acb27fea03dd.edf: 'utf-8' codec can't decode byte 0xff in position 28161: invalid start byte\n",
      "Processing: MD5E-s53532056--763f5927f5aaf8b0333ec70e3aa0af89.edf\n",
      "Error with MD5E-s53532056--763f5927f5aaf8b0333ec70e3aa0af89.edf: [Errno 21] Is a directory: '../data/ds004100/.git/annex/objects/2W/G6/MD5E-s53532056--763f5927f5aaf8b0333ec70e3aa0af89.edf'\n",
      "Processing: MD5E-s53532056--763f5927f5aaf8b0333ec70e3aa0af89.edf\n",
      "Error with MD5E-s53532056--763f5927f5aaf8b0333ec70e3aa0af89.edf: 'utf-8' codec can't decode byte 0xfe in position 45442: invalid start byte\n",
      "Processing: MD5E-s29041488--1c74f26e1194999fb75c4e6d31c267d3.edf\n",
      "Error with MD5E-s29041488--1c74f26e1194999fb75c4e6d31c267d3.edf: [Errno 21] Is a directory: '../data/ds004100/.git/annex/objects/2X/pJ/MD5E-s29041488--1c74f26e1194999fb75c4e6d31c267d3.edf'\n",
      "Processing: MD5E-s29041488--1c74f26e1194999fb75c4e6d31c267d3.edf\n",
      "Error with MD5E-s29041488--1c74f26e1194999fb75c4e6d31c267d3.edf: 'utf-8' codec can't decode byte 0xe8 in position 31744: invalid continuation byte\n",
      "Processing: MD5E-s33625426--3a9f328892a862c73dcda36fde3c11c1.edf\n",
      "Error with MD5E-s33625426--3a9f328892a862c73dcda36fde3c11c1.edf: [Errno 21] Is a directory: '../data/ds004100/.git/annex/objects/2v/Z8/MD5E-s33625426--3a9f328892a862c73dcda36fde3c11c1.edf'\n",
      "Processing: MD5E-s33625426--3a9f328892a862c73dcda36fde3c11c1.edf\n",
      "Error with MD5E-s33625426--3a9f328892a862c73dcda36fde3c11c1.edf: 'utf-8' codec can't decode byte 0xed in position 35328: invalid continuation byte\n",
      "Processing: MD5E-s13281098--2f5509628154404b92818e78decba6b7.edf\n",
      "Error with MD5E-s13281098--2f5509628154404b92818e78decba6b7.edf: [Errno 21] Is a directory: '../data/ds004100/.git/annex/objects/2v/g7/MD5E-s13281098--2f5509628154404b92818e78decba6b7.edf'\n",
      "Processing: MD5E-s13281098--2f5509628154404b92818e78decba6b7.edf\n",
      "Error with MD5E-s13281098--2f5509628154404b92818e78decba6b7.edf: 'utf-8' codec can't decode byte 0x8c in position 32772: invalid start byte\n",
      "Processing: MD5E-s78710680--c9069228b4cc631d6b4b2821d80c289c.edf\n",
      "Error with MD5E-s78710680--c9069228b4cc631d6b4b2821d80c289c.edf: [Errno 21] Is a directory: '../data/ds004100/.git/annex/objects/31/06/MD5E-s78710680--c9069228b4cc631d6b4b2821d80c289c.edf'\n",
      "Processing: MD5E-s78710680--c9069228b4cc631d6b4b2821d80c289c.edf\n",
      "Error with MD5E-s78710680--c9069228b4cc631d6b4b2821d80c289c.edf: 'utf-8' codec can't decode byte 0xfb in position 33332: invalid start byte\n",
      "Processing: MD5E-s68953574--3c5976581be7e684e7d9b72e8a2ad8da.edf\n",
      "Error with MD5E-s68953574--3c5976581be7e684e7d9b72e8a2ad8da.edf: [Errno 21] Is a directory: '../data/ds004100/.git/annex/objects/32/q8/MD5E-s68953574--3c5976581be7e684e7d9b72e8a2ad8da.edf'\n",
      "Processing: MD5E-s68953574--3c5976581be7e684e7d9b72e8a2ad8da.edf\n",
      "Error with MD5E-s68953574--3c5976581be7e684e7d9b72e8a2ad8da.edf: 'utf-8' codec can't decode byte 0x86 in position 26624: invalid start byte\n",
      "Processing: MD5E-s75022744--c56702a74d60c47455e769e77921d310.edf\n",
      "Error with MD5E-s75022744--c56702a74d60c47455e769e77921d310.edf: [Errno 21] Is a directory: '../data/ds004100/.git/annex/objects/34/ZZ/MD5E-s75022744--c56702a74d60c47455e769e77921d310.edf'\n",
      "Processing: MD5E-s75022744--c56702a74d60c47455e769e77921d310.edf\n",
      "Error with MD5E-s75022744--c56702a74d60c47455e769e77921d310.edf: 'utf-8' codec can't decode byte 0xc8 in position 35840: invalid continuation byte\n",
      "Processing: MD5E-s23793208--2a4c7a2493c00bff35d0bd06980b0322.edf\n",
      "Error with MD5E-s23793208--2a4c7a2493c00bff35d0bd06980b0322.edf: [Errno 21] Is a directory: '../data/ds004100/.git/annex/objects/35/33/MD5E-s23793208--2a4c7a2493c00bff35d0bd06980b0322.edf'\n",
      "Processing: MD5E-s23793208--2a4c7a2493c00bff35d0bd06980b0322.edf\n",
      "Error with MD5E-s23793208--2a4c7a2493c00bff35d0bd06980b0322.edf: 'utf-8' codec can't decode byte 0xc0 in position 24064: invalid start byte\n",
      "Processing: MD5E-s54854366--1d9b35c162dbcaf2b22f42f59838adc5.edf\n",
      "Error with MD5E-s54854366--1d9b35c162dbcaf2b22f42f59838adc5.edf: [Errno 21] Is a directory: '../data/ds004100/.git/annex/objects/39/9F/MD5E-s54854366--1d9b35c162dbcaf2b22f42f59838adc5.edf'\n",
      "Processing: MD5E-s54854366--1d9b35c162dbcaf2b22f42f59838adc5.edf\n",
      "Error with MD5E-s54854366--1d9b35c162dbcaf2b22f42f59838adc5.edf: 'utf-8' codec can't decode byte 0xe9 in position 38656: invalid continuation byte\n",
      "Processing: MD5E-s100502310--eceb4bed0fa7fe9133fd3f65fbe11f4b.edf\n",
      "Error with MD5E-s100502310--eceb4bed0fa7fe9133fd3f65fbe11f4b.edf: [Errno 21] Is a directory: '../data/ds004100/.git/annex/objects/3K/4z/MD5E-s100502310--eceb4bed0fa7fe9133fd3f65fbe11f4b.edf'\n",
      "Processing: MD5E-s100502310--eceb4bed0fa7fe9133fd3f65fbe11f4b.edf\n",
      "Error with MD5E-s100502310--eceb4bed0fa7fe9133fd3f65fbe11f4b.edf: 'utf-8' codec can't decode byte 0x8c in position 42498: invalid start byte\n",
      "Processing: MD5E-s30388166--b934e50d7a0dd72d32f82dbc2348b1a5.edf\n",
      "Error with MD5E-s30388166--b934e50d7a0dd72d32f82dbc2348b1a5.edf: [Errno 21] Is a directory: '../data/ds004100/.git/annex/objects/3Z/P5/MD5E-s30388166--b934e50d7a0dd72d32f82dbc2348b1a5.edf'\n",
      "Processing: MD5E-s30388166--b934e50d7a0dd72d32f82dbc2348b1a5.edf\n",
      "Error with MD5E-s30388166--b934e50d7a0dd72d32f82dbc2348b1a5.edf: 'utf-8' codec can't decode byte 0xf4 in position 30726: invalid continuation byte\n",
      "Processing: MD5E-s27960916--a80030559234d2647862e9f6e5c008d2.edf\n",
      "Error with MD5E-s27960916--a80030559234d2647862e9f6e5c008d2.edf: [Errno 21] Is a directory: '../data/ds004100/.git/annex/objects/3w/2z/MD5E-s27960916--a80030559234d2647862e9f6e5c008d2.edf'\n",
      "Processing: MD5E-s27960916--a80030559234d2647862e9f6e5c008d2.edf\n",
      "Error with MD5E-s27960916--a80030559234d2647862e9f6e5c008d2.edf: 'utf-8' codec can't decode byte 0xc0 in position 28424: invalid start byte\n",
      "Processing: MD5E-s31861442--521c811d207f20321ca322485b8262d8.edf\n",
      "Error with MD5E-s31861442--521c811d207f20321ca322485b8262d8.edf: [Errno 21] Is a directory: '../data/ds004100/.git/annex/objects/3w/FF/MD5E-s31861442--521c811d207f20321ca322485b8262d8.edf'\n",
      "Processing: MD5E-s31861442--521c811d207f20321ca322485b8262d8.edf\n",
      "Error with MD5E-s31861442--521c811d207f20321ca322485b8262d8.edf: 'utf-8' codec can't decode byte 0xeb in position 31234: invalid continuation byte\n",
      "Processing: MD5E-s17749816--d2b44edb415175c9eda29990e1ab6bd3.edf\n",
      "Error with MD5E-s17749816--d2b44edb415175c9eda29990e1ab6bd3.edf: [Errno 21] Is a directory: '../data/ds004100/.git/annex/objects/44/1K/MD5E-s17749816--d2b44edb415175c9eda29990e1ab6bd3.edf'\n",
      "Processing: MD5E-s17749816--d2b44edb415175c9eda29990e1ab6bd3.edf\n",
      "Error with MD5E-s17749816--d2b44edb415175c9eda29990e1ab6bd3.edf: 'utf-8' codec can't decode byte 0x84 in position 15696: invalid start byte\n",
      "Processing: MD5E-s34633316--fd750f3284f1806a4b11afd6cd1020e3.edf\n",
      "Error with MD5E-s34633316--fd750f3284f1806a4b11afd6cd1020e3.edf: [Errno 21] Is a directory: '../data/ds004100/.git/annex/objects/44/Vq/MD5E-s34633316--fd750f3284f1806a4b11afd6cd1020e3.edf'\n",
      "Processing: MD5E-s34633316--fd750f3284f1806a4b11afd6cd1020e3.edf\n",
      "Error with MD5E-s34633316--fd750f3284f1806a4b11afd6cd1020e3.edf: 'utf-8' codec can't decode byte 0xff in position 45244: invalid start byte\n",
      "Processing: MD5E-s25246104--dec5155a1f4ae5bf9f7bd34ffbf58978.edf\n",
      "Error with MD5E-s25246104--dec5155a1f4ae5bf9f7bd34ffbf58978.edf: [Errno 21] Is a directory: '../data/ds004100/.git/annex/objects/48/zz/MD5E-s25246104--dec5155a1f4ae5bf9f7bd34ffbf58978.edf'\n",
      "Processing: MD5E-s25246104--dec5155a1f4ae5bf9f7bd34ffbf58978.edf\n",
      "Error with MD5E-s25246104--dec5155a1f4ae5bf9f7bd34ffbf58978.edf: 'utf-8' codec can't decode byte 0xc5 in position 21508: invalid continuation byte\n",
      "Processing: MD5E-s32542664--37259b1ee2c56b8be80172e3b62e4c51.edf\n",
      "Error with MD5E-s32542664--37259b1ee2c56b8be80172e3b62e4c51.edf: [Errno 21] Is a directory: '../data/ds004100/.git/annex/objects/4K/Pv/MD5E-s32542664--37259b1ee2c56b8be80172e3b62e4c51.edf'\n",
      "Processing: MD5E-s32542664--37259b1ee2c56b8be80172e3b62e4c51.edf\n",
      "Error with MD5E-s32542664--37259b1ee2c56b8be80172e3b62e4c51.edf: 'utf-8' codec can't decode byte 0xb8 in position 31744: invalid start byte\n",
      "Processing: MD5E-s24734396--a56148c03fd7dace95a7681baee32cbc.edf\n",
      "Error with MD5E-s24734396--a56148c03fd7dace95a7681baee32cbc.edf: [Errno 21] Is a directory: '../data/ds004100/.git/annex/objects/4M/fv/MD5E-s24734396--a56148c03fd7dace95a7681baee32cbc.edf'\n",
      "Processing: MD5E-s24734396--a56148c03fd7dace95a7681baee32cbc.edf\n",
      "Error with MD5E-s24734396--a56148c03fd7dace95a7681baee32cbc.edf: 'utf-8' codec can't decode byte 0xfe in position 30465: invalid start byte\n",
      "Processing: MD5E-s15576674--b549bcebafbdc34733dc6850cde8b6c6.edf\n",
      "Error with MD5E-s15576674--b549bcebafbdc34733dc6850cde8b6c6.edf: [Errno 21] Is a directory: '../data/ds004100/.git/annex/objects/4M/j0/MD5E-s15576674--b549bcebafbdc34733dc6850cde8b6c6.edf'\n",
      "Processing: MD5E-s15576674--b549bcebafbdc34733dc6850cde8b6c6.edf\n",
      "Error with MD5E-s15576674--b549bcebafbdc34733dc6850cde8b6c6.edf: 'utf-8' codec can't decode byte 0xfc in position 21514: invalid start byte\n",
      "Processing: MD5E-s13927358--0e8c09ad5478059e2b41a28d09f06e4f.edf\n",
      "Error with MD5E-s13927358--0e8c09ad5478059e2b41a28d09f06e4f.edf: [Errno 21] Is a directory: '../data/ds004100/.git/annex/objects/4f/WW/MD5E-s13927358--0e8c09ad5478059e2b41a28d09f06e4f.edf'\n",
      "Processing: MD5E-s13927358--0e8c09ad5478059e2b41a28d09f06e4f.edf\n",
      "Error with MD5E-s13927358--0e8c09ad5478059e2b41a28d09f06e4f.edf: 'utf-8' codec can't decode byte 0xa1 in position 32768: invalid start byte\n",
      "Processing: MD5E-s100838296--4b74e86393cfef3052d25339985066cd.edf\n",
      "Error with MD5E-s100838296--4b74e86393cfef3052d25339985066cd.edf: [Errno 21] Is a directory: '../data/ds004100/.git/annex/objects/4f/zZ/MD5E-s100838296--4b74e86393cfef3052d25339985066cd.edf'\n",
      "Processing: MD5E-s100838296--4b74e86393cfef3052d25339985066cd.edf\n",
      "Error with MD5E-s100838296--4b74e86393cfef3052d25339985066cd.edf: 'utf-8' codec can't decode byte 0xb9 in position 42496: invalid start byte\n",
      "Processing: MD5E-s32797136--5ce9a328621e910265b00940d8791786.edf\n",
      "Error with MD5E-s32797136--5ce9a328621e910265b00940d8791786.edf: [Errno 21] Is a directory: '../data/ds004100/.git/annex/objects/4p/Gz/MD5E-s32797136--5ce9a328621e910265b00940d8791786.edf'\n",
      "Processing: MD5E-s32797136--5ce9a328621e910265b00940d8791786.edf\n",
      "Error with MD5E-s32797136--5ce9a328621e910265b00940d8791786.edf: 'utf-8' codec can't decode byte 0xc7 in position 28160: invalid continuation byte\n",
      "Processing: MD5E-s26039976--f4c7967952e0ae8e0cb19328346f564b.edf\n",
      "Error with MD5E-s26039976--f4c7967952e0ae8e0cb19328346f564b.edf: [Errno 21] Is a directory: '../data/ds004100/.git/annex/objects/4p/KQ/MD5E-s26039976--f4c7967952e0ae8e0cb19328346f564b.edf'\n",
      "Processing: MD5E-s26039976--f4c7967952e0ae8e0cb19328346f564b.edf\n",
      "Error with MD5E-s26039976--f4c7967952e0ae8e0cb19328346f564b.edf: 'utf-8' codec can't decode byte 0xec in position 27136: invalid continuation byte\n",
      "Processing: MD5E-s19404440--4f53f8be1cbe41d91a96f0c3702cc161.edf\n",
      "Error with MD5E-s19404440--4f53f8be1cbe41d91a96f0c3702cc161.edf: [Errno 21] Is a directory: '../data/ds004100/.git/annex/objects/4p/Wz/MD5E-s19404440--4f53f8be1cbe41d91a96f0c3702cc161.edf'\n",
      "Processing: MD5E-s19404440--4f53f8be1cbe41d91a96f0c3702cc161.edf\n",
      "Error with MD5E-s19404440--4f53f8be1cbe41d91a96f0c3702cc161.edf: 'utf-8' codec can't decode byte 0xe3 in position 16640: invalid continuation byte\n",
      "Processing: MD5E-s59451172--e0367001025611f540edc32ef864e933.edf\n",
      "Error with MD5E-s59451172--e0367001025611f540edc32ef864e933.edf: [Errno 21] Is a directory: '../data/ds004100/.git/annex/objects/4q/G3/MD5E-s59451172--e0367001025611f540edc32ef864e933.edf'\n",
      "Processing: MD5E-s59451172--e0367001025611f540edc32ef864e933.edf\n",
      "Error with MD5E-s59451172--e0367001025611f540edc32ef864e933.edf: 'utf-8' codec can't decode byte 0xfb in position 26234: invalid start byte\n",
      "Processing: MD5E-s33239960--612e43da33ea43a6e45371e4a1147c79.edf\n",
      "Error with MD5E-s33239960--612e43da33ea43a6e45371e4a1147c79.edf: [Errno 21] Is a directory: '../data/ds004100/.git/annex/objects/4x/w5/MD5E-s33239960--612e43da33ea43a6e45371e4a1147c79.edf'\n",
      "Processing: MD5E-s33239960--612e43da33ea43a6e45371e4a1147c79.edf\n",
      "Error with MD5E-s33239960--612e43da33ea43a6e45371e4a1147c79.edf: 'utf-8' codec can't decode byte 0xf4 in position 28160: invalid continuation byte\n",
      "Processing: MD5E-s26457240--a8b24736046148c124a428a15bdbbc99.edf\n",
      "Error with MD5E-s26457240--a8b24736046148c124a428a15bdbbc99.edf: [Errno 21] Is a directory: '../data/ds004100/.git/annex/objects/5G/9W/MD5E-s26457240--a8b24736046148c124a428a15bdbbc99.edf'\n",
      "Processing: MD5E-s26457240--a8b24736046148c124a428a15bdbbc99.edf\n",
      "Error with MD5E-s26457240--a8b24736046148c124a428a15bdbbc99.edf: 'utf-8' codec can't decode byte 0xed in position 23040: invalid continuation byte\n",
      "Processing: MD5E-s52917144--e2f9ad29d34f33f26b9f2beb2188be0e.edf\n",
      "Error with MD5E-s52917144--e2f9ad29d34f33f26b9f2beb2188be0e.edf: [Errno 21] Is a directory: '../data/ds004100/.git/annex/objects/5G/vG/MD5E-s52917144--e2f9ad29d34f33f26b9f2beb2188be0e.edf'\n",
      "Processing: MD5E-s52917144--e2f9ad29d34f33f26b9f2beb2188be0e.edf\n",
      "Error with MD5E-s52917144--e2f9ad29d34f33f26b9f2beb2188be0e.edf: 'utf-8' codec can't decode byte 0xe9 in position 44544: invalid continuation byte\n",
      "Processing: MD5E-s90603634--ed3fc54479e1c04e6018adfdebe06a78.edf\n",
      "Error with MD5E-s90603634--ed3fc54479e1c04e6018adfdebe06a78.edf: [Errno 21] Is a directory: '../data/ds004100/.git/annex/objects/5V/8P/MD5E-s90603634--ed3fc54479e1c04e6018adfdebe06a78.edf'\n",
      "Processing: MD5E-s90603634--ed3fc54479e1c04e6018adfdebe06a78.edf\n",
      "Error with MD5E-s90603634--ed3fc54479e1c04e6018adfdebe06a78.edf: 'utf-8' codec can't decode byte 0x83 in position 44544: invalid start byte\n",
      "Processing: MD5E-s61500312--14755415385775015533f5d29aa65895.edf\n",
      "Error with MD5E-s61500312--14755415385775015533f5d29aa65895.edf: [Errno 21] Is a directory: '../data/ds004100/.git/annex/objects/5V/W1/MD5E-s61500312--14755415385775015533f5d29aa65895.edf'\n",
      "Processing: MD5E-s61500312--14755415385775015533f5d29aa65895.edf\n",
      "Error with MD5E-s61500312--14755415385775015533f5d29aa65895.edf: 'utf-8' codec can't decode byte 0xf1 in position 26112: invalid continuation byte\n",
      "Processing: MD5E-s45835294--d9d6b0a601fac19d422acfb569b63976.edf\n",
      "Error with MD5E-s45835294--d9d6b0a601fac19d422acfb569b63976.edf: [Errno 21] Is a directory: '../data/ds004100/.git/annex/objects/5V/gQ/MD5E-s45835294--d9d6b0a601fac19d422acfb569b63976.edf'\n",
      "Processing: MD5E-s45835294--d9d6b0a601fac19d422acfb569b63976.edf\n",
      "Error with MD5E-s45835294--d9d6b0a601fac19d422acfb569b63976.edf: 'utf-8' codec can't decode byte 0xa6 in position 22272: invalid start byte\n",
      "Processing: MD5E-s25859552--4bb0b50e7d1a7de74759b014f2d1fa49.edf\n",
      "Error with MD5E-s25859552--4bb0b50e7d1a7de74759b014f2d1fa49.edf: [Errno 21] Is a directory: '../data/ds004100/.git/annex/objects/5V/mJ/MD5E-s25859552--4bb0b50e7d1a7de74759b014f2d1fa49.edf'\n",
      "Processing: MD5E-s25859552--4bb0b50e7d1a7de74759b014f2d1fa49.edf\n",
      "Error with MD5E-s25859552--4bb0b50e7d1a7de74759b014f2d1fa49.edf: 'utf-8' codec can't decode byte 0xec in position 27400: invalid continuation byte\n",
      "Processing: MD5E-s33028706--2aa4222287931de2dc05e2f8e500a77d.edf\n",
      "Error with MD5E-s33028706--2aa4222287931de2dc05e2f8e500a77d.edf: [Errno 21] Is a directory: '../data/ds004100/.git/annex/objects/5x/F3/MD5E-s33028706--2aa4222287931de2dc05e2f8e500a77d.edf'\n",
      "Processing: MD5E-s33028706--2aa4222287931de2dc05e2f8e500a77d.edf\n",
      "Error with MD5E-s33028706--2aa4222287931de2dc05e2f8e500a77d.edf: 'utf-8' codec can't decode byte 0xf5 in position 45056: invalid start byte\n",
      "Processing: MD5E-s22390772--cc9fb139109d2a7ef9d5b9fc551f3e24.edf\n",
      "Error with MD5E-s22390772--cc9fb139109d2a7ef9d5b9fc551f3e24.edf: [Errno 21] Is a directory: '../data/ds004100/.git/annex/objects/5x/Qp/MD5E-s22390772--cc9fb139109d2a7ef9d5b9fc551f3e24.edf'\n",
      "Processing: MD5E-s22390772--cc9fb139109d2a7ef9d5b9fc551f3e24.edf\n",
      "Error with MD5E-s22390772--cc9fb139109d2a7ef9d5b9fc551f3e24.edf: 'utf-8' codec can't decode byte 0x9c in position 28162: invalid start byte\n",
      "Processing: MD5E-s36065432--59a1c4884c2e5f533f502e2dd249e6f0.edf\n",
      "Error with MD5E-s36065432--59a1c4884c2e5f533f502e2dd249e6f0.edf: [Errno 21] Is a directory: '../data/ds004100/.git/annex/objects/5z/8P/MD5E-s36065432--59a1c4884c2e5f533f502e2dd249e6f0.edf'\n",
      "Processing: MD5E-s36065432--59a1c4884c2e5f533f502e2dd249e6f0.edf\n",
      "Error with MD5E-s36065432--59a1c4884c2e5f533f502e2dd249e6f0.edf: 'utf-8' codec can't decode byte 0xed in position 31232: invalid continuation byte\n",
      "Processing: MD5E-s116819352--4bf61d23200918af3ebad55ede449e0e.edf\n",
      "Error with MD5E-s116819352--4bf61d23200918af3ebad55ede449e0e.edf: [Errno 21] Is a directory: '../data/ds004100/.git/annex/objects/60/5p/MD5E-s116819352--4bf61d23200918af3ebad55ede449e0e.edf'\n",
      "Processing: MD5E-s116819352--4bf61d23200918af3ebad55ede449e0e.edf\n",
      "Error with MD5E-s116819352--4bf61d23200918af3ebad55ede449e0e.edf: 'utf-8' codec can't decode byte 0xf3 in position 49152: invalid continuation byte\n",
      "Processing: MD5E-s30824790--3baad931d74277ff40868384d0c22eca.edf\n",
      "Error with MD5E-s30824790--3baad931d74277ff40868384d0c22eca.edf: [Errno 21] Is a directory: '../data/ds004100/.git/annex/objects/61/wg/MD5E-s30824790--3baad931d74277ff40868384d0c22eca.edf'\n",
      "Processing: MD5E-s30824790--3baad931d74277ff40868384d0c22eca.edf\n",
      "Error with MD5E-s30824790--3baad931d74277ff40868384d0c22eca.edf: 'utf-8' codec can't decode byte 0x80 in position 30642: invalid start byte\n",
      "Processing: MD5E-s38167224--b8794fc5a04f6878c995a72808857451.edf\n",
      "Error with MD5E-s38167224--b8794fc5a04f6878c995a72808857451.edf: [Errno 21] Is a directory: '../data/ds004100/.git/annex/objects/63/7V/MD5E-s38167224--b8794fc5a04f6878c995a72808857451.edf'\n",
      "Processing: MD5E-s38167224--b8794fc5a04f6878c995a72808857451.edf\n",
      "Error with MD5E-s38167224--b8794fc5a04f6878c995a72808857451.edf: 'utf-8' codec can't decode byte 0xe2 in position 33024: invalid continuation byte\n",
      "Processing: MD5E-s32010136--f7c11f06262d60633790f61f1e95f66a.edf\n",
      "Error with MD5E-s32010136--f7c11f06262d60633790f61f1e95f66a.edf: [Errno 21] Is a directory: '../data/ds004100/.git/annex/objects/69/4k/MD5E-s32010136--f7c11f06262d60633790f61f1e95f66a.edf'\n",
      "Processing: MD5E-s32010136--f7c11f06262d60633790f61f1e95f66a.edf\n",
      "Error with MD5E-s32010136--f7c11f06262d60633790f61f1e95f66a.edf: 'utf-8' codec can't decode byte 0xfc in position 27296: invalid start byte\n",
      "Processing: MD5E-s25933366--baa0fe53c66842e76e7a4f384903e2f3.edf\n",
      "Error with MD5E-s25933366--baa0fe53c66842e76e7a4f384903e2f3.edf: [Errno 21] Is a directory: '../data/ds004100/.git/annex/objects/69/qV/MD5E-s25933366--baa0fe53c66842e76e7a4f384903e2f3.edf'\n",
      "Processing: MD5E-s25933366--baa0fe53c66842e76e7a4f384903e2f3.edf\n",
      "Error with MD5E-s25933366--baa0fe53c66842e76e7a4f384903e2f3.edf: 'utf-8' codec can't decode byte 0xf5 in position 27326: invalid start byte\n",
      "Processing: MD5E-s77179460--e144b9daeb02a83c803b0ec3a2ac1f90.edf\n",
      "Error with MD5E-s77179460--e144b9daeb02a83c803b0ec3a2ac1f90.edf: [Errno 21] Is a directory: '../data/ds004100/.git/annex/objects/6M/87/MD5E-s77179460--e144b9daeb02a83c803b0ec3a2ac1f90.edf'\n",
      "Processing: MD5E-s77179460--e144b9daeb02a83c803b0ec3a2ac1f90.edf\n",
      "Error with MD5E-s77179460--e144b9daeb02a83c803b0ec3a2ac1f90.edf: 'utf-8' codec can't decode byte 0x9f in position 24064: invalid start byte\n",
      "Processing: MD5E-s29523472--23e359d8b2eefddb18d0f9a4e191fd47.edf\n",
      "Error with MD5E-s29523472--23e359d8b2eefddb18d0f9a4e191fd47.edf: [Errno 21] Is a directory: '../data/ds004100/.git/annex/objects/6P/GX/MD5E-s29523472--23e359d8b2eefddb18d0f9a4e191fd47.edf'\n",
      "Processing: MD5E-s29523472--23e359d8b2eefddb18d0f9a4e191fd47.edf\n",
      "Error with MD5E-s29523472--23e359d8b2eefddb18d0f9a4e191fd47.edf: 'utf-8' codec can't decode byte 0xfd in position 33025: invalid start byte\n",
      "Processing: MD5E-s96579184--89a963eeddcb169e1eb16258ea1b6e74.edf\n",
      "Error with MD5E-s96579184--89a963eeddcb169e1eb16258ea1b6e74.edf: [Errno 21] Is a directory: '../data/ds004100/.git/annex/objects/6P/K7/MD5E-s96579184--89a963eeddcb169e1eb16258ea1b6e74.edf'\n",
      "Processing: MD5E-s96579184--89a963eeddcb169e1eb16258ea1b6e74.edf\n",
      "Error with MD5E-s96579184--89a963eeddcb169e1eb16258ea1b6e74.edf: 'utf-8' codec can't decode byte 0xf9 in position 49532: invalid start byte\n",
      "Processing: MD5E-s31557296--5932784f66491f2b26f97f1d5353c318.edf\n",
      "Error with MD5E-s31557296--5932784f66491f2b26f97f1d5353c318.edf: [Errno 21] Is a directory: '../data/ds004100/.git/annex/objects/6V/kq/MD5E-s31557296--5932784f66491f2b26f97f1d5353c318.edf'\n",
      "Processing: MD5E-s31557296--5932784f66491f2b26f97f1d5353c318.edf\n",
      "Error with MD5E-s31557296--5932784f66491f2b26f97f1d5353c318.edf: 'utf-8' codec can't decode byte 0xee in position 33024: invalid continuation byte\n",
      "Processing: MD5E-s32704682--6e1dfabe85fda14a16047a5508a89ed3.edf\n",
      "Error with MD5E-s32704682--6e1dfabe85fda14a16047a5508a89ed3.edf: [Errno 21] Is a directory: '../data/ds004100/.git/annex/objects/6W/z5/MD5E-s32704682--6e1dfabe85fda14a16047a5508a89ed3.edf'\n",
      "Processing: MD5E-s32704682--6e1dfabe85fda14a16047a5508a89ed3.edf\n",
      "Error with MD5E-s32704682--6e1dfabe85fda14a16047a5508a89ed3.edf: 'utf-8' codec can't decode byte 0xdf in position 32768: invalid continuation byte\n",
      "Processing: MD5E-s30660824--b73e6371dbe09c7e79b315305fc55f71.edf\n",
      "Error with MD5E-s30660824--b73e6371dbe09c7e79b315305fc55f71.edf: [Errno 21] Is a directory: '../data/ds004100/.git/annex/objects/6X/Mk/MD5E-s30660824--b73e6371dbe09c7e79b315305fc55f71.edf'\n",
      "Processing: MD5E-s30660824--b73e6371dbe09c7e79b315305fc55f71.edf\n",
      "Error with MD5E-s30660824--b73e6371dbe09c7e79b315305fc55f71.edf: 'utf-8' codec can't decode byte 0xe9 in position 26625: invalid continuation byte\n",
      "Processing: MD5E-s90758716--4c86650834e3fad591d63e0455954720.edf\n",
      "Error with MD5E-s90758716--4c86650834e3fad591d63e0455954720.edf: [Errno 21] Is a directory: '../data/ds004100/.git/annex/objects/6f/6v/MD5E-s90758716--4c86650834e3fad591d63e0455954720.edf'\n",
      "Processing: MD5E-s90758716--4c86650834e3fad591d63e0455954720.edf\n",
      "Error with MD5E-s90758716--4c86650834e3fad591d63e0455954720.edf: 'utf-8' codec can't decode byte 0xf1 in position 42500: invalid continuation byte\n",
      "Processing: MD5E-s68523524--4b1e601415744edb30400f96a3ad5245.edf\n",
      "Error with MD5E-s68523524--4b1e601415744edb30400f96a3ad5245.edf: [Errno 21] Is a directory: '../data/ds004100/.git/annex/objects/6q/J7/MD5E-s68523524--4b1e601415744edb30400f96a3ad5245.edf'\n",
      "Processing: MD5E-s68523524--4b1e601415744edb30400f96a3ad5245.edf\n",
      "Error with MD5E-s68523524--4b1e601415744edb30400f96a3ad5245.edf: 'utf-8' codec can't decode byte 0xc4 in position 35840: invalid continuation byte\n",
      "Processing: MD5E-s31261336--d64f666ed0a6fe7c51270dd0c3546bb8.edf\n",
      "Error with MD5E-s31261336--d64f666ed0a6fe7c51270dd0c3546bb8.edf: [Errno 21] Is a directory: '../data/ds004100/.git/annex/objects/6q/zz/MD5E-s31261336--d64f666ed0a6fe7c51270dd0c3546bb8.edf'\n",
      "Processing: MD5E-s31261336--d64f666ed0a6fe7c51270dd0c3546bb8.edf\n",
      "Error with MD5E-s31261336--d64f666ed0a6fe7c51270dd0c3546bb8.edf: 'utf-8' codec can't decode byte 0xf3 in position 27137: invalid continuation byte\n",
      "Processing: MD5E-s17836812--8860b679b46063259885268761748910.edf\n",
      "Error with MD5E-s17836812--8860b679b46063259885268761748910.edf: [Errno 21] Is a directory: '../data/ds004100/.git/annex/objects/73/Fv/MD5E-s17836812--8860b679b46063259885268761748910.edf'\n",
      "Processing: MD5E-s17836812--8860b679b46063259885268761748910.edf\n",
      "Error with MD5E-s17836812--8860b679b46063259885268761748910.edf: 'utf-8' codec can't decode byte 0xf9 in position 13825: invalid start byte\n",
      "Processing: MD5E-s21184958--5bdc994ffea2162838d5c5b9324b8bcd.edf\n",
      "Error with MD5E-s21184958--5bdc994ffea2162838d5c5b9324b8bcd.edf: [Errno 21] Is a directory: '../data/ds004100/.git/annex/objects/7K/30/MD5E-s21184958--5bdc994ffea2162838d5c5b9324b8bcd.edf'\n",
      "Processing: MD5E-s21184958--5bdc994ffea2162838d5c5b9324b8bcd.edf\n",
      "Error with MD5E-s21184958--5bdc994ffea2162838d5c5b9324b8bcd.edf: 'utf-8' codec can't decode byte 0xfd in position 25090: invalid start byte\n",
      "Processing: MD5E-s78710680--528ad06fdff8fb2fb89f6a041aa39824.edf\n",
      "Error with MD5E-s78710680--528ad06fdff8fb2fb89f6a041aa39824.edf: [Errno 21] Is a directory: '../data/ds004100/.git/annex/objects/7W/05/MD5E-s78710680--528ad06fdff8fb2fb89f6a041aa39824.edf'\n",
      "Processing: MD5E-s78710680--528ad06fdff8fb2fb89f6a041aa39824.edf\n",
      "Error with MD5E-s78710680--528ad06fdff8fb2fb89f6a041aa39824.edf: 'utf-8' codec can't decode byte 0xdd in position 33286: invalid continuation byte\n",
      "Processing: MD5E-s33920156--108a7b5a22ed8d25cea37d8ca3b22c28.edf\n",
      "Error with MD5E-s33920156--108a7b5a22ed8d25cea37d8ca3b22c28.edf: [Errno 21] Is a directory: '../data/ds004100/.git/annex/objects/7Z/12/MD5E-s33920156--108a7b5a22ed8d25cea37d8ca3b22c28.edf'\n",
      "Processing: MD5E-s33920156--108a7b5a22ed8d25cea37d8ca3b22c28.edf\n",
      "Error with MD5E-s33920156--108a7b5a22ed8d25cea37d8ca3b22c28.edf: 'utf-8' codec can't decode byte 0xfd in position 45064: invalid start byte\n",
      "Processing: MD5E-s28320664--929e7ae255cfb334b386c28ff4eb672e.edf\n",
      "Error with MD5E-s28320664--929e7ae255cfb334b386c28ff4eb672e.edf: [Errno 21] Is a directory: '../data/ds004100/.git/annex/objects/7g/W3/MD5E-s28320664--929e7ae255cfb334b386c28ff4eb672e.edf'\n",
      "Processing: MD5E-s28320664--929e7ae255cfb334b386c28ff4eb672e.edf\n",
      "Error with MD5E-s28320664--929e7ae255cfb334b386c28ff4eb672e.edf: 'utf-8' codec can't decode byte 0xdc in position 24066: invalid continuation byte\n",
      "Processing: MD5E-s73028278--820e85f975098e3151e962e3bcd5471d.edf\n",
      "Error with MD5E-s73028278--820e85f975098e3151e962e3bcd5471d.edf: [Errno 21] Is a directory: '../data/ds004100/.git/annex/objects/7x/67/MD5E-s73028278--820e85f975098e3151e962e3bcd5471d.edf'\n",
      "Processing: MD5E-s73028278--820e85f975098e3151e962e3bcd5471d.edf\n",
      "Error with MD5E-s73028278--820e85f975098e3151e962e3bcd5471d.edf: 'utf-8' codec can't decode byte 0xda in position 59904: invalid continuation byte\n",
      "Processing: MD5E-s37236888--99e898538887b17a27b7482a65decfed.edf\n",
      "Error with MD5E-s37236888--99e898538887b17a27b7482a65decfed.edf: [Errno 21] Is a directory: '../data/ds004100/.git/annex/objects/7x/qp/MD5E-s37236888--99e898538887b17a27b7482a65decfed.edf'\n",
      "Processing: MD5E-s37236888--99e898538887b17a27b7482a65decfed.edf\n",
      "Error with MD5E-s37236888--99e898538887b17a27b7482a65decfed.edf: 'utf-8' codec can't decode byte 0xee in position 31492: invalid continuation byte\n",
      "Processing: MD5E-s67523644--6a152e55c1044dd03f6d397224a5fb31.edf\n",
      "Error with MD5E-s67523644--6a152e55c1044dd03f6d397224a5fb31.edf: [Errno 21] Is a directory: '../data/ds004100/.git/annex/objects/89/w7/MD5E-s67523644--6a152e55c1044dd03f6d397224a5fb31.edf'\n",
      "Processing: MD5E-s67523644--6a152e55c1044dd03f6d397224a5fb31.edf\n",
      "Error with MD5E-s67523644--6a152e55c1044dd03f6d397224a5fb31.edf: 'utf-8' codec can't decode byte 0xea in position 35840: invalid continuation byte\n",
      "Processing: MD5E-s57221528--47281ca744ef9b89f510366dbffe7afd.edf\n",
      "Error with MD5E-s57221528--47281ca744ef9b89f510366dbffe7afd.edf: [Errno 21] Is a directory: '../data/ds004100/.git/annex/objects/8G/KP/MD5E-s57221528--47281ca744ef9b89f510366dbffe7afd.edf'\n",
      "Processing: MD5E-s57221528--47281ca744ef9b89f510366dbffe7afd.edf\n",
      "Error with MD5E-s57221528--47281ca744ef9b89f510366dbffe7afd.edf: 'utf-8' codec can't decode byte 0xfb in position 48128: invalid start byte\n",
      "Processing: MD5E-s31140758--c1dd739a040fad9b79ede227e21bbf21.edf\n",
      "Error with MD5E-s31140758--c1dd739a040fad9b79ede227e21bbf21.edf: [Errno 21] Is a directory: '../data/ds004100/.git/annex/objects/8f/70/MD5E-s31140758--c1dd739a040fad9b79ede227e21bbf21.edf'\n",
      "Processing: MD5E-s31140758--c1dd739a040fad9b79ede227e21bbf21.edf\n",
      "Error with MD5E-s31140758--c1dd739a040fad9b79ede227e21bbf21.edf: 'utf-8' codec can't decode byte 0xfb in position 31262: invalid start byte\n",
      "Processing: MD5E-s69007134--8b5f3255dd13130e0d1805dd2f48bbb7.edf\n",
      "Error with MD5E-s69007134--8b5f3255dd13130e0d1805dd2f48bbb7.edf: [Errno 21] Is a directory: '../data/ds004100/.git/annex/objects/8m/0m/MD5E-s69007134--8b5f3255dd13130e0d1805dd2f48bbb7.edf'\n",
      "Processing: MD5E-s69007134--8b5f3255dd13130e0d1805dd2f48bbb7.edf\n",
      "Error with MD5E-s69007134--8b5f3255dd13130e0d1805dd2f48bbb7.edf: 'utf-8' codec can't decode byte 0xff in position 33281: invalid start byte\n",
      "Processing: MD5E-s29754708--048375953b821c795d685ba333926846.edf\n",
      "Error with MD5E-s29754708--048375953b821c795d685ba333926846.edf: [Errno 21] Is a directory: '../data/ds004100/.git/annex/objects/8q/zK/MD5E-s29754708--048375953b821c795d685ba333926846.edf'\n",
      "Processing: MD5E-s29754708--048375953b821c795d685ba333926846.edf\n",
      "Error with MD5E-s29754708--048375953b821c795d685ba333926846.edf: 'utf-8' codec can't decode byte 0x84 in position 30728: invalid start byte\n",
      "Processing: MD5E-s50150040--9a6c791f2281da04a128a0bc23425bc0.edf\n",
      "Error with MD5E-s50150040--9a6c791f2281da04a128a0bc23425bc0.edf: [Errno 21] Is a directory: '../data/ds004100/.git/annex/objects/8v/PG/MD5E-s50150040--9a6c791f2281da04a128a0bc23425bc0.edf'\n",
      "Processing: MD5E-s50150040--9a6c791f2281da04a128a0bc23425bc0.edf\n",
      "Error with MD5E-s50150040--9a6c791f2281da04a128a0bc23425bc0.edf: 'utf-8' codec can't decode byte 0xff in position 42374: invalid start byte\n",
      "Processing: MD5E-s38774168--3ad74612a014cd8324f670d902783d4a.edf\n",
      "Error with MD5E-s38774168--3ad74612a014cd8324f670d902783d4a.edf: [Errno 21] Is a directory: '../data/ds004100/.git/annex/objects/93/pF/MD5E-s38774168--3ad74612a014cd8324f670d902783d4a.edf'\n",
      "Processing: MD5E-s38774168--3ad74612a014cd8324f670d902783d4a.edf\n",
      "Error with MD5E-s38774168--3ad74612a014cd8324f670d902783d4a.edf: 'utf-8' codec can't decode byte 0xfe in position 32769: invalid start byte\n",
      "Processing: MD5E-s30159042--43b80cc3973a13dc5006025a190a413f.edf\n",
      "Error with MD5E-s30159042--43b80cc3973a13dc5006025a190a413f.edf: [Errno 21] Is a directory: '../data/ds004100/.git/annex/objects/96/36/MD5E-s30159042--43b80cc3973a13dc5006025a190a413f.edf'\n",
      "Processing: MD5E-s30159042--43b80cc3973a13dc5006025a190a413f.edf\n",
      "Error with MD5E-s30159042--43b80cc3973a13dc5006025a190a413f.edf: 'utf-8' codec can't decode byte 0xfb in position 33025: invalid start byte\n",
      "Processing: MD5E-s118048664--5594244831f373e5dabcd9fc775615fc.edf\n",
      "Error with MD5E-s118048664--5594244831f373e5dabcd9fc775615fc.edf: [Errno 21] Is a directory: '../data/ds004100/.git/annex/objects/97/x4/MD5E-s118048664--5594244831f373e5dabcd9fc775615fc.edf'\n",
      "Processing: MD5E-s118048664--5594244831f373e5dabcd9fc775615fc.edf\n",
      "Error with MD5E-s118048664--5594244831f373e5dabcd9fc775615fc.edf: 'utf-8' codec can't decode byte 0xfc in position 49676: invalid start byte\n",
      "Processing: MD5E-s46523960--c868b0c8ef08497bcf9e81bc3024aa26.edf\n",
      "Error with MD5E-s46523960--c868b0c8ef08497bcf9e81bc3024aa26.edf: [Errno 21] Is a directory: '../data/ds004100/.git/annex/objects/99/0p/MD5E-s46523960--c868b0c8ef08497bcf9e81bc3024aa26.edf'\n",
      "Processing: MD5E-s46523960--c868b0c8ef08497bcf9e81bc3024aa26.edf\n",
      "Error with MD5E-s46523960--c868b0c8ef08497bcf9e81bc3024aa26.edf: 'utf-8' codec can't decode byte 0xe0 in position 46594: invalid continuation byte\n",
      "Processing: MD5E-s33067914--f9791018faef9654a1f963918cb055f4.edf\n",
      "Error with MD5E-s33067914--f9791018faef9654a1f963918cb055f4.edf: [Errno 21] Is a directory: '../data/ds004100/.git/annex/objects/9J/Q2/MD5E-s33067914--f9791018faef9654a1f963918cb055f4.edf'\n",
      "Processing: MD5E-s33067914--f9791018faef9654a1f963918cb055f4.edf\n",
      "Error with MD5E-s33067914--f9791018faef9654a1f963918cb055f4.edf: 'utf-8' codec can't decode byte 0xfd in position 35378: invalid start byte\n",
      "Processing: MD5E-s21170400--28251c3f089b971f020d131b72ca72f5.edf\n",
      "Error with MD5E-s21170400--28251c3f089b971f020d131b72ca72f5.edf: [Errno 21] Is a directory: '../data/ds004100/.git/annex/objects/9J/jx/MD5E-s21170400--28251c3f089b971f020d131b72ca72f5.edf'\n",
      "Processing: MD5E-s21170400--28251c3f089b971f020d131b72ca72f5.edf\n",
      "Error with MD5E-s21170400--28251c3f089b971f020d131b72ca72f5.edf: 'utf-8' codec can't decode byte 0xd5 in position 23040: invalid continuation byte\n",
      "Processing: MD5E-s63237458--247c4c68b25befc1e1c36c9117ee7d9f.edf\n",
      "Error with MD5E-s63237458--247c4c68b25befc1e1c36c9117ee7d9f.edf: [Errno 21] Is a directory: '../data/ds004100/.git/annex/objects/9k/MJ/MD5E-s63237458--247c4c68b25befc1e1c36c9117ee7d9f.edf'\n",
      "Processing: MD5E-s63237458--247c4c68b25befc1e1c36c9117ee7d9f.edf\n",
      "Error with MD5E-s63237458--247c4c68b25befc1e1c36c9117ee7d9f.edf: 'utf-8' codec can't decode byte 0xc2 in position 33282: invalid continuation byte\n",
      "Processing: MD5E-s56123216--74d643fa11a2babe43521eae231774d8.edf\n",
      "Error with MD5E-s56123216--74d643fa11a2babe43521eae231774d8.edf: [Errno 21] Is a directory: '../data/ds004100/.git/annex/objects/9k/jX/MD5E-s56123216--74d643fa11a2babe43521eae231774d8.edf'\n",
      "Processing: MD5E-s56123216--74d643fa11a2babe43521eae231774d8.edf\n",
      "Error with MD5E-s56123216--74d643fa11a2babe43521eae231774d8.edf: 'utf-8' codec can't decode byte 0xd2 in position 30720: invalid continuation byte\n",
      "Processing: MD5E-s66384554--a8dced2c4032d667c3c3762011374d49.edf\n",
      "Error with MD5E-s66384554--a8dced2c4032d667c3c3762011374d49.edf: [Errno 21] Is a directory: '../data/ds004100/.git/annex/objects/9m/0m/MD5E-s66384554--a8dced2c4032d667c3c3762011374d49.edf'\n",
      "Processing: MD5E-s66384554--a8dced2c4032d667c3c3762011374d49.edf\n",
      "Error with MD5E-s66384554--a8dced2c4032d667c3c3762011374d49.edf: 'utf-8' codec can't decode byte 0xef in position 33280: invalid continuation byte\n",
      "Processing: MD5E-s16794532--3857e27f3010c18fc45f176b5fb5311b.edf\n",
      "Error with MD5E-s16794532--3857e27f3010c18fc45f176b5fb5311b.edf: [Errno 21] Is a directory: '../data/ds004100/.git/annex/objects/FG/Pk/MD5E-s16794532--3857e27f3010c18fc45f176b5fb5311b.edf'\n",
      "Processing: MD5E-s16794532--3857e27f3010c18fc45f176b5fb5311b.edf\n",
      "Error with MD5E-s16794532--3857e27f3010c18fc45f176b5fb5311b.edf: 'utf-8' codec can't decode byte 0xf9 in position 13825: invalid start byte\n",
      "Processing: MD5E-s15539084--50a0233fb9764631d53c458309fb18bf.edf\n",
      "Error with MD5E-s15539084--50a0233fb9764631d53c458309fb18bf.edf: [Errno 21] Is a directory: '../data/ds004100/.git/annex/objects/FG/gG/MD5E-s15539084--50a0233fb9764631d53c458309fb18bf.edf'\n",
      "Processing: MD5E-s15539084--50a0233fb9764631d53c458309fb18bf.edf\n",
      "Error with MD5E-s15539084--50a0233fb9764631d53c458309fb18bf.edf: 'utf-8' codec can't decode byte 0x83 in position 16128: invalid start byte\n",
      "Processing: MD5E-s78710680--d431673048559ba075555b6a0fe02a62.edf\n",
      "Error with MD5E-s78710680--d431673048559ba075555b6a0fe02a62.edf: [Errno 21] Is a directory: '../data/ds004100/.git/annex/objects/FJ/P4/MD5E-s78710680--d431673048559ba075555b6a0fe02a62.edf'\n",
      "Processing: MD5E-s78710680--d431673048559ba075555b6a0fe02a62.edf\n",
      "Error with MD5E-s78710680--d431673048559ba075555b6a0fe02a62.edf: 'utf-8' codec can't decode byte 0xcf in position 33280: invalid continuation byte\n",
      "Processing: MD5E-s37544344--8213338ed92ed0a546a1ef2a7af29d8e.edf\n",
      "Error with MD5E-s37544344--8213338ed92ed0a546a1ef2a7af29d8e.edf: [Errno 21] Is a directory: '../data/ds004100/.git/annex/objects/FJ/x9/MD5E-s37544344--8213338ed92ed0a546a1ef2a7af29d8e.edf'\n",
      "Processing: MD5E-s37544344--8213338ed92ed0a546a1ef2a7af29d8e.edf\n",
      "Error with MD5E-s37544344--8213338ed92ed0a546a1ef2a7af29d8e.edf: 'utf-8' codec can't decode byte 0xfb in position 31746: invalid start byte\n",
      "Processing: MD5E-s28935576--6c500843831b0a53c68c0686e6848593.edf\n",
      "Error with MD5E-s28935576--6c500843831b0a53c68c0686e6848593.edf: [Errno 21] Is a directory: '../data/ds004100/.git/annex/objects/FP/zx/MD5E-s28935576--6c500843831b0a53c68c0686e6848593.edf'\n",
      "Processing: MD5E-s28935576--6c500843831b0a53c68c0686e6848593.edf\n",
      "Error with MD5E-s28935576--6c500843831b0a53c68c0686e6848593.edf: 'utf-8' codec can't decode byte 0xfa in position 24582: invalid start byte\n",
      "Processing: MD5E-s21875312--cef107f8f60e4e5f9cf8464f46a2d390.edf\n",
      "Error with MD5E-s21875312--cef107f8f60e4e5f9cf8464f46a2d390.edf: [Errno 21] Is a directory: '../data/ds004100/.git/annex/objects/Fq/5j/MD5E-s21875312--cef107f8f60e4e5f9cf8464f46a2d390.edf'\n",
      "Processing: MD5E-s21875312--cef107f8f60e4e5f9cf8464f46a2d390.edf\n",
      "Error with MD5E-s21875312--cef107f8f60e4e5f9cf8464f46a2d390.edf: 'utf-8' codec can't decode byte 0x89 in position 23044: invalid start byte\n",
      "Processing: MD5E-s79063654--27d8238dca338832871d54f14445c84a.edf\n",
      "Error with MD5E-s79063654--27d8238dca338832871d54f14445c84a.edf: [Errno 21] Is a directory: '../data/ds004100/.git/annex/objects/Fq/m0/MD5E-s79063654--27d8238dca338832871d54f14445c84a.edf'\n",
      "Processing: MD5E-s79063654--27d8238dca338832871d54f14445c84a.edf\n",
      "Error with MD5E-s79063654--27d8238dca338832871d54f14445c84a.edf: 'utf-8' codec can't decode byte 0xbe in position 49152: invalid start byte\n",
      "Processing: MD5E-s27191430--077e9050160912d73107d8685163e9e9.edf\n",
      "Error with MD5E-s27191430--077e9050160912d73107d8685163e9e9.edf: [Errno 21] Is a directory: '../data/ds004100/.git/annex/objects/Fv/wx/MD5E-s27191430--077e9050160912d73107d8685163e9e9.edf'\n",
      "Processing: MD5E-s27191430--077e9050160912d73107d8685163e9e9.edf\n",
      "Error with MD5E-s27191430--077e9050160912d73107d8685163e9e9.edf: 'utf-8' codec can't decode byte 0xfe in position 31530: invalid start byte\n",
      "Processing: MD5E-s59041688--c7070419f4e9508e5fc4b784bf34a0db.edf\n",
      "Error with MD5E-s59041688--c7070419f4e9508e5fc4b784bf34a0db.edf: [Errno 21] Is a directory: '../data/ds004100/.git/annex/objects/G1/26/MD5E-s59041688--c7070419f4e9508e5fc4b784bf34a0db.edf'\n",
      "Processing: MD5E-s59041688--c7070419f4e9508e5fc4b784bf34a0db.edf\n",
      "Error with MD5E-s59041688--c7070419f4e9508e5fc4b784bf34a0db.edf: 'utf-8' codec can't decode byte 0xf7 in position 25088: invalid start byte\n",
      "Processing: MD5E-s57205524--83f8fd3f795bd86d3692f39c7e9d51a1.edf\n",
      "Error with MD5E-s57205524--83f8fd3f795bd86d3692f39c7e9d51a1.edf: [Errno 21] Is a directory: '../data/ds004100/.git/annex/objects/G4/53/MD5E-s57205524--83f8fd3f795bd86d3692f39c7e9d51a1.edf'\n",
      "Processing: MD5E-s57205524--83f8fd3f795bd86d3692f39c7e9d51a1.edf\n",
      "Error with MD5E-s57205524--83f8fd3f795bd86d3692f39c7e9d51a1.edf: 'utf-8' codec can't decode byte 0xe7 in position 33280: invalid continuation byte\n",
      "Processing: MD5E-s90760076--8083ab59db50158a22e8ac90029478c2.edf\n",
      "Error with MD5E-s90760076--8083ab59db50158a22e8ac90029478c2.edf: [Errno 21] Is a directory: '../data/ds004100/.git/annex/objects/G7/29/MD5E-s90760076--8083ab59db50158a22e8ac90029478c2.edf'\n",
      "Processing: MD5E-s90760076--8083ab59db50158a22e8ac90029478c2.edf\n",
      "Error with MD5E-s90760076--8083ab59db50158a22e8ac90029478c2.edf: 'utf-8' codec can't decode byte 0xc8 in position 46592: invalid continuation byte\n",
      "Processing: MD5E-s28183574--fb2bb339e009e3307c3f6136c2dfa462.edf\n",
      "Error with MD5E-s28183574--fb2bb339e009e3307c3f6136c2dfa462.edf: [Errno 21] Is a directory: '../data/ds004100/.git/annex/objects/G7/9J/MD5E-s28183574--fb2bb339e009e3307c3f6136c2dfa462.edf'\n",
      "Processing: MD5E-s28183574--fb2bb339e009e3307c3f6136c2dfa462.edf\n",
      "Error with MD5E-s28183574--fb2bb339e009e3307c3f6136c2dfa462.edf: 'utf-8' codec can't decode byte 0x83 in position 31562: invalid start byte\n",
      "Processing: MD5E-s30165400--e7d8f6142c8f53abd53b8a43eced29ee.edf\n",
      "Error with MD5E-s30165400--e7d8f6142c8f53abd53b8a43eced29ee.edf: [Errno 21] Is a directory: '../data/ds004100/.git/annex/objects/GF/f4/MD5E-s30165400--e7d8f6142c8f53abd53b8a43eced29ee.edf'\n",
      "Processing: MD5E-s30165400--e7d8f6142c8f53abd53b8a43eced29ee.edf\n",
      "Error with MD5E-s30165400--e7d8f6142c8f53abd53b8a43eced29ee.edf: 'utf-8' codec can't decode byte 0xfb in position 25728: invalid start byte\n",
      "Processing: MD5E-s69067768--e2b1d4915e269b629afcb139dab53ad3.edf\n",
      "Error with MD5E-s69067768--e2b1d4915e269b629afcb139dab53ad3.edf: [Errno 21] Is a directory: '../data/ds004100/.git/annex/objects/Gk/0F/MD5E-s69067768--e2b1d4915e269b629afcb139dab53ad3.edf'\n",
      "Processing: MD5E-s69067768--e2b1d4915e269b629afcb139dab53ad3.edf\n",
      "Error with MD5E-s69067768--e2b1d4915e269b629afcb139dab53ad3.edf: 'utf-8' codec can't decode byte 0xf4 in position 24064: invalid continuation byte\n",
      "Processing: MD5E-s90316064--6a981c2306a077bb647cea7df15b7fcb.edf\n",
      "Error with MD5E-s90316064--6a981c2306a077bb647cea7df15b7fcb.edf: [Errno 21] Is a directory: '../data/ds004100/.git/annex/objects/Gk/kw/MD5E-s90316064--6a981c2306a077bb647cea7df15b7fcb.edf'\n",
      "Processing: MD5E-s90316064--6a981c2306a077bb647cea7df15b7fcb.edf\n",
      "Error with MD5E-s90316064--6a981c2306a077bb647cea7df15b7fcb.edf: 'utf-8' codec can't decode byte 0xf9 in position 41984: invalid start byte\n",
      "Processing: MD5E-s32317592--ee141ad307390518633d088008f03a0f.edf\n",
      "Error with MD5E-s32317592--ee141ad307390518633d088008f03a0f.edf: [Errno 21] Is a directory: '../data/ds004100/.git/annex/objects/Gk/wP/MD5E-s32317592--ee141ad307390518633d088008f03a0f.edf'\n",
      "Processing: MD5E-s32317592--ee141ad307390518633d088008f03a0f.edf\n",
      "Error with MD5E-s32317592--ee141ad307390518633d088008f03a0f.edf: 'utf-8' codec can't decode byte 0xfc in position 27478: invalid start byte\n",
      "Processing: MD5E-s33547416--bdb8a44e37f78dfd476647e17f30e350.edf\n",
      "Error with MD5E-s33547416--bdb8a44e37f78dfd476647e17f30e350.edf: [Errno 21] Is a directory: '../data/ds004100/.git/annex/objects/Gm/MK/MD5E-s33547416--bdb8a44e37f78dfd476647e17f30e350.edf'\n",
      "Processing: MD5E-s33547416--bdb8a44e37f78dfd476647e17f30e350.edf\n",
      "Error with MD5E-s33547416--bdb8a44e37f78dfd476647e17f30e350.edf: 'utf-8' codec can't decode byte 0xff in position 28417: invalid start byte\n",
      "Processing: MD5E-s40990106--3989fd1b9e98cba919c7e9d1055c6994.edf\n",
      "Error with MD5E-s40990106--3989fd1b9e98cba919c7e9d1055c6994.edf: [Errno 21] Is a directory: '../data/ds004100/.git/annex/objects/Gm/WW/MD5E-s40990106--3989fd1b9e98cba919c7e9d1055c6994.edf'\n",
      "Processing: MD5E-s40990106--3989fd1b9e98cba919c7e9d1055c6994.edf\n",
      "Error with MD5E-s40990106--3989fd1b9e98cba919c7e9d1055c6994.edf: 'utf-8' codec can't decode byte 0xfd in position 31246: invalid start byte\n",
      "Processing: MD5E-s100838296--d9868cbd28783f98c2d0fe99b1e2d719.edf\n",
      "Error with MD5E-s100838296--d9868cbd28783f98c2d0fe99b1e2d719.edf: [Errno 21] Is a directory: '../data/ds004100/.git/annex/objects/Gm/Wp/MD5E-s100838296--d9868cbd28783f98c2d0fe99b1e2d719.edf'\n",
      "Processing: MD5E-s100838296--d9868cbd28783f98c2d0fe99b1e2d719.edf\n",
      "Error with MD5E-s100838296--d9868cbd28783f98c2d0fe99b1e2d719.edf: 'utf-8' codec can't decode byte 0x82 in position 42502: invalid start byte\n",
      "Processing: MD5E-s21601724--b312f5c5b858357a284bbeb8b4b7cbc6.edf\n",
      "Error with MD5E-s21601724--b312f5c5b858357a284bbeb8b4b7cbc6.edf: [Errno 21] Is a directory: '../data/ds004100/.git/annex/objects/Gm/ZQ/MD5E-s21601724--b312f5c5b858357a284bbeb8b4b7cbc6.edf'\n",
      "Processing: MD5E-s21601724--b312f5c5b858357a284bbeb8b4b7cbc6.edf\n",
      "Error with MD5E-s21601724--b312f5c5b858357a284bbeb8b4b7cbc6.edf: 'utf-8' codec can't decode byte 0xf6 in position 16648: invalid start byte\n",
      "Processing: MD5E-s60045826--778521ed602ce5b2d32ee4a2b09d25a2.edf\n",
      "Error with MD5E-s60045826--778521ed602ce5b2d32ee4a2b09d25a2.edf: [Errno 21] Is a directory: '../data/ds004100/.git/annex/objects/Gv/5W/MD5E-s60045826--778521ed602ce5b2d32ee4a2b09d25a2.edf'\n",
      "Processing: MD5E-s60045826--778521ed602ce5b2d32ee4a2b09d25a2.edf\n",
      "Error with MD5E-s60045826--778521ed602ce5b2d32ee4a2b09d25a2.edf: 'utf-8' codec can't decode byte 0x96 in position 38656: invalid start byte\n",
      "Processing: MD5E-s30622246--cfcdf09a1fcb28043723f2e9e89a69fa.edf\n",
      "Error with MD5E-s30622246--cfcdf09a1fcb28043723f2e9e89a69fa.edf: [Errno 21] Is a directory: '../data/ds004100/.git/annex/objects/Gv/jZ/MD5E-s30622246--cfcdf09a1fcb28043723f2e9e89a69fa.edf'\n",
      "Processing: MD5E-s30622246--cfcdf09a1fcb28043723f2e9e89a69fa.edf\n",
      "Error with MD5E-s30622246--cfcdf09a1fcb28043723f2e9e89a69fa.edf: 'utf-8' codec can't decode byte 0xf4 in position 30721: invalid continuation byte\n",
      "Processing: MD5E-s15744838--aa63fa74be9ba0e22a1022e805a84bc7.edf\n",
      "Error with MD5E-s15744838--aa63fa74be9ba0e22a1022e805a84bc7.edf: [Errno 21] Is a directory: '../data/ds004100/.git/annex/objects/J2/8x/MD5E-s15744838--aa63fa74be9ba0e22a1022e805a84bc7.edf'\n",
      "Processing: MD5E-s15744838--aa63fa74be9ba0e22a1022e805a84bc7.edf\n",
      "Error with MD5E-s15744838--aa63fa74be9ba0e22a1022e805a84bc7.edf: 'utf-8' codec can't decode byte 0xcc in position 21504: invalid continuation byte\n",
      "Processing: MD5E-s57221528--95329a2430979c8b881a0916891c5462.edf\n",
      "Error with MD5E-s57221528--95329a2430979c8b881a0916891c5462.edf: [Errno 21] Is a directory: '../data/ds004100/.git/annex/objects/J4/4F/MD5E-s57221528--95329a2430979c8b881a0916891c5462.edf'\n",
      "Processing: MD5E-s57221528--95329a2430979c8b881a0916891c5462.edf\n",
      "Error with MD5E-s57221528--95329a2430979c8b881a0916891c5462.edf: 'utf-8' codec can't decode byte 0xf3 in position 48128: invalid continuation byte\n",
      "Processing: MD5E-s24438838--e921bfd9638f98ce9e24ce0a157645f5.edf\n",
      "Error with MD5E-s24438838--e921bfd9638f98ce9e24ce0a157645f5.edf: [Errno 21] Is a directory: '../data/ds004100/.git/annex/objects/JM/gV/MD5E-s24438838--e921bfd9638f98ce9e24ce0a157645f5.edf'\n",
      "Processing: MD5E-s24438838--e921bfd9638f98ce9e24ce0a157645f5.edf\n",
      "Error with MD5E-s24438838--e921bfd9638f98ce9e24ce0a157645f5.edf: 'utf-8' codec can't decode byte 0xfd in position 25720: invalid start byte\n",
      "Processing: MD5E-s84613344--839e645ce84094a583e33286457b21da.edf\n",
      "Error with MD5E-s84613344--839e645ce84094a583e33286457b21da.edf: [Errno 21] Is a directory: '../data/ds004100/.git/annex/objects/JM/mF/MD5E-s84613344--839e645ce84094a583e33286457b21da.edf'\n",
      "Processing: MD5E-s84613344--839e645ce84094a583e33286457b21da.edf\n",
      "Error with MD5E-s84613344--839e645ce84094a583e33286457b21da.edf: 'utf-8' codec can't decode byte 0xf5 in position 44568: invalid start byte\n",
      "Processing: MD5E-s65523884--61162ae48cc9d727bcfe95b558067ad4.edf\n",
      "Error with MD5E-s65523884--61162ae48cc9d727bcfe95b558067ad4.edf: [Errno 21] Is a directory: '../data/ds004100/.git/annex/objects/JW/2Q/MD5E-s65523884--61162ae48cc9d727bcfe95b558067ad4.edf'\n",
      "Processing: MD5E-s65523884--61162ae48cc9d727bcfe95b558067ad4.edf\n",
      "Error with MD5E-s65523884--61162ae48cc9d727bcfe95b558067ad4.edf: 'utf-8' codec can't decode byte 0xfb in position 35848: invalid start byte\n",
      "Processing: MD5E-s59041688--f32ca472ca72b46985a3e20790b65136.edf\n",
      "Error with MD5E-s59041688--f32ca472ca72b46985a3e20790b65136.edf: [Errno 21] Is a directory: '../data/ds004100/.git/annex/objects/JW/Mz/MD5E-s59041688--f32ca472ca72b46985a3e20790b65136.edf'\n",
      "Processing: MD5E-s59041688--f32ca472ca72b46985a3e20790b65136.edf\n",
      "Error with MD5E-s59041688--f32ca472ca72b46985a3e20790b65136.edf: 'utf-8' codec can't decode byte 0xf3 in position 25088: invalid continuation byte\n",
      "Processing: MD5E-s52280472--472811c3012c8c12317776e216b27af7.edf\n",
      "Error with MD5E-s52280472--472811c3012c8c12317776e216b27af7.edf: [Errno 21] Is a directory: '../data/ds004100/.git/annex/objects/JZ/Zg/MD5E-s52280472--472811c3012c8c12317776e216b27af7.edf'\n",
      "Processing: MD5E-s52280472--472811c3012c8c12317776e216b27af7.edf\n",
      "Error with MD5E-s52280472--472811c3012c8c12317776e216b27af7.edf: 'utf-8' codec can't decode byte 0x9c in position 22272: invalid start byte\n",
      "Processing: MD5E-s78710680--27d5a10b150eed3e7df982eb955b3fb3.edf\n",
      "Error with MD5E-s78710680--27d5a10b150eed3e7df982eb955b3fb3.edf: [Errno 21] Is a directory: '../data/ds004100/.git/annex/objects/JZ/qV/MD5E-s78710680--27d5a10b150eed3e7df982eb955b3fb3.edf'\n",
      "Processing: MD5E-s78710680--27d5a10b150eed3e7df982eb955b3fb3.edf\n",
      "Error with MD5E-s78710680--27d5a10b150eed3e7df982eb955b3fb3.edf: 'utf-8' codec can't decode byte 0xc4 in position 33280: invalid continuation byte\n",
      "Processing: MD5E-s54845202--b4008afad01f568386140a05aad397c1.edf\n",
      "Error with MD5E-s54845202--b4008afad01f568386140a05aad397c1.edf: [Errno 21] Is a directory: '../data/ds004100/.git/annex/objects/K1/XV/MD5E-s54845202--b4008afad01f568386140a05aad397c1.edf'\n",
      "Processing: MD5E-s54845202--b4008afad01f568386140a05aad397c1.edf\n",
      "Error with MD5E-s54845202--b4008afad01f568386140a05aad397c1.edf: 'utf-8' codec can't decode byte 0x81 in position 33534: invalid start byte\n",
      "Processing: MD5E-s90979844--609489d7cb5f80198ddcccd5ba20340f.edf\n",
      "Error with MD5E-s90979844--609489d7cb5f80198ddcccd5ba20340f.edf: [Errno 21] Is a directory: '../data/ds004100/.git/annex/objects/K2/2g/MD5E-s90979844--609489d7cb5f80198ddcccd5ba20340f.edf'\n",
      "Processing: MD5E-s90979844--609489d7cb5f80198ddcccd5ba20340f.edf\n",
      "Error with MD5E-s90979844--609489d7cb5f80198ddcccd5ba20340f.edf: 'utf-8' codec can't decode byte 0xff in position 41994: invalid start byte\n",
      "Processing: MD5E-s15435168--acd4c80e86c67a9e640169d731d13a90.edf\n",
      "Error with MD5E-s15435168--acd4c80e86c67a9e640169d731d13a90.edf: [Errno 21] Is a directory: '../data/ds004100/.git/annex/objects/K4/0z/MD5E-s15435168--acd4c80e86c67a9e640169d731d13a90.edf'\n",
      "Processing: MD5E-s15435168--acd4c80e86c67a9e640169d731d13a90.edf\n",
      "Error with MD5E-s15435168--acd4c80e86c67a9e640169d731d13a90.edf: 'utf-8' codec can't decode byte 0xfb in position 19748: invalid start byte\n",
      "Processing: MD5E-s55107460--b74ea412734843d28d5bf5a891532211.edf\n",
      "Error with MD5E-s55107460--b74ea412734843d28d5bf5a891532211.edf: [Errno 21] Is a directory: '../data/ds004100/.git/annex/objects/K4/pJ/MD5E-s55107460--b74ea412734843d28d5bf5a891532211.edf'\n",
      "Processing: MD5E-s55107460--b74ea412734843d28d5bf5a891532211.edf\n",
      "Error with MD5E-s55107460--b74ea412734843d28d5bf5a891532211.edf: 'utf-8' codec can't decode byte 0x91 in position 33280: invalid start byte\n",
      "Processing: MD5E-s35464920--9b1e3a7df14a3c6acff54a3ad4dc8178.edf\n",
      "Error with MD5E-s35464920--9b1e3a7df14a3c6acff54a3ad4dc8178.edf: [Errno 21] Is a directory: '../data/ds004100/.git/annex/objects/KV/V7/MD5E-s35464920--9b1e3a7df14a3c6acff54a3ad4dc8178.edf'\n",
      "Processing: MD5E-s35464920--9b1e3a7df14a3c6acff54a3ad4dc8178.edf\n",
      "Error with MD5E-s35464920--9b1e3a7df14a3c6acff54a3ad4dc8178.edf: 'utf-8' codec can't decode byte 0x82 in position 30720: invalid start byte\n",
      "Processing: MD5E-s36314520--8a4c7d72c53b455f2fb715c913da56d4.edf\n",
      "Error with MD5E-s36314520--8a4c7d72c53b455f2fb715c913da56d4.edf: [Errno 21] Is a directory: '../data/ds004100/.git/annex/objects/M1/Z3/MD5E-s36314520--8a4c7d72c53b455f2fb715c913da56d4.edf'\n",
      "Processing: MD5E-s36314520--8a4c7d72c53b455f2fb715c913da56d4.edf\n",
      "Error with MD5E-s36314520--8a4c7d72c53b455f2fb715c913da56d4.edf: 'utf-8' codec can't decode byte 0xb7 in position 30720: invalid start byte\n",
      "Processing: MD5E-s20730182--7b426905f6b29cd9fe0e275c80ac5604.edf\n",
      "Error with MD5E-s20730182--7b426905f6b29cd9fe0e275c80ac5604.edf: [Errno 21] Is a directory: '../data/ds004100/.git/annex/objects/M1/pZ/MD5E-s20730182--7b426905f6b29cd9fe0e275c80ac5604.edf'\n",
      "Processing: MD5E-s20730182--7b426905f6b29cd9fe0e275c80ac5604.edf\n",
      "Error with MD5E-s20730182--7b426905f6b29cd9fe0e275c80ac5604.edf: 'utf-8' codec can't decode byte 0xaa in position 28160: invalid start byte\n",
      "Processing: MD5E-s38167224--84317f02a41f3dc1182188912d92cbec.edf\n",
      "Error with MD5E-s38167224--84317f02a41f3dc1182188912d92cbec.edf: [Errno 21] Is a directory: '../data/ds004100/.git/annex/objects/M2/1g/MD5E-s38167224--84317f02a41f3dc1182188912d92cbec.edf'\n",
      "Processing: MD5E-s38167224--84317f02a41f3dc1182188912d92cbec.edf\n",
      "Error with MD5E-s38167224--84317f02a41f3dc1182188912d92cbec.edf: 'utf-8' codec can't decode byte 0xf8 in position 33024: invalid start byte\n",
      "Processing: MD5E-s63761974--26c38edce97661f9c45ecbfc5c70e7c7.edf\n",
      "Error with MD5E-s63761974--26c38edce97661f9c45ecbfc5c70e7c7.edf: [Errno 21] Is a directory: '../data/ds004100/.git/annex/objects/M2/M5/MD5E-s63761974--26c38edce97661f9c45ecbfc5c70e7c7.edf'\n",
      "Processing: MD5E-s63761974--26c38edce97661f9c45ecbfc5c70e7c7.edf\n",
      "Error with MD5E-s63761974--26c38edce97661f9c45ecbfc5c70e7c7.edf: 'utf-8' codec can't decode byte 0x82 in position 33280: invalid start byte\n",
      "Processing: MD5E-s33625426--03d8c2924d30f9f70eea0a56b1f605ee.edf\n",
      "Error with MD5E-s33625426--03d8c2924d30f9f70eea0a56b1f605ee.edf: [Errno 21] Is a directory: '../data/ds004100/.git/annex/objects/M9/Z2/MD5E-s33625426--03d8c2924d30f9f70eea0a56b1f605ee.edf'\n",
      "Processing: MD5E-s33625426--03d8c2924d30f9f70eea0a56b1f605ee.edf\n",
      "Error with MD5E-s33625426--03d8c2924d30f9f70eea0a56b1f605ee.edf: 'utf-8' codec can't decode byte 0xf5 in position 35328: invalid start byte\n",
      "Processing: MD5E-s24832476--48aa31638a02971e0a37c384f085b0c0.edf\n",
      "Error with MD5E-s24832476--48aa31638a02971e0a37c384f085b0c0.edf: [Errno 21] Is a directory: '../data/ds004100/.git/annex/objects/Mg/5z/MD5E-s24832476--48aa31638a02971e0a37c384f085b0c0.edf'\n",
      "Processing: MD5E-s24832476--48aa31638a02971e0a37c384f085b0c0.edf\n",
      "Error with MD5E-s24832476--48aa31638a02971e0a37c384f085b0c0.edf: 'utf-8' codec can't decode byte 0xf9 in position 28460: invalid start byte\n",
      "Processing: MD5E-s52280472--7685a0905d2594d5a477875b7535e4e4.edf\n",
      "Error with MD5E-s52280472--7685a0905d2594d5a477875b7535e4e4.edf: [Errno 21] Is a directory: '../data/ds004100/.git/annex/objects/P0/Gx/MD5E-s52280472--7685a0905d2594d5a477875b7535e4e4.edf'\n",
      "Processing: MD5E-s52280472--7685a0905d2594d5a477875b7535e4e4.edf\n",
      "Error with MD5E-s52280472--7685a0905d2594d5a477875b7535e4e4.edf: 'utf-8' codec can't decode byte 0xd6 in position 22272: invalid continuation byte\n",
      "Processing: MD5E-s28803664--d8b7ed4296ea3449074ace1adc8eaf3c.edf\n",
      "Error with MD5E-s28803664--d8b7ed4296ea3449074ace1adc8eaf3c.edf: [Errno 21] Is a directory: '../data/ds004100/.git/annex/objects/P2/3K/MD5E-s28803664--d8b7ed4296ea3449074ace1adc8eaf3c.edf'\n",
      "Processing: MD5E-s28803664--d8b7ed4296ea3449074ace1adc8eaf3c.edf\n",
      "Error with MD5E-s28803664--d8b7ed4296ea3449074ace1adc8eaf3c.edf: 'utf-8' codec can't decode byte 0xff in position 31502: invalid start byte\n",
      "Processing: MD5E-s34455026--1b466f6f6dbadc4e4a1917c79053632d.edf\n",
      "Error with MD5E-s34455026--1b466f6f6dbadc4e4a1917c79053632d.edf: [Errno 21] Is a directory: '../data/ds004100/.git/annex/objects/P8/02/MD5E-s34455026--1b466f6f6dbadc4e4a1917c79053632d.edf'\n",
      "Processing: MD5E-s34455026--1b466f6f6dbadc4e4a1917c79053632d.edf\n",
      "Error with MD5E-s34455026--1b466f6f6dbadc4e4a1917c79053632d.edf: 'utf-8' codec can't decode byte 0xfd in position 45062: invalid start byte\n",
      "Processing: MD5E-s29269244--3ce26716a6d9f78accb3fa891186de46.edf\n",
      "Error with MD5E-s29269244--3ce26716a6d9f78accb3fa891186de46.edf: [Errno 21] Is a directory: '../data/ds004100/.git/annex/objects/PG/2V/MD5E-s29269244--3ce26716a6d9f78accb3fa891186de46.edf'\n",
      "Processing: MD5E-s29269244--3ce26716a6d9f78accb3fa891186de46.edf\n",
      "Error with MD5E-s29269244--3ce26716a6d9f78accb3fa891186de46.edf: 'utf-8' codec can't decode byte 0x89 in position 33024: invalid start byte\n",
      "Processing: MD5E-s15913002--df2a9fc2f8e2bfe41c77d3fd80b35a55.edf\n",
      "Error with MD5E-s15913002--df2a9fc2f8e2bfe41c77d3fd80b35a55.edf: [Errno 21] Is a directory: '../data/ds004100/.git/annex/objects/PG/QM/MD5E-s15913002--df2a9fc2f8e2bfe41c77d3fd80b35a55.edf'\n",
      "Processing: MD5E-s15913002--df2a9fc2f8e2bfe41c77d3fd80b35a55.edf\n",
      "Error with MD5E-s15913002--df2a9fc2f8e2bfe41c77d3fd80b35a55.edf: 'utf-8' codec can't decode byte 0xfd in position 21506: invalid start byte\n",
      "Processing: MD5E-s22253656--7ac727779a6a5ba5a5d01f3c001a0605.edf\n",
      "Error with MD5E-s22253656--7ac727779a6a5ba5a5d01f3c001a0605.edf: [Errno 21] Is a directory: '../data/ds004100/.git/annex/objects/PG/pk/MD5E-s22253656--7ac727779a6a5ba5a5d01f3c001a0605.edf'\n",
      "Processing: MD5E-s22253656--7ac727779a6a5ba5a5d01f3c001a0605.edf\n",
      "Error with MD5E-s22253656--7ac727779a6a5ba5a5d01f3c001a0605.edf: 'utf-8' codec can't decode byte 0x89 in position 19462: invalid start byte\n",
      "Processing: MD5E-s31557296--e4b06f614bc7dd72e9a64ab772bd2de1.edf\n",
      "Error with MD5E-s31557296--e4b06f614bc7dd72e9a64ab772bd2de1.edf: [Errno 21] Is a directory: '../data/ds004100/.git/annex/objects/Pj/F4/MD5E-s31557296--e4b06f614bc7dd72e9a64ab772bd2de1.edf'\n",
      "Processing: MD5E-s31557296--e4b06f614bc7dd72e9a64ab772bd2de1.edf\n",
      "Error with MD5E-s31557296--e4b06f614bc7dd72e9a64ab772bd2de1.edf: 'utf-8' codec can't decode byte 0xf5 in position 33025: invalid start byte\n",
      "Processing: MD5E-s32317592--322c75720ee0acd899e111994d1b7c6e.edf\n",
      "Error with MD5E-s32317592--322c75720ee0acd899e111994d1b7c6e.edf: [Errno 21] Is a directory: '../data/ds004100/.git/annex/objects/Pj/gM/MD5E-s32317592--322c75720ee0acd899e111994d1b7c6e.edf'\n",
      "Processing: MD5E-s32317592--322c75720ee0acd899e111994d1b7c6e.edf\n",
      "Error with MD5E-s32317592--322c75720ee0acd899e111994d1b7c6e.edf: 'utf-8' codec can't decode byte 0x94 in position 27392: invalid start byte\n",
      "Processing: MD5E-s26815436--4c48e387333b1fbcc23ea2564f3d4c3e.edf\n",
      "Error with MD5E-s26815436--4c48e387333b1fbcc23ea2564f3d4c3e.edf: [Errno 21] Is a directory: '../data/ds004100/.git/annex/objects/Pv/q4/MD5E-s26815436--4c48e387333b1fbcc23ea2564f3d4c3e.edf'\n",
      "Processing: MD5E-s26815436--4c48e387333b1fbcc23ea2564f3d4c3e.edf\n",
      "Error with MD5E-s26815436--4c48e387333b1fbcc23ea2564f3d4c3e.edf: 'utf-8' codec can't decode byte 0xbb in position 24576: invalid start byte\n",
      "Processing: MD5E-s99608984--60170029ec515578848003b566348d2f.edf\n",
      "Error with MD5E-s99608984--60170029ec515578848003b566348d2f.edf: [Errno 21] Is a directory: '../data/ds004100/.git/annex/objects/Pw/05/MD5E-s99608984--60170029ec515578848003b566348d2f.edf'\n",
      "Processing: MD5E-s99608984--60170029ec515578848003b566348d2f.edf\n",
      "Error with MD5E-s99608984--60170029ec515578848003b566348d2f.edf: 'utf-8' codec can't decode byte 0xff in position 43778: invalid start byte\n",
      "Processing: MD5E-s104287748--a995f6c14959aa8cd5b7a4ba83cc6e59.edf\n",
      "Error with MD5E-s104287748--a995f6c14959aa8cd5b7a4ba83cc6e59.edf: [Errno 21] Is a directory: '../data/ds004100/.git/annex/objects/Pw/PW/MD5E-s104287748--a995f6c14959aa8cd5b7a4ba83cc6e59.edf'\n",
      "Processing: MD5E-s104287748--a995f6c14959aa8cd5b7a4ba83cc6e59.edf\n",
      "Error with MD5E-s104287748--a995f6c14959aa8cd5b7a4ba83cc6e59.edf: 'utf-8' codec can't decode byte 0x83 in position 25194: invalid start byte\n",
      "Processing: MD5E-s22360708--aa37c04d0c4fbc0313979e155c78cd44.edf\n",
      "Error with MD5E-s22360708--aa37c04d0c4fbc0313979e155c78cd44.edf: [Errno 21] Is a directory: '../data/ds004100/.git/annex/objects/Pw/w8/MD5E-s22360708--aa37c04d0c4fbc0313979e155c78cd44.edf'\n",
      "Processing: MD5E-s22360708--aa37c04d0c4fbc0313979e155c78cd44.edf\n",
      "Error with MD5E-s22360708--aa37c04d0c4fbc0313979e155c78cd44.edf: 'utf-8' codec can't decode byte 0x86 in position 15620: invalid start byte\n",
      "Processing: MD5E-s35699608--2fc36c58bfa892569b9fddf49db9076b.edf\n",
      "Error with MD5E-s35699608--2fc36c58bfa892569b9fddf49db9076b.edf: [Errno 21] Is a directory: '../data/ds004100/.git/annex/objects/Px/05/MD5E-s35699608--2fc36c58bfa892569b9fddf49db9076b.edf'\n",
      "Processing: MD5E-s35699608--2fc36c58bfa892569b9fddf49db9076b.edf\n",
      "Error with MD5E-s35699608--2fc36c58bfa892569b9fddf49db9076b.edf: 'utf-8' codec can't decode byte 0xbe in position 30208: invalid start byte\n",
      "Processing: MD5E-s35668714--7b325e48d2906ec7b1251fc19986b32f.edf\n",
      "Error with MD5E-s35668714--7b325e48d2906ec7b1251fc19986b32f.edf: [Errno 21] Is a directory: '../data/ds004100/.git/annex/objects/Px/83/MD5E-s35668714--7b325e48d2906ec7b1251fc19986b32f.edf'\n",
      "Processing: MD5E-s35668714--7b325e48d2906ec7b1251fc19986b32f.edf\n",
      "Error with MD5E-s35668714--7b325e48d2906ec7b1251fc19986b32f.edf: 'utf-8' codec can't decode byte 0x82 in position 31744: invalid start byte\n",
      "Processing: MD5E-s37544344--052f73c29fcc989b18a367aa0921a9cd.edf\n",
      "Error with MD5E-s37544344--052f73c29fcc989b18a367aa0921a9cd.edf: [Errno 21] Is a directory: '../data/ds004100/.git/annex/objects/Px/K2/MD5E-s37544344--052f73c29fcc989b18a367aa0921a9cd.edf'\n",
      "Processing: MD5E-s37544344--052f73c29fcc989b18a367aa0921a9cd.edf\n",
      "Error with MD5E-s37544344--052f73c29fcc989b18a367aa0921a9cd.edf: 'utf-8' codec can't decode byte 0xdd in position 31744: invalid continuation byte\n",
      "Processing: MD5E-s32510402--8fbcf43242da8c2bbfd22bb93f268bd7.edf\n",
      "Error with MD5E-s32510402--8fbcf43242da8c2bbfd22bb93f268bd7.edf: [Errno 21] Is a directory: '../data/ds004100/.git/annex/objects/Px/Vv/MD5E-s32510402--8fbcf43242da8c2bbfd22bb93f268bd7.edf'\n",
      "Processing: MD5E-s32510402--8fbcf43242da8c2bbfd22bb93f268bd7.edf\n",
      "Error with MD5E-s32510402--8fbcf43242da8c2bbfd22bb93f268bd7.edf: 'utf-8' codec can't decode byte 0xff in position 35482: invalid start byte\n",
      "Processing: MD5E-s35173184--53b1e46fa1022d222d762f7559db716c.edf\n",
      "Error with MD5E-s35173184--53b1e46fa1022d222d762f7559db716c.edf: [Errno 21] Is a directory: '../data/ds004100/.git/annex/objects/Px/gZ/MD5E-s35173184--53b1e46fa1022d222d762f7559db716c.edf'\n",
      "Processing: MD5E-s35173184--53b1e46fa1022d222d762f7559db716c.edf\n",
      "Error with MD5E-s35173184--53b1e46fa1022d222d762f7559db716c.edf: 'utf-8' codec can't decode byte 0xd4 in position 16640: invalid continuation byte\n",
      "Processing: MD5E-s55376792--1af281af3aa661802748f4665f8bd74a.edf\n",
      "Error with MD5E-s55376792--1af281af3aa661802748f4665f8bd74a.edf: [Errno 21] Is a directory: '../data/ds004100/.git/annex/objects/Q0/Z6/MD5E-s55376792--1af281af3aa661802748f4665f8bd74a.edf'\n",
      "Processing: MD5E-s55376792--1af281af3aa661802748f4665f8bd74a.edf\n",
      "Error with MD5E-s55376792--1af281af3aa661802748f4665f8bd74a.edf: 'utf-8' codec can't decode byte 0xf4 in position 46592: invalid continuation byte\n",
      "Processing: MD5E-s15219878--061e24410c8828516e44776515bbedb9.edf\n",
      "Error with MD5E-s15219878--061e24410c8828516e44776515bbedb9.edf: [Errno 21] Is a directory: '../data/ds004100/.git/annex/objects/Q0/xQ/MD5E-s15219878--061e24410c8828516e44776515bbedb9.edf'\n",
      "Processing: MD5E-s15219878--061e24410c8828516e44776515bbedb9.edf\n",
      "Error with MD5E-s15219878--061e24410c8828516e44776515bbedb9.edf: 'utf-8' codec can't decode byte 0xce in position 32770: invalid continuation byte\n",
      "Processing: MD5E-s29060274--72a494c0f46e8e8e84ba53a4aaa9e11c.edf\n",
      "Error with MD5E-s29060274--72a494c0f46e8e8e84ba53a4aaa9e11c.edf: [Errno 21] Is a directory: '../data/ds004100/.git/annex/objects/Q3/v4/MD5E-s29060274--72a494c0f46e8e8e84ba53a4aaa9e11c.edf'\n",
      "Processing: MD5E-s29060274--72a494c0f46e8e8e84ba53a4aaa9e11c.edf\n",
      "Error with MD5E-s29060274--72a494c0f46e8e8e84ba53a4aaa9e11c.edf: 'utf-8' codec can't decode byte 0xff in position 25612: invalid start byte\n",
      "Processing: MD5E-s28184852--80ba60af02e8ab17bca98e4b44e1abf8.edf\n",
      "Error with MD5E-s28184852--80ba60af02e8ab17bca98e4b44e1abf8.edf: [Errno 21] Is a directory: '../data/ds004100/.git/annex/objects/Q3/wq/MD5E-s28184852--80ba60af02e8ab17bca98e4b44e1abf8.edf'\n",
      "Processing: MD5E-s28184852--80ba60af02e8ab17bca98e4b44e1abf8.edf\n",
      "Error with MD5E-s28184852--80ba60af02e8ab17bca98e4b44e1abf8.edf: 'utf-8' codec can't decode byte 0xc3 in position 32768: invalid continuation byte\n",
      "Processing: MD5E-s34043560--899c8df63e972d73c5cf4085467e5493.edf\n",
      "Error with MD5E-s34043560--899c8df63e972d73c5cf4085467e5493.edf: [Errno 21] Is a directory: '../data/ds004100/.git/annex/objects/QG/4v/MD5E-s34043560--899c8df63e972d73c5cf4085467e5493.edf'\n",
      "Processing: MD5E-s34043560--899c8df63e972d73c5cf4085467e5493.edf\n",
      "Error with MD5E-s34043560--899c8df63e972d73c5cf4085467e5493.edf: 'utf-8' codec can't decode byte 0xf9 in position 35328: invalid start byte\n",
      "Processing: MD5E-s102592928--0c2256babc4e3be50563154abeb8d395.edf\n",
      "Error with MD5E-s102592928--0c2256babc4e3be50563154abeb8d395.edf: [Errno 21] Is a directory: '../data/ds004100/.git/annex/objects/QX/9K/MD5E-s102592928--0c2256babc4e3be50563154abeb8d395.edf'\n",
      "Processing: MD5E-s102592928--0c2256babc4e3be50563154abeb8d395.edf\n",
      "Error with MD5E-s102592928--0c2256babc4e3be50563154abeb8d395.edf: 'utf-8' codec can't decode byte 0xdb in position 30720: invalid continuation byte\n",
      "Processing: MD5E-s19873220--88e1ea392039aa27d121ddfde381410b.edf\n",
      "Error with MD5E-s19873220--88e1ea392039aa27d121ddfde381410b.edf: [Errno 21] Is a directory: '../data/ds004100/.git/annex/objects/QX/pz/MD5E-s19873220--88e1ea392039aa27d121ddfde381410b.edf'\n",
      "Processing: MD5E-s19873220--88e1ea392039aa27d121ddfde381410b.edf\n",
      "Error with MD5E-s19873220--88e1ea392039aa27d121ddfde381410b.edf: 'utf-8' codec can't decode byte 0xd7 in position 20992: invalid continuation byte\n",
      "Processing: MD5E-s45845656--78eec3ff732c1b0157239befe019b326.edf\n",
      "Error with MD5E-s45845656--78eec3ff732c1b0157239befe019b326.edf: [Errno 21] Is a directory: '../data/ds004100/.git/annex/objects/QZ/M1/MD5E-s45845656--78eec3ff732c1b0157239befe019b326.edf'\n",
      "Processing: MD5E-s45845656--78eec3ff732c1b0157239befe019b326.edf\n",
      "Error with MD5E-s45845656--78eec3ff732c1b0157239befe019b326.edf: 'utf-8' codec can't decode byte 0xde in position 38656: invalid continuation byte\n",
      "Processing: MD5E-s16249330--0e2985b6df277dff642dc1286a1295b7.edf\n",
      "Error with MD5E-s16249330--0e2985b6df277dff642dc1286a1295b7.edf: [Errno 21] Is a directory: '../data/ds004100/.git/annex/objects/QZ/gZ/MD5E-s16249330--0e2985b6df277dff642dc1286a1295b7.edf'\n",
      "Processing: MD5E-s16249330--0e2985b6df277dff642dc1286a1295b7.edf\n",
      "Error with MD5E-s16249330--0e2985b6df277dff642dc1286a1295b7.edf: 'utf-8' codec can't decode byte 0xfc in position 21600: invalid start byte\n",
      "Processing: MD5E-s25737788--3d34b01cfbb8d1681e2aaffd98407c98.edf\n",
      "Error with MD5E-s25737788--3d34b01cfbb8d1681e2aaffd98407c98.edf: [Errno 21] Is a directory: '../data/ds004100/.git/annex/objects/Qm/mW/MD5E-s25737788--3d34b01cfbb8d1681e2aaffd98407c98.edf'\n",
      "Processing: MD5E-s25737788--3d34b01cfbb8d1681e2aaffd98407c98.edf\n",
      "Error with MD5E-s25737788--3d34b01cfbb8d1681e2aaffd98407c98.edf: 'utf-8' codec can't decode byte 0xbe in position 16640: invalid start byte\n",
      "Processing: MD5E-s32065752--5d84617ffdf453d06e5cd0c7333d4e2c.edf\n",
      "Error with MD5E-s32065752--5d84617ffdf453d06e5cd0c7333d4e2c.edf: [Errno 21] Is a directory: '../data/ds004100/.git/annex/objects/V3/Zk/MD5E-s32065752--5d84617ffdf453d06e5cd0c7333d4e2c.edf'\n",
      "Processing: MD5E-s32065752--5d84617ffdf453d06e5cd0c7333d4e2c.edf\n",
      "Error with MD5E-s32065752--5d84617ffdf453d06e5cd0c7333d4e2c.edf: 'utf-8' codec can't decode byte 0xfe in position 33025: invalid start byte\n",
      "Processing: MD5E-s15237084--4382e4060b7ecc61bca91e665ad207a0.edf\n",
      "Error with MD5E-s15237084--4382e4060b7ecc61bca91e665ad207a0.edf: [Errno 21] Is a directory: '../data/ds004100/.git/annex/objects/V4/3k/MD5E-s15237084--4382e4060b7ecc61bca91e665ad207a0.edf'\n",
      "Processing: MD5E-s15237084--4382e4060b7ecc61bca91e665ad207a0.edf\n",
      "Error with MD5E-s15237084--4382e4060b7ecc61bca91e665ad207a0.edf: 'utf-8' codec can't decode byte 0x8d in position 18688: invalid start byte\n",
      "Processing: MD5E-s14694028--5122c2fa6f8028a72a6c31b46bfc1ab0.edf\n",
      "Error with MD5E-s14694028--5122c2fa6f8028a72a6c31b46bfc1ab0.edf: [Errno 21] Is a directory: '../data/ds004100/.git/annex/objects/V8/58/MD5E-s14694028--5122c2fa6f8028a72a6c31b46bfc1ab0.edf'\n",
      "Processing: MD5E-s14694028--5122c2fa6f8028a72a6c31b46bfc1ab0.edf\n",
      "Error with MD5E-s14694028--5122c2fa6f8028a72a6c31b46bfc1ab0.edf: 'utf-8' codec can't decode byte 0xe1 in position 19456: invalid continuation byte\n",
      "Processing: MD5E-s28378136--c6df2e8ee98ccaf0dffc8875037b419b.edf\n",
      "Error with MD5E-s28378136--c6df2e8ee98ccaf0dffc8875037b419b.edf: [Errno 21] Is a directory: '../data/ds004100/.git/annex/objects/V8/K9/MD5E-s28378136--c6df2e8ee98ccaf0dffc8875037b419b.edf'\n",
      "Processing: MD5E-s28378136--c6df2e8ee98ccaf0dffc8875037b419b.edf\n",
      "Error with MD5E-s28378136--c6df2e8ee98ccaf0dffc8875037b419b.edf: 'utf-8' codec can't decode byte 0xd9 in position 31232: invalid continuation byte\n",
      "Processing: MD5E-s30165400--66cee5f7635bb97b218f20eed1d41c57.edf\n",
      "Error with MD5E-s30165400--66cee5f7635bb97b218f20eed1d41c57.edf: [Errno 21] Is a directory: '../data/ds004100/.git/annex/objects/V8/Xg/MD5E-s30165400--66cee5f7635bb97b218f20eed1d41c57.edf'\n",
      "Processing: MD5E-s30165400--66cee5f7635bb97b218f20eed1d41c57.edf\n",
      "Error with MD5E-s30165400--66cee5f7635bb97b218f20eed1d41c57.edf: 'utf-8' codec can't decode byte 0xde in position 25600: invalid continuation byte\n",
      "Processing: MD5E-s41472188--0917b2c7739171f72a8437fe3d0e97da.edf\n",
      "Error with MD5E-s41472188--0917b2c7739171f72a8437fe3d0e97da.edf: [Errno 21] Is a directory: '../data/ds004100/.git/annex/objects/VP/1V/MD5E-s41472188--0917b2c7739171f72a8437fe3d0e97da.edf'\n",
      "Processing: MD5E-s41472188--0917b2c7739171f72a8437fe3d0e97da.edf\n",
      "Error with MD5E-s41472188--0917b2c7739171f72a8437fe3d0e97da.edf: 'utf-8' codec can't decode byte 0xf5 in position 33025: invalid start byte\n",
      "Processing: MD5E-s25246104--2fb611727cd705a7a6bc651d5fcfa4de.edf\n",
      "Error with MD5E-s25246104--2fb611727cd705a7a6bc651d5fcfa4de.edf: [Errno 21] Is a directory: '../data/ds004100/.git/annex/objects/VP/7K/MD5E-s25246104--2fb611727cd705a7a6bc651d5fcfa4de.edf'\n",
      "Processing: MD5E-s25246104--2fb611727cd705a7a6bc651d5fcfa4de.edf\n",
      "Error with MD5E-s25246104--2fb611727cd705a7a6bc651d5fcfa4de.edf: 'utf-8' codec can't decode byte 0xec in position 21504: invalid continuation byte\n",
      "Processing: MD5E-s31476680--290e62f1dab59411f338e5361b9f35d2.edf\n",
      "Error with MD5E-s31476680--290e62f1dab59411f338e5361b9f35d2.edf: [Errno 21] Is a directory: '../data/ds004100/.git/annex/objects/VX/V2/MD5E-s31476680--290e62f1dab59411f338e5361b9f35d2.edf'\n",
      "Processing: MD5E-s31476680--290e62f1dab59411f338e5361b9f35d2.edf\n",
      "Error with MD5E-s31476680--290e62f1dab59411f338e5361b9f35d2.edf: 'utf-8' codec can't decode byte 0xfa in position 30726: invalid start byte\n",
      "Processing: MD5E-s33083852--21e88ed0ef41c05271bfcbc187129a0a.edf\n",
      "Error with MD5E-s33083852--21e88ed0ef41c05271bfcbc187129a0a.edf: [Errno 21] Is a directory: '../data/ds004100/.git/annex/objects/Vj/GW/MD5E-s33083852--21e88ed0ef41c05271bfcbc187129a0a.edf'\n",
      "Processing: MD5E-s33083852--21e88ed0ef41c05271bfcbc187129a0a.edf\n",
      "Error with MD5E-s33083852--21e88ed0ef41c05271bfcbc187129a0a.edf: 'utf-8' codec can't decode byte 0xc6 in position 30208: invalid continuation byte\n",
      "Processing: MD5E-s47596376--39b0fe617e0dd3b3cd6a35e337679394.edf\n",
      "Error with MD5E-s47596376--39b0fe617e0dd3b3cd6a35e337679394.edf: [Errno 21] Is a directory: '../data/ds004100/.git/annex/objects/Vj/m7/MD5E-s47596376--39b0fe617e0dd3b3cd6a35e337679394.edf'\n",
      "Processing: MD5E-s47596376--39b0fe617e0dd3b3cd6a35e337679394.edf\n",
      "Error with MD5E-s47596376--39b0fe617e0dd3b3cd6a35e337679394.edf: 'utf-8' codec can't decode byte 0xd9 in position 31232: invalid continuation byte\n",
      "Processing: MD5E-s21086540--b6812ee79b31ba42667c26e988bf76de.edf\n",
      "Error with MD5E-s21086540--b6812ee79b31ba42667c26e988bf76de.edf: [Errno 21] Is a directory: '../data/ds004100/.git/annex/objects/Vk/9f/MD5E-s21086540--b6812ee79b31ba42667c26e988bf76de.edf'\n",
      "Processing: MD5E-s21086540--b6812ee79b31ba42667c26e988bf76de.edf\n",
      "Error with MD5E-s21086540--b6812ee79b31ba42667c26e988bf76de.edf: 'utf-8' codec can't decode byte 0x9b in position 25088: invalid start byte\n",
      "Processing: MD5E-s27352352--96b38806580113f958282c46fb166283.edf\n",
      "Error with MD5E-s27352352--96b38806580113f958282c46fb166283.edf: [Errno 21] Is a directory: '../data/ds004100/.git/annex/objects/Vk/k4/MD5E-s27352352--96b38806580113f958282c46fb166283.edf'\n",
      "Processing: MD5E-s27352352--96b38806580113f958282c46fb166283.edf\n",
      "Error with MD5E-s27352352--96b38806580113f958282c46fb166283.edf: 'utf-8' codec can't decode byte 0xe3 in position 25600: invalid continuation byte\n",
      "Processing: MD5E-s19404440--006e156896fb779d887f041f9ffd2817.edf\n",
      "Error with MD5E-s19404440--006e156896fb779d887f041f9ffd2817.edf: [Errno 21] Is a directory: '../data/ds004100/.git/annex/objects/Vk/pM/MD5E-s19404440--006e156896fb779d887f041f9ffd2817.edf'\n",
      "Processing: MD5E-s19404440--006e156896fb779d887f041f9ffd2817.edf\n",
      "Error with MD5E-s19404440--006e156896fb779d887f041f9ffd2817.edf: 'utf-8' codec can't decode byte 0xfe in position 16642: invalid start byte\n",
      "Processing: MD5E-s110672792--069f2b548981f7b4ea6e83913cbed048.edf\n",
      "Error with MD5E-s110672792--069f2b548981f7b4ea6e83913cbed048.edf: [Errno 21] Is a directory: '../data/ds004100/.git/annex/objects/W0/8G/MD5E-s110672792--069f2b548981f7b4ea6e83913cbed048.edf'\n",
      "Processing: MD5E-s110672792--069f2b548981f7b4ea6e83913cbed048.edf\n",
      "Error with MD5E-s110672792--069f2b548981f7b4ea6e83913cbed048.edf: 'utf-8' codec can't decode byte 0xfd in position 46938: invalid start byte\n",
      "Processing: MD5E-s27191430--e4c6fad0c9248f31826e7a629626ca8e.edf\n",
      "Error with MD5E-s27191430--e4c6fad0c9248f31826e7a629626ca8e.edf: [Errno 21] Is a directory: '../data/ds004100/.git/annex/objects/W4/mX/MD5E-s27191430--e4c6fad0c9248f31826e7a629626ca8e.edf'\n",
      "Processing: MD5E-s27191430--e4c6fad0c9248f31826e7a629626ca8e.edf\n",
      "Error with MD5E-s27191430--e4c6fad0c9248f31826e7a629626ca8e.edf: 'utf-8' codec can't decode byte 0xff in position 31690: invalid start byte\n",
      "Processing: MD5E-s21578630--d08fdbc0a08e51dbd62dc80043f90a46.edf\n",
      "Error with MD5E-s21578630--d08fdbc0a08e51dbd62dc80043f90a46.edf: [Errno 21] Is a directory: '../data/ds004100/.git/annex/objects/W9/Z2/MD5E-s21578630--d08fdbc0a08e51dbd62dc80043f90a46.edf'\n",
      "Processing: MD5E-s21578630--d08fdbc0a08e51dbd62dc80043f90a46.edf\n",
      "Error with MD5E-s21578630--d08fdbc0a08e51dbd62dc80043f90a46.edf: 'utf-8' codec can't decode byte 0x96 in position 25088: invalid start byte\n",
      "Processing: MD5E-s68784802--b314b2eb3a5c0413572424f6825b20d0.edf\n",
      "Error with MD5E-s68784802--b314b2eb3a5c0413572424f6825b20d0.edf: [Errno 21] Is a directory: '../data/ds004100/.git/annex/objects/WX/Gp/MD5E-s68784802--b314b2eb3a5c0413572424f6825b20d0.edf'\n",
      "Processing: MD5E-s68784802--b314b2eb3a5c0413572424f6825b20d0.edf\n",
      "Error with MD5E-s68784802--b314b2eb3a5c0413572424f6825b20d0.edf: 'utf-8' codec can't decode byte 0xf6 in position 24070: invalid start byte\n",
      "Processing: MD5E-s35047688--774f37197d84bfcb3b92029047685539.edf\n",
      "Error with MD5E-s35047688--774f37197d84bfcb3b92029047685539.edf: [Errno 21] Is a directory: '../data/ds004100/.git/annex/objects/WX/jF/MD5E-s35047688--774f37197d84bfcb3b92029047685539.edf'\n",
      "Processing: MD5E-s35047688--774f37197d84bfcb3b92029047685539.edf\n",
      "Error with MD5E-s35047688--774f37197d84bfcb3b92029047685539.edf: 'utf-8' codec can't decode byte 0x80 in position 30464: invalid start byte\n",
      "Processing: MD5E-s36314520--c19efd27303bc2589ef094360387d0d2.edf\n",
      "Error with MD5E-s36314520--c19efd27303bc2589ef094360387d0d2.edf: [Errno 21] Is a directory: '../data/ds004100/.git/annex/objects/X0/1Z/MD5E-s36314520--c19efd27303bc2589ef094360387d0d2.edf'\n",
      "Processing: MD5E-s36314520--c19efd27303bc2589ef094360387d0d2.edf\n",
      "Error with MD5E-s36314520--c19efd27303bc2589ef094360387d0d2.edf: 'utf-8' codec can't decode byte 0xf8 in position 30720: invalid start byte\n",
      "Processing: MD5E-s38124168--6f4462a08d73e886e5609c0c99ccff94.edf\n",
      "Error with MD5E-s38124168--6f4462a08d73e886e5609c0c99ccff94.edf: [Errno 21] Is a directory: '../data/ds004100/.git/annex/objects/X2/78/MD5E-s38124168--6f4462a08d73e886e5609c0c99ccff94.edf'\n",
      "Processing: MD5E-s38124168--6f4462a08d73e886e5609c0c99ccff94.edf\n",
      "Error with MD5E-s38124168--6f4462a08d73e886e5609c0c99ccff94.edf: 'utf-8' codec can't decode byte 0xfc in position 42240: invalid start byte\n",
      "Processing: MD5E-s21352888--d629660ff2f50f4284e2631523f2364b.edf\n",
      "Error with MD5E-s21352888--d629660ff2f50f4284e2631523f2364b.edf: [Errno 21] Is a directory: '../data/ds004100/.git/annex/objects/X2/jw/MD5E-s21352888--d629660ff2f50f4284e2631523f2364b.edf'\n",
      "Processing: MD5E-s21352888--d629660ff2f50f4284e2631523f2364b.edf\n",
      "Error with MD5E-s21352888--d629660ff2f50f4284e2631523f2364b.edf: 'utf-8' codec can't decode byte 0xfe in position 18689: invalid start byte\n",
      "Processing: MD5E-s54582944--6fda7033615c30bf393ebf2f7b7c2fda.edf\n",
      "Error with MD5E-s54582944--6fda7033615c30bf393ebf2f7b7c2fda.edf: [Errno 21] Is a directory: '../data/ds004100/.git/annex/objects/X3/FV/MD5E-s54582944--6fda7033615c30bf393ebf2f7b7c2fda.edf'\n",
      "Processing: MD5E-s54582944--6fda7033615c30bf393ebf2f7b7c2fda.edf\n",
      "Error with MD5E-s54582944--6fda7033615c30bf393ebf2f7b7c2fda.edf: 'utf-8' codec can't decode byte 0xef in position 33282: invalid continuation byte\n",
      "Processing: MD5E-s29916782--6fa3f541af5db5afde4273accf616bb3.edf\n",
      "Error with MD5E-s29916782--6fa3f541af5db5afde4273accf616bb3.edf: [Errno 21] Is a directory: '../data/ds004100/.git/annex/objects/X3/Xq/MD5E-s29916782--6fa3f541af5db5afde4273accf616bb3.edf'\n",
      "Processing: MD5E-s29916782--6fa3f541af5db5afde4273accf616bb3.edf\n",
      "Error with MD5E-s29916782--6fa3f541af5db5afde4273accf616bb3.edf: 'utf-8' codec can't decode byte 0xff in position 31745: invalid start byte\n",
      "Processing: MD5E-s45845656--70b3a960a5f294e317b8457e8784b060.edf\n",
      "Error with MD5E-s45845656--70b3a960a5f294e317b8457e8784b060.edf: [Errno 21] Is a directory: '../data/ds004100/.git/annex/objects/X6/KV/MD5E-s45845656--70b3a960a5f294e317b8457e8784b060.edf'\n",
      "Processing: MD5E-s45845656--70b3a960a5f294e317b8457e8784b060.edf\n",
      "Error with MD5E-s45845656--70b3a960a5f294e317b8457e8784b060.edf: 'utf-8' codec can't decode byte 0x8a in position 38656: invalid start byte\n",
      "Processing: MD5E-s25214084--079f179ffddac7342b25f287f66874af.edf\n",
      "Error with MD5E-s25214084--079f179ffddac7342b25f287f66874af.edf: [Errno 21] Is a directory: '../data/ds004100/.git/annex/objects/XX/0w/MD5E-s25214084--079f179ffddac7342b25f287f66874af.edf'\n",
      "Processing: MD5E-s25214084--079f179ffddac7342b25f287f66874af.edf\n",
      "Error with MD5E-s25214084--079f179ffddac7342b25f287f66874af.edf: 'utf-8' codec can't decode byte 0x80 in position 30464: invalid start byte\n",
      "Processing: MD5E-s30792076--bdb96cb760822e65d7da77ec8358f940.edf\n",
      "Error with MD5E-s30792076--bdb96cb760822e65d7da77ec8358f940.edf: [Errno 21] Is a directory: '../data/ds004100/.git/annex/objects/XZ/16/MD5E-s30792076--bdb96cb760822e65d7da77ec8358f940.edf'\n",
      "Processing: MD5E-s30792076--bdb96cb760822e65d7da77ec8358f940.edf\n",
      "Error with MD5E-s30792076--bdb96cb760822e65d7da77ec8358f940.edf: 'utf-8' codec can't decode byte 0xa7 in position 31744: invalid start byte\n",
      "Processing: MD5E-s53271654--0285f019f89212905797d4388753f5fa.edf\n",
      "Error with MD5E-s53271654--0285f019f89212905797d4388753f5fa.edf: [Errno 21] Is a directory: '../data/ds004100/.git/annex/objects/Xf/x8/MD5E-s53271654--0285f019f89212905797d4388753f5fa.edf'\n",
      "Processing: MD5E-s53271654--0285f019f89212905797d4388753f5fa.edf\n",
      "Error with MD5E-s53271654--0285f019f89212905797d4388753f5fa.edf: 'utf-8' codec can't decode byte 0xff in position 33281: invalid start byte\n",
      "Processing: MD5E-s27705752--3ff6f3b1da0a8942fff36d7bce9f2785.edf\n",
      "Error with MD5E-s27705752--3ff6f3b1da0a8942fff36d7bce9f2785.edf: [Errno 21] Is a directory: '../data/ds004100/.git/annex/objects/Xq/fj/MD5E-s27705752--3ff6f3b1da0a8942fff36d7bce9f2785.edf'\n",
      "Processing: MD5E-s27705752--3ff6f3b1da0a8942fff36d7bce9f2785.edf\n",
      "Error with MD5E-s27705752--3ff6f3b1da0a8942fff36d7bce9f2785.edf: 'utf-8' codec can't decode byte 0xfe in position 23562: invalid start byte\n",
      "Processing: MD5E-s95828702--ad3860c157b9607339b1a9841d23d560.edf\n",
      "Error with MD5E-s95828702--ad3860c157b9607339b1a9841d23d560.edf: [Errno 21] Is a directory: '../data/ds004100/.git/annex/objects/Xw/1f/MD5E-s95828702--ad3860c157b9607339b1a9841d23d560.edf'\n",
      "Processing: MD5E-s95828702--ad3860c157b9607339b1a9841d23d560.edf\n",
      "Error with MD5E-s95828702--ad3860c157b9607339b1a9841d23d560.edf: 'utf-8' codec can't decode byte 0xac in position 25088: invalid start byte\n",
      "Processing: MD5E-s90351440--4f7a0b7ab5a894b0e79882c0ea60bc66.edf\n",
      "Error with MD5E-s90351440--4f7a0b7ab5a894b0e79882c0ea60bc66.edf: [Errno 21] Is a directory: '../data/ds004100/.git/annex/objects/Xw/j2/MD5E-s90351440--4f7a0b7ab5a894b0e79882c0ea60bc66.edf'\n",
      "Processing: MD5E-s90351440--4f7a0b7ab5a894b0e79882c0ea60bc66.edf\n",
      "Error with MD5E-s90351440--4f7a0b7ab5a894b0e79882c0ea60bc66.edf: 'utf-8' codec can't decode byte 0xfb in position 49562: invalid start byte\n",
      "Processing: MD5E-s84613344--4ec64e961144dfc5b0a248b8cbde3c7a.edf\n",
      "Error with MD5E-s84613344--4ec64e961144dfc5b0a248b8cbde3c7a.edf: [Errno 21] Is a directory: '../data/ds004100/.git/annex/objects/ZG/M6/MD5E-s84613344--4ec64e961144dfc5b0a248b8cbde3c7a.edf'\n",
      "Processing: MD5E-s84613344--4ec64e961144dfc5b0a248b8cbde3c7a.edf\n",
      "Error with MD5E-s84613344--4ec64e961144dfc5b0a248b8cbde3c7a.edf: 'utf-8' codec can't decode byte 0xd9 in position 44562: invalid continuation byte\n",
      "Processing: MD5E-s114917164--2ed84b5c5f6cfa0987c063cbc07fc19b.edf\n",
      "Error with MD5E-s114917164--2ed84b5c5f6cfa0987c063cbc07fc19b.edf: [Errno 21] Is a directory: '../data/ds004100/.git/annex/objects/ZG/w7/MD5E-s114917164--2ed84b5c5f6cfa0987c063cbc07fc19b.edf'\n",
      "Processing: MD5E-s114917164--2ed84b5c5f6cfa0987c063cbc07fc19b.edf\n",
      "Error with MD5E-s114917164--2ed84b5c5f6cfa0987c063cbc07fc19b.edf: 'utf-8' codec can't decode byte 0xfa in position 45224: invalid start byte\n",
      "Processing: MD5E-s69872600--4e44234b799a00aec9d83c84834d6eb6.edf\n",
      "Error with MD5E-s69872600--4e44234b799a00aec9d83c84834d6eb6.edf: [Errno 21] Is a directory: '../data/ds004100/.git/annex/objects/ZK/KF/MD5E-s69872600--4e44234b799a00aec9d83c84834d6eb6.edf'\n",
      "Processing: MD5E-s69872600--4e44234b799a00aec9d83c84834d6eb6.edf\n",
      "Error with MD5E-s69872600--4e44234b799a00aec9d83c84834d6eb6.edf: 'utf-8' codec can't decode byte 0xe9 in position 26625: invalid continuation byte\n",
      "Processing: MD5E-s14702870--d55e90c3f6ab3bb520082938f5325ef2.edf\n",
      "Error with MD5E-s14702870--d55e90c3f6ab3bb520082938f5325ef2.edf: [Errno 21] Is a directory: '../data/ds004100/.git/annex/objects/Zp/FK/MD5E-s14702870--d55e90c3f6ab3bb520082938f5325ef2.edf'\n",
      "Processing: MD5E-s14702870--d55e90c3f6ab3bb520082938f5325ef2.edf\n",
      "Error with MD5E-s14702870--d55e90c3f6ab3bb520082938f5325ef2.edf: 'utf-8' codec can't decode byte 0xfe in position 32769: invalid start byte\n",
      "Processing: MD5E-s21349832--c05b86e229da92758a77086a12599ba1.edf\n",
      "Error with MD5E-s21349832--c05b86e229da92758a77086a12599ba1.edf: [Errno 21] Is a directory: '../data/ds004100/.git/annex/objects/Zv/QV/MD5E-s21349832--c05b86e229da92758a77086a12599ba1.edf'\n",
      "Processing: MD5E-s21349832--c05b86e229da92758a77086a12599ba1.edf\n",
      "Error with MD5E-s21349832--c05b86e229da92758a77086a12599ba1.edf: 'utf-8' codec can't decode byte 0xfc in position 20993: invalid start byte\n",
      "Processing: MD5E-s23938636--f8138ec2a0abc5ad36018ccc6c3fdbeb.edf\n",
      "Error with MD5E-s23938636--f8138ec2a0abc5ad36018ccc6c3fdbeb.edf: [Errno 21] Is a directory: '../data/ds004100/.git/annex/objects/Zz/8M/MD5E-s23938636--f8138ec2a0abc5ad36018ccc6c3fdbeb.edf'\n",
      "Processing: MD5E-s23938636--f8138ec2a0abc5ad36018ccc6c3fdbeb.edf\n",
      "Error with MD5E-s23938636--f8138ec2a0abc5ad36018ccc6c3fdbeb.edf: 'utf-8' codec can't decode byte 0xe8 in position 28416: invalid continuation byte\n",
      "Processing: MD5E-s37544344--d0d7b6621c46e0ebe5d8a5a186a61e55.edf\n",
      "Error with MD5E-s37544344--d0d7b6621c46e0ebe5d8a5a186a61e55.edf: [Errno 21] Is a directory: '../data/ds004100/.git/annex/objects/Zz/F3/MD5E-s37544344--d0d7b6621c46e0ebe5d8a5a186a61e55.edf'\n",
      "Processing: MD5E-s37544344--d0d7b6621c46e0ebe5d8a5a186a61e55.edf\n",
      "Error with MD5E-s37544344--d0d7b6621c46e0ebe5d8a5a186a61e55.edf: 'utf-8' codec can't decode byte 0xfd in position 31860: invalid start byte\n",
      "Processing: MD5E-s24631192--1d49522b54a2addf2d1e6e4c9dc4bb3c.edf\n",
      "Error with MD5E-s24631192--1d49522b54a2addf2d1e6e4c9dc4bb3c.edf: [Errno 21] Is a directory: '../data/ds004100/.git/annex/objects/Zz/Vj/MD5E-s24631192--1d49522b54a2addf2d1e6e4c9dc4bb3c.edf'\n",
      "Processing: MD5E-s24631192--1d49522b54a2addf2d1e6e4c9dc4bb3c.edf\n",
      "Error with MD5E-s24631192--1d49522b54a2addf2d1e6e4c9dc4bb3c.edf: 'utf-8' codec can't decode byte 0xff in position 20993: invalid start byte\n",
      "Processing: MD5E-s61500312--232923bba56a94240ce4ad32528842c2.edf\n",
      "Error with MD5E-s61500312--232923bba56a94240ce4ad32528842c2.edf: [Errno 21] Is a directory: '../data/ds004100/.git/annex/objects/Zz/xv/MD5E-s61500312--232923bba56a94240ce4ad32528842c2.edf'\n",
      "Processing: MD5E-s61500312--232923bba56a94240ce4ad32528842c2.edf\n",
      "Error with MD5E-s61500312--232923bba56a94240ce4ad32528842c2.edf: 'utf-8' codec can't decode byte 0xd0 in position 26112: invalid continuation byte\n",
      "Processing: MD5E-s25860368--895206491d1ef68f716e560473a532b6.edf\n",
      "Error with MD5E-s25860368--895206491d1ef68f716e560473a532b6.edf: [Errno 21] Is a directory: '../data/ds004100/.git/annex/objects/f0/mx/MD5E-s25860368--895206491d1ef68f716e560473a532b6.edf'\n",
      "Processing: MD5E-s25860368--895206491d1ef68f716e560473a532b6.edf\n",
      "Error with MD5E-s25860368--895206491d1ef68f716e560473a532b6.edf: 'utf-8' codec can't decode byte 0xfb in position 32769: invalid start byte\n",
      "Processing: MD5E-s24631192--a4129ec9eb0feccdfdc41b2881a7ce05.edf\n",
      "Error with MD5E-s24631192--a4129ec9eb0feccdfdc41b2881a7ce05.edf: [Errno 21] Is a directory: '../data/ds004100/.git/annex/objects/f2/mZ/MD5E-s24631192--a4129ec9eb0feccdfdc41b2881a7ce05.edf'\n",
      "Processing: MD5E-s24631192--a4129ec9eb0feccdfdc41b2881a7ce05.edf\n",
      "Error with MD5E-s24631192--a4129ec9eb0feccdfdc41b2881a7ce05.edf: 'utf-8' codec can't decode byte 0xf9 in position 21118: invalid start byte\n",
      "Processing: MD5E-s83703010--df57bff5eaab6c73214683d94086e023.edf\n",
      "Error with MD5E-s83703010--df57bff5eaab6c73214683d94086e023.edf: [Errno 21] Is a directory: '../data/ds004100/.git/annex/objects/fF/P4/MD5E-s83703010--df57bff5eaab6c73214683d94086e023.edf'\n",
      "Processing: MD5E-s83703010--df57bff5eaab6c73214683d94086e023.edf\n",
      "Error with MD5E-s83703010--df57bff5eaab6c73214683d94086e023.edf: 'utf-8' codec can't decode byte 0xe8 in position 42498: invalid continuation byte\n",
      "Processing: MD5E-s17740292--17d18e8415ccf1751bb0f88a3289310a.edf\n",
      "Error with MD5E-s17740292--17d18e8415ccf1751bb0f88a3289310a.edf: [Errno 21] Is a directory: '../data/ds004100/.git/annex/objects/fM/mz/MD5E-s17740292--17d18e8415ccf1751bb0f88a3289310a.edf'\n",
      "Processing: MD5E-s17740292--17d18e8415ccf1751bb0f88a3289310a.edf\n",
      "Error with MD5E-s17740292--17d18e8415ccf1751bb0f88a3289310a.edf: 'utf-8' codec can't decode byte 0xb2 in position 32768: invalid start byte\n",
      "Processing: MD5E-s75022744--fe6be5c72568ae3c02baff2428985421.edf\n",
      "Error with MD5E-s75022744--fe6be5c72568ae3c02baff2428985421.edf: [Errno 21] Is a directory: '../data/ds004100/.git/annex/objects/fX/MV/MD5E-s75022744--fe6be5c72568ae3c02baff2428985421.edf'\n",
      "Processing: MD5E-s75022744--fe6be5c72568ae3c02baff2428985421.edf\n",
      "Error with MD5E-s75022744--fe6be5c72568ae3c02baff2428985421.edf: 'utf-8' codec can't decode byte 0xb3 in position 35840: invalid start byte\n",
      "Processing: MD5E-s30118586--7603bc2b0a82d696767b6e635c2a1e78.edf\n",
      "Error with MD5E-s30118586--7603bc2b0a82d696767b6e635c2a1e78.edf: [Errno 21] Is a directory: '../data/ds004100/.git/annex/objects/fX/Vm/MD5E-s30118586--7603bc2b0a82d696767b6e635c2a1e78.edf'\n",
      "Processing: MD5E-s30118586--7603bc2b0a82d696767b6e635c2a1e78.edf\n",
      "Error with MD5E-s30118586--7603bc2b0a82d696767b6e635c2a1e78.edf: 'utf-8' codec can't decode byte 0xc8 in position 38656: invalid continuation byte\n",
      "Processing: MD5E-s64869014--3964c4b96efe89127b060a2a0bbc1c6d.edf\n",
      "Error with MD5E-s64869014--3964c4b96efe89127b060a2a0bbc1c6d.edf: [Errno 21] Is a directory: '../data/ds004100/.git/annex/objects/fX/XP/MD5E-s64869014--3964c4b96efe89127b060a2a0bbc1c6d.edf'\n",
      "Processing: MD5E-s64869014--3964c4b96efe89127b060a2a0bbc1c6d.edf\n",
      "Error with MD5E-s64869014--3964c4b96efe89127b060a2a0bbc1c6d.edf: 'utf-8' codec can't decode byte 0xe9 in position 26625: invalid continuation byte\n",
      "Processing: MD5E-s25369498--93300fa36d6a40e818c00910459a7e9e.edf\n",
      "Error with MD5E-s25369498--93300fa36d6a40e818c00910459a7e9e.edf: [Errno 21] Is a directory: '../data/ds004100/.git/annex/objects/fX/k1/MD5E-s25369498--93300fa36d6a40e818c00910459a7e9e.edf'\n",
      "Processing: MD5E-s25369498--93300fa36d6a40e818c00910459a7e9e.edf\n",
      "Error with MD5E-s25369498--93300fa36d6a40e818c00910459a7e9e.edf: 'utf-8' codec can't decode byte 0xe3 in position 20992: invalid continuation byte\n",
      "Processing: MD5E-s33948518--3ab2e817c4b687b1de26326f7b3fa2f6.edf\n",
      "Error with MD5E-s33948518--3ab2e817c4b687b1de26326f7b3fa2f6.edf: [Errno 21] Is a directory: '../data/ds004100/.git/annex/objects/fz/w0/MD5E-s33948518--3ab2e817c4b687b1de26326f7b3fa2f6.edf'\n",
      "Processing: MD5E-s33948518--3ab2e817c4b687b1de26326f7b3fa2f6.edf\n",
      "Error with MD5E-s33948518--3ab2e817c4b687b1de26326f7b3fa2f6.edf: 'utf-8' codec can't decode byte 0xea in position 42240: invalid continuation byte\n",
      "Processing: MD5E-s56606772--0dcd6d1af559a6915733402574a404ae.edf\n",
      "Error with MD5E-s56606772--0dcd6d1af559a6915733402574a404ae.edf: [Errno 21] Is a directory: '../data/ds004100/.git/annex/objects/g8/Qg/MD5E-s56606772--0dcd6d1af559a6915733402574a404ae.edf'\n",
      "Processing: MD5E-s56606772--0dcd6d1af559a6915733402574a404ae.edf\n",
      "Error with MD5E-s56606772--0dcd6d1af559a6915733402574a404ae.edf: 'utf-8' codec can't decode byte 0xb0 in position 30720: invalid start byte\n",
      "Processing: MD5E-s32866412--41c06dd408044ee67ddc4c953d204451.edf\n",
      "Error with MD5E-s32866412--41c06dd408044ee67ddc4c953d204451.edf: [Errno 21] Is a directory: '../data/ds004100/.git/annex/objects/gG/gv/MD5E-s32866412--41c06dd408044ee67ddc4c953d204451.edf'\n",
      "Processing: MD5E-s32866412--41c06dd408044ee67ddc4c953d204451.edf\n",
      "Error with MD5E-s32866412--41c06dd408044ee67ddc4c953d204451.edf: 'utf-8' codec can't decode byte 0xf6 in position 30721: invalid start byte\n",
      "Processing: MD5E-s27067076--a2b717625ebc02e0509fdc5001cea64e.edf\n",
      "Error with MD5E-s27067076--a2b717625ebc02e0509fdc5001cea64e.edf: [Errno 21] Is a directory: '../data/ds004100/.git/annex/objects/gQ/63/MD5E-s27067076--a2b717625ebc02e0509fdc5001cea64e.edf'\n",
      "Processing: MD5E-s27067076--a2b717625ebc02e0509fdc5001cea64e.edf\n",
      "Error with MD5E-s27067076--a2b717625ebc02e0509fdc5001cea64e.edf: 'utf-8' codec can't decode byte 0xc8 in position 28420: invalid continuation byte\n",
      "Processing: MD5E-s105468080--9e3643cc72693f346cb4e3f4ac8b8ae1.edf\n",
      "Error with MD5E-s105468080--9e3643cc72693f346cb4e3f4ac8b8ae1.edf: [Errno 21] Is a directory: '../data/ds004100/.git/annex/objects/gZ/6Q/MD5E-s105468080--9e3643cc72693f346cb4e3f4ac8b8ae1.edf'\n",
      "Processing: MD5E-s105468080--9e3643cc72693f346cb4e3f4ac8b8ae1.edf\n",
      "Error with MD5E-s105468080--9e3643cc72693f346cb4e3f4ac8b8ae1.edf: 'utf-8' codec can't decode byte 0x84 in position 25102: invalid start byte\n",
      "Processing: MD5E-s25246104--e36ff9fe855f9cf90620d5a351171936.edf\n",
      "Error with MD5E-s25246104--e36ff9fe855f9cf90620d5a351171936.edf: [Errno 21] Is a directory: '../data/ds004100/.git/annex/objects/gZ/94/MD5E-s25246104--e36ff9fe855f9cf90620d5a351171936.edf'\n",
      "Processing: MD5E-s25246104--e36ff9fe855f9cf90620d5a351171936.edf\n",
      "Error with MD5E-s25246104--e36ff9fe855f9cf90620d5a351171936.edf: 'utf-8' codec can't decode byte 0xee in position 21504: invalid continuation byte\n",
      "Processing: MD5E-s45524954--324f24de806c406fc0f65639e8f8cbd8.edf\n",
      "Error with MD5E-s45524954--324f24de806c406fc0f65639e8f8cbd8.edf: [Errno 21] Is a directory: '../data/ds004100/.git/annex/objects/gZ/Q9/MD5E-s45524954--324f24de806c406fc0f65639e8f8cbd8.edf'\n",
      "Processing: MD5E-s45524954--324f24de806c406fc0f65639e8f8cbd8.edf\n",
      "Error with MD5E-s45524954--324f24de806c406fc0f65639e8f8cbd8.edf: 'utf-8' codec can't decode byte 0xf5 in position 27136: invalid start byte\n",
      "Processing: MD5E-s19420568--b9037ffaade4ee5bb940bb158b18798c.edf\n",
      "Error with MD5E-s19420568--b9037ffaade4ee5bb940bb158b18798c.edf: [Errno 21] Is a directory: '../data/ds004100/.git/annex/objects/gZ/XF/MD5E-s19420568--b9037ffaade4ee5bb940bb158b18798c.edf'\n",
      "Processing: MD5E-s19420568--b9037ffaade4ee5bb940bb158b18798c.edf\n",
      "Error with MD5E-s19420568--b9037ffaade4ee5bb940bb158b18798c.edf: 'utf-8' codec can't decode byte 0x8b in position 32768: invalid start byte\n",
      "Processing: MD5E-s34293252--417f0ffb1df20390d8ca88a0b0fbd4ac.edf\n",
      "Error with MD5E-s34293252--417f0ffb1df20390d8ca88a0b0fbd4ac.edf: [Errno 21] Is a directory: '../data/ds004100/.git/annex/objects/gp/JJ/MD5E-s34293252--417f0ffb1df20390d8ca88a0b0fbd4ac.edf'\n",
      "Processing: MD5E-s34293252--417f0ffb1df20390d8ca88a0b0fbd4ac.edf\n",
      "Error with MD5E-s34293252--417f0ffb1df20390d8ca88a0b0fbd4ac.edf: 'utf-8' codec can't decode byte 0xdb in position 31744: invalid continuation byte\n",
      "Processing: MD5E-s41848728--9adc769597113ed151f16ea783864ad7.edf\n",
      "Error with MD5E-s41848728--9adc769597113ed151f16ea783864ad7.edf: [Errno 21] Is a directory: '../data/ds004100/.git/annex/objects/gp/QM/MD5E-s41848728--9adc769597113ed151f16ea783864ad7.edf'\n",
      "Processing: MD5E-s41848728--9adc769597113ed151f16ea783864ad7.edf\n",
      "Error with MD5E-s41848728--9adc769597113ed151f16ea783864ad7.edf: 'utf-8' codec can't decode byte 0xfe in position 35876: invalid start byte\n",
      "Processing: MD5E-s52917144--daa0c9ab1fa6abeb2375b30b3a0ad250.edf\n",
      "Error with MD5E-s52917144--daa0c9ab1fa6abeb2375b30b3a0ad250.edf: [Errno 21] Is a directory: '../data/ds004100/.git/annex/objects/gp/X8/MD5E-s52917144--daa0c9ab1fa6abeb2375b30b3a0ad250.edf'\n",
      "Processing: MD5E-s52917144--daa0c9ab1fa6abeb2375b30b3a0ad250.edf\n",
      "Error with MD5E-s52917144--daa0c9ab1fa6abeb2375b30b3a0ad250.edf: 'utf-8' codec can't decode byte 0xfe in position 44556: invalid start byte\n",
      "Processing: MD5E-s105755544--c11ca77f147b1f2fdd8b058e211a6372.edf\n",
      "Error with MD5E-s105755544--c11ca77f147b1f2fdd8b058e211a6372.edf: [Errno 21] Is a directory: '../data/ds004100/.git/annex/objects/gp/k9/MD5E-s105755544--c11ca77f147b1f2fdd8b058e211a6372.edf'\n",
      "Processing: MD5E-s105755544--c11ca77f147b1f2fdd8b058e211a6372.edf\n",
      "Error with MD5E-s105755544--c11ca77f147b1f2fdd8b058e211a6372.edf: 'utf-8' codec can't decode byte 0xfb in position 44544: invalid start byte\n",
      "Processing: MD5E-s25118610--612b06c1c26943c6f3130a925994c71c.edf\n",
      "Error with MD5E-s25118610--612b06c1c26943c6f3130a925994c71c.edf: [Errno 21] Is a directory: '../data/ds004100/.git/annex/objects/gp/z8/MD5E-s25118610--612b06c1c26943c6f3130a925994c71c.edf'\n",
      "Processing: MD5E-s25118610--612b06c1c26943c6f3130a925994c71c.edf\n",
      "Error with MD5E-s25118610--612b06c1c26943c6f3130a925994c71c.edf: 'utf-8' codec can't decode byte 0xf1 in position 27137: invalid continuation byte\n",
      "Processing: MD5E-s21352888--55cab9a5509c42fd9cd4e321cf527a4d.edf\n",
      "Error with MD5E-s21352888--55cab9a5509c42fd9cd4e321cf527a4d.edf: [Errno 21] Is a directory: '../data/ds004100/.git/annex/objects/j1/13/MD5E-s21352888--55cab9a5509c42fd9cd4e321cf527a4d.edf'\n",
      "Processing: MD5E-s21352888--55cab9a5509c42fd9cd4e321cf527a4d.edf\n",
      "Error with MD5E-s21352888--55cab9a5509c42fd9cd4e321cf527a4d.edf: 'utf-8' codec can't decode byte 0xfe in position 18689: invalid start byte\n",
      "Processing: MD5E-s66809180--e9443a9b4e3ed992704ef2b207f7d0fd.edf\n",
      "Error with MD5E-s66809180--e9443a9b4e3ed992704ef2b207f7d0fd.edf: [Errno 21] Is a directory: '../data/ds004100/.git/annex/objects/j1/G6/MD5E-s66809180--e9443a9b4e3ed992704ef2b207f7d0fd.edf'\n",
      "Processing: MD5E-s66809180--e9443a9b4e3ed992704ef2b207f7d0fd.edf\n",
      "Error with MD5E-s66809180--e9443a9b4e3ed992704ef2b207f7d0fd.edf: 'utf-8' codec can't decode byte 0xe9 in position 26625: invalid continuation byte\n",
      "Processing: MD5E-s25664214--ba6983adef177028d689821a47f2fbdb.edf\n",
      "Error with MD5E-s25664214--ba6983adef177028d689821a47f2fbdb.edf: [Errno 21] Is a directory: '../data/ds004100/.git/annex/objects/j5/8K/MD5E-s25664214--ba6983adef177028d689821a47f2fbdb.edf'\n",
      "Processing: MD5E-s25664214--ba6983adef177028d689821a47f2fbdb.edf\n",
      "Error with MD5E-s25664214--ba6983adef177028d689821a47f2fbdb.edf: 'utf-8' codec can't decode byte 0xfe in position 23041: invalid start byte\n",
      "Processing: MD5E-s40836618--bba8b5f94fdb69ec562031b612c42153.edf\n",
      "Error with MD5E-s40836618--bba8b5f94fdb69ec562031b612c42153.edf: [Errno 21] Is a directory: '../data/ds004100/.git/annex/objects/jV/1w/MD5E-s40836618--bba8b5f94fdb69ec562031b612c42153.edf'\n",
      "Processing: MD5E-s40836618--bba8b5f94fdb69ec562031b612c42153.edf\n",
      "Error with MD5E-s40836618--bba8b5f94fdb69ec562031b612c42153.edf: 'utf-8' codec can't decode byte 0xb6 in position 33024: invalid start byte\n",
      "Processing: MD5E-s37236888--8e48daa7d9d98379f47d0ead764e4811.edf\n",
      "Error with MD5E-s37236888--8e48daa7d9d98379f47d0ead764e4811.edf: [Errno 21] Is a directory: '../data/ds004100/.git/annex/objects/jV/40/MD5E-s37236888--8e48daa7d9d98379f47d0ead764e4811.edf'\n",
      "Processing: MD5E-s37236888--8e48daa7d9d98379f47d0ead764e4811.edf\n",
      "Error with MD5E-s37236888--8e48daa7d9d98379f47d0ead764e4811.edf: 'utf-8' codec can't decode byte 0xfa in position 31512: invalid start byte\n",
      "Processing: MD5E-s116819352--f35e4f039a7df31ed743f4b7537c7699.edf\n",
      "Error with MD5E-s116819352--f35e4f039a7df31ed743f4b7537c7699.edf: [Errno 21] Is a directory: '../data/ds004100/.git/annex/objects/jX/P6/MD5E-s116819352--f35e4f039a7df31ed743f4b7537c7699.edf'\n",
      "Processing: MD5E-s116819352--f35e4f039a7df31ed743f4b7537c7699.edf\n",
      "Error with MD5E-s116819352--f35e4f039a7df31ed743f4b7537c7699.edf: 'utf-8' codec can't decode byte 0xff in position 49154: invalid start byte\n",
      "Processing: MD5E-s38167224--3915df42f83511ca0d77576543badda8.edf\n",
      "Error with MD5E-s38167224--3915df42f83511ca0d77576543badda8.edf: [Errno 21] Is a directory: '../data/ds004100/.git/annex/objects/jf/7j/MD5E-s38167224--3915df42f83511ca0d77576543badda8.edf'\n",
      "Processing: MD5E-s38167224--3915df42f83511ca0d77576543badda8.edf\n",
      "Error with MD5E-s38167224--3915df42f83511ca0d77576543badda8.edf: 'utf-8' codec can't decode byte 0xfd in position 33025: invalid start byte\n",
      "Processing: MD5E-s58518926--349ad3066b1a32a794f6e3e164479ef4.edf\n",
      "Error with MD5E-s58518926--349ad3066b1a32a794f6e3e164479ef4.edf: [Errno 21] Is a directory: '../data/ds004100/.git/annex/objects/jp/xZ/MD5E-s58518926--349ad3066b1a32a794f6e3e164479ef4.edf'\n",
      "Processing: MD5E-s58518926--349ad3066b1a32a794f6e3e164479ef4.edf\n",
      "Error with MD5E-s58518926--349ad3066b1a32a794f6e3e164479ef4.edf: 'utf-8' codec can't decode byte 0x92 in position 38656: invalid start byte\n",
      "Processing: MD5E-s28320664--eef9c072fd9b7849cb52f79238711598.edf\n",
      "Error with MD5E-s28320664--eef9c072fd9b7849cb52f79238711598.edf: [Errno 21] Is a directory: '../data/ds004100/.git/annex/objects/k5/4W/MD5E-s28320664--eef9c072fd9b7849cb52f79238711598.edf'\n",
      "Processing: MD5E-s28320664--eef9c072fd9b7849cb52f79238711598.edf\n",
      "Error with MD5E-s28320664--eef9c072fd9b7849cb52f79238711598.edf: 'utf-8' codec can't decode byte 0xea in position 24072: invalid continuation byte\n",
      "Processing: MD5E-s72564120--8977b934286cfc21c531b2fa7ecc9d3d.edf\n",
      "Error with MD5E-s72564120--8977b934286cfc21c531b2fa7ecc9d3d.edf: [Errno 21] Is a directory: '../data/ds004100/.git/annex/objects/k5/pq/MD5E-s72564120--8977b934286cfc21c531b2fa7ecc9d3d.edf'\n",
      "Processing: MD5E-s72564120--8977b934286cfc21c531b2fa7ecc9d3d.edf\n",
      "Error with MD5E-s72564120--8977b934286cfc21c531b2fa7ecc9d3d.edf: 'utf-8' codec can't decode byte 0xf9 in position 30720: invalid start byte\n",
      "Processing: MD5E-s32010136--3068bf7324dd2dbf7be3150e8a46e6e6.edf\n",
      "Error with MD5E-s32010136--3068bf7324dd2dbf7be3150e8a46e6e6.edf: [Errno 21] Is a directory: '../data/ds004100/.git/annex/objects/k6/7M/MD5E-s32010136--3068bf7324dd2dbf7be3150e8a46e6e6.edf'\n",
      "Processing: MD5E-s32010136--3068bf7324dd2dbf7be3150e8a46e6e6.edf\n",
      "Error with MD5E-s32010136--3068bf7324dd2dbf7be3150e8a46e6e6.edf: 'utf-8' codec can't decode byte 0xff in position 27160: invalid start byte\n",
      "Processing: MD5E-s17583846--19f810ed3f199f3842b51db4d06a58f5.edf\n",
      "Error with MD5E-s17583846--19f810ed3f199f3842b51db4d06a58f5.edf: [Errno 21] Is a directory: '../data/ds004100/.git/annex/objects/k6/p6/MD5E-s17583846--19f810ed3f199f3842b51db4d06a58f5.edf'\n",
      "Processing: MD5E-s17583846--19f810ed3f199f3842b51db4d06a58f5.edf\n",
      "Error with MD5E-s17583846--19f810ed3f199f3842b51db4d06a58f5.edf: 'utf-8' codec can't decode byte 0xfe in position 18689: invalid start byte\n",
      "Processing: MD5E-s105755544--9f864f9b6dd10f95afe98383a78d1271.edf\n",
      "Error with MD5E-s105755544--9f864f9b6dd10f95afe98383a78d1271.edf: [Errno 21] Is a directory: '../data/ds004100/.git/annex/objects/k8/34/MD5E-s105755544--9f864f9b6dd10f95afe98383a78d1271.edf'\n",
      "Processing: MD5E-s105755544--9f864f9b6dd10f95afe98383a78d1271.edf\n",
      "Error with MD5E-s105755544--9f864f9b6dd10f95afe98383a78d1271.edf: 'utf-8' codec can't decode byte 0xfe in position 44554: invalid start byte\n",
      "Processing: MD5E-s36314520--3f3a6035db3d3048df5148cec7bf6ebd.edf\n",
      "Error with MD5E-s36314520--3f3a6035db3d3048df5148cec7bf6ebd.edf: [Errno 21] Is a directory: '../data/ds004100/.git/annex/objects/kF/18/MD5E-s36314520--3f3a6035db3d3048df5148cec7bf6ebd.edf'\n",
      "Processing: MD5E-s36314520--3f3a6035db3d3048df5148cec7bf6ebd.edf\n",
      "Error with MD5E-s36314520--3f3a6035db3d3048df5148cec7bf6ebd.edf: 'utf-8' codec can't decode byte 0xca in position 30720: invalid continuation byte\n",
      "Processing: MD5E-s34668378--254e027e055010d8c2ea46434f8d3f94.edf\n",
      "Error with MD5E-s34668378--254e027e055010d8c2ea46434f8d3f94.edf: [Errno 21] Is a directory: '../data/ds004100/.git/annex/objects/kG/4j/MD5E-s34668378--254e027e055010d8c2ea46434f8d3f94.edf'\n",
      "Processing: MD5E-s34668378--254e027e055010d8c2ea46434f8d3f94.edf\n",
      "Error with MD5E-s34668378--254e027e055010d8c2ea46434f8d3f94.edf: 'utf-8' codec can't decode byte 0xfd in position 31874: invalid start byte\n",
      "Processing: MD5E-s36007064--acbd7c65bb58fd545a54a0cd45a2e611.edf\n",
      "Error with MD5E-s36007064--acbd7c65bb58fd545a54a0cd45a2e611.edf: [Errno 21] Is a directory: '../data/ds004100/.git/annex/objects/kX/3X/MD5E-s36007064--acbd7c65bb58fd545a54a0cd45a2e611.edf'\n",
      "Processing: MD5E-s36007064--acbd7c65bb58fd545a54a0cd45a2e611.edf\n",
      "Error with MD5E-s36007064--acbd7c65bb58fd545a54a0cd45a2e611.edf: 'utf-8' codec can't decode byte 0xf0 in position 30464: invalid continuation byte\n",
      "Processing: MD5E-s25094162--27bb097e76b5dec80a65615ec9ec5a9f.edf\n",
      "Error with MD5E-s25094162--27bb097e76b5dec80a65615ec9ec5a9f.edf: [Errno 21] Is a directory: '../data/ds004100/.git/annex/objects/kX/VJ/MD5E-s25094162--27bb097e76b5dec80a65615ec9ec5a9f.edf'\n",
      "Processing: MD5E-s25094162--27bb097e76b5dec80a65615ec9ec5a9f.edf\n",
      "Error with MD5E-s25094162--27bb097e76b5dec80a65615ec9ec5a9f.edf: 'utf-8' codec can't decode byte 0xfe in position 30722: invalid start byte\n",
      "Processing: MD5E-s68482618--1fc213ce834cb117465c7d941dd3d31d.edf\n",
      "Error with MD5E-s68482618--1fc213ce834cb117465c7d941dd3d31d.edf: [Errno 21] Is a directory: '../data/ds004100/.git/annex/objects/kX/qq/MD5E-s68482618--1fc213ce834cb117465c7d941dd3d31d.edf'\n",
      "Processing: MD5E-s68482618--1fc213ce834cb117465c7d941dd3d31d.edf\n",
      "Error with MD5E-s68482618--1fc213ce834cb117465c7d941dd3d31d.edf: 'utf-8' codec can't decode byte 0xd5 in position 33280: invalid continuation byte\n",
      "Processing: MD5E-s22490712--adcf88498af64e6b7d87eda30551f489.edf\n",
      "Error with MD5E-s22490712--adcf88498af64e6b7d87eda30551f489.edf: [Errno 21] Is a directory: '../data/ds004100/.git/annex/objects/kj/k4/MD5E-s22490712--adcf88498af64e6b7d87eda30551f489.edf'\n",
      "Processing: MD5E-s22490712--adcf88498af64e6b7d87eda30551f489.edf\n",
      "Error with MD5E-s22490712--adcf88498af64e6b7d87eda30551f489.edf: 'utf-8' codec can't decode byte 0x98 in position 18688: invalid start byte\n",
      "Processing: MD5E-s105755544--d06a77e0f95aaea0d9829b1ca66547a0.edf\n",
      "Error with MD5E-s105755544--d06a77e0f95aaea0d9829b1ca66547a0.edf: [Errno 21] Is a directory: '../data/ds004100/.git/annex/objects/kq/80/MD5E-s105755544--d06a77e0f95aaea0d9829b1ca66547a0.edf'\n",
      "Processing: MD5E-s105755544--d06a77e0f95aaea0d9829b1ca66547a0.edf\n",
      "Error with MD5E-s105755544--d06a77e0f95aaea0d9829b1ca66547a0.edf: 'utf-8' codec can't decode byte 0xee in position 44544: invalid continuation byte\n",
      "Processing: MD5E-s25744896--2f92d8d258f42aa0e462f3a467e2e00c.edf\n",
      "Error with MD5E-s25744896--2f92d8d258f42aa0e462f3a467e2e00c.edf: [Errno 21] Is a directory: '../data/ds004100/.git/annex/objects/kz/2w/MD5E-s25744896--2f92d8d258f42aa0e462f3a467e2e00c.edf'\n",
      "Processing: MD5E-s25744896--2f92d8d258f42aa0e462f3a467e2e00c.edf\n",
      "Error with MD5E-s25744896--2f92d8d258f42aa0e462f3a467e2e00c.edf: 'utf-8' codec can't decode byte 0x87 in position 25808: invalid start byte\n",
      "Processing: MD5E-s31261336--ad76254fba7819e2505cc0ce03699192.edf\n",
      "Error with MD5E-s31261336--ad76254fba7819e2505cc0ce03699192.edf: [Errno 21] Is a directory: '../data/ds004100/.git/annex/objects/kz/V1/MD5E-s31261336--ad76254fba7819e2505cc0ce03699192.edf'\n",
      "Processing: MD5E-s31261336--ad76254fba7819e2505cc0ce03699192.edf\n",
      "Error with MD5E-s31261336--ad76254fba7819e2505cc0ce03699192.edf: 'utf-8' codec can't decode byte 0xf2 in position 27137: invalid continuation byte\n",
      "Processing: MD5E-s26999466--96765f8c4d722bba52fe45e29012c7f6.edf\n",
      "Error with MD5E-s26999466--96765f8c4d722bba52fe45e29012c7f6.edf: [Errno 21] Is a directory: '../data/ds004100/.git/annex/objects/m0/ZQ/MD5E-s26999466--96765f8c4d722bba52fe45e29012c7f6.edf'\n",
      "Processing: MD5E-s26999466--96765f8c4d722bba52fe45e29012c7f6.edf\n",
      "Error with MD5E-s26999466--96765f8c4d722bba52fe45e29012c7f6.edf: 'utf-8' codec can't decode byte 0xfe in position 27166: invalid start byte\n",
      "Processing: MD5E-s97028894--c27f4b7fb52d3c363b53013e70a0cf76.edf\n",
      "Error with MD5E-s97028894--c27f4b7fb52d3c363b53013e70a0cf76.edf: [Errno 21] Is a directory: '../data/ds004100/.git/annex/objects/m3/JF/MD5E-s97028894--c27f4b7fb52d3c363b53013e70a0cf76.edf'\n",
      "Processing: MD5E-s97028894--c27f4b7fb52d3c363b53013e70a0cf76.edf\n",
      "Error with MD5E-s97028894--c27f4b7fb52d3c363b53013e70a0cf76.edf: 'utf-8' codec can't decode byte 0xbc in position 46592: invalid start byte\n",
      "Processing: MD5E-s28701014--53b74ae615244d352af641baf46ac02b.edf\n",
      "Error with MD5E-s28701014--53b74ae615244d352af641baf46ac02b.edf: [Errno 21] Is a directory: '../data/ds004100/.git/annex/objects/m3/jm/MD5E-s28701014--53b74ae615244d352af641baf46ac02b.edf'\n",
      "Processing: MD5E-s28701014--53b74ae615244d352af641baf46ac02b.edf\n",
      "Error with MD5E-s28701014--53b74ae615244d352af641baf46ac02b.edf: 'utf-8' codec can't decode byte 0xff in position 28161: invalid start byte\n",
      "Processing: MD5E-s38163728--c2598983f13f3faa375f8b4694e6d99c.edf\n",
      "Error with MD5E-s38163728--c2598983f13f3faa375f8b4694e6d99c.edf: [Errno 21] Is a directory: '../data/ds004100/.git/annex/objects/m4/2K/MD5E-s38163728--c2598983f13f3faa375f8b4694e6d99c.edf'\n",
      "Processing: MD5E-s38163728--c2598983f13f3faa375f8b4694e6d99c.edf\n",
      "Error with MD5E-s38163728--c2598983f13f3faa375f8b4694e6d99c.edf: 'utf-8' codec can't decode byte 0xf9 in position 48182: invalid start byte\n",
      "Processing: MD5E-s21103730--fce814385bb79e67bd56f750d796eb61.edf\n",
      "Error with MD5E-s21103730--fce814385bb79e67bd56f750d796eb61.edf: [Errno 21] Is a directory: '../data/ds004100/.git/annex/objects/m6/JX/MD5E-s21103730--fce814385bb79e67bd56f750d796eb61.edf'\n",
      "Processing: MD5E-s21103730--fce814385bb79e67bd56f750d796eb61.edf\n",
      "Error with MD5E-s21103730--fce814385bb79e67bd56f750d796eb61.edf: 'utf-8' codec can't decode byte 0xfe in position 20996: invalid start byte\n",
      "Processing: MD5E-s18577412--b4a57fa1ee1357f1f3c50fef06b3d818.edf\n",
      "Error with MD5E-s18577412--b4a57fa1ee1357f1f3c50fef06b3d818.edf: [Errno 21] Is a directory: '../data/ds004100/.git/annex/objects/m7/mf/MD5E-s18577412--b4a57fa1ee1357f1f3c50fef06b3d818.edf'\n",
      "Processing: MD5E-s18577412--b4a57fa1ee1357f1f3c50fef06b3d818.edf\n",
      "Error with MD5E-s18577412--b4a57fa1ee1357f1f3c50fef06b3d818.edf: 'utf-8' codec can't decode byte 0x8b in position 15618: invalid start byte\n",
      "Processing: MD5E-s19770188--42ec35b09e5ee08710b53373f030ff76.edf\n",
      "Error with MD5E-s19770188--42ec35b09e5ee08710b53373f030ff76.edf: [Errno 21] Is a directory: '../data/ds004100/.git/annex/objects/m8/4V/MD5E-s19770188--42ec35b09e5ee08710b53373f030ff76.edf'\n",
      "Processing: MD5E-s19770188--42ec35b09e5ee08710b53373f030ff76.edf\n",
      "Error with MD5E-s19770188--42ec35b09e5ee08710b53373f030ff76.edf: 'utf-8' codec can't decode byte 0xeb in position 23552: invalid continuation byte\n",
      "Processing: MD5E-s21578630--312af74fc86c0ee3e3a9de9a1989ead6.edf\n",
      "Error with MD5E-s21578630--312af74fc86c0ee3e3a9de9a1989ead6.edf: [Errno 21] Is a directory: '../data/ds004100/.git/annex/objects/m8/56/MD5E-s21578630--312af74fc86c0ee3e3a9de9a1989ead6.edf'\n",
      "Processing: MD5E-s21578630--312af74fc86c0ee3e3a9de9a1989ead6.edf\n",
      "Error with MD5E-s21578630--312af74fc86c0ee3e3a9de9a1989ead6.edf: 'utf-8' codec can't decode byte 0xff in position 25090: invalid start byte\n",
      "Processing: MD5E-s78710680--802fe65aaed0e681e230d8da7bb6bd20.edf\n",
      "Error with MD5E-s78710680--802fe65aaed0e681e230d8da7bb6bd20.edf: [Errno 21] Is a directory: '../data/ds004100/.git/annex/objects/mJ/q0/MD5E-s78710680--802fe65aaed0e681e230d8da7bb6bd20.edf'\n",
      "Processing: MD5E-s78710680--802fe65aaed0e681e230d8da7bb6bd20.edf\n",
      "Error with MD5E-s78710680--802fe65aaed0e681e230d8da7bb6bd20.edf: 'utf-8' codec can't decode byte 0xbb in position 33280: invalid start byte\n",
      "Processing: MD5E-s46393310--05bf223d6db28f10dbf58cf9667cf662.edf\n",
      "Error with MD5E-s46393310--05bf223d6db28f10dbf58cf9667cf662.edf: [Errno 21] Is a directory: '../data/ds004100/.git/annex/objects/mJ/zJ/MD5E-s46393310--05bf223d6db28f10dbf58cf9667cf662.edf'\n",
      "Processing: MD5E-s46393310--05bf223d6db28f10dbf58cf9667cf662.edf\n",
      "Error with MD5E-s46393310--05bf223d6db28f10dbf58cf9667cf662.edf: 'utf-8' codec can't decode byte 0xef in position 32768: invalid continuation byte\n",
      "Processing: MD5E-s47077262--01ade6eb79e60e5e9d811182d8f80755.edf\n",
      "Error with MD5E-s47077262--01ade6eb79e60e5e9d811182d8f80755.edf: [Errno 21] Is a directory: '../data/ds004100/.git/annex/objects/mV/0J/MD5E-s47077262--01ade6eb79e60e5e9d811182d8f80755.edf'\n",
      "Processing: MD5E-s47077262--01ade6eb79e60e5e9d811182d8f80755.edf\n",
      "Error with MD5E-s47077262--01ade6eb79e60e5e9d811182d8f80755.edf: 'utf-8' codec can't decode byte 0xfe in position 46593: invalid start byte\n",
      "Processing: MD5E-s15212826--821d1fd1dbd45dffab068a8e704d5d64.edf\n",
      "Error with MD5E-s15212826--821d1fd1dbd45dffab068a8e704d5d64.edf: [Errno 21] Is a directory: '../data/ds004100/.git/annex/objects/mf/zZ/MD5E-s15212826--821d1fd1dbd45dffab068a8e704d5d64.edf'\n",
      "Processing: MD5E-s15212826--821d1fd1dbd45dffab068a8e704d5d64.edf\n",
      "Error with MD5E-s15212826--821d1fd1dbd45dffab068a8e704d5d64.edf: 'utf-8' codec can't decode byte 0x9a in position 19456: invalid start byte\n",
      "Processing: MD5E-s25933366--c238f7186433c4ca859bd70695bf43b5.edf\n",
      "Error with MD5E-s25933366--c238f7186433c4ca859bd70695bf43b5.edf: [Errno 21] Is a directory: '../data/ds004100/.git/annex/objects/mm/8M/MD5E-s25933366--c238f7186433c4ca859bd70695bf43b5.edf'\n",
      "Processing: MD5E-s25933366--c238f7186433c4ca859bd70695bf43b5.edf\n",
      "Error with MD5E-s25933366--c238f7186433c4ca859bd70695bf43b5.edf: 'utf-8' codec can't decode byte 0xf0 in position 27346: invalid continuation byte\n",
      "Processing: MD5E-s14072348--4f7607b5c7bca21735eb55344d9c0a72.edf\n",
      "Error with MD5E-s14072348--4f7607b5c7bca21735eb55344d9c0a72.edf: [Errno 21] Is a directory: '../data/ds004100/.git/annex/objects/mm/p7/MD5E-s14072348--4f7607b5c7bca21735eb55344d9c0a72.edf'\n",
      "Processing: MD5E-s14072348--4f7607b5c7bca21735eb55344d9c0a72.edf\n",
      "Error with MD5E-s14072348--4f7607b5c7bca21735eb55344d9c0a72.edf: 'utf-8' codec can't decode byte 0x8a in position 16128: invalid start byte\n",
      "Processing: MD5E-s44679620--a2bbf6252047a59e6a5514ffa90bd7ce.edf\n",
      "Error with MD5E-s44679620--a2bbf6252047a59e6a5514ffa90bd7ce.edf: [Errno 21] Is a directory: '../data/ds004100/.git/annex/objects/mz/WW/MD5E-s44679620--a2bbf6252047a59e6a5514ffa90bd7ce.edf'\n",
      "Processing: MD5E-s44679620--a2bbf6252047a59e6a5514ffa90bd7ce.edf\n",
      "Error with MD5E-s44679620--a2bbf6252047a59e6a5514ffa90bd7ce.edf: 'utf-8' codec can't decode byte 0xbe in position 46592: invalid start byte\n",
      "Processing: MD5E-s32417622--a4c15ca711a243ce89745c70febade29.edf\n",
      "Error with MD5E-s32417622--a4c15ca711a243ce89745c70febade29.edf: [Errno 21] Is a directory: '../data/ds004100/.git/annex/objects/p3/5Z/MD5E-s32417622--a4c15ca711a243ce89745c70febade29.edf'\n",
      "Processing: MD5E-s32417622--a4c15ca711a243ce89745c70febade29.edf\n",
      "Error with MD5E-s32417622--a4c15ca711a243ce89745c70febade29.edf: 'utf-8' codec can't decode byte 0xfa in position 32030: invalid start byte\n",
      "Processing: MD5E-s123397240--4d3f3570d8886af21aa43bcf7025b3a1.edf\n",
      "Error with MD5E-s123397240--4d3f3570d8886af21aa43bcf7025b3a1.edf: [Errno 21] Is a directory: '../data/ds004100/.git/annex/objects/p5/x4/MD5E-s123397240--4d3f3570d8886af21aa43bcf7025b3a1.edf'\n",
      "Processing: MD5E-s123397240--4d3f3570d8886af21aa43bcf7025b3a1.edf\n",
      "Error with MD5E-s123397240--4d3f3570d8886af21aa43bcf7025b3a1.edf: 'utf-8' codec can't decode byte 0xf7 in position 24070: invalid start byte\n",
      "Processing: MD5E-s59252744--d828b61af5a0cd963a0f652306fbbd9e.edf\n",
      "Error with MD5E-s59252744--d828b61af5a0cd963a0f652306fbbd9e.edf: [Errno 21] Is a directory: '../data/ds004100/.git/annex/objects/p6/MX/MD5E-s59252744--d828b61af5a0cd963a0f652306fbbd9e.edf'\n",
      "Processing: MD5E-s59252744--d828b61af5a0cd963a0f652306fbbd9e.edf\n",
      "Error with MD5E-s59252744--d828b61af5a0cd963a0f652306fbbd9e.edf: 'utf-8' codec can't decode byte 0xe9 in position 26625: invalid continuation byte\n",
      "Processing: MD5E-s23059972--3bded51e25f352bab3bcc7c60c62eaf3.edf\n",
      "Error with MD5E-s23059972--3bded51e25f352bab3bcc7c60c62eaf3.edf: [Errno 21] Is a directory: '../data/ds004100/.git/annex/objects/p9/2q/MD5E-s23059972--3bded51e25f352bab3bcc7c60c62eaf3.edf'\n",
      "Processing: MD5E-s23059972--3bded51e25f352bab3bcc7c60c62eaf3.edf\n",
      "Error with MD5E-s23059972--3bded51e25f352bab3bcc7c60c62eaf3.edf: 'utf-8' codec can't decode byte 0xf7 in position 21504: invalid start byte\n",
      "Processing: MD5E-s84010154--bb67adf6365cd425055f233b5fcabf1f.edf\n",
      "Error with MD5E-s84010154--bb67adf6365cd425055f233b5fcabf1f.edf: [Errno 21] Is a directory: '../data/ds004100/.git/annex/objects/pK/1m/MD5E-s84010154--bb67adf6365cd425055f233b5fcabf1f.edf'\n",
      "Processing: MD5E-s84010154--bb67adf6365cd425055f233b5fcabf1f.edf\n",
      "Error with MD5E-s84010154--bb67adf6365cd425055f233b5fcabf1f.edf: 'utf-8' codec can't decode byte 0xeb in position 41984: invalid continuation byte\n",
      "Processing: MD5E-s53533912--5e26da1e8a5a5f11433243d99948c658.edf\n",
      "Error with MD5E-s53533912--5e26da1e8a5a5f11433243d99948c658.edf: [Errno 21] Is a directory: '../data/ds004100/.git/annex/objects/pK/J3/MD5E-s53533912--5e26da1e8a5a5f11433243d99948c658.edf'\n",
      "Processing: MD5E-s53533912--5e26da1e8a5a5f11433243d99948c658.edf\n",
      "Error with MD5E-s53533912--5e26da1e8a5a5f11433243d99948c658.edf: 'utf-8' codec can't decode byte 0xff in position 33280: invalid start byte\n",
      "Processing: MD5E-s72564120--9ed0cb7c75c6fcdad1e94a2b4d5e8443.edf\n",
      "Error with MD5E-s72564120--9ed0cb7c75c6fcdad1e94a2b4d5e8443.edf: [Errno 21] Is a directory: '../data/ds004100/.git/annex/objects/pf/PK/MD5E-s72564120--9ed0cb7c75c6fcdad1e94a2b4d5e8443.edf'\n",
      "Processing: MD5E-s72564120--9ed0cb7c75c6fcdad1e94a2b4d5e8443.edf\n",
      "Error with MD5E-s72564120--9ed0cb7c75c6fcdad1e94a2b4d5e8443.edf: 'utf-8' codec can't decode byte 0x81 in position 30746: invalid start byte\n",
      "Processing: MD5E-s27705752--02182638c9f869f137a65558665b7640.edf\n",
      "Error with MD5E-s27705752--02182638c9f869f137a65558665b7640.edf: [Errno 21] Is a directory: '../data/ds004100/.git/annex/objects/pf/Q8/MD5E-s27705752--02182638c9f869f137a65558665b7640.edf'\n",
      "Processing: MD5E-s27705752--02182638c9f869f137a65558665b7640.edf\n",
      "Error with MD5E-s27705752--02182638c9f869f137a65558665b7640.edf: 'utf-8' codec can't decode byte 0xf9 in position 23552: invalid start byte\n",
      "Processing: MD5E-s83021784--2d858dbeb0fd54ab5c02782bc91206a6.edf\n",
      "Error with MD5E-s83021784--2d858dbeb0fd54ab5c02782bc91206a6.edf: [Errno 21] Is a directory: '../data/ds004100/.git/annex/objects/pf/jx/MD5E-s83021784--2d858dbeb0fd54ab5c02782bc91206a6.edf'\n",
      "Processing: MD5E-s83021784--2d858dbeb0fd54ab5c02782bc91206a6.edf\n",
      "Error with MD5E-s83021784--2d858dbeb0fd54ab5c02782bc91206a6.edf: 'utf-8' codec can't decode byte 0xf6 in position 31748: invalid start byte\n",
      "Processing: MD5E-s32417622--3d33821404724d6f8a623a995d72f6ca.edf\n",
      "Error with MD5E-s32417622--3d33821404724d6f8a623a995d72f6ca.edf: [Errno 21] Is a directory: '../data/ds004100/.git/annex/objects/pf/wk/MD5E-s32417622--3d33821404724d6f8a623a995d72f6ca.edf'\n",
      "Processing: MD5E-s32417622--3d33821404724d6f8a623a995d72f6ca.edf\n",
      "Error with MD5E-s32417622--3d33821404724d6f8a623a995d72f6ca.edf: 'utf-8' codec can't decode byte 0xff in position 31788: invalid start byte\n",
      "Processing: MD5E-s20119322--a4b753443873351c59efedaee0f6f2a4.edf\n",
      "Error with MD5E-s20119322--a4b753443873351c59efedaee0f6f2a4.edf: [Errno 21] Is a directory: '../data/ds004100/.git/annex/objects/pm/46/MD5E-s20119322--a4b753443873351c59efedaee0f6f2a4.edf'\n",
      "Processing: MD5E-s20119322--a4b753443873351c59efedaee0f6f2a4.edf\n",
      "Error with MD5E-s20119322--a4b753443873351c59efedaee0f6f2a4.edf: 'utf-8' codec can't decode byte 0xea in position 20992: invalid continuation byte\n",
      "Processing: MD5E-s36007064--6a0f11a8d4242ac520a90d602d4bbe01.edf\n",
      "Error with MD5E-s36007064--6a0f11a8d4242ac520a90d602d4bbe01.edf: [Errno 21] Is a directory: '../data/ds004100/.git/annex/objects/pm/p4/MD5E-s36007064--6a0f11a8d4242ac520a90d602d4bbe01.edf'\n",
      "Processing: MD5E-s36007064--6a0f11a8d4242ac520a90d602d4bbe01.edf\n",
      "Error with MD5E-s36007064--6a0f11a8d4242ac520a90d602d4bbe01.edf: 'utf-8' codec can't decode byte 0xe6 in position 30978: invalid continuation byte\n",
      "Processing: MD5E-s35881346--fa11316321ef32f334bf0bd0e8f6afa2.edf\n",
      "Error with MD5E-s35881346--fa11316321ef32f334bf0bd0e8f6afa2.edf: [Errno 21] Is a directory: '../data/ds004100/.git/annex/objects/pm/qG/MD5E-s35881346--fa11316321ef32f334bf0bd0e8f6afa2.edf'\n",
      "Processing: MD5E-s35881346--fa11316321ef32f334bf0bd0e8f6afa2.edf\n",
      "Error with MD5E-s35881346--fa11316321ef32f334bf0bd0e8f6afa2.edf: 'utf-8' codec can't decode byte 0xfb in position 45060: invalid start byte\n",
      "Processing: MD5E-s105755544--b6eff70a56afd4b964f6b5a9cdc8361a.edf\n",
      "Error with MD5E-s105755544--b6eff70a56afd4b964f6b5a9cdc8361a.edf: [Errno 21] Is a directory: '../data/ds004100/.git/annex/objects/pq/67/MD5E-s105755544--b6eff70a56afd4b964f6b5a9cdc8361a.edf'\n",
      "Processing: MD5E-s105755544--b6eff70a56afd4b964f6b5a9cdc8361a.edf\n",
      "Error with MD5E-s105755544--b6eff70a56afd4b964f6b5a9cdc8361a.edf: 'utf-8' codec can't decode byte 0x88 in position 44544: invalid start byte\n",
      "Processing: MD5E-s36314520--431216ae5b8e0fd091b46e4f4105f616.edf\n",
      "Error with MD5E-s36314520--431216ae5b8e0fd091b46e4f4105f616.edf: [Errno 21] Is a directory: '../data/ds004100/.git/annex/objects/pq/p4/MD5E-s36314520--431216ae5b8e0fd091b46e4f4105f616.edf'\n",
      "Processing: MD5E-s36314520--431216ae5b8e0fd091b46e4f4105f616.edf\n",
      "Error with MD5E-s36314520--431216ae5b8e0fd091b46e4f4105f616.edf: 'utf-8' codec can't decode byte 0xc4 in position 30720: invalid continuation byte\n",
      "Processing: MD5E-s90603634--e14e294167d6dabf267144ab1b5fdfef.edf\n",
      "Error with MD5E-s90603634--e14e294167d6dabf267144ab1b5fdfef.edf: [Errno 21] Is a directory: '../data/ds004100/.git/annex/objects/q2/5v/MD5E-s90603634--e14e294167d6dabf267144ab1b5fdfef.edf'\n",
      "Processing: MD5E-s90603634--e14e294167d6dabf267144ab1b5fdfef.edf\n",
      "Error with MD5E-s90603634--e14e294167d6dabf267144ab1b5fdfef.edf: 'utf-8' codec can't decode byte 0xff in position 44553: invalid start byte\n",
      "Processing: MD5E-s55107460--1d511ce09e1d22608eeca72a954be014.edf\n",
      "Error with MD5E-s55107460--1d511ce09e1d22608eeca72a954be014.edf: [Errno 21] Is a directory: '../data/ds004100/.git/annex/objects/q2/kj/MD5E-s55107460--1d511ce09e1d22608eeca72a954be014.edf'\n",
      "Processing: MD5E-s55107460--1d511ce09e1d22608eeca72a954be014.edf\n",
      "Error with MD5E-s55107460--1d511ce09e1d22608eeca72a954be014.edf: 'utf-8' codec can't decode byte 0xff in position 33283: invalid start byte\n",
      "Processing: MD5E-s38458220--7b22132e295422665bd7df49ab7cd773.edf\n",
      "Error with MD5E-s38458220--7b22132e295422665bd7df49ab7cd773.edf: [Errno 21] Is a directory: '../data/ds004100/.git/annex/objects/q4/K1/MD5E-s38458220--7b22132e295422665bd7df49ab7cd773.edf'\n",
      "Processing: MD5E-s38458220--7b22132e295422665bd7df49ab7cd773.edf\n",
      "Error with MD5E-s38458220--7b22132e295422665bd7df49ab7cd773.edf: 'utf-8' codec can't decode byte 0xf8 in position 42240: invalid start byte\n",
      "Processing: MD5E-s118048664--d1e6d1e15a4c62359b907ab0d23516ea.edf\n",
      "Error with MD5E-s118048664--d1e6d1e15a4c62359b907ab0d23516ea.edf: [Errno 21] Is a directory: '../data/ds004100/.git/annex/objects/q4/W8/MD5E-s118048664--d1e6d1e15a4c62359b907ab0d23516ea.edf'\n",
      "Processing: MD5E-s118048664--d1e6d1e15a4c62359b907ab0d23516ea.edf\n",
      "Error with MD5E-s118048664--d1e6d1e15a4c62359b907ab0d23516ea.edf: 'utf-8' codec can't decode byte 0xf7 in position 49664: invalid start byte\n",
      "Processing: MD5E-s22723644--808ce80793f7407fc0e3045f68aca135.edf\n",
      "Error with MD5E-s22723644--808ce80793f7407fc0e3045f68aca135.edf: [Errno 21] Is a directory: '../data/ds004100/.git/annex/objects/qF/8P/MD5E-s22723644--808ce80793f7407fc0e3045f68aca135.edf'\n",
      "Processing: MD5E-s22723644--808ce80793f7407fc0e3045f68aca135.edf\n",
      "Error with MD5E-s22723644--808ce80793f7407fc0e3045f68aca135.edf: 'utf-8' codec can't decode byte 0xf2 in position 21514: invalid continuation byte\n",
      "Processing: MD5E-s33575096--cb63b4ca7354f70f4cb397bb08b4c404.edf\n",
      "Error with MD5E-s33575096--cb63b4ca7354f70f4cb397bb08b4c404.edf: [Errno 21] Is a directory: '../data/ds004100/.git/annex/objects/qF/kK/MD5E-s33575096--cb63b4ca7354f70f4cb397bb08b4c404.edf'\n",
      "Processing: MD5E-s33575096--cb63b4ca7354f70f4cb397bb08b4c404.edf\n",
      "Error with MD5E-s33575096--cb63b4ca7354f70f4cb397bb08b4c404.edf: 'utf-8' codec can't decode byte 0xc8 in position 30720: invalid continuation byte\n",
      "Processing: MD5E-s40932688--4be2461fd9760b98b17b389de7cc39d8.edf\n",
      "Error with MD5E-s40932688--4be2461fd9760b98b17b389de7cc39d8.edf: [Errno 21] Is a directory: '../data/ds004100/.git/annex/objects/qJ/GQ/MD5E-s40932688--4be2461fd9760b98b17b389de7cc39d8.edf'\n",
      "Processing: MD5E-s40932688--4be2461fd9760b98b17b389de7cc39d8.edf\n",
      "Error with MD5E-s40932688--4be2461fd9760b98b17b389de7cc39d8.edf: 'utf-8' codec can't decode byte 0xfc in position 44544: invalid start byte\n",
      "Processing: MD5E-s25118610--f7a95bb67e083224c21192ef259513c8.edf\n",
      "Error with MD5E-s25118610--f7a95bb67e083224c21192ef259513c8.edf: [Errno 21] Is a directory: '../data/ds004100/.git/annex/objects/qJ/Mk/MD5E-s25118610--f7a95bb67e083224c21192ef259513c8.edf'\n",
      "Processing: MD5E-s25118610--f7a95bb67e083224c21192ef259513c8.edf\n",
      "Error with MD5E-s25118610--f7a95bb67e083224c21192ef259513c8.edf: 'utf-8' codec can't decode byte 0xf1 in position 27137: invalid continuation byte\n",
      "Processing: MD5E-s38167224--171327ef5ab9dffbbb895cf414070392.edf\n",
      "Error with MD5E-s38167224--171327ef5ab9dffbbb895cf414070392.edf: [Errno 21] Is a directory: '../data/ds004100/.git/annex/objects/qk/xG/MD5E-s38167224--171327ef5ab9dffbbb895cf414070392.edf'\n",
      "Processing: MD5E-s38167224--171327ef5ab9dffbbb895cf414070392.edf\n",
      "Error with MD5E-s38167224--171327ef5ab9dffbbb895cf414070392.edf: 'utf-8' codec can't decode byte 0xf4 in position 33024: invalid continuation byte\n",
      "Processing: MD5E-s38774168--e4109360375860141cc4502f551f940e.edf\n",
      "Error with MD5E-s38774168--e4109360375860141cc4502f551f940e.edf: [Errno 21] Is a directory: '../data/ds004100/.git/annex/objects/qp/f0/MD5E-s38774168--e4109360375860141cc4502f551f940e.edf'\n",
      "Processing: MD5E-s38774168--e4109360375860141cc4502f551f940e.edf\n",
      "Error with MD5E-s38774168--e4109360375860141cc4502f551f940e.edf: 'utf-8' codec can't decode byte 0x85 in position 32768: invalid start byte\n",
      "Processing: MD5E-s15913002--0920745f06ae1eec7bbdf191c0f4b847.edf\n",
      "Error with MD5E-s15913002--0920745f06ae1eec7bbdf191c0f4b847.edf: [Errno 21] Is a directory: '../data/ds004100/.git/annex/objects/qv/WX/MD5E-s15913002--0920745f06ae1eec7bbdf191c0f4b847.edf'\n",
      "Processing: MD5E-s15913002--0920745f06ae1eec7bbdf191c0f4b847.edf\n",
      "Error with MD5E-s15913002--0920745f06ae1eec7bbdf191c0f4b847.edf: 'utf-8' codec can't decode byte 0xeb in position 21526: invalid continuation byte\n",
      "Processing: MD5E-s65695356--e954485a38789a5a8d1f676f7c3b0c94.edf\n",
      "Error with MD5E-s65695356--e954485a38789a5a8d1f676f7c3b0c94.edf: [Errno 21] Is a directory: '../data/ds004100/.git/annex/objects/qw/Jj/MD5E-s65695356--e954485a38789a5a8d1f676f7c3b0c94.edf'\n",
      "Processing: MD5E-s65695356--e954485a38789a5a8d1f676f7c3b0c94.edf\n",
      "Error with MD5E-s65695356--e954485a38789a5a8d1f676f7c3b0c94.edf: 'utf-8' codec can't decode byte 0xdb in position 38658: invalid continuation byte\n",
      "Processing: MD5E-s27096776--f09d1d8c0e4543b37704fc8045ebf208.edf\n",
      "Error with MD5E-s27096776--f09d1d8c0e4543b37704fc8045ebf208.edf: [Errno 21] Is a directory: '../data/ds004100/.git/annex/objects/v0/xM/MD5E-s27096776--f09d1d8c0e4543b37704fc8045ebf208.edf'\n",
      "Processing: MD5E-s27096776--f09d1d8c0e4543b37704fc8045ebf208.edf\n",
      "Error with MD5E-s27096776--f09d1d8c0e4543b37704fc8045ebf208.edf: 'utf-8' codec can't decode bytes in position 27137-27138: invalid continuation byte\n",
      "Processing: MD5E-s37790116--9d2975d8f846161ccb9f21c29867a508.edf\n",
      "Error with MD5E-s37790116--9d2975d8f846161ccb9f21c29867a508.edf: [Errno 21] Is a directory: '../data/ds004100/.git/annex/objects/v2/47/MD5E-s37790116--9d2975d8f846161ccb9f21c29867a508.edf'\n",
      "Processing: MD5E-s37790116--9d2975d8f846161ccb9f21c29867a508.edf\n",
      "Error with MD5E-s37790116--9d2975d8f846161ccb9f21c29867a508.edf: 'utf-8' codec can't decode byte 0xfe in position 42246: invalid start byte\n",
      "Processing: MD5E-s82851494--cd996b15986fe6c5eb0959e82f150370.edf\n",
      "Error with MD5E-s82851494--cd996b15986fe6c5eb0959e82f150370.edf: [Errno 21] Is a directory: '../data/ds004100/.git/annex/objects/v6/Pk/MD5E-s82851494--cd996b15986fe6c5eb0959e82f150370.edf'\n",
      "Processing: MD5E-s82851494--cd996b15986fe6c5eb0959e82f150370.edf\n",
      "Error with MD5E-s82851494--cd996b15986fe6c5eb0959e82f150370.edf: 'utf-8' codec can't decode byte 0x8e in position 44546: invalid start byte\n",
      "Processing: MD5E-s50212640--545b12b9c253557265a401fb1c53376e.edf\n",
      "Error with MD5E-s50212640--545b12b9c253557265a401fb1c53376e.edf: [Errno 21] Is a directory: '../data/ds004100/.git/annex/objects/vf/fk/MD5E-s50212640--545b12b9c253557265a401fb1c53376e.edf'\n",
      "Processing: MD5E-s50212640--545b12b9c253557265a401fb1c53376e.edf\n",
      "Error with MD5E-s50212640--545b12b9c253557265a401fb1c53376e.edf: 'utf-8' codec can't decode byte 0xa9 in position 46592: invalid start byte\n",
      "Processing: MD5E-s110672792--e5918124af08080968c8fc7f127de3ec.edf\n",
      "Error with MD5E-s110672792--e5918124af08080968c8fc7f127de3ec.edf: [Errno 21] Is a directory: '../data/ds004100/.git/annex/objects/vg/Wk/MD5E-s110672792--e5918124af08080968c8fc7f127de3ec.edf'\n",
      "Processing: MD5E-s110672792--e5918124af08080968c8fc7f127de3ec.edf\n",
      "Error with MD5E-s110672792--e5918124af08080968c8fc7f127de3ec.edf: 'utf-8' codec can't decode byte 0x8a in position 46592: invalid start byte\n",
      "Processing: MD5E-s25246104--9af07f8b261df62db512a64aaa639c0e.edf\n",
      "Error with MD5E-s25246104--9af07f8b261df62db512a64aaa639c0e.edf: [Errno 21] Is a directory: '../data/ds004100/.git/annex/objects/vg/kw/MD5E-s25246104--9af07f8b261df62db512a64aaa639c0e.edf'\n",
      "Processing: MD5E-s25246104--9af07f8b261df62db512a64aaa639c0e.edf\n",
      "Error with MD5E-s25246104--9af07f8b261df62db512a64aaa639c0e.edf: 'utf-8' codec can't decode byte 0x88 in position 21548: invalid start byte\n",
      "Processing: MD5E-s21086540--7b80443b63f63953c225995723595d93.edf\n",
      "Error with MD5E-s21086540--7b80443b63f63953c225995723595d93.edf: [Errno 21] Is a directory: '../data/ds004100/.git/annex/objects/vg/mF/MD5E-s21086540--7b80443b63f63953c225995723595d93.edf'\n",
      "Processing: MD5E-s21086540--7b80443b63f63953c225995723595d93.edf\n",
      "Error with MD5E-s21086540--7b80443b63f63953c225995723595d93.edf: 'utf-8' codec can't decode byte 0xdb in position 25088: invalid continuation byte\n",
      "Processing: MD5E-s29550488--a8d9d47de4feaebf9b81b88f3ae9d75c.edf\n",
      "Error with MD5E-s29550488--a8d9d47de4feaebf9b81b88f3ae9d75c.edf: [Errno 21] Is a directory: '../data/ds004100/.git/annex/objects/vv/g7/MD5E-s29550488--a8d9d47de4feaebf9b81b88f3ae9d75c.edf'\n",
      "Processing: MD5E-s29550488--a8d9d47de4feaebf9b81b88f3ae9d75c.edf\n",
      "Error with MD5E-s29550488--a8d9d47de4feaebf9b81b88f3ae9d75c.edf: 'utf-8' codec can't decode byte 0xe8 in position 25088: invalid continuation byte\n",
      "Processing: MD5E-s33547416--a7b851d057f52dcd0350fad3d54cd87a.edf\n",
      "Error with MD5E-s33547416--a7b851d057f52dcd0350fad3d54cd87a.edf: [Errno 21] Is a directory: '../data/ds004100/.git/annex/objects/vv/pv/MD5E-s33547416--a7b851d057f52dcd0350fad3d54cd87a.edf'\n",
      "Processing: MD5E-s33547416--a7b851d057f52dcd0350fad3d54cd87a.edf\n",
      "Error with MD5E-s33547416--a7b851d057f52dcd0350fad3d54cd87a.edf: 'utf-8' codec can't decode byte 0xec in position 28416: invalid continuation byte\n",
      "Processing: MD5E-s105755544--68737e1361149b92b9f954618dd3f8b3.edf\n",
      "Error with MD5E-s105755544--68737e1361149b92b9f954618dd3f8b3.edf: [Errno 21] Is a directory: '../data/ds004100/.git/annex/objects/vz/86/MD5E-s105755544--68737e1361149b92b9f954618dd3f8b3.edf'\n",
      "Processing: MD5E-s105755544--68737e1361149b92b9f954618dd3f8b3.edf\n",
      "Error with MD5E-s105755544--68737e1361149b92b9f954618dd3f8b3.edf: 'utf-8' codec can't decode byte 0xff in position 44560: invalid start byte\n",
      "Processing: MD5E-s32042496--78070ee730ec7aa29dd03ca2d781ed72.edf\n",
      "Error with MD5E-s32042496--78070ee730ec7aa29dd03ca2d781ed72.edf: [Errno 21] Is a directory: '../data/ds004100/.git/annex/objects/w2/ZV/MD5E-s32042496--78070ee730ec7aa29dd03ca2d781ed72.edf'\n",
      "Processing: MD5E-s32042496--78070ee730ec7aa29dd03ca2d781ed72.edf\n",
      "Error with MD5E-s32042496--78070ee730ec7aa29dd03ca2d781ed72.edf: 'utf-8' codec can't decode byte 0xec in position 31744: invalid continuation byte\n",
      "Processing: MD5E-s29605370--b77e81cfb86525d34809812a8e606e63.edf\n",
      "Error with MD5E-s29605370--b77e81cfb86525d34809812a8e606e63.edf: [Errno 21] Is a directory: '../data/ds004100/.git/annex/objects/w3/7w/MD5E-s29605370--b77e81cfb86525d34809812a8e606e63.edf'\n",
      "Processing: MD5E-s29605370--b77e81cfb86525d34809812a8e606e63.edf\n",
      "Error with MD5E-s29605370--b77e81cfb86525d34809812a8e606e63.edf: 'utf-8' codec can't decode byte 0xfb in position 32771: invalid start byte\n",
      "Processing: MD5E-s17749816--ba435f01a83f6b838a61c27a93121f18.edf\n",
      "Error with MD5E-s17749816--ba435f01a83f6b838a61c27a93121f18.edf: [Errno 21] Is a directory: '../data/ds004100/.git/annex/objects/w3/GK/MD5E-s17749816--ba435f01a83f6b838a61c27a93121f18.edf'\n",
      "Processing: MD5E-s17749816--ba435f01a83f6b838a61c27a93121f18.edf\n",
      "Error with MD5E-s17749816--ba435f01a83f6b838a61c27a93121f18.edf: 'utf-8' codec can't decode byte 0x96 in position 16616: invalid start byte\n",
      "Processing: MD5E-s18350328--dc4e6bd031bedbfefb178793e05c296d.edf\n",
      "Error with MD5E-s18350328--dc4e6bd031bedbfefb178793e05c296d.edf: [Errno 21] Is a directory: '../data/ds004100/.git/annex/objects/w5/3p/MD5E-s18350328--dc4e6bd031bedbfefb178793e05c296d.edf'\n",
      "Processing: MD5E-s18350328--dc4e6bd031bedbfefb178793e05c296d.edf\n",
      "Error with MD5E-s18350328--dc4e6bd031bedbfefb178793e05c296d.edf: 'utf-8' codec can't decode byte 0xf0 in position 16129: invalid continuation byte\n",
      "Processing: MD5E-s78710680--7bb71ed246ddc594789623a8fea4565b.edf\n",
      "Error with MD5E-s78710680--7bb71ed246ddc594789623a8fea4565b.edf: [Errno 21] Is a directory: '../data/ds004100/.git/annex/objects/w6/17/MD5E-s78710680--7bb71ed246ddc594789623a8fea4565b.edf'\n",
      "Processing: MD5E-s78710680--7bb71ed246ddc594789623a8fea4565b.edf\n",
      "Error with MD5E-s78710680--7bb71ed246ddc594789623a8fea4565b.edf: 'utf-8' codec can't decode byte 0xaa in position 33280: invalid start byte\n",
      "Processing: MD5E-s14471686--3fcc2cc2a388fd4af27d643851c6b56a.edf\n",
      "Error with MD5E-s14471686--3fcc2cc2a388fd4af27d643851c6b56a.edf: [Errno 21] Is a directory: '../data/ds004100/.git/annex/objects/w6/wJ/MD5E-s14471686--3fcc2cc2a388fd4af27d643851c6b56a.edf'\n",
      "Processing: MD5E-s14471686--3fcc2cc2a388fd4af27d643851c6b56a.edf\n",
      "Error with MD5E-s14471686--3fcc2cc2a388fd4af27d643851c6b56a.edf: 'utf-8' codec can't decode byte 0xc3 in position 19456: invalid continuation byte\n",
      "Processing: MD5E-s35699608--4a261107ea42f8cad2a848dc65cadd68.edf\n",
      "Error with MD5E-s35699608--4a261107ea42f8cad2a848dc65cadd68.edf: [Errno 21] Is a directory: '../data/ds004100/.git/annex/objects/w7/Qm/MD5E-s35699608--4a261107ea42f8cad2a848dc65cadd68.edf'\n",
      "Processing: MD5E-s35699608--4a261107ea42f8cad2a848dc65cadd68.edf\n",
      "Error with MD5E-s35699608--4a261107ea42f8cad2a848dc65cadd68.edf: 'utf-8' codec can't decode byte 0xf1 in position 30630: invalid continuation byte\n",
      "Processing: MD5E-s14397572--f3ceb5d2cfaed1f13c8b6d5e6a9e49f3.edf\n",
      "Error with MD5E-s14397572--f3ceb5d2cfaed1f13c8b6d5e6a9e49f3.edf: [Errno 21] Is a directory: '../data/ds004100/.git/annex/objects/wQ/Zp/MD5E-s14397572--f3ceb5d2cfaed1f13c8b6d5e6a9e49f3.edf'\n",
      "Processing: MD5E-s14397572--f3ceb5d2cfaed1f13c8b6d5e6a9e49f3.edf\n",
      "Error with MD5E-s14397572--f3ceb5d2cfaed1f13c8b6d5e6a9e49f3.edf: 'utf-8' codec can't decode byte 0x9f in position 19456: invalid start byte\n",
      "Processing: MD5E-s24734396--13ffa677094ee11ed73ead97d2d2d53c.edf\n",
      "Error with MD5E-s24734396--13ffa677094ee11ed73ead97d2d2d53c.edf: [Errno 21] Is a directory: '../data/ds004100/.git/annex/objects/wQ/k7/MD5E-s24734396--13ffa677094ee11ed73ead97d2d2d53c.edf'\n",
      "Processing: MD5E-s24734396--13ffa677094ee11ed73ead97d2d2d53c.edf\n",
      "Error with MD5E-s24734396--13ffa677094ee11ed73ead97d2d2d53c.edf: 'utf-8' codec can't decode byte 0xff in position 30468: invalid start byte\n",
      "Processing: MD5E-s37936574--48382114d28b125ea43fd995b9c3fba3.edf\n",
      "Error with MD5E-s37936574--48382114d28b125ea43fd995b9c3fba3.edf: [Errno 21] Is a directory: '../data/ds004100/.git/annex/objects/x7/8q/MD5E-s37936574--48382114d28b125ea43fd995b9c3fba3.edf'\n",
      "Processing: MD5E-s37936574--48382114d28b125ea43fd995b9c3fba3.edf\n",
      "Error with MD5E-s37936574--48382114d28b125ea43fd995b9c3fba3.edf: 'utf-8' codec can't decode byte 0xe5 in position 44544: invalid continuation byte\n",
      "Processing: MD5E-s90351440--f687fd9896595a800fe707e681c0e641.edf\n",
      "Error with MD5E-s90351440--f687fd9896595a800fe707e681c0e641.edf: [Errno 21] Is a directory: '../data/ds004100/.git/annex/objects/xP/PX/MD5E-s90351440--f687fd9896595a800fe707e681c0e641.edf'\n",
      "Processing: MD5E-s90351440--f687fd9896595a800fe707e681c0e641.edf\n",
      "Error with MD5E-s90351440--f687fd9896595a800fe707e681c0e641.edf: 'utf-8' codec can't decode byte 0xe0 in position 49152: invalid continuation byte\n",
      "Processing: MD5E-s100471524--b5f9f22d163615996093d5cbb5d87151.edf\n",
      "Error with MD5E-s100471524--b5f9f22d163615996093d5cbb5d87151.edf: [Errno 21] Is a directory: '../data/ds004100/.git/annex/objects/xg/jq/MD5E-s100471524--b5f9f22d163615996093d5cbb5d87151.edf'\n",
      "Processing: MD5E-s100471524--b5f9f22d163615996093d5cbb5d87151.edf\n",
      "Error with MD5E-s100471524--b5f9f22d163615996093d5cbb5d87151.edf: 'utf-8' codec can't decode byte 0xee in position 49152: invalid continuation byte\n",
      "Processing: MD5E-s35464920--65be67dde408c77e6b229dd7d05048f6.edf\n",
      "Error with MD5E-s35464920--65be67dde408c77e6b229dd7d05048f6.edf: [Errno 21] Is a directory: '../data/ds004100/.git/annex/objects/xv/wq/MD5E-s35464920--65be67dde408c77e6b229dd7d05048f6.edf'\n",
      "Processing: MD5E-s35464920--65be67dde408c77e6b229dd7d05048f6.edf\n",
      "Error with MD5E-s35464920--65be67dde408c77e6b229dd7d05048f6.edf: 'utf-8' codec can't decode byte 0xf5 in position 30721: invalid start byte\n",
      "Processing: MD5E-s99608984--eea0945202deb84c6cdb5c009e92b5ee.edf\n",
      "Error with MD5E-s99608984--eea0945202deb84c6cdb5c009e92b5ee.edf: [Errno 21] Is a directory: '../data/ds004100/.git/annex/objects/xv/z6/MD5E-s99608984--eea0945202deb84c6cdb5c009e92b5ee.edf'\n",
      "Processing: MD5E-s99608984--eea0945202deb84c6cdb5c009e92b5ee.edf\n",
      "Error with MD5E-s99608984--eea0945202deb84c6cdb5c009e92b5ee.edf: 'utf-8' codec can't decode byte 0xfe in position 41992: invalid start byte\n",
      "Processing: MD5E-s50150040--69f8a37339fba4799a8638033fcd63bb.edf\n",
      "Error with MD5E-s50150040--69f8a37339fba4799a8638033fcd63bb.edf: [Errno 21] Is a directory: '../data/ds004100/.git/annex/objects/z1/78/MD5E-s50150040--69f8a37339fba4799a8638033fcd63bb.edf'\n",
      "Processing: MD5E-s50150040--69f8a37339fba4799a8638033fcd63bb.edf\n",
      "Error with MD5E-s50150040--69f8a37339fba4799a8638033fcd63bb.edf: 'utf-8' codec can't decode byte 0xff in position 42248: invalid start byte\n",
      "Processing: MD5E-s67273674--2f43053b76a05423ff5a25b488a1a40a.edf\n",
      "Error with MD5E-s67273674--2f43053b76a05423ff5a25b488a1a40a.edf: [Errno 21] Is a directory: '../data/ds004100/.git/annex/objects/z1/Gg/MD5E-s67273674--2f43053b76a05423ff5a25b488a1a40a.edf'\n",
      "Processing: MD5E-s67273674--2f43053b76a05423ff5a25b488a1a40a.edf\n",
      "Error with MD5E-s67273674--2f43053b76a05423ff5a25b488a1a40a.edf: 'utf-8' codec can't decode byte 0xf6 in position 31744: invalid start byte\n",
      "Processing: MD5E-s39164686--05a1eada59a6fc73b90db5339d92e047.edf\n",
      "Error with MD5E-s39164686--05a1eada59a6fc73b90db5339d92e047.edf: [Errno 21] Is a directory: '../data/ds004100/.git/annex/objects/z8/Wg/MD5E-s39164686--05a1eada59a6fc73b90db5339d92e047.edf'\n",
      "Processing: MD5E-s39164686--05a1eada59a6fc73b90db5339d92e047.edf\n",
      "Error with MD5E-s39164686--05a1eada59a6fc73b90db5339d92e047.edf: 'utf-8' codec can't decode byte 0xc5 in position 26112: invalid continuation byte\n",
      "Processing: MD5E-s22253656--6b91539e68ad990282fdedabd929ad20.edf\n",
      "Error with MD5E-s22253656--6b91539e68ad990282fdedabd929ad20.edf: [Errno 21] Is a directory: '../data/ds004100/.git/annex/objects/z8/xx/MD5E-s22253656--6b91539e68ad990282fdedabd929ad20.edf'\n",
      "Processing: MD5E-s22253656--6b91539e68ad990282fdedabd929ad20.edf\n",
      "Error with MD5E-s22253656--6b91539e68ad990282fdedabd929ad20.edf: 'utf-8' codec can't decode byte 0xc2 in position 19456: invalid continuation byte\n",
      "Processing: MD5E-s90391322--19fcc4a8bdb9f81d3f319a323458f2b5.edf\n",
      "Error with MD5E-s90391322--19fcc4a8bdb9f81d3f319a323458f2b5.edf: [Errno 21] Is a directory: '../data/ds004100/.git/annex/objects/zF/JJ/MD5E-s90391322--19fcc4a8bdb9f81d3f319a323458f2b5.edf'\n",
      "Processing: MD5E-s90391322--19fcc4a8bdb9f81d3f319a323458f2b5.edf\n",
      "Error with MD5E-s90391322--19fcc4a8bdb9f81d3f319a323458f2b5.edf: 'utf-8' codec can't decode byte 0xf3 in position 46624: invalid continuation byte\n",
      "Processing: MD5E-s26457240--5c985ae1f17ea52cffe586ad1b9dd44b.edf\n",
      "Error with MD5E-s26457240--5c985ae1f17ea52cffe586ad1b9dd44b.edf: [Errno 21] Is a directory: '../data/ds004100/.git/annex/objects/zM/W7/MD5E-s26457240--5c985ae1f17ea52cffe586ad1b9dd44b.edf'\n",
      "Processing: MD5E-s26457240--5c985ae1f17ea52cffe586ad1b9dd44b.edf\n",
      "Error with MD5E-s26457240--5c985ae1f17ea52cffe586ad1b9dd44b.edf: 'utf-8' codec can't decode byte 0xfe in position 23041: invalid start byte\n",
      "Processing: MD5E-s30660824--e23f40963f2a4fe8762398f3e4679e85.edf\n",
      "Error with MD5E-s30660824--e23f40963f2a4fe8762398f3e4679e85.edf: [Errno 21] Is a directory: '../data/ds004100/.git/annex/objects/zM/Xf/MD5E-s30660824--e23f40963f2a4fe8762398f3e4679e85.edf'\n",
      "Processing: MD5E-s30660824--e23f40963f2a4fe8762398f3e4679e85.edf\n",
      "Error with MD5E-s30660824--e23f40963f2a4fe8762398f3e4679e85.edf: 'utf-8' codec can't decode byte 0xa4 in position 26624: invalid start byte\n",
      "Processing: MD5E-s33314670--2eafb455bb54d5af7dc531ab20a4bf4b.edf\n",
      "Error with MD5E-s33314670--2eafb455bb54d5af7dc531ab20a4bf4b.edf: [Errno 21] Is a directory: '../data/ds004100/.git/annex/objects/zw/77/MD5E-s33314670--2eafb455bb54d5af7dc531ab20a4bf4b.edf'\n",
      "Processing: MD5E-s33314670--2eafb455bb54d5af7dc531ab20a4bf4b.edf\n",
      "Error with MD5E-s33314670--2eafb455bb54d5af7dc531ab20a4bf4b.edf: 'utf-8' codec can't decode byte 0xd2 in position 13824: invalid continuation byte\n",
      "Processing: MD5E-s25118610--ee366a25a174795d23c8f4e0255657f3.edf\n",
      "Error with MD5E-s25118610--ee366a25a174795d23c8f4e0255657f3.edf: [Errno 21] Is a directory: '../data/ds004100/.git/annex/objects/zw/fV/MD5E-s25118610--ee366a25a174795d23c8f4e0255657f3.edf'\n",
      "Processing: MD5E-s25118610--ee366a25a174795d23c8f4e0255657f3.edf\n",
      "Error with MD5E-s25118610--ee366a25a174795d23c8f4e0255657f3.edf: 'utf-8' codec can't decode byte 0xf1 in position 27137: invalid continuation byte\n",
      "Processing: sub-HUP060_ses-presurgery_task-ictal_acq-seeg_run-01_ieeg.edf\n",
      "Extracting EDF parameters from /Users/billhuang/Desktop/BU_RISE/BU_RISE_Project/data/ds004100/sub-HUP060/ses-presurgery/ieeg/sub-HUP060_ses-presurgery_task-ictal_acq-seeg_run-01_ieeg.edf...\n",
      "EDF file detected\n",
      "Setting channel info structure...\n",
      "Creating raw.info structure...\n"
     ]
    },
    {
     "name": "stderr",
     "output_type": "stream",
     "text": [
      "100%|██████████| 58.0/58.0 [00:02<00:00, 29.0it/s]\n"
     ]
    },
    {
     "name": "stdout",
     "output_type": "stream",
     "text": [
      "Processing: sub-HUP060_ses-presurgery_task-ictal_acq-seeg_run-02_ieeg.edf\n",
      "Extracting EDF parameters from /Users/billhuang/Desktop/BU_RISE/BU_RISE_Project/data/ds004100/sub-HUP060/ses-presurgery/ieeg/sub-HUP060_ses-presurgery_task-ictal_acq-seeg_run-02_ieeg.edf...\n",
      "EDF file detected\n",
      "Setting channel info structure...\n",
      "Creating raw.info structure...\n"
     ]
    },
    {
     "name": "stderr",
     "output_type": "stream",
     "text": [
      "100%|██████████| 58.0/58.0 [00:01<00:00, 33.2it/s]\n"
     ]
    },
    {
     "name": "stdout",
     "output_type": "stream",
     "text": [
      "Processing: sub-HUP060_ses-presurgery_task-ictal_acq-seeg_run-03_ieeg.edf\n",
      "Extracting EDF parameters from /Users/billhuang/Desktop/BU_RISE/BU_RISE_Project/data/ds004100/sub-HUP060/ses-presurgery/ieeg/sub-HUP060_ses-presurgery_task-ictal_acq-seeg_run-03_ieeg.edf...\n",
      "EDF file detected\n",
      "Setting channel info structure...\n",
      "Creating raw.info structure...\n"
     ]
    },
    {
     "name": "stderr",
     "output_type": "stream",
     "text": [
      "100%|██████████| 58.0/58.0 [00:01<00:00, 33.3it/s]\n"
     ]
    },
    {
     "name": "stdout",
     "output_type": "stream",
     "text": [
      "Processing: sub-HUP060_ses-presurgery_task-interictal_acq-seeg_run-01_ieeg.edf\n",
      "Extracting EDF parameters from /Users/billhuang/Desktop/BU_RISE/BU_RISE_Project/data/ds004100/sub-HUP060/ses-presurgery/ieeg/sub-HUP060_ses-presurgery_task-interictal_acq-seeg_run-01_ieeg.edf...\n",
      "EDF file detected\n",
      "Setting channel info structure...\n",
      "Creating raw.info structure...\n"
     ]
    },
    {
     "name": "stderr",
     "output_type": "stream",
     "text": [
      "100%|██████████| 58.0/58.0 [00:01<00:00, 33.7it/s]\n"
     ]
    },
    {
     "name": "stdout",
     "output_type": "stream",
     "text": [
      "Processing: sub-HUP060_ses-presurgery_task-interictal_acq-seeg_run-02_ieeg.edf\n",
      "Extracting EDF parameters from /Users/billhuang/Desktop/BU_RISE/BU_RISE_Project/data/ds004100/sub-HUP060/ses-presurgery/ieeg/sub-HUP060_ses-presurgery_task-interictal_acq-seeg_run-02_ieeg.edf...\n",
      "EDF file detected\n",
      "Setting channel info structure...\n",
      "Creating raw.info structure...\n"
     ]
    },
    {
     "name": "stderr",
     "output_type": "stream",
     "text": [
      "100%|██████████| 58.0/58.0 [00:01<00:00, 33.4it/s]\n"
     ]
    },
    {
     "name": "stdout",
     "output_type": "stream",
     "text": [
      "Processing: sub-HUP064_ses-presurgery_task-ictal_acq-ecog_run-01_ieeg.edf\n",
      "Extracting EDF parameters from /Users/billhuang/Desktop/BU_RISE/BU_RISE_Project/data/ds004100/sub-HUP064/ses-presurgery/ieeg/sub-HUP064_ses-presurgery_task-ictal_acq-ecog_run-01_ieeg.edf...\n",
      "EDF file detected\n",
      "Setting channel info structure...\n",
      "Creating raw.info structure...\n"
     ]
    },
    {
     "name": "stderr",
     "output_type": "stream",
     "text": [
      "100%|██████████| 93.0/93.0 [00:02<00:00, 41.3it/s]\n"
     ]
    },
    {
     "name": "stdout",
     "output_type": "stream",
     "text": [
      "Processing: sub-HUP064_ses-presurgery_task-interictal_acq-ecog_run-02_ieeg.edf\n",
      "Extracting EDF parameters from /Users/billhuang/Desktop/BU_RISE/BU_RISE_Project/data/ds004100/sub-HUP064/ses-presurgery/ieeg/sub-HUP064_ses-presurgery_task-interictal_acq-ecog_run-02_ieeg.edf...\n",
      "EDF file detected\n",
      "Setting channel info structure...\n",
      "Creating raw.info structure...\n"
     ]
    },
    {
     "name": "stderr",
     "output_type": "stream",
     "text": [
      "100%|██████████| 93.0/93.0 [00:02<00:00, 41.7it/s]\n"
     ]
    },
    {
     "name": "stdout",
     "output_type": "stream",
     "text": [
      "Processing: sub-HUP065_ses-presurgery_task-ictal_acq-ecog_run-01_ieeg.edf\n",
      "Extracting EDF parameters from /Users/billhuang/Desktop/BU_RISE/BU_RISE_Project/data/ds004100/sub-HUP065/ses-presurgery/ieeg/sub-HUP065_ses-presurgery_task-ictal_acq-ecog_run-01_ieeg.edf...\n",
      "EDF file detected\n",
      "Setting channel info structure...\n",
      "Creating raw.info structure...\n"
     ]
    },
    {
     "name": "stderr",
     "output_type": "stream",
     "text": [
      "100%|██████████| 81.0/81.0 [00:01<00:00, 43.7it/s]"
     ]
    },
    {
     "name": "stdout",
     "output_type": "stream",
     "text": [
      "Processing: sub-HUP065_ses-presurgery_task-ictal_acq-ecog_run-02_ieeg.edf\n",
      "Extracting EDF parameters from /Users/billhuang/Desktop/BU_RISE/BU_RISE_Project/data/ds004100/sub-HUP065/ses-presurgery/ieeg/sub-HUP065_ses-presurgery_task-ictal_acq-ecog_run-02_ieeg.edf...\n",
      "EDF file detected\n",
      "Setting channel info structure...\n",
      "Creating raw.info structure...\n"
     ]
    },
    {
     "name": "stderr",
     "output_type": "stream",
     "text": [
      "\n",
      "100%|██████████| 81.0/81.0 [00:01<00:00, 42.6it/s]\n"
     ]
    },
    {
     "name": "stdout",
     "output_type": "stream",
     "text": [
      "Processing: sub-HUP065_ses-presurgery_task-ictal_acq-ecog_run-03_ieeg.edf\n",
      "Extracting EDF parameters from /Users/billhuang/Desktop/BU_RISE/BU_RISE_Project/data/ds004100/sub-HUP065/ses-presurgery/ieeg/sub-HUP065_ses-presurgery_task-ictal_acq-ecog_run-03_ieeg.edf...\n",
      "EDF file detected\n",
      "Setting channel info structure...\n",
      "Creating raw.info structure...\n"
     ]
    },
    {
     "name": "stderr",
     "output_type": "stream",
     "text": [
      "100%|██████████| 81.0/81.0 [00:01<00:00, 42.7it/s]"
     ]
    },
    {
     "name": "stdout",
     "output_type": "stream",
     "text": [
      "Processing: sub-HUP065_ses-presurgery_task-interictal_acq-ecog_run-01_ieeg.edf\n",
      "Extracting EDF parameters from /Users/billhuang/Desktop/BU_RISE/BU_RISE_Project/data/ds004100/sub-HUP065/ses-presurgery/ieeg/sub-HUP065_ses-presurgery_task-interictal_acq-ecog_run-01_ieeg.edf...\n",
      "EDF file detected\n",
      "Setting channel info structure...\n",
      "Creating raw.info structure...\n"
     ]
    },
    {
     "name": "stderr",
     "output_type": "stream",
     "text": [
      "\n",
      "100%|██████████| 81.0/81.0 [00:02<00:00, 40.2it/s]\n"
     ]
    },
    {
     "name": "stdout",
     "output_type": "stream",
     "text": [
      "Processing: sub-HUP065_ses-presurgery_task-interictal_acq-ecog_run-02_ieeg.edf\n",
      "Extracting EDF parameters from /Users/billhuang/Desktop/BU_RISE/BU_RISE_Project/data/ds004100/sub-HUP065/ses-presurgery/ieeg/sub-HUP065_ses-presurgery_task-interictal_acq-ecog_run-02_ieeg.edf...\n",
      "EDF file detected\n",
      "Setting channel info structure...\n",
      "Creating raw.info structure...\n"
     ]
    },
    {
     "name": "stderr",
     "output_type": "stream",
     "text": [
      "100%|██████████| 81.0/81.0 [00:01<00:00, 40.6it/s]\n"
     ]
    },
    {
     "name": "stdout",
     "output_type": "stream",
     "text": [
      "Processing: sub-HUP070_ses-presurgery_task-ictal_acq-ecog_run-01_ieeg.edf\n",
      "Extracting EDF parameters from /Users/billhuang/Desktop/BU_RISE/BU_RISE_Project/data/ds004100/sub-HUP070/ses-presurgery/ieeg/sub-HUP070_ses-presurgery_task-ictal_acq-ecog_run-01_ieeg.edf...\n",
      "EDF file detected\n",
      "Setting channel info structure...\n",
      "Creating raw.info structure...\n"
     ]
    },
    {
     "name": "stderr",
     "output_type": "stream",
     "text": [
      "100%|██████████| 81.0/81.0 [00:01<00:00, 50.6it/s]\n"
     ]
    },
    {
     "name": "stdout",
     "output_type": "stream",
     "text": [
      "Processing: sub-HUP070_ses-presurgery_task-ictal_acq-ecog_run-02_ieeg.edf\n",
      "Extracting EDF parameters from /Users/billhuang/Desktop/BU_RISE/BU_RISE_Project/data/ds004100/sub-HUP070/ses-presurgery/ieeg/sub-HUP070_ses-presurgery_task-ictal_acq-ecog_run-02_ieeg.edf...\n",
      "EDF file detected\n",
      "Setting channel info structure...\n",
      "Creating raw.info structure...\n"
     ]
    },
    {
     "name": "stderr",
     "output_type": "stream",
     "text": [
      "100%|██████████| 81.0/81.0 [00:01<00:00, 50.9it/s]\n"
     ]
    },
    {
     "name": "stdout",
     "output_type": "stream",
     "text": [
      "Processing: sub-HUP070_ses-presurgery_task-ictal_acq-ecog_run-03_ieeg.edf\n",
      "Extracting EDF parameters from /Users/billhuang/Desktop/BU_RISE/BU_RISE_Project/data/ds004100/sub-HUP070/ses-presurgery/ieeg/sub-HUP070_ses-presurgery_task-ictal_acq-ecog_run-03_ieeg.edf...\n",
      "EDF file detected\n",
      "Setting channel info structure...\n",
      "Creating raw.info structure...\n"
     ]
    },
    {
     "name": "stderr",
     "output_type": "stream",
     "text": [
      "100%|██████████| 81.0/81.0 [00:01<00:00, 50.7it/s]\n"
     ]
    },
    {
     "name": "stdout",
     "output_type": "stream",
     "text": [
      "Processing: sub-HUP070_ses-presurgery_task-ictal_acq-ecog_run-04_ieeg.edf\n",
      "Extracting EDF parameters from /Users/billhuang/Desktop/BU_RISE/BU_RISE_Project/data/ds004100/sub-HUP070/ses-presurgery/ieeg/sub-HUP070_ses-presurgery_task-ictal_acq-ecog_run-04_ieeg.edf...\n",
      "EDF file detected\n",
      "Setting channel info structure...\n",
      "Creating raw.info structure...\n"
     ]
    },
    {
     "name": "stderr",
     "output_type": "stream",
     "text": [
      "100%|██████████| 81.0/81.0 [00:02<00:00, 34.5it/s]\n"
     ]
    },
    {
     "name": "stdout",
     "output_type": "stream",
     "text": [
      "Processing: sub-HUP070_ses-presurgery_task-ictal_acq-ecog_run-05_ieeg.edf\n",
      "Extracting EDF parameters from /Users/billhuang/Desktop/BU_RISE/BU_RISE_Project/data/ds004100/sub-HUP070/ses-presurgery/ieeg/sub-HUP070_ses-presurgery_task-ictal_acq-ecog_run-05_ieeg.edf...\n",
      "EDF file detected\n",
      "Setting channel info structure...\n",
      "Creating raw.info structure...\n"
     ]
    },
    {
     "name": "stderr",
     "output_type": "stream",
     "text": [
      "100%|██████████| 81.0/81.0 [00:01<00:00, 47.4it/s]\n"
     ]
    },
    {
     "name": "stdout",
     "output_type": "stream",
     "text": [
      "Processing: sub-HUP070_ses-presurgery_task-interictal_acq-ecog_run-01_ieeg.edf\n",
      "Extracting EDF parameters from /Users/billhuang/Desktop/BU_RISE/BU_RISE_Project/data/ds004100/sub-HUP070/ses-presurgery/ieeg/sub-HUP070_ses-presurgery_task-interictal_acq-ecog_run-01_ieeg.edf...\n",
      "EDF file detected\n",
      "Setting channel info structure...\n",
      "Creating raw.info structure...\n"
     ]
    },
    {
     "name": "stderr",
     "output_type": "stream",
     "text": [
      "100%|██████████| 81.0/81.0 [00:02<00:00, 38.8it/s]\n"
     ]
    },
    {
     "name": "stdout",
     "output_type": "stream",
     "text": [
      "Processing: sub-HUP070_ses-presurgery_task-interictal_acq-ecog_run-02_ieeg.edf\n",
      "Extracting EDF parameters from /Users/billhuang/Desktop/BU_RISE/BU_RISE_Project/data/ds004100/sub-HUP070/ses-presurgery/ieeg/sub-HUP070_ses-presurgery_task-interictal_acq-ecog_run-02_ieeg.edf...\n",
      "EDF file detected\n",
      "Setting channel info structure...\n",
      "Creating raw.info structure...\n"
     ]
    },
    {
     "name": "stderr",
     "output_type": "stream",
     "text": [
      "100%|██████████| 81.0/81.0 [00:02<00:00, 38.1it/s]\n"
     ]
    },
    {
     "name": "stdout",
     "output_type": "stream",
     "text": [
      "Processing: sub-HUP074_ses-presurgery_task-ictal_acq-ecog_run-01_ieeg.edf\n",
      "Extracting EDF parameters from /Users/billhuang/Desktop/BU_RISE/BU_RISE_Project/data/ds004100/sub-HUP074/ses-presurgery/ieeg/sub-HUP074_ses-presurgery_task-ictal_acq-ecog_run-01_ieeg.edf...\n",
      "EDF file detected\n",
      "Setting channel info structure...\n",
      "Creating raw.info structure...\n"
     ]
    },
    {
     "name": "stderr",
     "output_type": "stream",
     "text": [
      "100%|██████████| 121/121 [00:02<00:00, 46.7it/s] \n"
     ]
    },
    {
     "name": "stdout",
     "output_type": "stream",
     "text": [
      "Processing: sub-HUP074_ses-presurgery_task-ictal_acq-ecog_run-02_ieeg.edf\n",
      "Extracting EDF parameters from /Users/billhuang/Desktop/BU_RISE/BU_RISE_Project/data/ds004100/sub-HUP074/ses-presurgery/ieeg/sub-HUP074_ses-presurgery_task-ictal_acq-ecog_run-02_ieeg.edf...\n",
      "EDF file detected\n",
      "Setting channel info structure...\n",
      "Creating raw.info structure...\n"
     ]
    },
    {
     "name": "stderr",
     "output_type": "stream",
     "text": [
      "100%|██████████| 121/121 [00:02<00:00, 50.7it/s] "
     ]
    },
    {
     "name": "stdout",
     "output_type": "stream",
     "text": [
      "Processing: sub-HUP074_ses-presurgery_task-ictal_acq-ecog_run-03_ieeg.edf\n",
      "Extracting EDF parameters from /Users/billhuang/Desktop/BU_RISE/BU_RISE_Project/data/ds004100/sub-HUP074/ses-presurgery/ieeg/sub-HUP074_ses-presurgery_task-ictal_acq-ecog_run-03_ieeg.edf...\n",
      "EDF file detected\n",
      "Setting channel info structure...\n",
      "Creating raw.info structure...\n"
     ]
    },
    {
     "name": "stderr",
     "output_type": "stream",
     "text": [
      "\n",
      "100%|██████████| 121/121 [00:02<00:00, 52.7it/s] "
     ]
    },
    {
     "name": "stdout",
     "output_type": "stream",
     "text": [
      "Processing: sub-HUP074_ses-presurgery_task-ictal_acq-ecog_run-04_ieeg.edf\n",
      "Extracting EDF parameters from /Users/billhuang/Desktop/BU_RISE/BU_RISE_Project/data/ds004100/sub-HUP074/ses-presurgery/ieeg/sub-HUP074_ses-presurgery_task-ictal_acq-ecog_run-04_ieeg.edf...\n",
      "EDF file detected\n",
      "Setting channel info structure...\n",
      "Creating raw.info structure...\n"
     ]
    },
    {
     "name": "stderr",
     "output_type": "stream",
     "text": [
      "\n",
      "100%|██████████| 121/121 [00:02<00:00, 54.6it/s] "
     ]
    },
    {
     "name": "stdout",
     "output_type": "stream",
     "text": [
      "Processing: sub-HUP074_ses-presurgery_task-ictal_acq-ecog_run-05_ieeg.edf\n",
      "Extracting EDF parameters from /Users/billhuang/Desktop/BU_RISE/BU_RISE_Project/data/ds004100/sub-HUP074/ses-presurgery/ieeg/sub-HUP074_ses-presurgery_task-ictal_acq-ecog_run-05_ieeg.edf...\n",
      "EDF file detected\n",
      "Setting channel info structure...\n",
      "Creating raw.info structure...\n"
     ]
    },
    {
     "name": "stderr",
     "output_type": "stream",
     "text": [
      "\n",
      "100%|██████████| 121/121 [00:02<00:00, 48.5it/s] "
     ]
    },
    {
     "name": "stdout",
     "output_type": "stream",
     "text": [
      "Processing: sub-HUP074_ses-presurgery_task-interictal_acq-ecog_run-01_ieeg.edf\n",
      "Extracting EDF parameters from /Users/billhuang/Desktop/BU_RISE/BU_RISE_Project/data/ds004100/sub-HUP074/ses-presurgery/ieeg/sub-HUP074_ses-presurgery_task-interictal_acq-ecog_run-01_ieeg.edf...\n",
      "EDF file detected\n"
     ]
    },
    {
     "name": "stderr",
     "output_type": "stream",
     "text": [
      "\n"
     ]
    },
    {
     "name": "stdout",
     "output_type": "stream",
     "text": [
      "Setting channel info structure...\n",
      "Creating raw.info structure...\n"
     ]
    },
    {
     "name": "stderr",
     "output_type": "stream",
     "text": [
      "100%|██████████| 121/121 [00:02<00:00, 46.3it/s] \n"
     ]
    },
    {
     "name": "stdout",
     "output_type": "stream",
     "text": [
      "Processing: sub-HUP074_ses-presurgery_task-interictal_acq-ecog_run-02_ieeg.edf\n",
      "Extracting EDF parameters from /Users/billhuang/Desktop/BU_RISE/BU_RISE_Project/data/ds004100/sub-HUP074/ses-presurgery/ieeg/sub-HUP074_ses-presurgery_task-interictal_acq-ecog_run-02_ieeg.edf...\n",
      "EDF file detected\n",
      "Setting channel info structure...\n",
      "Creating raw.info structure...\n"
     ]
    },
    {
     "name": "stderr",
     "output_type": "stream",
     "text": [
      "100%|██████████| 121/121 [00:02<00:00, 47.2it/s] \n"
     ]
    },
    {
     "name": "stdout",
     "output_type": "stream",
     "text": [
      "Processing: sub-HUP075_ses-presurgery_task-ictal_acq-ecog_run-01_ieeg.edf\n",
      "Extracting EDF parameters from /Users/billhuang/Desktop/BU_RISE/BU_RISE_Project/data/ds004100/sub-HUP075/ses-presurgery/ieeg/sub-HUP075_ses-presurgery_task-ictal_acq-ecog_run-01_ieeg.edf...\n",
      "EDF file detected\n",
      "Setting channel info structure...\n",
      "Creating raw.info structure...\n"
     ]
    },
    {
     "name": "stderr",
     "output_type": "stream",
     "text": [
      "100%|██████████| 117/117 [00:05<00:00, 20.3it/s] "
     ]
    },
    {
     "name": "stdout",
     "output_type": "stream",
     "text": [
      "Processing: sub-HUP075_ses-presurgery_task-interictal_acq-ecog_run-01_ieeg.edf\n",
      "Extracting EDF parameters from /Users/billhuang/Desktop/BU_RISE/BU_RISE_Project/data/ds004100/sub-HUP075/ses-presurgery/ieeg/sub-HUP075_ses-presurgery_task-interictal_acq-ecog_run-01_ieeg.edf...\n",
      "EDF file detected\n",
      "Setting channel info structure...\n",
      "Creating raw.info structure...\n"
     ]
    },
    {
     "name": "stderr",
     "output_type": "stream",
     "text": [
      "\n",
      "100%|██████████| 117/117 [00:02<00:00, 46.3it/s] "
     ]
    },
    {
     "name": "stdout",
     "output_type": "stream",
     "text": [
      "Processing: sub-HUP075_ses-presurgery_task-interictal_acq-ecog_run-02_ieeg.edf\n",
      "Extracting EDF parameters from /Users/billhuang/Desktop/BU_RISE/BU_RISE_Project/data/ds004100/sub-HUP075/ses-presurgery/ieeg/sub-HUP075_ses-presurgery_task-interictal_acq-ecog_run-02_ieeg.edf...\n",
      "EDF file detected\n",
      "Setting channel info structure...\n",
      "Creating raw.info structure...\n"
     ]
    },
    {
     "name": "stderr",
     "output_type": "stream",
     "text": [
      "\n",
      "100%|██████████| 117/117 [00:02<00:00, 46.6it/s] \n"
     ]
    },
    {
     "name": "stdout",
     "output_type": "stream",
     "text": [
      "Processing: sub-HUP080_ses-presurgery_task-ictal_acq-ecog_run-01_ieeg.edf\n",
      "Extracting EDF parameters from /Users/billhuang/Desktop/BU_RISE/BU_RISE_Project/data/ds004100/sub-HUP080/ses-presurgery/ieeg/sub-HUP080_ses-presurgery_task-ictal_acq-ecog_run-01_ieeg.edf...\n",
      "EDF file detected\n",
      "Setting channel info structure...\n",
      "Creating raw.info structure...\n"
     ]
    },
    {
     "name": "stderr",
     "output_type": "stream",
     "text": [
      "100%|██████████| 103/103 [00:02<00:00, 47.9it/s] \n"
     ]
    },
    {
     "name": "stdout",
     "output_type": "stream",
     "text": [
      "Processing: sub-HUP080_ses-presurgery_task-ictal_acq-ecog_run-02_ieeg.edf\n",
      "Extracting EDF parameters from /Users/billhuang/Desktop/BU_RISE/BU_RISE_Project/data/ds004100/sub-HUP080/ses-presurgery/ieeg/sub-HUP080_ses-presurgery_task-ictal_acq-ecog_run-02_ieeg.edf...\n",
      "EDF file detected\n",
      "Setting channel info structure...\n",
      "Creating raw.info structure...\n"
     ]
    },
    {
     "name": "stderr",
     "output_type": "stream",
     "text": [
      "100%|██████████| 103/103 [00:02<00:00, 51.1it/s] \n"
     ]
    },
    {
     "name": "stdout",
     "output_type": "stream",
     "text": [
      "Processing: sub-HUP080_ses-presurgery_task-ictal_acq-ecog_run-03_ieeg.edf\n",
      "Extracting EDF parameters from /Users/billhuang/Desktop/BU_RISE/BU_RISE_Project/data/ds004100/sub-HUP080/ses-presurgery/ieeg/sub-HUP080_ses-presurgery_task-ictal_acq-ecog_run-03_ieeg.edf...\n",
      "EDF file detected\n",
      "Setting channel info structure...\n",
      "Creating raw.info structure...\n"
     ]
    },
    {
     "name": "stderr",
     "output_type": "stream",
     "text": [
      "100%|██████████| 103/103 [00:02<00:00, 48.9it/s] \n"
     ]
    },
    {
     "name": "stdout",
     "output_type": "stream",
     "text": [
      "Processing: sub-HUP080_ses-presurgery_task-ictal_acq-ecog_run-04_ieeg.edf\n",
      "Extracting EDF parameters from /Users/billhuang/Desktop/BU_RISE/BU_RISE_Project/data/ds004100/sub-HUP080/ses-presurgery/ieeg/sub-HUP080_ses-presurgery_task-ictal_acq-ecog_run-04_ieeg.edf...\n",
      "EDF file detected\n",
      "Setting channel info structure...\n",
      "Creating raw.info structure...\n"
     ]
    },
    {
     "name": "stderr",
     "output_type": "stream",
     "text": [
      "100%|██████████| 103/103 [00:01<00:00, 51.6it/s] \n"
     ]
    },
    {
     "name": "stdout",
     "output_type": "stream",
     "text": [
      "Processing: sub-HUP080_ses-presurgery_task-interictal_acq-ecog_run-01_ieeg.edf\n",
      "Extracting EDF parameters from /Users/billhuang/Desktop/BU_RISE/BU_RISE_Project/data/ds004100/sub-HUP080/ses-presurgery/ieeg/sub-HUP080_ses-presurgery_task-interictal_acq-ecog_run-01_ieeg.edf...\n",
      "EDF file detected\n",
      "Setting channel info structure...\n",
      "Creating raw.info structure...\n"
     ]
    },
    {
     "name": "stderr",
     "output_type": "stream",
     "text": [
      "100%|██████████| 103/103 [00:02<00:00, 45.1it/s] \n"
     ]
    },
    {
     "name": "stdout",
     "output_type": "stream",
     "text": [
      "Processing: sub-HUP080_ses-presurgery_task-interictal_acq-ecog_run-02_ieeg.edf\n",
      "Extracting EDF parameters from /Users/billhuang/Desktop/BU_RISE/BU_RISE_Project/data/ds004100/sub-HUP080/ses-presurgery/ieeg/sub-HUP080_ses-presurgery_task-interictal_acq-ecog_run-02_ieeg.edf...\n",
      "EDF file detected\n",
      "Setting channel info structure...\n",
      "Creating raw.info structure...\n"
     ]
    },
    {
     "name": "stderr",
     "output_type": "stream",
     "text": [
      "100%|██████████| 103/103 [00:02<00:00, 44.5it/s] \n"
     ]
    },
    {
     "name": "stdout",
     "output_type": "stream",
     "text": [
      "Processing: sub-HUP082_ses-presurgery_task-ictal_acq-ecog_run-01_ieeg.edf\n",
      "Extracting EDF parameters from /Users/billhuang/Desktop/BU_RISE/BU_RISE_Project/data/ds004100/sub-HUP082/ses-presurgery/ieeg/sub-HUP082_ses-presurgery_task-ictal_acq-ecog_run-01_ieeg.edf...\n",
      "EDF file detected\n",
      "Setting channel info structure...\n",
      "Creating raw.info structure...\n"
     ]
    },
    {
     "name": "stderr",
     "output_type": "stream",
     "text": [
      "100%|██████████| 91.0/91.0 [00:04<00:00, 20.0it/s]"
     ]
    },
    {
     "name": "stdout",
     "output_type": "stream",
     "text": [
      "Processing: sub-HUP082_ses-presurgery_task-ictal_acq-ecog_run-02_ieeg.edf\n",
      "Extracting EDF parameters from /Users/billhuang/Desktop/BU_RISE/BU_RISE_Project/data/ds004100/sub-HUP082/ses-presurgery/ieeg/sub-HUP082_ses-presurgery_task-ictal_acq-ecog_run-02_ieeg.edf...\n",
      "EDF file detected\n",
      "Setting channel info structure...\n",
      "Creating raw.info structure...\n"
     ]
    },
    {
     "name": "stderr",
     "output_type": "stream",
     "text": [
      "\n",
      "100%|██████████| 91.0/91.0 [00:06<00:00, 13.0it/s]"
     ]
    },
    {
     "name": "stdout",
     "output_type": "stream",
     "text": [
      "Processing: sub-HUP082_ses-presurgery_task-ictal_acq-ecog_run-03_ieeg.edf\n",
      "Extracting EDF parameters from /Users/billhuang/Desktop/BU_RISE/BU_RISE_Project/data/ds004100/sub-HUP082/ses-presurgery/ieeg/sub-HUP082_ses-presurgery_task-ictal_acq-ecog_run-03_ieeg.edf...\n",
      "EDF file detected\n",
      "Setting channel info structure...\n",
      "Creating raw.info structure...\n"
     ]
    },
    {
     "name": "stderr",
     "output_type": "stream",
     "text": [
      "\n",
      "100%|██████████| 91.0/91.0 [00:04<00:00, 21.9it/s]\n"
     ]
    },
    {
     "name": "stdout",
     "output_type": "stream",
     "text": [
      "Processing: sub-HUP082_ses-presurgery_task-ictal_acq-ecog_run-04_ieeg.edf\n",
      "Extracting EDF parameters from /Users/billhuang/Desktop/BU_RISE/BU_RISE_Project/data/ds004100/sub-HUP082/ses-presurgery/ieeg/sub-HUP082_ses-presurgery_task-ictal_acq-ecog_run-04_ieeg.edf...\n",
      "EDF file detected\n",
      "Setting channel info structure...\n",
      "Creating raw.info structure...\n"
     ]
    },
    {
     "name": "stderr",
     "output_type": "stream",
     "text": [
      "100%|██████████| 91.0/91.0 [00:02<00:00, 44.0it/s]\n"
     ]
    },
    {
     "name": "stdout",
     "output_type": "stream",
     "text": [
      "Processing: sub-HUP082_ses-presurgery_task-ictal_acq-ecog_run-05_ieeg.edf\n",
      "Extracting EDF parameters from /Users/billhuang/Desktop/BU_RISE/BU_RISE_Project/data/ds004100/sub-HUP082/ses-presurgery/ieeg/sub-HUP082_ses-presurgery_task-ictal_acq-ecog_run-05_ieeg.edf...\n",
      "EDF file detected\n",
      "Setting channel info structure...\n",
      "Creating raw.info structure...\n"
     ]
    },
    {
     "name": "stderr",
     "output_type": "stream",
     "text": [
      "100%|██████████| 91.0/91.0 [00:04<00:00, 21.0it/s]\n"
     ]
    },
    {
     "name": "stdout",
     "output_type": "stream",
     "text": [
      "Processing: sub-HUP082_ses-presurgery_task-interictal_acq-ecog_run-01_ieeg.edf\n",
      "Extracting EDF parameters from /Users/billhuang/Desktop/BU_RISE/BU_RISE_Project/data/ds004100/sub-HUP082/ses-presurgery/ieeg/sub-HUP082_ses-presurgery_task-interictal_acq-ecog_run-01_ieeg.edf...\n",
      "EDF file detected\n",
      "Setting channel info structure...\n",
      "Creating raw.info structure...\n"
     ]
    },
    {
     "name": "stderr",
     "output_type": "stream",
     "text": [
      "100%|██████████| 91.0/91.0 [00:02<00:00, 39.6it/s]"
     ]
    },
    {
     "name": "stdout",
     "output_type": "stream",
     "text": [
      "Processing: sub-HUP082_ses-presurgery_task-interictal_acq-ecog_run-02_ieeg.edf\n",
      "Extracting EDF parameters from /Users/billhuang/Desktop/BU_RISE/BU_RISE_Project/data/ds004100/sub-HUP082/ses-presurgery/ieeg/sub-HUP082_ses-presurgery_task-interictal_acq-ecog_run-02_ieeg.edf...\n",
      "EDF file detected\n",
      "Setting channel info structure...\n",
      "Creating raw.info structure...\n"
     ]
    },
    {
     "name": "stderr",
     "output_type": "stream",
     "text": [
      "\n",
      "100%|██████████| 91.0/91.0 [00:02<00:00, 41.4it/s]\n"
     ]
    },
    {
     "name": "stdout",
     "output_type": "stream",
     "text": [
      "Processing: sub-HUP086_ses-presurgery_task-ictal_acq-ecog_run-01_ieeg.edf\n",
      "Extracting EDF parameters from /Users/billhuang/Desktop/BU_RISE/BU_RISE_Project/data/ds004100/sub-HUP086/ses-presurgery/ieeg/sub-HUP086_ses-presurgery_task-ictal_acq-ecog_run-01_ieeg.edf...\n",
      "EDF file detected\n",
      "Setting channel info structure...\n",
      "Creating raw.info structure...\n"
     ]
    },
    {
     "name": "stderr",
     "output_type": "stream",
     "text": [
      "100%|██████████| 117/117 [00:02<00:00, 49.9it/s] \n"
     ]
    },
    {
     "name": "stdout",
     "output_type": "stream",
     "text": [
      "Processing: sub-HUP086_ses-presurgery_task-ictal_acq-ecog_run-02_ieeg.edf\n",
      "Extracting EDF parameters from /Users/billhuang/Desktop/BU_RISE/BU_RISE_Project/data/ds004100/sub-HUP086/ses-presurgery/ieeg/sub-HUP086_ses-presurgery_task-ictal_acq-ecog_run-02_ieeg.edf...\n",
      "EDF file detected\n",
      "Setting channel info structure...\n",
      "Creating raw.info structure...\n"
     ]
    },
    {
     "name": "stderr",
     "output_type": "stream",
     "text": [
      "100%|██████████| 117/117 [00:02<00:00, 49.4it/s] \n"
     ]
    },
    {
     "name": "stdout",
     "output_type": "stream",
     "text": [
      "Processing: sub-HUP086_ses-presurgery_task-interictal_acq-ecog_run-01_ieeg.edf\n",
      "Extracting EDF parameters from /Users/billhuang/Desktop/BU_RISE/BU_RISE_Project/data/ds004100/sub-HUP086/ses-presurgery/ieeg/sub-HUP086_ses-presurgery_task-interictal_acq-ecog_run-01_ieeg.edf...\n",
      "EDF file detected\n",
      "Setting channel info structure...\n",
      "Creating raw.info structure...\n"
     ]
    },
    {
     "name": "stderr",
     "output_type": "stream",
     "text": [
      "100%|██████████| 117/117 [00:02<00:00, 45.3it/s] \n"
     ]
    },
    {
     "name": "stdout",
     "output_type": "stream",
     "text": [
      "Processing: sub-HUP086_ses-presurgery_task-interictal_acq-ecog_run-02_ieeg.edf\n",
      "Extracting EDF parameters from /Users/billhuang/Desktop/BU_RISE/BU_RISE_Project/data/ds004100/sub-HUP086/ses-presurgery/ieeg/sub-HUP086_ses-presurgery_task-interictal_acq-ecog_run-02_ieeg.edf...\n",
      "EDF file detected\n",
      "Setting channel info structure...\n",
      "Creating raw.info structure...\n"
     ]
    },
    {
     "name": "stderr",
     "output_type": "stream",
     "text": [
      "100%|██████████| 117/117 [00:02<00:00, 45.8it/s] \n"
     ]
    },
    {
     "name": "stdout",
     "output_type": "stream",
     "text": [
      "Processing: sub-HUP087_ses-presurgery_task-ictal_acq-ecog_run-01_ieeg.edf\n",
      "Extracting EDF parameters from /Users/billhuang/Desktop/BU_RISE/BU_RISE_Project/data/ds004100/sub-HUP087/ses-presurgery/ieeg/sub-HUP087_ses-presurgery_task-ictal_acq-ecog_run-01_ieeg.edf...\n",
      "EDF file detected\n",
      "Setting channel info structure...\n",
      "Creating raw.info structure...\n"
     ]
    },
    {
     "name": "stderr",
     "output_type": "stream",
     "text": [
      "100%|██████████| 89.0/89.0 [00:01<00:00, 49.8it/s]\n"
     ]
    },
    {
     "name": "stdout",
     "output_type": "stream",
     "text": [
      "Processing: sub-HUP087_ses-presurgery_task-ictal_acq-ecog_run-02_ieeg.edf\n",
      "Extracting EDF parameters from /Users/billhuang/Desktop/BU_RISE/BU_RISE_Project/data/ds004100/sub-HUP087/ses-presurgery/ieeg/sub-HUP087_ses-presurgery_task-ictal_acq-ecog_run-02_ieeg.edf...\n",
      "EDF file detected\n",
      "Setting channel info structure...\n",
      "Creating raw.info structure...\n"
     ]
    },
    {
     "name": "stderr",
     "output_type": "stream",
     "text": [
      "100%|██████████| 89.0/89.0 [00:01<00:00, 46.4it/s]"
     ]
    },
    {
     "name": "stdout",
     "output_type": "stream",
     "text": [
      "Processing: sub-HUP087_ses-presurgery_task-interictal_acq-ecog_run-01_ieeg.edf\n",
      "Extracting EDF parameters from /Users/billhuang/Desktop/BU_RISE/BU_RISE_Project/data/ds004100/sub-HUP087/ses-presurgery/ieeg/sub-HUP087_ses-presurgery_task-interictal_acq-ecog_run-01_ieeg.edf...\n",
      "EDF file detected\n",
      "Setting channel info structure...\n",
      "Creating raw.info structure...\n"
     ]
    },
    {
     "name": "stderr",
     "output_type": "stream",
     "text": [
      "\n",
      "100%|██████████| 89.0/89.0 [00:02<00:00, 41.0it/s]\n"
     ]
    },
    {
     "name": "stdout",
     "output_type": "stream",
     "text": [
      "Processing: sub-HUP087_ses-presurgery_task-interictal_acq-ecog_run-02_ieeg.edf\n",
      "Extracting EDF parameters from /Users/billhuang/Desktop/BU_RISE/BU_RISE_Project/data/ds004100/sub-HUP087/ses-presurgery/ieeg/sub-HUP087_ses-presurgery_task-interictal_acq-ecog_run-02_ieeg.edf...\n",
      "EDF file detected\n",
      "Setting channel info structure...\n",
      "Creating raw.info structure...\n"
     ]
    },
    {
     "name": "stderr",
     "output_type": "stream",
     "text": [
      "100%|██████████| 89.0/89.0 [00:02<00:00, 41.6it/s]\n"
     ]
    },
    {
     "name": "stdout",
     "output_type": "stream",
     "text": [
      "Processing: sub-HUP088_ses-presurgery_task-ictal_acq-ecog_run-01_ieeg.edf\n",
      "Extracting EDF parameters from /Users/billhuang/Desktop/BU_RISE/BU_RISE_Project/data/ds004100/sub-HUP088/ses-presurgery/ieeg/sub-HUP088_ses-presurgery_task-ictal_acq-ecog_run-01_ieeg.edf...\n",
      "EDF file detected\n",
      "Setting channel info structure...\n",
      "Creating raw.info structure...\n"
     ]
    },
    {
     "name": "stderr",
     "output_type": "stream",
     "text": [
      "100%|██████████| 62.0/62.0 [00:02<00:00, 30.2it/s]\n"
     ]
    },
    {
     "name": "stdout",
     "output_type": "stream",
     "text": [
      "Processing: sub-HUP088_ses-presurgery_task-ictal_acq-ecog_run-02_ieeg.edf\n",
      "Extracting EDF parameters from /Users/billhuang/Desktop/BU_RISE/BU_RISE_Project/data/ds004100/sub-HUP088/ses-presurgery/ieeg/sub-HUP088_ses-presurgery_task-ictal_acq-ecog_run-02_ieeg.edf...\n",
      "EDF file detected\n",
      "Setting channel info structure...\n",
      "Creating raw.info structure...\n"
     ]
    },
    {
     "name": "stderr",
     "output_type": "stream",
     "text": [
      "100%|██████████| 62.0/62.0 [00:01<00:00, 34.1it/s]\n"
     ]
    },
    {
     "name": "stdout",
     "output_type": "stream",
     "text": [
      "Processing: sub-HUP088_ses-presurgery_task-ictal_acq-ecog_run-03_ieeg.edf\n",
      "Extracting EDF parameters from /Users/billhuang/Desktop/BU_RISE/BU_RISE_Project/data/ds004100/sub-HUP088/ses-presurgery/ieeg/sub-HUP088_ses-presurgery_task-ictal_acq-ecog_run-03_ieeg.edf...\n",
      "EDF file detected\n",
      "Setting channel info structure...\n",
      "Creating raw.info structure...\n"
     ]
    },
    {
     "name": "stderr",
     "output_type": "stream",
     "text": [
      "100%|██████████| 62.0/62.0 [00:02<00:00, 24.9it/s]\n"
     ]
    },
    {
     "name": "stdout",
     "output_type": "stream",
     "text": [
      "Processing: sub-HUP088_ses-presurgery_task-interictal_acq-ecog_run-01_ieeg.edf\n",
      "Extracting EDF parameters from /Users/billhuang/Desktop/BU_RISE/BU_RISE_Project/data/ds004100/sub-HUP088/ses-presurgery/ieeg/sub-HUP088_ses-presurgery_task-interictal_acq-ecog_run-01_ieeg.edf...\n",
      "EDF file detected\n",
      "Setting channel info structure...\n",
      "Creating raw.info structure...\n"
     ]
    },
    {
     "name": "stderr",
     "output_type": "stream",
     "text": [
      "100%|██████████| 62.0/62.0 [00:01<00:00, 36.2it/s]\n"
     ]
    },
    {
     "name": "stdout",
     "output_type": "stream",
     "text": [
      "Processing: sub-HUP088_ses-presurgery_task-interictal_acq-ecog_run-02_ieeg.edf\n",
      "Extracting EDF parameters from /Users/billhuang/Desktop/BU_RISE/BU_RISE_Project/data/ds004100/sub-HUP088/ses-presurgery/ieeg/sub-HUP088_ses-presurgery_task-interictal_acq-ecog_run-02_ieeg.edf...\n",
      "EDF file detected\n",
      "Setting channel info structure...\n",
      "Creating raw.info structure...\n"
     ]
    },
    {
     "name": "stderr",
     "output_type": "stream",
     "text": [
      "100%|██████████| 62.0/62.0 [00:01<00:00, 35.5it/s]\n"
     ]
    },
    {
     "name": "stdout",
     "output_type": "stream",
     "text": [
      "Processing: sub-HUP089_ses-presurgery_task-ictal_acq-ecog_run-01_ieeg.edf\n",
      "Extracting EDF parameters from /Users/billhuang/Desktop/BU_RISE/BU_RISE_Project/data/ds004100/sub-HUP089/ses-presurgery/ieeg/sub-HUP089_ses-presurgery_task-ictal_acq-ecog_run-01_ieeg.edf...\n",
      "EDF file detected\n",
      "Setting channel info structure...\n",
      "Creating raw.info structure...\n"
     ]
    },
    {
     "name": "stderr",
     "output_type": "stream",
     "text": [
      "100%|██████████| 97.0/97.0 [00:02<00:00, 43.5it/s]\n"
     ]
    },
    {
     "name": "stdout",
     "output_type": "stream",
     "text": [
      "Processing: sub-HUP089_ses-presurgery_task-ictal_acq-ecog_run-02_ieeg.edf\n",
      "Extracting EDF parameters from /Users/billhuang/Desktop/BU_RISE/BU_RISE_Project/data/ds004100/sub-HUP089/ses-presurgery/ieeg/sub-HUP089_ses-presurgery_task-ictal_acq-ecog_run-02_ieeg.edf...\n",
      "EDF file detected\n",
      "Setting channel info structure...\n",
      "Creating raw.info structure...\n"
     ]
    },
    {
     "name": "stderr",
     "output_type": "stream",
     "text": [
      "100%|██████████| 97.0/97.0 [00:01<00:00, 49.3it/s]\n"
     ]
    },
    {
     "name": "stdout",
     "output_type": "stream",
     "text": [
      "Processing: sub-HUP089_ses-presurgery_task-ictal_acq-ecog_run-03_ieeg.edf\n",
      "Extracting EDF parameters from /Users/billhuang/Desktop/BU_RISE/BU_RISE_Project/data/ds004100/sub-HUP089/ses-presurgery/ieeg/sub-HUP089_ses-presurgery_task-ictal_acq-ecog_run-03_ieeg.edf...\n",
      "EDF file detected\n",
      "Setting channel info structure...\n",
      "Creating raw.info structure...\n"
     ]
    },
    {
     "name": "stderr",
     "output_type": "stream",
     "text": [
      "100%|██████████| 97.0/97.0 [00:02<00:00, 46.0it/s]\n"
     ]
    },
    {
     "name": "stdout",
     "output_type": "stream",
     "text": [
      "Processing: sub-HUP089_ses-presurgery_task-ictal_acq-ecog_run-04_ieeg.edf\n",
      "Extracting EDF parameters from /Users/billhuang/Desktop/BU_RISE/BU_RISE_Project/data/ds004100/sub-HUP089/ses-presurgery/ieeg/sub-HUP089_ses-presurgery_task-ictal_acq-ecog_run-04_ieeg.edf...\n",
      "EDF file detected\n",
      "Setting channel info structure...\n",
      "Creating raw.info structure...\n"
     ]
    },
    {
     "name": "stderr",
     "output_type": "stream",
     "text": [
      "100%|██████████| 97.0/97.0 [00:02<00:00, 47.6it/s]"
     ]
    },
    {
     "name": "stdout",
     "output_type": "stream",
     "text": [
      "Processing: sub-HUP089_ses-presurgery_task-interictal_acq-ecog_run-01_ieeg.edf\n",
      "Extracting EDF parameters from /Users/billhuang/Desktop/BU_RISE/BU_RISE_Project/data/ds004100/sub-HUP089/ses-presurgery/ieeg/sub-HUP089_ses-presurgery_task-interictal_acq-ecog_run-01_ieeg.edf...\n",
      "EDF file detected\n"
     ]
    },
    {
     "name": "stderr",
     "output_type": "stream",
     "text": [
      "\n"
     ]
    },
    {
     "name": "stdout",
     "output_type": "stream",
     "text": [
      "Setting channel info structure...\n",
      "Creating raw.info structure...\n"
     ]
    },
    {
     "name": "stderr",
     "output_type": "stream",
     "text": [
      "100%|██████████| 97.0/97.0 [00:02<00:00, 43.6it/s]\n"
     ]
    },
    {
     "name": "stdout",
     "output_type": "stream",
     "text": [
      "Processing: sub-HUP089_ses-presurgery_task-interictal_acq-ecog_run-02_ieeg.edf\n",
      "Extracting EDF parameters from /Users/billhuang/Desktop/BU_RISE/BU_RISE_Project/data/ds004100/sub-HUP089/ses-presurgery/ieeg/sub-HUP089_ses-presurgery_task-interictal_acq-ecog_run-02_ieeg.edf...\n",
      "EDF file detected\n",
      "Setting channel info structure...\n",
      "Creating raw.info structure...\n"
     ]
    },
    {
     "name": "stderr",
     "output_type": "stream",
     "text": [
      "100%|██████████| 97.0/97.0 [00:02<00:00, 43.3it/s]\n"
     ]
    },
    {
     "name": "stdout",
     "output_type": "stream",
     "text": [
      "Processing: sub-HUP094_ses-presurgery_task-ictal_acq-ecog_run-01_ieeg.edf\n",
      "Extracting EDF parameters from /Users/billhuang/Desktop/BU_RISE/BU_RISE_Project/data/ds004100/sub-HUP094/ses-presurgery/ieeg/sub-HUP094_ses-presurgery_task-ictal_acq-ecog_run-01_ieeg.edf...\n",
      "EDF file detected\n",
      "Setting channel info structure...\n",
      "Creating raw.info structure...\n"
     ]
    },
    {
     "name": "stderr",
     "output_type": "stream",
     "text": [
      "100%|██████████| 87.0/87.0 [00:01<00:00, 45.9it/s]\n"
     ]
    },
    {
     "name": "stdout",
     "output_type": "stream",
     "text": [
      "Processing: sub-HUP094_ses-presurgery_task-ictal_acq-ecog_run-02_ieeg.edf\n",
      "Extracting EDF parameters from /Users/billhuang/Desktop/BU_RISE/BU_RISE_Project/data/ds004100/sub-HUP094/ses-presurgery/ieeg/sub-HUP094_ses-presurgery_task-ictal_acq-ecog_run-02_ieeg.edf...\n",
      "EDF file detected\n",
      "Setting channel info structure...\n",
      "Creating raw.info structure...\n"
     ]
    },
    {
     "name": "stderr",
     "output_type": "stream",
     "text": [
      "100%|██████████| 87.0/87.0 [00:01<00:00, 47.9it/s]"
     ]
    },
    {
     "name": "stdout",
     "output_type": "stream",
     "text": [
      "Processing: sub-HUP094_ses-presurgery_task-ictal_acq-ecog_run-03_ieeg.edf\n",
      "Extracting EDF parameters from /Users/billhuang/Desktop/BU_RISE/BU_RISE_Project/data/ds004100/sub-HUP094/ses-presurgery/ieeg/sub-HUP094_ses-presurgery_task-ictal_acq-ecog_run-03_ieeg.edf...\n",
      "EDF file detected\n",
      "Setting channel info structure...\n",
      "Creating raw.info structure...\n"
     ]
    },
    {
     "name": "stderr",
     "output_type": "stream",
     "text": [
      "\n",
      "100%|██████████| 87.0/87.0 [00:02<00:00, 42.9it/s]\n"
     ]
    },
    {
     "name": "stdout",
     "output_type": "stream",
     "text": [
      "Processing: sub-HUP094_ses-presurgery_task-interictal_acq-ecog_run-01_ieeg.edf\n",
      "Extracting EDF parameters from /Users/billhuang/Desktop/BU_RISE/BU_RISE_Project/data/ds004100/sub-HUP094/ses-presurgery/ieeg/sub-HUP094_ses-presurgery_task-interictal_acq-ecog_run-01_ieeg.edf...\n",
      "EDF file detected\n",
      "Setting channel info structure...\n",
      "Creating raw.info structure...\n"
     ]
    },
    {
     "name": "stderr",
     "output_type": "stream",
     "text": [
      "100%|██████████| 87.0/87.0 [00:02<00:00, 42.1it/s]"
     ]
    },
    {
     "name": "stdout",
     "output_type": "stream",
     "text": [
      "Processing: sub-HUP094_ses-presurgery_task-interictal_acq-ecog_run-02_ieeg.edf\n",
      "Extracting EDF parameters from /Users/billhuang/Desktop/BU_RISE/BU_RISE_Project/data/ds004100/sub-HUP094/ses-presurgery/ieeg/sub-HUP094_ses-presurgery_task-interictal_acq-ecog_run-02_ieeg.edf...\n",
      "EDF file detected\n",
      "Setting channel info structure...\n",
      "Creating raw.info structure...\n"
     ]
    },
    {
     "name": "stderr",
     "output_type": "stream",
     "text": [
      "\n",
      "100%|██████████| 87.0/87.0 [00:02<00:00, 41.2it/s]"
     ]
    },
    {
     "name": "stdout",
     "output_type": "stream",
     "text": [
      "Processing: sub-HUP097_ses-presurgery_task-ictal_acq-ecog_run-01_ieeg.edf\n",
      "Extracting EDF parameters from /Users/billhuang/Desktop/BU_RISE/BU_RISE_Project/data/ds004100/sub-HUP097/ses-presurgery/ieeg/sub-HUP097_ses-presurgery_task-ictal_acq-ecog_run-01_ieeg.edf...\n",
      "EDF file detected\n",
      "Setting channel info structure...\n",
      "Creating raw.info structure...\n"
     ]
    },
    {
     "name": "stderr",
     "output_type": "stream",
     "text": [
      "\n",
      "100%|██████████| 101/101 [00:03<00:00, 27.5it/s] \n"
     ]
    },
    {
     "name": "stdout",
     "output_type": "stream",
     "text": [
      "Processing: sub-HUP097_ses-presurgery_task-ictal_acq-ecog_run-02_ieeg.edf\n",
      "Extracting EDF parameters from /Users/billhuang/Desktop/BU_RISE/BU_RISE_Project/data/ds004100/sub-HUP097/ses-presurgery/ieeg/sub-HUP097_ses-presurgery_task-ictal_acq-ecog_run-02_ieeg.edf...\n",
      "EDF file detected\n",
      "Setting channel info structure...\n",
      "Creating raw.info structure...\n"
     ]
    },
    {
     "name": "stderr",
     "output_type": "stream",
     "text": [
      "100%|██████████| 101/101 [00:04<00:00, 24.1it/s] \n"
     ]
    },
    {
     "name": "stdout",
     "output_type": "stream",
     "text": [
      "Processing: sub-HUP097_ses-presurgery_task-ictal_acq-ecog_run-03_ieeg.edf\n",
      "Extracting EDF parameters from /Users/billhuang/Desktop/BU_RISE/BU_RISE_Project/data/ds004100/sub-HUP097/ses-presurgery/ieeg/sub-HUP097_ses-presurgery_task-ictal_acq-ecog_run-03_ieeg.edf...\n",
      "EDF file detected\n",
      "Setting channel info structure...\n",
      "Creating raw.info structure...\n"
     ]
    },
    {
     "name": "stderr",
     "output_type": "stream",
     "text": [
      "100%|██████████| 101/101 [00:03<00:00, 25.3it/s] \n"
     ]
    },
    {
     "name": "stdout",
     "output_type": "stream",
     "text": [
      "Processing: sub-HUP097_ses-presurgery_task-ictal_acq-ecog_run-04_ieeg.edf\n",
      "Extracting EDF parameters from /Users/billhuang/Desktop/BU_RISE/BU_RISE_Project/data/ds004100/sub-HUP097/ses-presurgery/ieeg/sub-HUP097_ses-presurgery_task-ictal_acq-ecog_run-04_ieeg.edf...\n",
      "EDF file detected\n",
      "Setting channel info structure...\n",
      "Creating raw.info structure...\n"
     ]
    },
    {
     "name": "stderr",
     "output_type": "stream",
     "text": [
      "100%|██████████| 101/101 [00:04<00:00, 23.9it/s] \n"
     ]
    },
    {
     "name": "stdout",
     "output_type": "stream",
     "text": [
      "Processing: sub-HUP097_ses-presurgery_task-ictal_acq-ecog_run-05_ieeg.edf\n",
      "Extracting EDF parameters from /Users/billhuang/Desktop/BU_RISE/BU_RISE_Project/data/ds004100/sub-HUP097/ses-presurgery/ieeg/sub-HUP097_ses-presurgery_task-ictal_acq-ecog_run-05_ieeg.edf...\n",
      "EDF file detected\n",
      "Setting channel info structure...\n",
      "Creating raw.info structure...\n"
     ]
    },
    {
     "name": "stderr",
     "output_type": "stream",
     "text": [
      "100%|██████████| 101/101 [00:04<00:00, 24.6it/s] \n"
     ]
    },
    {
     "name": "stdout",
     "output_type": "stream",
     "text": [
      "Processing: sub-HUP097_ses-presurgery_task-interictal_acq-ecog_run-01_ieeg.edf\n",
      "Extracting EDF parameters from /Users/billhuang/Desktop/BU_RISE/BU_RISE_Project/data/ds004100/sub-HUP097/ses-presurgery/ieeg/sub-HUP097_ses-presurgery_task-interictal_acq-ecog_run-01_ieeg.edf...\n",
      "EDF file detected\n",
      "Setting channel info structure...\n",
      "Creating raw.info structure...\n"
     ]
    },
    {
     "name": "stderr",
     "output_type": "stream",
     "text": [
      "100%|██████████| 101/101 [00:02<00:00, 43.3it/s] \n"
     ]
    },
    {
     "name": "stdout",
     "output_type": "stream",
     "text": [
      "Processing: sub-HUP097_ses-presurgery_task-interictal_acq-ecog_run-02_ieeg.edf\n",
      "Extracting EDF parameters from /Users/billhuang/Desktop/BU_RISE/BU_RISE_Project/data/ds004100/sub-HUP097/ses-presurgery/ieeg/sub-HUP097_ses-presurgery_task-interictal_acq-ecog_run-02_ieeg.edf...\n",
      "EDF file detected\n",
      "Setting channel info structure...\n",
      "Creating raw.info structure...\n"
     ]
    },
    {
     "name": "stderr",
     "output_type": "stream",
     "text": [
      "100%|██████████| 101/101 [00:02<00:00, 45.2it/s] \n"
     ]
    },
    {
     "name": "stdout",
     "output_type": "stream",
     "text": [
      "Processing: sub-HUP105_ses-presurgery_task-ictal_acq-ecog_run-01_ieeg.edf\n",
      "Extracting EDF parameters from /Users/billhuang/Desktop/BU_RISE/BU_RISE_Project/data/ds004100/sub-HUP105/ses-presurgery/ieeg/sub-HUP105_ses-presurgery_task-ictal_acq-ecog_run-01_ieeg.edf...\n",
      "EDF file detected\n",
      "Setting channel info structure...\n",
      "Creating raw.info structure...\n"
     ]
    },
    {
     "name": "stderr",
     "output_type": "stream",
     "text": [
      "100%|██████████| 60.0/60.0 [00:01<00:00, 40.8it/s]\n"
     ]
    },
    {
     "name": "stdout",
     "output_type": "stream",
     "text": [
      "Processing: sub-HUP105_ses-presurgery_task-ictal_acq-ecog_run-02_ieeg.edf\n",
      "Extracting EDF parameters from /Users/billhuang/Desktop/BU_RISE/BU_RISE_Project/data/ds004100/sub-HUP105/ses-presurgery/ieeg/sub-HUP105_ses-presurgery_task-ictal_acq-ecog_run-02_ieeg.edf...\n",
      "EDF file detected\n",
      "Setting channel info structure...\n",
      "Creating raw.info structure...\n"
     ]
    },
    {
     "name": "stderr",
     "output_type": "stream",
     "text": [
      "100%|██████████| 60.0/60.0 [00:01<00:00, 39.6it/s]\n"
     ]
    },
    {
     "name": "stdout",
     "output_type": "stream",
     "text": [
      "Processing: sub-HUP105_ses-presurgery_task-interictal_acq-ecog_run-01_ieeg.edf\n",
      "Extracting EDF parameters from /Users/billhuang/Desktop/BU_RISE/BU_RISE_Project/data/ds004100/sub-HUP105/ses-presurgery/ieeg/sub-HUP105_ses-presurgery_task-interictal_acq-ecog_run-01_ieeg.edf...\n",
      "EDF file detected\n",
      "Setting channel info structure...\n",
      "Creating raw.info structure...\n"
     ]
    },
    {
     "name": "stderr",
     "output_type": "stream",
     "text": [
      "100%|██████████| 60.0/60.0 [00:01<00:00, 36.1it/s]\n"
     ]
    },
    {
     "name": "stdout",
     "output_type": "stream",
     "text": [
      "Processing: sub-HUP105_ses-presurgery_task-interictal_acq-ecog_run-02_ieeg.edf\n",
      "Extracting EDF parameters from /Users/billhuang/Desktop/BU_RISE/BU_RISE_Project/data/ds004100/sub-HUP105/ses-presurgery/ieeg/sub-HUP105_ses-presurgery_task-interictal_acq-ecog_run-02_ieeg.edf...\n",
      "EDF file detected\n",
      "Setting channel info structure...\n",
      "Creating raw.info structure...\n"
     ]
    },
    {
     "name": "stderr",
     "output_type": "stream",
     "text": [
      "100%|██████████| 60.0/60.0 [00:01<00:00, 36.0it/s]\n"
     ]
    },
    {
     "name": "stdout",
     "output_type": "stream",
     "text": [
      "Processing: sub-HUP106_ses-presurgery_task-ictal_acq-ecog_run-01_ieeg.edf\n",
      "Extracting EDF parameters from /Users/billhuang/Desktop/BU_RISE/BU_RISE_Project/data/ds004100/sub-HUP106/ses-presurgery/ieeg/sub-HUP106_ses-presurgery_task-ictal_acq-ecog_run-01_ieeg.edf...\n",
      "EDF file detected\n",
      "Setting channel info structure...\n",
      "Creating raw.info structure...\n"
     ]
    },
    {
     "name": "stderr",
     "output_type": "stream",
     "text": [
      "100%|██████████| 117/117 [00:02<00:00, 48.0it/s] \n"
     ]
    },
    {
     "name": "stdout",
     "output_type": "stream",
     "text": [
      "Processing: sub-HUP106_ses-presurgery_task-ictal_acq-ecog_run-02_ieeg.edf\n",
      "Extracting EDF parameters from /Users/billhuang/Desktop/BU_RISE/BU_RISE_Project/data/ds004100/sub-HUP106/ses-presurgery/ieeg/sub-HUP106_ses-presurgery_task-ictal_acq-ecog_run-02_ieeg.edf...\n",
      "EDF file detected\n",
      "Setting channel info structure...\n",
      "Creating raw.info structure...\n"
     ]
    },
    {
     "name": "stderr",
     "output_type": "stream",
     "text": [
      "100%|██████████| 117/117 [00:02<00:00, 53.0it/s] \n"
     ]
    },
    {
     "name": "stdout",
     "output_type": "stream",
     "text": [
      "Processing: sub-HUP106_ses-presurgery_task-ictal_acq-ecog_run-03_ieeg.edf\n",
      "Extracting EDF parameters from /Users/billhuang/Desktop/BU_RISE/BU_RISE_Project/data/ds004100/sub-HUP106/ses-presurgery/ieeg/sub-HUP106_ses-presurgery_task-ictal_acq-ecog_run-03_ieeg.edf...\n",
      "EDF file detected\n",
      "Setting channel info structure...\n",
      "Creating raw.info structure...\n"
     ]
    },
    {
     "name": "stderr",
     "output_type": "stream",
     "text": [
      "100%|██████████| 117/117 [00:02<00:00, 47.5it/s] \n"
     ]
    },
    {
     "name": "stdout",
     "output_type": "stream",
     "text": [
      "Processing: sub-HUP106_ses-presurgery_task-interictal_acq-ecog_run-01_ieeg.edf\n",
      "Extracting EDF parameters from /Users/billhuang/Desktop/BU_RISE/BU_RISE_Project/data/ds004100/sub-HUP106/ses-presurgery/ieeg/sub-HUP106_ses-presurgery_task-interictal_acq-ecog_run-01_ieeg.edf...\n",
      "EDF file detected\n",
      "Setting channel info structure...\n",
      "Creating raw.info structure...\n"
     ]
    },
    {
     "name": "stderr",
     "output_type": "stream",
     "text": [
      "100%|██████████| 117/117 [00:02<00:00, 46.4it/s] \n"
     ]
    },
    {
     "name": "stdout",
     "output_type": "stream",
     "text": [
      "Processing: sub-HUP106_ses-presurgery_task-interictal_acq-ecog_run-02_ieeg.edf\n",
      "Extracting EDF parameters from /Users/billhuang/Desktop/BU_RISE/BU_RISE_Project/data/ds004100/sub-HUP106/ses-presurgery/ieeg/sub-HUP106_ses-presurgery_task-interictal_acq-ecog_run-02_ieeg.edf...\n",
      "EDF file detected\n",
      "Setting channel info structure...\n",
      "Creating raw.info structure...\n"
     ]
    },
    {
     "name": "stderr",
     "output_type": "stream",
     "text": [
      "100%|██████████| 117/117 [00:02<00:00, 47.0it/s] "
     ]
    },
    {
     "name": "stdout",
     "output_type": "stream",
     "text": [
      "Processing: sub-HUP107_ses-presurgery_task-ictal_acq-ecog_run-01_ieeg.edf\n",
      "Extracting EDF parameters from /Users/billhuang/Desktop/BU_RISE/BU_RISE_Project/data/ds004100/sub-HUP107/ses-presurgery/ieeg/sub-HUP107_ses-presurgery_task-ictal_acq-ecog_run-01_ieeg.edf...\n",
      "EDF file detected\n",
      "Setting channel info structure...\n",
      "Creating raw.info structure...\n"
     ]
    },
    {
     "name": "stderr",
     "output_type": "stream",
     "text": [
      "\n",
      "100%|██████████| 119/119 [00:03<00:00, 38.7it/s] \n"
     ]
    },
    {
     "name": "stdout",
     "output_type": "stream",
     "text": [
      "Processing: sub-HUP107_ses-presurgery_task-ictal_acq-ecog_run-02_ieeg.edf\n",
      "Extracting EDF parameters from /Users/billhuang/Desktop/BU_RISE/BU_RISE_Project/data/ds004100/sub-HUP107/ses-presurgery/ieeg/sub-HUP107_ses-presurgery_task-ictal_acq-ecog_run-02_ieeg.edf...\n",
      "EDF file detected\n",
      "Setting channel info structure...\n",
      "Creating raw.info structure...\n"
     ]
    },
    {
     "name": "stderr",
     "output_type": "stream",
     "text": [
      "100%|██████████| 119/119 [00:02<00:00, 51.6it/s] \n"
     ]
    },
    {
     "name": "stdout",
     "output_type": "stream",
     "text": [
      "Processing: sub-HUP107_ses-presurgery_task-ictal_acq-ecog_run-03_ieeg.edf\n",
      "Extracting EDF parameters from /Users/billhuang/Desktop/BU_RISE/BU_RISE_Project/data/ds004100/sub-HUP107/ses-presurgery/ieeg/sub-HUP107_ses-presurgery_task-ictal_acq-ecog_run-03_ieeg.edf...\n",
      "EDF file detected\n",
      "Setting channel info structure...\n",
      "Creating raw.info structure...\n"
     ]
    },
    {
     "name": "stderr",
     "output_type": "stream",
     "text": [
      "100%|██████████| 119/119 [00:02<00:00, 42.4it/s] \n"
     ]
    },
    {
     "name": "stdout",
     "output_type": "stream",
     "text": [
      "Processing: sub-HUP107_ses-presurgery_task-ictal_acq-ecog_run-04_ieeg.edf\n",
      "Extracting EDF parameters from /Users/billhuang/Desktop/BU_RISE/BU_RISE_Project/data/ds004100/sub-HUP107/ses-presurgery/ieeg/sub-HUP107_ses-presurgery_task-ictal_acq-ecog_run-04_ieeg.edf...\n",
      "EDF file detected\n",
      "Setting channel info structure...\n",
      "Creating raw.info structure...\n"
     ]
    },
    {
     "name": "stderr",
     "output_type": "stream",
     "text": [
      "100%|██████████| 119/119 [00:02<00:00, 50.3it/s] \n"
     ]
    },
    {
     "name": "stdout",
     "output_type": "stream",
     "text": [
      "Processing: sub-HUP107_ses-presurgery_task-ictal_acq-ecog_run-05_ieeg.edf\n",
      "Extracting EDF parameters from /Users/billhuang/Desktop/BU_RISE/BU_RISE_Project/data/ds004100/sub-HUP107/ses-presurgery/ieeg/sub-HUP107_ses-presurgery_task-ictal_acq-ecog_run-05_ieeg.edf...\n",
      "EDF file detected\n",
      "Setting channel info structure...\n",
      "Creating raw.info structure...\n"
     ]
    },
    {
     "name": "stderr",
     "output_type": "stream",
     "text": [
      "100%|██████████| 119/119 [00:02<00:00, 55.3it/s] \n"
     ]
    },
    {
     "name": "stdout",
     "output_type": "stream",
     "text": [
      "Processing: sub-HUP107_ses-presurgery_task-interictal_acq-ecog_run-01_ieeg.edf\n",
      "Extracting EDF parameters from /Users/billhuang/Desktop/BU_RISE/BU_RISE_Project/data/ds004100/sub-HUP107/ses-presurgery/ieeg/sub-HUP107_ses-presurgery_task-interictal_acq-ecog_run-01_ieeg.edf...\n",
      "EDF file detected\n",
      "Setting channel info structure...\n",
      "Creating raw.info structure...\n"
     ]
    },
    {
     "name": "stderr",
     "output_type": "stream",
     "text": [
      "100%|██████████| 119/119 [00:02<00:00, 47.7it/s] \n"
     ]
    },
    {
     "name": "stdout",
     "output_type": "stream",
     "text": [
      "Processing: sub-HUP107_ses-presurgery_task-interictal_acq-ecog_run-02_ieeg.edf\n",
      "Extracting EDF parameters from /Users/billhuang/Desktop/BU_RISE/BU_RISE_Project/data/ds004100/sub-HUP107/ses-presurgery/ieeg/sub-HUP107_ses-presurgery_task-interictal_acq-ecog_run-02_ieeg.edf...\n",
      "EDF file detected\n",
      "Setting channel info structure...\n",
      "Creating raw.info structure...\n"
     ]
    },
    {
     "name": "stderr",
     "output_type": "stream",
     "text": [
      "100%|██████████| 119/119 [00:02<00:00, 46.0it/s] \n"
     ]
    },
    {
     "name": "stdout",
     "output_type": "stream",
     "text": [
      "Processing: sub-HUP111_ses-presurgery_task-ictal_acq-ecog_run-01_ieeg.edf\n",
      "Extracting EDF parameters from /Users/billhuang/Desktop/BU_RISE/BU_RISE_Project/data/ds004100/sub-HUP111/ses-presurgery/ieeg/sub-HUP111_ses-presurgery_task-ictal_acq-ecog_run-01_ieeg.edf...\n",
      "EDF file detected\n",
      "Setting channel info structure...\n",
      "Creating raw.info structure...\n"
     ]
    },
    {
     "name": "stderr",
     "output_type": "stream",
     "text": [
      "100%|██████████| 103/103 [00:02<00:00, 34.6it/s] \n"
     ]
    },
    {
     "name": "stdout",
     "output_type": "stream",
     "text": [
      "Processing: sub-HUP111_ses-presurgery_task-ictal_acq-ecog_run-02_ieeg.edf\n",
      "Extracting EDF parameters from /Users/billhuang/Desktop/BU_RISE/BU_RISE_Project/data/ds004100/sub-HUP111/ses-presurgery/ieeg/sub-HUP111_ses-presurgery_task-ictal_acq-ecog_run-02_ieeg.edf...\n",
      "EDF file detected\n",
      "Setting channel info structure...\n",
      "Creating raw.info structure...\n"
     ]
    },
    {
     "name": "stderr",
     "output_type": "stream",
     "text": [
      "100%|██████████| 103/103 [00:02<00:00, 50.1it/s] \n"
     ]
    },
    {
     "name": "stdout",
     "output_type": "stream",
     "text": [
      "Processing: sub-HUP111_ses-presurgery_task-ictal_acq-ecog_run-03_ieeg.edf\n",
      "Extracting EDF parameters from /Users/billhuang/Desktop/BU_RISE/BU_RISE_Project/data/ds004100/sub-HUP111/ses-presurgery/ieeg/sub-HUP111_ses-presurgery_task-ictal_acq-ecog_run-03_ieeg.edf...\n",
      "EDF file detected\n",
      "Setting channel info structure...\n",
      "Creating raw.info structure...\n"
     ]
    },
    {
     "name": "stderr",
     "output_type": "stream",
     "text": [
      "100%|██████████| 103/103 [00:02<00:00, 49.4it/s] \n"
     ]
    },
    {
     "name": "stdout",
     "output_type": "stream",
     "text": [
      "Processing: sub-HUP111_ses-presurgery_task-ictal_acq-ecog_run-04_ieeg.edf\n",
      "Extracting EDF parameters from /Users/billhuang/Desktop/BU_RISE/BU_RISE_Project/data/ds004100/sub-HUP111/ses-presurgery/ieeg/sub-HUP111_ses-presurgery_task-ictal_acq-ecog_run-04_ieeg.edf...\n",
      "EDF file detected\n",
      "Setting channel info structure...\n",
      "Creating raw.info structure...\n"
     ]
    },
    {
     "name": "stderr",
     "output_type": "stream",
     "text": [
      "100%|██████████| 103/103 [00:01<00:00, 51.7it/s] \n"
     ]
    },
    {
     "name": "stdout",
     "output_type": "stream",
     "text": [
      "Processing: sub-HUP111_ses-presurgery_task-ictal_acq-ecog_run-05_ieeg.edf\n",
      "Extracting EDF parameters from /Users/billhuang/Desktop/BU_RISE/BU_RISE_Project/data/ds004100/sub-HUP111/ses-presurgery/ieeg/sub-HUP111_ses-presurgery_task-ictal_acq-ecog_run-05_ieeg.edf...\n",
      "EDF file detected\n",
      "Setting channel info structure...\n",
      "Creating raw.info structure...\n"
     ]
    },
    {
     "name": "stderr",
     "output_type": "stream",
     "text": [
      "100%|██████████| 103/103 [00:02<00:00, 50.0it/s] \n"
     ]
    },
    {
     "name": "stdout",
     "output_type": "stream",
     "text": [
      "Processing: sub-HUP111_ses-presurgery_task-interictal_acq-ecog_run-01_ieeg.edf\n",
      "Extracting EDF parameters from /Users/billhuang/Desktop/BU_RISE/BU_RISE_Project/data/ds004100/sub-HUP111/ses-presurgery/ieeg/sub-HUP111_ses-presurgery_task-interictal_acq-ecog_run-01_ieeg.edf...\n",
      "EDF file detected\n",
      "Setting channel info structure...\n",
      "Creating raw.info structure...\n"
     ]
    },
    {
     "name": "stderr",
     "output_type": "stream",
     "text": [
      "100%|██████████| 103/103 [00:02<00:00, 44.1it/s] \n"
     ]
    },
    {
     "name": "stdout",
     "output_type": "stream",
     "text": [
      "Processing: sub-HUP111_ses-presurgery_task-interictal_acq-ecog_run-02_ieeg.edf\n",
      "Extracting EDF parameters from /Users/billhuang/Desktop/BU_RISE/BU_RISE_Project/data/ds004100/sub-HUP111/ses-presurgery/ieeg/sub-HUP111_ses-presurgery_task-interictal_acq-ecog_run-02_ieeg.edf...\n",
      "EDF file detected\n",
      "Setting channel info structure...\n",
      "Creating raw.info structure...\n"
     ]
    },
    {
     "name": "stderr",
     "output_type": "stream",
     "text": [
      "100%|██████████| 103/103 [00:02<00:00, 45.2it/s] \n"
     ]
    },
    {
     "name": "stdout",
     "output_type": "stream",
     "text": [
      "Processing: sub-HUP112_ses-presurgery_task-ictal_acq-seeg_run-01_ieeg.edf\n",
      "Extracting EDF parameters from /Users/billhuang/Desktop/BU_RISE/BU_RISE_Project/data/ds004100/sub-HUP112/ses-presurgery/ieeg/sub-HUP112_ses-presurgery_task-ictal_acq-seeg_run-01_ieeg.edf...\n",
      "EDF file detected\n",
      "Setting channel info structure...\n",
      "Creating raw.info structure...\n"
     ]
    },
    {
     "name": "stderr",
     "output_type": "stream",
     "text": [
      "100%|██████████| 73.0/73.0 [00:01<00:00, 46.8it/s]"
     ]
    },
    {
     "name": "stdout",
     "output_type": "stream",
     "text": [
      "Processing: sub-HUP112_ses-presurgery_task-ictal_acq-seeg_run-02_ieeg.edf\n",
      "Extracting EDF parameters from /Users/billhuang/Desktop/BU_RISE/BU_RISE_Project/data/ds004100/sub-HUP112/ses-presurgery/ieeg/sub-HUP112_ses-presurgery_task-ictal_acq-seeg_run-02_ieeg.edf...\n",
      "EDF file detected\n",
      "Setting channel info structure...\n",
      "Creating raw.info structure...\n"
     ]
    },
    {
     "name": "stderr",
     "output_type": "stream",
     "text": [
      "\n",
      "100%|██████████| 73.0/73.0 [00:01<00:00, 50.2it/s]\n"
     ]
    },
    {
     "name": "stdout",
     "output_type": "stream",
     "text": [
      "Processing: sub-HUP112_ses-presurgery_task-ictal_acq-seeg_run-03_ieeg.edf\n",
      "Extracting EDF parameters from /Users/billhuang/Desktop/BU_RISE/BU_RISE_Project/data/ds004100/sub-HUP112/ses-presurgery/ieeg/sub-HUP112_ses-presurgery_task-ictal_acq-seeg_run-03_ieeg.edf...\n",
      "EDF file detected\n",
      "Setting channel info structure...\n",
      "Creating raw.info structure...\n"
     ]
    },
    {
     "name": "stderr",
     "output_type": "stream",
     "text": [
      "100%|██████████| 73.0/73.0 [00:01<00:00, 48.9it/s]\n"
     ]
    },
    {
     "name": "stdout",
     "output_type": "stream",
     "text": [
      "Processing: sub-HUP112_ses-presurgery_task-ictal_acq-seeg_run-04_ieeg.edf\n",
      "Extracting EDF parameters from /Users/billhuang/Desktop/BU_RISE/BU_RISE_Project/data/ds004100/sub-HUP112/ses-presurgery/ieeg/sub-HUP112_ses-presurgery_task-ictal_acq-seeg_run-04_ieeg.edf...\n",
      "EDF file detected\n",
      "Setting channel info structure...\n",
      "Creating raw.info structure...\n"
     ]
    },
    {
     "name": "stderr",
     "output_type": "stream",
     "text": [
      "100%|██████████| 73.0/73.0 [00:01<00:00, 47.5it/s]\n"
     ]
    },
    {
     "name": "stdout",
     "output_type": "stream",
     "text": [
      "Processing: sub-HUP112_ses-presurgery_task-ictal_acq-seeg_run-05_ieeg.edf\n",
      "Extracting EDF parameters from /Users/billhuang/Desktop/BU_RISE/BU_RISE_Project/data/ds004100/sub-HUP112/ses-presurgery/ieeg/sub-HUP112_ses-presurgery_task-ictal_acq-seeg_run-05_ieeg.edf...\n",
      "EDF file detected\n",
      "Setting channel info structure...\n",
      "Creating raw.info structure...\n"
     ]
    },
    {
     "name": "stderr",
     "output_type": "stream",
     "text": [
      "100%|██████████| 73.0/73.0 [00:01<00:00, 46.3it/s]\n"
     ]
    },
    {
     "name": "stdout",
     "output_type": "stream",
     "text": [
      "Processing: sub-HUP112_ses-presurgery_task-interictal_acq-seeg_run-01_ieeg.edf\n",
      "Extracting EDF parameters from /Users/billhuang/Desktop/BU_RISE/BU_RISE_Project/data/ds004100/sub-HUP112/ses-presurgery/ieeg/sub-HUP112_ses-presurgery_task-interictal_acq-seeg_run-01_ieeg.edf...\n",
      "EDF file detected\n",
      "Setting channel info structure...\n",
      "Creating raw.info structure...\n"
     ]
    },
    {
     "name": "stderr",
     "output_type": "stream",
     "text": [
      "100%|██████████| 73.0/73.0 [00:01<00:00, 39.3it/s]\n"
     ]
    },
    {
     "name": "stdout",
     "output_type": "stream",
     "text": [
      "Processing: sub-HUP112_ses-presurgery_task-interictal_acq-seeg_run-02_ieeg.edf\n",
      "Extracting EDF parameters from /Users/billhuang/Desktop/BU_RISE/BU_RISE_Project/data/ds004100/sub-HUP112/ses-presurgery/ieeg/sub-HUP112_ses-presurgery_task-interictal_acq-seeg_run-02_ieeg.edf...\n",
      "EDF file detected\n",
      "Setting channel info structure...\n",
      "Creating raw.info structure...\n"
     ]
    },
    {
     "name": "stderr",
     "output_type": "stream",
     "text": [
      "100%|██████████| 73.0/73.0 [00:01<00:00, 39.6it/s]\n"
     ]
    },
    {
     "name": "stdout",
     "output_type": "stream",
     "text": [
      "Processing: sub-HUP114_ses-presurgery_task-ictal_acq-ecog_run-01_ieeg.edf\n",
      "Extracting EDF parameters from /Users/billhuang/Desktop/BU_RISE/BU_RISE_Project/data/ds004100/sub-HUP114/ses-presurgery/ieeg/sub-HUP114_ses-presurgery_task-ictal_acq-ecog_run-01_ieeg.edf...\n",
      "EDF file detected\n",
      "Setting channel info structure...\n",
      "Creating raw.info structure...\n"
     ]
    },
    {
     "name": "stderr",
     "output_type": "stream",
     "text": [
      "100%|██████████| 126/126 [00:02<00:00, 54.7it/s] \n"
     ]
    },
    {
     "name": "stdout",
     "output_type": "stream",
     "text": [
      "Processing: sub-HUP114_ses-presurgery_task-ictal_acq-ecog_run-02_ieeg.edf\n",
      "Extracting EDF parameters from /Users/billhuang/Desktop/BU_RISE/BU_RISE_Project/data/ds004100/sub-HUP114/ses-presurgery/ieeg/sub-HUP114_ses-presurgery_task-ictal_acq-ecog_run-02_ieeg.edf...\n",
      "EDF file detected\n",
      "Setting channel info structure...\n",
      "Creating raw.info structure...\n"
     ]
    },
    {
     "name": "stderr",
     "output_type": "stream",
     "text": [
      "100%|██████████| 126/126 [00:02<00:00, 53.0it/s] \n"
     ]
    },
    {
     "name": "stdout",
     "output_type": "stream",
     "text": [
      "Processing: sub-HUP114_ses-presurgery_task-ictal_acq-ecog_run-03_ieeg.edf\n",
      "Extracting EDF parameters from /Users/billhuang/Desktop/BU_RISE/BU_RISE_Project/data/ds004100/sub-HUP114/ses-presurgery/ieeg/sub-HUP114_ses-presurgery_task-ictal_acq-ecog_run-03_ieeg.edf...\n",
      "EDF file detected\n",
      "Setting channel info structure...\n",
      "Creating raw.info structure...\n"
     ]
    },
    {
     "name": "stderr",
     "output_type": "stream",
     "text": [
      "100%|██████████| 126/126 [00:02<00:00, 53.7it/s] \n"
     ]
    },
    {
     "name": "stdout",
     "output_type": "stream",
     "text": [
      "Processing: sub-HUP114_ses-presurgery_task-ictal_acq-ecog_run-04_ieeg.edf\n",
      "Extracting EDF parameters from /Users/billhuang/Desktop/BU_RISE/BU_RISE_Project/data/ds004100/sub-HUP114/ses-presurgery/ieeg/sub-HUP114_ses-presurgery_task-ictal_acq-ecog_run-04_ieeg.edf...\n",
      "EDF file detected\n",
      "Setting channel info structure...\n",
      "Creating raw.info structure...\n"
     ]
    },
    {
     "name": "stderr",
     "output_type": "stream",
     "text": [
      "100%|██████████| 126/126 [00:02<00:00, 52.3it/s] \n"
     ]
    },
    {
     "name": "stdout",
     "output_type": "stream",
     "text": [
      "Processing: sub-HUP114_ses-presurgery_task-interictal_acq-ecog_run-01_ieeg.edf\n",
      "Extracting EDF parameters from /Users/billhuang/Desktop/BU_RISE/BU_RISE_Project/data/ds004100/sub-HUP114/ses-presurgery/ieeg/sub-HUP114_ses-presurgery_task-interictal_acq-ecog_run-01_ieeg.edf...\n",
      "EDF file detected\n",
      "Setting channel info structure...\n",
      "Creating raw.info structure...\n"
     ]
    },
    {
     "name": "stderr",
     "output_type": "stream",
     "text": [
      "100%|██████████| 126/126 [00:02<00:00, 46.9it/s] \n"
     ]
    },
    {
     "name": "stdout",
     "output_type": "stream",
     "text": [
      "Processing: sub-HUP114_ses-presurgery_task-interictal_acq-ecog_run-02_ieeg.edf\n",
      "Extracting EDF parameters from /Users/billhuang/Desktop/BU_RISE/BU_RISE_Project/data/ds004100/sub-HUP114/ses-presurgery/ieeg/sub-HUP114_ses-presurgery_task-interictal_acq-ecog_run-02_ieeg.edf...\n",
      "EDF file detected\n",
      "Setting channel info structure...\n",
      "Creating raw.info structure...\n"
     ]
    },
    {
     "name": "stderr",
     "output_type": "stream",
     "text": [
      "100%|██████████| 126/126 [00:02<00:00, 47.2it/s] "
     ]
    },
    {
     "name": "stdout",
     "output_type": "stream",
     "text": [
      "Processing: sub-HUP116_ses-presurgery_task-ictal_acq-seeg_run-01_ieeg.edf\n",
      "Extracting EDF parameters from /Users/billhuang/Desktop/BU_RISE/BU_RISE_Project/data/ds004100/sub-HUP116/ses-presurgery/ieeg/sub-HUP116_ses-presurgery_task-ictal_acq-seeg_run-01_ieeg.edf...\n",
      "EDF file detected\n",
      "Setting channel info structure...\n",
      "Creating raw.info structure...\n"
     ]
    },
    {
     "name": "stderr",
     "output_type": "stream",
     "text": [
      "\n",
      "100%|██████████| 51.0/51.0 [00:01<00:00, 32.1it/s]"
     ]
    },
    {
     "name": "stdout",
     "output_type": "stream",
     "text": [
      "Processing: sub-HUP116_ses-presurgery_task-ictal_acq-seeg_run-02_ieeg.edf\n",
      "Extracting EDF parameters from /Users/billhuang/Desktop/BU_RISE/BU_RISE_Project/data/ds004100/sub-HUP116/ses-presurgery/ieeg/sub-HUP116_ses-presurgery_task-ictal_acq-seeg_run-02_ieeg.edf...\n",
      "EDF file detected\n",
      "Setting channel info structure...\n",
      "Creating raw.info structure...\n"
     ]
    },
    {
     "name": "stderr",
     "output_type": "stream",
     "text": [
      "\n",
      "100%|██████████| 51.0/51.0 [00:01<00:00, 31.3it/s]\n"
     ]
    },
    {
     "name": "stdout",
     "output_type": "stream",
     "text": [
      "Processing: sub-HUP116_ses-presurgery_task-ictal_acq-seeg_run-03_ieeg.edf\n",
      "Extracting EDF parameters from /Users/billhuang/Desktop/BU_RISE/BU_RISE_Project/data/ds004100/sub-HUP116/ses-presurgery/ieeg/sub-HUP116_ses-presurgery_task-ictal_acq-seeg_run-03_ieeg.edf...\n",
      "EDF file detected\n",
      "Setting channel info structure...\n",
      "Creating raw.info structure...\n"
     ]
    },
    {
     "name": "stderr",
     "output_type": "stream",
     "text": [
      "100%|██████████| 51.0/51.0 [00:02<00:00, 20.4it/s]\n"
     ]
    },
    {
     "name": "stdout",
     "output_type": "stream",
     "text": [
      "Processing: sub-HUP116_ses-presurgery_task-interictal_acq-seeg_run-01_ieeg.edf\n",
      "Extracting EDF parameters from /Users/billhuang/Desktop/BU_RISE/BU_RISE_Project/data/ds004100/sub-HUP116/ses-presurgery/ieeg/sub-HUP116_ses-presurgery_task-interictal_acq-seeg_run-01_ieeg.edf...\n",
      "EDF file detected\n",
      "Setting channel info structure...\n",
      "Creating raw.info structure...\n"
     ]
    },
    {
     "name": "stderr",
     "output_type": "stream",
     "text": [
      "100%|██████████| 51.0/51.0 [00:01<00:00, 31.2it/s]\n"
     ]
    },
    {
     "name": "stdout",
     "output_type": "stream",
     "text": [
      "Processing: sub-HUP116_ses-presurgery_task-interictal_acq-seeg_run-02_ieeg.edf\n",
      "Extracting EDF parameters from /Users/billhuang/Desktop/BU_RISE/BU_RISE_Project/data/ds004100/sub-HUP116/ses-presurgery/ieeg/sub-HUP116_ses-presurgery_task-interictal_acq-seeg_run-02_ieeg.edf...\n",
      "EDF file detected\n",
      "Setting channel info structure...\n",
      "Creating raw.info structure...\n"
     ]
    },
    {
     "name": "stderr",
     "output_type": "stream",
     "text": [
      "100%|██████████| 51.0/51.0 [00:01<00:00, 32.1it/s]\n"
     ]
    },
    {
     "name": "stdout",
     "output_type": "stream",
     "text": [
      "Processing: sub-HUP117_ses-presurgery_task-ictal_acq-seeg_run-01_ieeg.edf\n",
      "Extracting EDF parameters from /Users/billhuang/Desktop/BU_RISE/BU_RISE_Project/data/ds004100/sub-HUP117/ses-presurgery/ieeg/sub-HUP117_ses-presurgery_task-ictal_acq-seeg_run-01_ieeg.edf...\n",
      "EDF file detected\n",
      "Setting channel info structure...\n",
      "Creating raw.info structure...\n"
     ]
    },
    {
     "name": "stderr",
     "output_type": "stream",
     "text": [
      "100%|██████████| 70.0/70.0 [00:02<00:00, 34.4it/s]\n"
     ]
    },
    {
     "name": "stdout",
     "output_type": "stream",
     "text": [
      "Processing: sub-HUP117_ses-presurgery_task-ictal_acq-seeg_run-02_ieeg.edf\n",
      "Extracting EDF parameters from /Users/billhuang/Desktop/BU_RISE/BU_RISE_Project/data/ds004100/sub-HUP117/ses-presurgery/ieeg/sub-HUP117_ses-presurgery_task-ictal_acq-seeg_run-02_ieeg.edf...\n",
      "EDF file detected\n",
      "Setting channel info structure...\n",
      "Creating raw.info structure...\n"
     ]
    },
    {
     "name": "stderr",
     "output_type": "stream",
     "text": [
      "100%|██████████| 70.0/70.0 [00:01<00:00, 37.0it/s]\n"
     ]
    },
    {
     "name": "stdout",
     "output_type": "stream",
     "text": [
      "Processing: sub-HUP117_ses-presurgery_task-ictal_acq-seeg_run-03_ieeg.edf\n",
      "Extracting EDF parameters from /Users/billhuang/Desktop/BU_RISE/BU_RISE_Project/data/ds004100/sub-HUP117/ses-presurgery/ieeg/sub-HUP117_ses-presurgery_task-ictal_acq-seeg_run-03_ieeg.edf...\n",
      "EDF file detected\n",
      "Setting channel info structure...\n",
      "Creating raw.info structure...\n"
     ]
    },
    {
     "name": "stderr",
     "output_type": "stream",
     "text": [
      "100%|██████████| 70.0/70.0 [00:01<00:00, 42.0it/s]\n"
     ]
    },
    {
     "name": "stdout",
     "output_type": "stream",
     "text": [
      "Processing: sub-HUP117_ses-presurgery_task-interictal_acq-seeg_run-01_ieeg.edf\n",
      "Extracting EDF parameters from /Users/billhuang/Desktop/BU_RISE/BU_RISE_Project/data/ds004100/sub-HUP117/ses-presurgery/ieeg/sub-HUP117_ses-presurgery_task-interictal_acq-seeg_run-01_ieeg.edf...\n",
      "EDF file detected\n",
      "Setting channel info structure...\n",
      "Creating raw.info structure...\n"
     ]
    },
    {
     "name": "stderr",
     "output_type": "stream",
     "text": [
      "100%|██████████| 70.0/70.0 [00:01<00:00, 36.7it/s]\n"
     ]
    },
    {
     "name": "stdout",
     "output_type": "stream",
     "text": [
      "Processing: sub-HUP117_ses-presurgery_task-interictal_acq-seeg_run-02_ieeg.edf\n",
      "Extracting EDF parameters from /Users/billhuang/Desktop/BU_RISE/BU_RISE_Project/data/ds004100/sub-HUP117/ses-presurgery/ieeg/sub-HUP117_ses-presurgery_task-interictal_acq-seeg_run-02_ieeg.edf...\n",
      "EDF file detected\n",
      "Setting channel info structure...\n",
      "Creating raw.info structure...\n"
     ]
    },
    {
     "name": "stderr",
     "output_type": "stream",
     "text": [
      "100%|██████████| 70.0/70.0 [00:01<00:00, 36.8it/s]\n"
     ]
    },
    {
     "name": "stdout",
     "output_type": "stream",
     "text": [
      "Processing: sub-HUP123_ses-presurgery_task-ictal_acq-ecog_run-01_ieeg.edf\n",
      "Extracting EDF parameters from /Users/billhuang/Desktop/BU_RISE/BU_RISE_Project/data/ds004100/sub-HUP123/ses-presurgery/ieeg/sub-HUP123_ses-presurgery_task-ictal_acq-ecog_run-01_ieeg.edf...\n",
      "EDF file detected\n",
      "Setting channel info structure...\n",
      "Creating raw.info structure...\n"
     ]
    },
    {
     "name": "stderr",
     "output_type": "stream",
     "text": [
      "100%|██████████| 126/126 [00:02<00:00, 51.5it/s] \n"
     ]
    },
    {
     "name": "stdout",
     "output_type": "stream",
     "text": [
      "Processing: sub-HUP123_ses-presurgery_task-ictal_acq-ecog_run-02_ieeg.edf\n",
      "Extracting EDF parameters from /Users/billhuang/Desktop/BU_RISE/BU_RISE_Project/data/ds004100/sub-HUP123/ses-presurgery/ieeg/sub-HUP123_ses-presurgery_task-ictal_acq-ecog_run-02_ieeg.edf...\n",
      "EDF file detected\n",
      "Setting channel info structure...\n",
      "Creating raw.info structure...\n"
     ]
    },
    {
     "name": "stderr",
     "output_type": "stream",
     "text": [
      "100%|██████████| 126/126 [00:02<00:00, 50.7it/s] \n"
     ]
    },
    {
     "name": "stdout",
     "output_type": "stream",
     "text": [
      "Processing: sub-HUP123_ses-presurgery_task-ictal_acq-ecog_run-03_ieeg.edf\n",
      "Extracting EDF parameters from /Users/billhuang/Desktop/BU_RISE/BU_RISE_Project/data/ds004100/sub-HUP123/ses-presurgery/ieeg/sub-HUP123_ses-presurgery_task-ictal_acq-ecog_run-03_ieeg.edf...\n",
      "EDF file detected\n",
      "Setting channel info structure...\n",
      "Creating raw.info structure...\n"
     ]
    },
    {
     "name": "stderr",
     "output_type": "stream",
     "text": [
      "100%|██████████| 126/126 [00:02<00:00, 42.7it/s] \n"
     ]
    },
    {
     "name": "stdout",
     "output_type": "stream",
     "text": [
      "Processing: sub-HUP123_ses-presurgery_task-ictal_acq-ecog_run-04_ieeg.edf\n",
      "Extracting EDF parameters from /Users/billhuang/Desktop/BU_RISE/BU_RISE_Project/data/ds004100/sub-HUP123/ses-presurgery/ieeg/sub-HUP123_ses-presurgery_task-ictal_acq-ecog_run-04_ieeg.edf...\n",
      "EDF file detected\n",
      "Setting channel info structure...\n",
      "Creating raw.info structure...\n"
     ]
    },
    {
     "name": "stderr",
     "output_type": "stream",
     "text": [
      "100%|██████████| 126/126 [00:02<00:00, 42.2it/s] \n"
     ]
    },
    {
     "name": "stdout",
     "output_type": "stream",
     "text": [
      "Processing: sub-HUP123_ses-presurgery_task-interictal_acq-ecog_run-01_ieeg.edf\n",
      "Extracting EDF parameters from /Users/billhuang/Desktop/BU_RISE/BU_RISE_Project/data/ds004100/sub-HUP123/ses-presurgery/ieeg/sub-HUP123_ses-presurgery_task-interictal_acq-ecog_run-01_ieeg.edf...\n",
      "EDF file detected\n",
      "Setting channel info structure...\n",
      "Creating raw.info structure...\n"
     ]
    },
    {
     "name": "stderr",
     "output_type": "stream",
     "text": [
      "100%|██████████| 126/126 [00:02<00:00, 46.4it/s] \n"
     ]
    },
    {
     "name": "stdout",
     "output_type": "stream",
     "text": [
      "Processing: sub-HUP123_ses-presurgery_task-interictal_acq-ecog_run-02_ieeg.edf\n",
      "Extracting EDF parameters from /Users/billhuang/Desktop/BU_RISE/BU_RISE_Project/data/ds004100/sub-HUP123/ses-presurgery/ieeg/sub-HUP123_ses-presurgery_task-interictal_acq-ecog_run-02_ieeg.edf...\n",
      "EDF file detected\n",
      "Setting channel info structure...\n",
      "Creating raw.info structure...\n"
     ]
    },
    {
     "name": "stderr",
     "output_type": "stream",
     "text": [
      "100%|██████████| 126/126 [00:02<00:00, 46.2it/s] \n"
     ]
    },
    {
     "name": "stdout",
     "output_type": "stream",
     "text": [
      "Processing: sub-HUP126_ses-presurgery_task-ictal_acq-ecog_run-01_ieeg.edf\n",
      "Extracting EDF parameters from /Users/billhuang/Desktop/BU_RISE/BU_RISE_Project/data/ds004100/sub-HUP126/ses-presurgery/ieeg/sub-HUP126_ses-presurgery_task-ictal_acq-ecog_run-01_ieeg.edf...\n",
      "EDF file detected\n",
      "Setting channel info structure...\n",
      "Creating raw.info structure...\n"
     ]
    },
    {
     "name": "stderr",
     "output_type": "stream",
     "text": [
      "100%|██████████| 127/127 [00:03<00:00, 36.7it/s] \n"
     ]
    },
    {
     "name": "stdout",
     "output_type": "stream",
     "text": [
      "Processing: sub-HUP126_ses-presurgery_task-ictal_acq-ecog_run-02_ieeg.edf\n",
      "Extracting EDF parameters from /Users/billhuang/Desktop/BU_RISE/BU_RISE_Project/data/ds004100/sub-HUP126/ses-presurgery/ieeg/sub-HUP126_ses-presurgery_task-ictal_acq-ecog_run-02_ieeg.edf...\n",
      "EDF file detected\n",
      "Setting channel info structure...\n",
      "Creating raw.info structure...\n"
     ]
    },
    {
     "name": "stderr",
     "output_type": "stream",
     "text": [
      "100%|██████████| 127/127 [00:03<00:00, 35.9it/s] \n"
     ]
    },
    {
     "name": "stdout",
     "output_type": "stream",
     "text": [
      "Processing: sub-HUP126_ses-presurgery_task-ictal_acq-ecog_run-03_ieeg.edf\n",
      "Extracting EDF parameters from /Users/billhuang/Desktop/BU_RISE/BU_RISE_Project/data/ds004100/sub-HUP126/ses-presurgery/ieeg/sub-HUP126_ses-presurgery_task-ictal_acq-ecog_run-03_ieeg.edf...\n",
      "EDF file detected\n",
      "Setting channel info structure...\n",
      "Creating raw.info structure...\n"
     ]
    },
    {
     "name": "stderr",
     "output_type": "stream",
     "text": [
      "100%|██████████| 127/127 [00:03<00:00, 36.7it/s] \n"
     ]
    },
    {
     "name": "stdout",
     "output_type": "stream",
     "text": [
      "Processing: sub-HUP126_ses-presurgery_task-ictal_acq-ecog_run-04_ieeg.edf\n",
      "Extracting EDF parameters from /Users/billhuang/Desktop/BU_RISE/BU_RISE_Project/data/ds004100/sub-HUP126/ses-presurgery/ieeg/sub-HUP126_ses-presurgery_task-ictal_acq-ecog_run-04_ieeg.edf...\n",
      "EDF file detected\n",
      "Setting channel info structure...\n",
      "Creating raw.info structure...\n"
     ]
    },
    {
     "name": "stderr",
     "output_type": "stream",
     "text": [
      "100%|██████████| 127/127 [00:03<00:00, 35.6it/s] "
     ]
    },
    {
     "name": "stdout",
     "output_type": "stream",
     "text": [
      "Processing: sub-HUP126_ses-presurgery_task-interictal_acq-ecog_run-01_ieeg.edf\n",
      "Extracting EDF parameters from /Users/billhuang/Desktop/BU_RISE/BU_RISE_Project/data/ds004100/sub-HUP126/ses-presurgery/ieeg/sub-HUP126_ses-presurgery_task-interictal_acq-ecog_run-01_ieeg.edf...\n",
      "EDF file detected\n"
     ]
    },
    {
     "name": "stderr",
     "output_type": "stream",
     "text": [
      "\n"
     ]
    },
    {
     "name": "stdout",
     "output_type": "stream",
     "text": [
      "Setting channel info structure...\n",
      "Creating raw.info structure...\n"
     ]
    },
    {
     "name": "stderr",
     "output_type": "stream",
     "text": [
      "100%|██████████| 127/127 [00:04<00:00, 27.3it/s] \n"
     ]
    },
    {
     "name": "stdout",
     "output_type": "stream",
     "text": [
      "Processing: sub-HUP126_ses-presurgery_task-interictal_acq-ecog_run-02_ieeg.edf\n",
      "Extracting EDF parameters from /Users/billhuang/Desktop/BU_RISE/BU_RISE_Project/data/ds004100/sub-HUP126/ses-presurgery/ieeg/sub-HUP126_ses-presurgery_task-interictal_acq-ecog_run-02_ieeg.edf...\n",
      "EDF file detected\n",
      "Setting channel info structure...\n",
      "Creating raw.info structure...\n"
     ]
    },
    {
     "name": "stderr",
     "output_type": "stream",
     "text": [
      "100%|██████████| 127/127 [00:04<00:00, 27.3it/s] \n"
     ]
    },
    {
     "name": "stdout",
     "output_type": "stream",
     "text": [
      "Processing: sub-HUP130_ses-presurgery_task-ictal_acq-seeg_run-01_ieeg.edf\n",
      "Extracting EDF parameters from /Users/billhuang/Desktop/BU_RISE/BU_RISE_Project/data/ds004100/sub-HUP130/ses-presurgery/ieeg/sub-HUP130_ses-presurgery_task-ictal_acq-seeg_run-01_ieeg.edf...\n",
      "EDF file detected\n",
      "Setting channel info structure...\n",
      "Creating raw.info structure...\n"
     ]
    },
    {
     "name": "stderr",
     "output_type": "stream",
     "text": [
      "100%|██████████| 127/127 [00:03<00:00, 32.8it/s] \n"
     ]
    },
    {
     "name": "stdout",
     "output_type": "stream",
     "text": [
      "Processing: sub-HUP130_ses-presurgery_task-ictal_acq-seeg_run-02_ieeg.edf\n",
      "Extracting EDF parameters from /Users/billhuang/Desktop/BU_RISE/BU_RISE_Project/data/ds004100/sub-HUP130/ses-presurgery/ieeg/sub-HUP130_ses-presurgery_task-ictal_acq-seeg_run-02_ieeg.edf...\n",
      "EDF file detected\n",
      "Setting channel info structure...\n",
      "Creating raw.info structure...\n"
     ]
    },
    {
     "name": "stderr",
     "output_type": "stream",
     "text": [
      "100%|██████████| 127/127 [00:03<00:00, 37.4it/s] \n"
     ]
    },
    {
     "name": "stdout",
     "output_type": "stream",
     "text": [
      "Processing: sub-HUP130_ses-presurgery_task-ictal_acq-seeg_run-03_ieeg.edf\n",
      "Extracting EDF parameters from /Users/billhuang/Desktop/BU_RISE/BU_RISE_Project/data/ds004100/sub-HUP130/ses-presurgery/ieeg/sub-HUP130_ses-presurgery_task-ictal_acq-seeg_run-03_ieeg.edf...\n",
      "EDF file detected\n",
      "Setting channel info structure...\n",
      "Creating raw.info structure...\n"
     ]
    },
    {
     "name": "stderr",
     "output_type": "stream",
     "text": [
      "100%|██████████| 127/127 [00:03<00:00, 36.8it/s] \n"
     ]
    },
    {
     "name": "stdout",
     "output_type": "stream",
     "text": [
      "Processing: sub-HUP130_ses-presurgery_task-ictal_acq-seeg_run-04_ieeg.edf\n",
      "Extracting EDF parameters from /Users/billhuang/Desktop/BU_RISE/BU_RISE_Project/data/ds004100/sub-HUP130/ses-presurgery/ieeg/sub-HUP130_ses-presurgery_task-ictal_acq-seeg_run-04_ieeg.edf...\n",
      "EDF file detected\n",
      "Setting channel info structure...\n",
      "Creating raw.info structure...\n"
     ]
    },
    {
     "name": "stderr",
     "output_type": "stream",
     "text": [
      "100%|██████████| 127/127 [00:03<00:00, 35.1it/s] \n"
     ]
    },
    {
     "name": "stdout",
     "output_type": "stream",
     "text": [
      "Processing: sub-HUP130_ses-presurgery_task-ictal_acq-seeg_run-05_ieeg.edf\n",
      "Extracting EDF parameters from /Users/billhuang/Desktop/BU_RISE/BU_RISE_Project/data/ds004100/sub-HUP130/ses-presurgery/ieeg/sub-HUP130_ses-presurgery_task-ictal_acq-seeg_run-05_ieeg.edf...\n",
      "EDF file detected\n",
      "Setting channel info structure...\n",
      "Creating raw.info structure...\n"
     ]
    },
    {
     "name": "stderr",
     "output_type": "stream",
     "text": [
      "100%|██████████| 127/127 [00:04<00:00, 30.9it/s] \n"
     ]
    },
    {
     "name": "stdout",
     "output_type": "stream",
     "text": [
      "Processing: sub-HUP130_ses-presurgery_task-interictal_acq-seeg_run-01_ieeg.edf\n",
      "Extracting EDF parameters from /Users/billhuang/Desktop/BU_RISE/BU_RISE_Project/data/ds004100/sub-HUP130/ses-presurgery/ieeg/sub-HUP130_ses-presurgery_task-interictal_acq-seeg_run-01_ieeg.edf...\n",
      "EDF file detected\n",
      "Setting channel info structure...\n",
      "Creating raw.info structure...\n"
     ]
    },
    {
     "name": "stderr",
     "output_type": "stream",
     "text": [
      "100%|██████████| 127/127 [00:04<00:00, 26.9it/s] \n"
     ]
    },
    {
     "name": "stdout",
     "output_type": "stream",
     "text": [
      "Processing: sub-HUP130_ses-presurgery_task-interictal_acq-seeg_run-02_ieeg.edf\n",
      "Extracting EDF parameters from /Users/billhuang/Desktop/BU_RISE/BU_RISE_Project/data/ds004100/sub-HUP130/ses-presurgery/ieeg/sub-HUP130_ses-presurgery_task-interictal_acq-seeg_run-02_ieeg.edf...\n",
      "EDF file detected\n",
      "Setting channel info structure...\n",
      "Creating raw.info structure...\n"
     ]
    },
    {
     "name": "stderr",
     "output_type": "stream",
     "text": [
      "100%|██████████| 127/127 [00:04<00:00, 27.1it/s] \n"
     ]
    },
    {
     "name": "stdout",
     "output_type": "stream",
     "text": [
      "Processing: sub-HUP133_ses-presurgery_task-ictal_acq-seeg_run-01_ieeg.edf\n",
      "Extracting EDF parameters from /Users/billhuang/Desktop/BU_RISE/BU_RISE_Project/data/ds004100/sub-HUP133/ses-presurgery/ieeg/sub-HUP133_ses-presurgery_task-ictal_acq-seeg_run-01_ieeg.edf...\n",
      "EDF file detected\n",
      "Setting channel info structure...\n",
      "Creating raw.info structure...\n"
     ]
    },
    {
     "name": "stderr",
     "output_type": "stream",
     "text": [
      "100%|██████████| 79.0/79.0 [00:01<00:00, 42.9it/s]"
     ]
    },
    {
     "name": "stdout",
     "output_type": "stream",
     "text": [
      "Processing: sub-HUP133_ses-presurgery_task-ictal_acq-seeg_run-02_ieeg.edf\n",
      "Extracting EDF parameters from /Users/billhuang/Desktop/BU_RISE/BU_RISE_Project/data/ds004100/sub-HUP133/ses-presurgery/ieeg/sub-HUP133_ses-presurgery_task-ictal_acq-seeg_run-02_ieeg.edf...\n",
      "EDF file detected\n"
     ]
    },
    {
     "name": "stderr",
     "output_type": "stream",
     "text": [
      "\n"
     ]
    },
    {
     "name": "stdout",
     "output_type": "stream",
     "text": [
      "Setting channel info structure...\n",
      "Creating raw.info structure...\n"
     ]
    },
    {
     "name": "stderr",
     "output_type": "stream",
     "text": [
      "100%|██████████| 79.0/79.0 [00:02<00:00, 39.0it/s]\n"
     ]
    },
    {
     "name": "stdout",
     "output_type": "stream",
     "text": [
      "Processing: sub-HUP133_ses-presurgery_task-ictal_acq-seeg_run-03_ieeg.edf\n",
      "Extracting EDF parameters from /Users/billhuang/Desktop/BU_RISE/BU_RISE_Project/data/ds004100/sub-HUP133/ses-presurgery/ieeg/sub-HUP133_ses-presurgery_task-ictal_acq-seeg_run-03_ieeg.edf...\n",
      "EDF file detected\n",
      "Setting channel info structure...\n",
      "Creating raw.info structure...\n"
     ]
    },
    {
     "name": "stderr",
     "output_type": "stream",
     "text": [
      "100%|██████████| 79.0/79.0 [00:01<00:00, 42.2it/s]\n"
     ]
    },
    {
     "name": "stdout",
     "output_type": "stream",
     "text": [
      "Processing: sub-HUP133_ses-presurgery_task-ictal_acq-seeg_run-04_ieeg.edf\n",
      "Extracting EDF parameters from /Users/billhuang/Desktop/BU_RISE/BU_RISE_Project/data/ds004100/sub-HUP133/ses-presurgery/ieeg/sub-HUP133_ses-presurgery_task-ictal_acq-seeg_run-04_ieeg.edf...\n",
      "EDF file detected\n",
      "Setting channel info structure...\n",
      "Creating raw.info structure...\n"
     ]
    },
    {
     "name": "stderr",
     "output_type": "stream",
     "text": [
      "100%|██████████| 79.0/79.0 [00:01<00:00, 45.9it/s]\n"
     ]
    },
    {
     "name": "stdout",
     "output_type": "stream",
     "text": [
      "Processing: sub-HUP133_ses-presurgery_task-ictal_acq-seeg_run-05_ieeg.edf\n",
      "Extracting EDF parameters from /Users/billhuang/Desktop/BU_RISE/BU_RISE_Project/data/ds004100/sub-HUP133/ses-presurgery/ieeg/sub-HUP133_ses-presurgery_task-ictal_acq-seeg_run-05_ieeg.edf...\n",
      "EDF file detected\n",
      "Setting channel info structure...\n",
      "Creating raw.info structure...\n"
     ]
    },
    {
     "name": "stderr",
     "output_type": "stream",
     "text": [
      "100%|██████████| 79.0/79.0 [00:01<00:00, 44.2it/s]"
     ]
    },
    {
     "name": "stdout",
     "output_type": "stream",
     "text": [
      "Processing: sub-HUP133_ses-presurgery_task-interictal_acq-seeg_run-01_ieeg.edf\n",
      "Extracting EDF parameters from /Users/billhuang/Desktop/BU_RISE/BU_RISE_Project/data/ds004100/sub-HUP133/ses-presurgery/ieeg/sub-HUP133_ses-presurgery_task-interictal_acq-seeg_run-01_ieeg.edf...\n",
      "EDF file detected\n",
      "Setting channel info structure...\n",
      "Creating raw.info structure...\n"
     ]
    },
    {
     "name": "stderr",
     "output_type": "stream",
     "text": [
      "\n",
      "100%|██████████| 79.0/79.0 [00:02<00:00, 39.0it/s]\n"
     ]
    },
    {
     "name": "stdout",
     "output_type": "stream",
     "text": [
      "Processing: sub-HUP133_ses-presurgery_task-interictal_acq-seeg_run-02_ieeg.edf\n",
      "Extracting EDF parameters from /Users/billhuang/Desktop/BU_RISE/BU_RISE_Project/data/ds004100/sub-HUP133/ses-presurgery/ieeg/sub-HUP133_ses-presurgery_task-interictal_acq-seeg_run-02_ieeg.edf...\n",
      "EDF file detected\n",
      "Setting channel info structure...\n",
      "Creating raw.info structure...\n"
     ]
    },
    {
     "name": "stderr",
     "output_type": "stream",
     "text": [
      "100%|██████████| 79.0/79.0 [00:01<00:00, 39.5it/s]\n"
     ]
    },
    {
     "name": "stdout",
     "output_type": "stream",
     "text": [
      "Processing: sub-HUP134_ses-presurgery_task-ictal_acq-seeg_run-01_ieeg.edf\n",
      "Extracting EDF parameters from /Users/billhuang/Desktop/BU_RISE/BU_RISE_Project/data/ds004100/sub-HUP134/ses-presurgery/ieeg/sub-HUP134_ses-presurgery_task-ictal_acq-seeg_run-01_ieeg.edf...\n",
      "EDF file detected\n",
      "Setting channel info structure...\n",
      "Creating raw.info structure...\n"
     ]
    },
    {
     "name": "stderr",
     "output_type": "stream",
     "text": [
      "100%|██████████| 84.0/84.0 [00:03<00:00, 27.0it/s]\n"
     ]
    },
    {
     "name": "stdout",
     "output_type": "stream",
     "text": [
      "Processing: sub-HUP134_ses-presurgery_task-interictal_acq-seeg_run-01_ieeg.edf\n",
      "Extracting EDF parameters from /Users/billhuang/Desktop/BU_RISE/BU_RISE_Project/data/ds004100/sub-HUP134/ses-presurgery/ieeg/sub-HUP134_ses-presurgery_task-interictal_acq-seeg_run-01_ieeg.edf...\n",
      "EDF file detected\n",
      "Setting channel info structure...\n",
      "Creating raw.info structure...\n"
     ]
    },
    {
     "name": "stderr",
     "output_type": "stream",
     "text": [
      "100%|██████████| 84.0/84.0 [00:03<00:00, 25.1it/s]\n"
     ]
    },
    {
     "name": "stdout",
     "output_type": "stream",
     "text": [
      "Processing: sub-HUP134_ses-presurgery_task-interictal_acq-seeg_run-02_ieeg.edf\n",
      "Extracting EDF parameters from /Users/billhuang/Desktop/BU_RISE/BU_RISE_Project/data/ds004100/sub-HUP134/ses-presurgery/ieeg/sub-HUP134_ses-presurgery_task-interictal_acq-seeg_run-02_ieeg.edf...\n",
      "EDF file detected\n",
      "Setting channel info structure...\n",
      "Creating raw.info structure...\n"
     ]
    },
    {
     "name": "stderr",
     "output_type": "stream",
     "text": [
      "100%|██████████| 84.0/84.0 [00:03<00:00, 25.1it/s]\n"
     ]
    },
    {
     "name": "stdout",
     "output_type": "stream",
     "text": [
      "Processing: sub-HUP135_ses-presurgery_task-ictal_acq-seeg_run-01_ieeg.edf\n",
      "Extracting EDF parameters from /Users/billhuang/Desktop/BU_RISE/BU_RISE_Project/data/ds004100/sub-HUP135/ses-presurgery/ieeg/sub-HUP135_ses-presurgery_task-ictal_acq-seeg_run-01_ieeg.edf...\n",
      "EDF file detected\n",
      "Setting channel info structure...\n",
      "Creating raw.info structure...\n"
     ]
    },
    {
     "name": "stderr",
     "output_type": "stream",
     "text": [
      "100%|██████████| 104/104 [00:02<00:00, 48.9it/s] \n"
     ]
    },
    {
     "name": "stdout",
     "output_type": "stream",
     "text": [
      "Processing: sub-HUP135_ses-presurgery_task-ictal_acq-seeg_run-02_ieeg.edf\n",
      "Extracting EDF parameters from /Users/billhuang/Desktop/BU_RISE/BU_RISE_Project/data/ds004100/sub-HUP135/ses-presurgery/ieeg/sub-HUP135_ses-presurgery_task-ictal_acq-seeg_run-02_ieeg.edf...\n",
      "EDF file detected\n",
      "Setting channel info structure...\n",
      "Creating raw.info structure...\n"
     ]
    },
    {
     "name": "stderr",
     "output_type": "stream",
     "text": [
      "100%|██████████| 104/104 [00:03<00:00, 29.4it/s] \n"
     ]
    },
    {
     "name": "stdout",
     "output_type": "stream",
     "text": [
      "Processing: sub-HUP135_ses-presurgery_task-interictal_acq-seeg_run-01_ieeg.edf\n",
      "Extracting EDF parameters from /Users/billhuang/Desktop/BU_RISE/BU_RISE_Project/data/ds004100/sub-HUP135/ses-presurgery/ieeg/sub-HUP135_ses-presurgery_task-interictal_acq-seeg_run-01_ieeg.edf...\n",
      "EDF file detected\n",
      "Setting channel info structure...\n",
      "Creating raw.info structure...\n"
     ]
    },
    {
     "name": "stderr",
     "output_type": "stream",
     "text": [
      "100%|██████████| 104/104 [00:02<00:00, 43.0it/s] \n"
     ]
    },
    {
     "name": "stdout",
     "output_type": "stream",
     "text": [
      "Processing: sub-HUP135_ses-presurgery_task-interictal_acq-seeg_run-02_ieeg.edf\n",
      "Extracting EDF parameters from /Users/billhuang/Desktop/BU_RISE/BU_RISE_Project/data/ds004100/sub-HUP135/ses-presurgery/ieeg/sub-HUP135_ses-presurgery_task-interictal_acq-seeg_run-02_ieeg.edf...\n",
      "EDF file detected\n",
      "Setting channel info structure...\n",
      "Creating raw.info structure...\n"
     ]
    },
    {
     "name": "stderr",
     "output_type": "stream",
     "text": [
      "100%|██████████| 104/104 [00:02<00:00, 44.2it/s] \n"
     ]
    },
    {
     "name": "stdout",
     "output_type": "stream",
     "text": [
      "Processing: sub-HUP138_ses-presurgery_task-ictal_acq-seeg_run-01_ieeg.edf\n",
      "Extracting EDF parameters from /Users/billhuang/Desktop/BU_RISE/BU_RISE_Project/data/ds004100/sub-HUP138/ses-presurgery/ieeg/sub-HUP138_ses-presurgery_task-ictal_acq-seeg_run-01_ieeg.edf...\n",
      "EDF file detected\n",
      "Setting channel info structure...\n",
      "Creating raw.info structure...\n"
     ]
    },
    {
     "name": "stderr",
     "output_type": "stream",
     "text": [
      "100%|██████████| 121/121 [00:04<00:00, 29.1it/s] \n"
     ]
    },
    {
     "name": "stdout",
     "output_type": "stream",
     "text": [
      "Processing: sub-HUP138_ses-presurgery_task-ictal_acq-seeg_run-02_ieeg.edf\n",
      "Extracting EDF parameters from /Users/billhuang/Desktop/BU_RISE/BU_RISE_Project/data/ds004100/sub-HUP138/ses-presurgery/ieeg/sub-HUP138_ses-presurgery_task-ictal_acq-seeg_run-02_ieeg.edf...\n",
      "EDF file detected\n",
      "Setting channel info structure...\n",
      "Creating raw.info structure...\n"
     ]
    },
    {
     "name": "stderr",
     "output_type": "stream",
     "text": [
      "100%|██████████| 121/121 [00:04<00:00, 25.0it/s] \n"
     ]
    },
    {
     "name": "stdout",
     "output_type": "stream",
     "text": [
      "Processing: sub-HUP138_ses-presurgery_task-ictal_acq-seeg_run-03_ieeg.edf\n",
      "Extracting EDF parameters from /Users/billhuang/Desktop/BU_RISE/BU_RISE_Project/data/ds004100/sub-HUP138/ses-presurgery/ieeg/sub-HUP138_ses-presurgery_task-ictal_acq-seeg_run-03_ieeg.edf...\n",
      "EDF file detected\n",
      "Setting channel info structure...\n",
      "Creating raw.info structure...\n"
     ]
    },
    {
     "name": "stderr",
     "output_type": "stream",
     "text": [
      "100%|██████████| 121/121 [00:03<00:00, 30.8it/s] \n"
     ]
    },
    {
     "name": "stdout",
     "output_type": "stream",
     "text": [
      "Processing: sub-HUP138_ses-presurgery_task-ictal_acq-seeg_run-04_ieeg.edf\n",
      "Extracting EDF parameters from /Users/billhuang/Desktop/BU_RISE/BU_RISE_Project/data/ds004100/sub-HUP138/ses-presurgery/ieeg/sub-HUP138_ses-presurgery_task-ictal_acq-seeg_run-04_ieeg.edf...\n",
      "EDF file detected\n",
      "Setting channel info structure...\n",
      "Creating raw.info structure...\n"
     ]
    },
    {
     "name": "stderr",
     "output_type": "stream",
     "text": [
      "100%|██████████| 121/121 [00:04<00:00, 29.2it/s] \n"
     ]
    },
    {
     "name": "stdout",
     "output_type": "stream",
     "text": [
      "Processing: sub-HUP138_ses-presurgery_task-ictal_acq-seeg_run-05_ieeg.edf\n",
      "Extracting EDF parameters from /Users/billhuang/Desktop/BU_RISE/BU_RISE_Project/data/ds004100/sub-HUP138/ses-presurgery/ieeg/sub-HUP138_ses-presurgery_task-ictal_acq-seeg_run-05_ieeg.edf...\n",
      "EDF file detected\n",
      "Setting channel info structure...\n",
      "Creating raw.info structure...\n"
     ]
    },
    {
     "name": "stderr",
     "output_type": "stream",
     "text": [
      "100%|██████████| 121/121 [00:04<00:00, 29.8it/s] \n"
     ]
    },
    {
     "name": "stdout",
     "output_type": "stream",
     "text": [
      "Processing: sub-HUP138_ses-presurgery_task-interictal_acq-seeg_run-01_ieeg.edf\n",
      "Extracting EDF parameters from /Users/billhuang/Desktop/BU_RISE/BU_RISE_Project/data/ds004100/sub-HUP138/ses-presurgery/ieeg/sub-HUP138_ses-presurgery_task-interictal_acq-seeg_run-01_ieeg.edf...\n",
      "EDF file detected\n",
      "Setting channel info structure...\n",
      "Creating raw.info structure...\n"
     ]
    },
    {
     "name": "stderr",
     "output_type": "stream",
     "text": [
      "100%|██████████| 121/121 [00:04<00:00, 27.1it/s] \n"
     ]
    },
    {
     "name": "stdout",
     "output_type": "stream",
     "text": [
      "Processing: sub-HUP138_ses-presurgery_task-interictal_acq-seeg_run-02_ieeg.edf\n",
      "Extracting EDF parameters from /Users/billhuang/Desktop/BU_RISE/BU_RISE_Project/data/ds004100/sub-HUP138/ses-presurgery/ieeg/sub-HUP138_ses-presurgery_task-interictal_acq-seeg_run-02_ieeg.edf...\n",
      "EDF file detected\n",
      "Setting channel info structure...\n",
      "Creating raw.info structure...\n"
     ]
    },
    {
     "name": "stderr",
     "output_type": "stream",
     "text": [
      "100%|██████████| 121/121 [00:04<00:00, 27.1it/s] \n"
     ]
    },
    {
     "name": "stdout",
     "output_type": "stream",
     "text": [
      "Processing: sub-HUP139_ses-presurgery_task-ictal_acq-seeg_run-01_ieeg.edf\n",
      "Extracting EDF parameters from /Users/billhuang/Desktop/BU_RISE/BU_RISE_Project/data/ds004100/sub-HUP139/ses-presurgery/ieeg/sub-HUP139_ses-presurgery_task-ictal_acq-seeg_run-01_ieeg.edf...\n",
      "EDF file detected\n",
      "Setting channel info structure...\n",
      "Creating raw.info structure...\n"
     ]
    },
    {
     "name": "stderr",
     "output_type": "stream",
     "text": [
      "100%|██████████| 99.0/99.0 [00:02<00:00, 36.9it/s]"
     ]
    },
    {
     "name": "stdout",
     "output_type": "stream",
     "text": [
      "Processing: sub-HUP139_ses-presurgery_task-ictal_acq-seeg_run-02_ieeg.edf\n",
      "Extracting EDF parameters from /Users/billhuang/Desktop/BU_RISE/BU_RISE_Project/data/ds004100/sub-HUP139/ses-presurgery/ieeg/sub-HUP139_ses-presurgery_task-ictal_acq-seeg_run-02_ieeg.edf...\n",
      "EDF file detected\n",
      "Setting channel info structure...\n",
      "Creating raw.info structure...\n"
     ]
    },
    {
     "name": "stderr",
     "output_type": "stream",
     "text": [
      "\n",
      "100%|██████████| 99.0/99.0 [00:02<00:00, 33.7it/s]\n"
     ]
    },
    {
     "name": "stdout",
     "output_type": "stream",
     "text": [
      "Processing: sub-HUP139_ses-presurgery_task-ictal_acq-seeg_run-03_ieeg.edf\n",
      "Extracting EDF parameters from /Users/billhuang/Desktop/BU_RISE/BU_RISE_Project/data/ds004100/sub-HUP139/ses-presurgery/ieeg/sub-HUP139_ses-presurgery_task-ictal_acq-seeg_run-03_ieeg.edf...\n",
      "EDF file detected\n",
      "Setting channel info structure...\n",
      "Creating raw.info structure...\n"
     ]
    },
    {
     "name": "stderr",
     "output_type": "stream",
     "text": [
      "100%|██████████| 99.0/99.0 [00:03<00:00, 26.5it/s]\n"
     ]
    },
    {
     "name": "stdout",
     "output_type": "stream",
     "text": [
      "Processing: sub-HUP139_ses-presurgery_task-interictal_acq-seeg_run-01_ieeg.edf\n",
      "Extracting EDF parameters from /Users/billhuang/Desktop/BU_RISE/BU_RISE_Project/data/ds004100/sub-HUP139/ses-presurgery/ieeg/sub-HUP139_ses-presurgery_task-interictal_acq-seeg_run-01_ieeg.edf...\n",
      "EDF file detected\n",
      "Setting channel info structure...\n",
      "Creating raw.info structure...\n"
     ]
    },
    {
     "name": "stderr",
     "output_type": "stream",
     "text": [
      "100%|██████████| 99.0/99.0 [00:03<00:00, 25.6it/s]\n"
     ]
    },
    {
     "name": "stdout",
     "output_type": "stream",
     "text": [
      "Processing: sub-HUP139_ses-presurgery_task-interictal_acq-seeg_run-02_ieeg.edf\n",
      "Extracting EDF parameters from /Users/billhuang/Desktop/BU_RISE/BU_RISE_Project/data/ds004100/sub-HUP139/ses-presurgery/ieeg/sub-HUP139_ses-presurgery_task-interictal_acq-seeg_run-02_ieeg.edf...\n",
      "EDF file detected\n",
      "Setting channel info structure...\n",
      "Creating raw.info structure...\n"
     ]
    },
    {
     "name": "stderr",
     "output_type": "stream",
     "text": [
      "100%|██████████| 99.0/99.0 [00:03<00:00, 25.8it/s]\n"
     ]
    },
    {
     "name": "stdout",
     "output_type": "stream",
     "text": [
      "Processing: sub-HUP140_ses-presurgery_task-ictal_acq-seeg_run-01_ieeg.edf\n",
      "Extracting EDF parameters from /Users/billhuang/Desktop/BU_RISE/BU_RISE_Project/data/ds004100/sub-HUP140/ses-presurgery/ieeg/sub-HUP140_ses-presurgery_task-ictal_acq-seeg_run-01_ieeg.edf...\n",
      "EDF file detected\n",
      "Setting channel info structure...\n",
      "Creating raw.info structure...\n"
     ]
    },
    {
     "name": "stderr",
     "output_type": "stream",
     "text": [
      "100%|██████████| 95.0/95.0 [00:05<00:00, 15.9it/s]"
     ]
    },
    {
     "name": "stdout",
     "output_type": "stream",
     "text": [
      "Processing: sub-HUP140_ses-presurgery_task-ictal_acq-seeg_run-02_ieeg.edf\n",
      "Extracting EDF parameters from /Users/billhuang/Desktop/BU_RISE/BU_RISE_Project/data/ds004100/sub-HUP140/ses-presurgery/ieeg/sub-HUP140_ses-presurgery_task-ictal_acq-seeg_run-02_ieeg.edf...\n",
      "EDF file detected\n",
      "Setting channel info structure...\n",
      "Creating raw.info structure...\n"
     ]
    },
    {
     "name": "stderr",
     "output_type": "stream",
     "text": [
      "\n",
      "100%|██████████| 95.0/95.0 [00:05<00:00, 16.0it/s]\n"
     ]
    },
    {
     "name": "stdout",
     "output_type": "stream",
     "text": [
      "Processing: sub-HUP140_ses-presurgery_task-ictal_acq-seeg_run-03_ieeg.edf\n",
      "Extracting EDF parameters from /Users/billhuang/Desktop/BU_RISE/BU_RISE_Project/data/ds004100/sub-HUP140/ses-presurgery/ieeg/sub-HUP140_ses-presurgery_task-ictal_acq-seeg_run-03_ieeg.edf...\n",
      "EDF file detected\n",
      "Setting channel info structure...\n",
      "Creating raw.info structure...\n"
     ]
    },
    {
     "name": "stderr",
     "output_type": "stream",
     "text": [
      "100%|██████████| 95.0/95.0 [00:05<00:00, 17.3it/s]"
     ]
    },
    {
     "name": "stdout",
     "output_type": "stream",
     "text": [
      "Processing: sub-HUP140_ses-presurgery_task-interictal_acq-seeg_run-01_ieeg.edf\n",
      "Extracting EDF parameters from /Users/billhuang/Desktop/BU_RISE/BU_RISE_Project/data/ds004100/sub-HUP140/ses-presurgery/ieeg/sub-HUP140_ses-presurgery_task-interictal_acq-seeg_run-01_ieeg.edf...\n"
     ]
    },
    {
     "name": "stderr",
     "output_type": "stream",
     "text": [
      "\n"
     ]
    },
    {
     "name": "stdout",
     "output_type": "stream",
     "text": [
      "EDF file detected\n",
      "Setting channel info structure...\n",
      "Creating raw.info structure...\n"
     ]
    },
    {
     "name": "stderr",
     "output_type": "stream",
     "text": [
      "100%|██████████| 95.0/95.0 [00:03<00:00, 25.8it/s]\n"
     ]
    },
    {
     "name": "stdout",
     "output_type": "stream",
     "text": [
      "Processing: sub-HUP140_ses-presurgery_task-interictal_acq-seeg_run-02_ieeg.edf\n",
      "Extracting EDF parameters from /Users/billhuang/Desktop/BU_RISE/BU_RISE_Project/data/ds004100/sub-HUP140/ses-presurgery/ieeg/sub-HUP140_ses-presurgery_task-interictal_acq-seeg_run-02_ieeg.edf...\n",
      "EDF file detected\n",
      "Setting channel info structure...\n",
      "Creating raw.info structure...\n"
     ]
    },
    {
     "name": "stderr",
     "output_type": "stream",
     "text": [
      "100%|██████████| 95.0/95.0 [00:03<00:00, 25.7it/s]\n"
     ]
    },
    {
     "name": "stdout",
     "output_type": "stream",
     "text": [
      "Processing: sub-HUP141_ses-presurgery_task-ictal_acq-seeg_run-01_ieeg.edf\n",
      "Extracting EDF parameters from /Users/billhuang/Desktop/BU_RISE/BU_RISE_Project/data/ds004100/sub-HUP141/ses-presurgery/ieeg/sub-HUP141_ses-presurgery_task-ictal_acq-seeg_run-01_ieeg.edf...\n",
      "EDF file detected\n",
      "Setting channel info structure...\n",
      "Creating raw.info structure...\n"
     ]
    },
    {
     "name": "stderr",
     "output_type": "stream",
     "text": [
      "100%|██████████| 116/116 [00:01<00:00, 58.1it/s] \n"
     ]
    },
    {
     "name": "stdout",
     "output_type": "stream",
     "text": [
      "Processing: sub-HUP141_ses-presurgery_task-ictal_acq-seeg_run-02_ieeg.edf\n",
      "Extracting EDF parameters from /Users/billhuang/Desktop/BU_RISE/BU_RISE_Project/data/ds004100/sub-HUP141/ses-presurgery/ieeg/sub-HUP141_ses-presurgery_task-ictal_acq-seeg_run-02_ieeg.edf...\n",
      "EDF file detected\n",
      "Setting channel info structure...\n",
      "Creating raw.info structure...\n"
     ]
    },
    {
     "name": "stderr",
     "output_type": "stream",
     "text": [
      "100%|██████████| 116/116 [00:02<00:00, 57.0it/s] \n"
     ]
    },
    {
     "name": "stdout",
     "output_type": "stream",
     "text": [
      "Processing: sub-HUP141_ses-presurgery_task-ictal_acq-seeg_run-03_ieeg.edf\n",
      "Extracting EDF parameters from /Users/billhuang/Desktop/BU_RISE/BU_RISE_Project/data/ds004100/sub-HUP141/ses-presurgery/ieeg/sub-HUP141_ses-presurgery_task-ictal_acq-seeg_run-03_ieeg.edf...\n",
      "EDF file detected\n",
      "Setting channel info structure...\n",
      "Creating raw.info structure...\n"
     ]
    },
    {
     "name": "stderr",
     "output_type": "stream",
     "text": [
      "100%|██████████| 116/116 [00:02<00:00, 57.2it/s] \n"
     ]
    },
    {
     "name": "stdout",
     "output_type": "stream",
     "text": [
      "Processing: sub-HUP141_ses-presurgery_task-ictal_acq-seeg_run-04_ieeg.edf\n",
      "Extracting EDF parameters from /Users/billhuang/Desktop/BU_RISE/BU_RISE_Project/data/ds004100/sub-HUP141/ses-presurgery/ieeg/sub-HUP141_ses-presurgery_task-ictal_acq-seeg_run-04_ieeg.edf...\n",
      "EDF file detected\n",
      "Setting channel info structure...\n",
      "Creating raw.info structure...\n"
     ]
    },
    {
     "name": "stderr",
     "output_type": "stream",
     "text": [
      "100%|██████████| 116/116 [00:02<00:00, 57.6it/s] \n"
     ]
    },
    {
     "name": "stdout",
     "output_type": "stream",
     "text": [
      "Processing: sub-HUP141_ses-presurgery_task-ictal_acq-seeg_run-05_ieeg.edf\n",
      "Extracting EDF parameters from /Users/billhuang/Desktop/BU_RISE/BU_RISE_Project/data/ds004100/sub-HUP141/ses-presurgery/ieeg/sub-HUP141_ses-presurgery_task-ictal_acq-seeg_run-05_ieeg.edf...\n",
      "EDF file detected\n",
      "Setting channel info structure...\n",
      "Creating raw.info structure...\n"
     ]
    },
    {
     "name": "stderr",
     "output_type": "stream",
     "text": [
      "100%|██████████| 116/116 [00:02<00:00, 46.1it/s] \n"
     ]
    },
    {
     "name": "stdout",
     "output_type": "stream",
     "text": [
      "Processing: sub-HUP141_ses-presurgery_task-interictal_acq-seeg_run-01_ieeg.edf\n",
      "Extracting EDF parameters from /Users/billhuang/Desktop/BU_RISE/BU_RISE_Project/data/ds004100/sub-HUP141/ses-presurgery/ieeg/sub-HUP141_ses-presurgery_task-interictal_acq-seeg_run-01_ieeg.edf...\n",
      "EDF file detected\n",
      "Setting channel info structure...\n",
      "Creating raw.info structure...\n"
     ]
    },
    {
     "name": "stderr",
     "output_type": "stream",
     "text": [
      "100%|██████████| 116/116 [00:02<00:00, 46.0it/s] "
     ]
    },
    {
     "name": "stdout",
     "output_type": "stream",
     "text": [
      "Processing: sub-HUP141_ses-presurgery_task-interictal_acq-seeg_run-02_ieeg.edf\n",
      "Extracting EDF parameters from /Users/billhuang/Desktop/BU_RISE/BU_RISE_Project/data/ds004100/sub-HUP141/ses-presurgery/ieeg/sub-HUP141_ses-presurgery_task-interictal_acq-seeg_run-02_ieeg.edf...\n",
      "EDF file detected\n",
      "Setting channel info structure...\n",
      "Creating raw.info structure...\n"
     ]
    },
    {
     "name": "stderr",
     "output_type": "stream",
     "text": [
      "\n",
      "100%|██████████| 116/116 [00:02<00:00, 45.9it/s] "
     ]
    },
    {
     "name": "stdout",
     "output_type": "stream",
     "text": [
      "Processing: sub-HUP142_ses-presurgery_task-ictal_acq-seeg_run-01_ieeg.edf\n",
      "Extracting EDF parameters from /Users/billhuang/Desktop/BU_RISE/BU_RISE_Project/data/ds004100/sub-HUP142/ses-presurgery/ieeg/sub-HUP142_ses-presurgery_task-ictal_acq-seeg_run-01_ieeg.edf...\n",
      "EDF file detected\n",
      "Setting channel info structure...\n",
      "Creating raw.info structure...\n"
     ]
    },
    {
     "name": "stderr",
     "output_type": "stream",
     "text": [
      "\n",
      "100%|██████████| 115/115 [00:02<00:00, 49.0it/s] \n"
     ]
    },
    {
     "name": "stdout",
     "output_type": "stream",
     "text": [
      "Processing: sub-HUP142_ses-presurgery_task-ictal_acq-seeg_run-02_ieeg.edf\n",
      "Extracting EDF parameters from /Users/billhuang/Desktop/BU_RISE/BU_RISE_Project/data/ds004100/sub-HUP142/ses-presurgery/ieeg/sub-HUP142_ses-presurgery_task-ictal_acq-seeg_run-02_ieeg.edf...\n",
      "EDF file detected\n",
      "Setting channel info structure...\n",
      "Creating raw.info structure...\n"
     ]
    },
    {
     "name": "stderr",
     "output_type": "stream",
     "text": [
      "100%|██████████| 115/115 [00:02<00:00, 48.5it/s] \n"
     ]
    },
    {
     "name": "stdout",
     "output_type": "stream",
     "text": [
      "Processing: sub-HUP142_ses-presurgery_task-ictal_acq-seeg_run-03_ieeg.edf\n",
      "Extracting EDF parameters from /Users/billhuang/Desktop/BU_RISE/BU_RISE_Project/data/ds004100/sub-HUP142/ses-presurgery/ieeg/sub-HUP142_ses-presurgery_task-ictal_acq-seeg_run-03_ieeg.edf...\n",
      "EDF file detected\n",
      "Setting channel info structure...\n",
      "Creating raw.info structure...\n"
     ]
    },
    {
     "name": "stderr",
     "output_type": "stream",
     "text": [
      "100%|██████████| 115/115 [00:02<00:00, 51.0it/s] \n"
     ]
    },
    {
     "name": "stdout",
     "output_type": "stream",
     "text": [
      "Processing: sub-HUP142_ses-presurgery_task-interictal_acq-seeg_run-01_ieeg.edf\n",
      "Extracting EDF parameters from /Users/billhuang/Desktop/BU_RISE/BU_RISE_Project/data/ds004100/sub-HUP142/ses-presurgery/ieeg/sub-HUP142_ses-presurgery_task-interictal_acq-seeg_run-01_ieeg.edf...\n",
      "EDF file detected\n",
      "Setting channel info structure...\n",
      "Creating raw.info structure...\n"
     ]
    },
    {
     "name": "stderr",
     "output_type": "stream",
     "text": [
      "100%|██████████| 115/115 [00:02<00:00, 45.3it/s] \n"
     ]
    },
    {
     "name": "stdout",
     "output_type": "stream",
     "text": [
      "Processing: sub-HUP142_ses-presurgery_task-interictal_acq-seeg_run-02_ieeg.edf\n",
      "Extracting EDF parameters from /Users/billhuang/Desktop/BU_RISE/BU_RISE_Project/data/ds004100/sub-HUP142/ses-presurgery/ieeg/sub-HUP142_ses-presurgery_task-interictal_acq-seeg_run-02_ieeg.edf...\n",
      "EDF file detected\n",
      "Setting channel info structure...\n",
      "Creating raw.info structure...\n"
     ]
    },
    {
     "name": "stderr",
     "output_type": "stream",
     "text": [
      "100%|██████████| 115/115 [00:02<00:00, 45.1it/s] \n"
     ]
    },
    {
     "name": "stdout",
     "output_type": "stream",
     "text": [
      "Processing: sub-HUP144_ses-presurgery_task-ictal_acq-seeg_run-01_ieeg.edf\n",
      "Extracting EDF parameters from /Users/billhuang/Desktop/BU_RISE/BU_RISE_Project/data/ds004100/sub-HUP144/ses-presurgery/ieeg/sub-HUP144_ses-presurgery_task-ictal_acq-seeg_run-01_ieeg.edf...\n",
      "EDF file detected\n",
      "Setting channel info structure...\n",
      "Creating raw.info structure...\n"
     ]
    },
    {
     "name": "stderr",
     "output_type": "stream",
     "text": [
      "100%|██████████| 121/121 [00:02<00:00, 47.8it/s] \n"
     ]
    },
    {
     "name": "stdout",
     "output_type": "stream",
     "text": [
      "Processing: sub-HUP144_ses-presurgery_task-ictal_acq-seeg_run-02_ieeg.edf\n",
      "Extracting EDF parameters from /Users/billhuang/Desktop/BU_RISE/BU_RISE_Project/data/ds004100/sub-HUP144/ses-presurgery/ieeg/sub-HUP144_ses-presurgery_task-ictal_acq-seeg_run-02_ieeg.edf...\n",
      "EDF file detected\n",
      "Setting channel info structure...\n",
      "Creating raw.info structure...\n"
     ]
    },
    {
     "name": "stderr",
     "output_type": "stream",
     "text": [
      "100%|██████████| 121/121 [00:02<00:00, 50.1it/s] \n"
     ]
    },
    {
     "name": "stdout",
     "output_type": "stream",
     "text": [
      "Processing: sub-HUP144_ses-presurgery_task-ictal_acq-seeg_run-03_ieeg.edf\n",
      "Extracting EDF parameters from /Users/billhuang/Desktop/BU_RISE/BU_RISE_Project/data/ds004100/sub-HUP144/ses-presurgery/ieeg/sub-HUP144_ses-presurgery_task-ictal_acq-seeg_run-03_ieeg.edf...\n",
      "EDF file detected\n",
      "Setting channel info structure...\n",
      "Creating raw.info structure...\n"
     ]
    },
    {
     "name": "stderr",
     "output_type": "stream",
     "text": [
      "100%|██████████| 121/121 [00:02<00:00, 50.7it/s] \n"
     ]
    },
    {
     "name": "stdout",
     "output_type": "stream",
     "text": [
      "Processing: sub-HUP144_ses-presurgery_task-ictal_acq-seeg_run-04_ieeg.edf\n",
      "Extracting EDF parameters from /Users/billhuang/Desktop/BU_RISE/BU_RISE_Project/data/ds004100/sub-HUP144/ses-presurgery/ieeg/sub-HUP144_ses-presurgery_task-ictal_acq-seeg_run-04_ieeg.edf...\n",
      "EDF file detected\n",
      "Setting channel info structure...\n",
      "Creating raw.info structure...\n"
     ]
    },
    {
     "name": "stderr",
     "output_type": "stream",
     "text": [
      "100%|██████████| 121/121 [00:02<00:00, 50.2it/s] \n"
     ]
    },
    {
     "name": "stdout",
     "output_type": "stream",
     "text": [
      "Processing: sub-HUP144_ses-presurgery_task-ictal_acq-seeg_run-05_ieeg.edf\n",
      "Extracting EDF parameters from /Users/billhuang/Desktop/BU_RISE/BU_RISE_Project/data/ds004100/sub-HUP144/ses-presurgery/ieeg/sub-HUP144_ses-presurgery_task-ictal_acq-seeg_run-05_ieeg.edf...\n",
      "EDF file detected\n",
      "Setting channel info structure...\n",
      "Creating raw.info structure...\n"
     ]
    },
    {
     "name": "stderr",
     "output_type": "stream",
     "text": [
      "100%|██████████| 121/121 [00:02<00:00, 51.5it/s] \n"
     ]
    },
    {
     "name": "stdout",
     "output_type": "stream",
     "text": [
      "Processing: sub-HUP144_ses-presurgery_task-interictal_acq-seeg_run-01_ieeg.edf\n",
      "Extracting EDF parameters from /Users/billhuang/Desktop/BU_RISE/BU_RISE_Project/data/ds004100/sub-HUP144/ses-presurgery/ieeg/sub-HUP144_ses-presurgery_task-interictal_acq-seeg_run-01_ieeg.edf...\n",
      "EDF file detected\n",
      "Setting channel info structure...\n",
      "Creating raw.info structure...\n"
     ]
    },
    {
     "name": "stderr",
     "output_type": "stream",
     "text": [
      "100%|██████████| 121/121 [00:02<00:00, 45.7it/s] \n"
     ]
    },
    {
     "name": "stdout",
     "output_type": "stream",
     "text": [
      "Processing: sub-HUP144_ses-presurgery_task-interictal_acq-seeg_run-02_ieeg.edf\n",
      "Extracting EDF parameters from /Users/billhuang/Desktop/BU_RISE/BU_RISE_Project/data/ds004100/sub-HUP144/ses-presurgery/ieeg/sub-HUP144_ses-presurgery_task-interictal_acq-seeg_run-02_ieeg.edf...\n",
      "EDF file detected\n",
      "Setting channel info structure...\n",
      "Creating raw.info structure...\n"
     ]
    },
    {
     "name": "stderr",
     "output_type": "stream",
     "text": [
      "100%|██████████| 121/121 [00:02<00:00, 46.5it/s] "
     ]
    },
    {
     "name": "stdout",
     "output_type": "stream",
     "text": [
      "Processing: sub-HUP146_ses-presurgery_task-ictal_acq-seeg_run-01_ieeg.edf\n",
      "Extracting EDF parameters from /Users/billhuang/Desktop/BU_RISE/BU_RISE_Project/data/ds004100/sub-HUP146/ses-presurgery/ieeg/sub-HUP146_ses-presurgery_task-ictal_acq-seeg_run-01_ieeg.edf...\n",
      "EDF file detected\n",
      "Setting channel info structure...\n",
      "Creating raw.info structure...\n"
     ]
    },
    {
     "name": "stderr",
     "output_type": "stream",
     "text": [
      "\n",
      "100%|██████████| 127/127 [00:03<00:00, 32.6it/s] \n"
     ]
    },
    {
     "name": "stdout",
     "output_type": "stream",
     "text": [
      "Processing: sub-HUP146_ses-presurgery_task-ictal_acq-seeg_run-02_ieeg.edf\n",
      "Extracting EDF parameters from /Users/billhuang/Desktop/BU_RISE/BU_RISE_Project/data/ds004100/sub-HUP146/ses-presurgery/ieeg/sub-HUP146_ses-presurgery_task-ictal_acq-seeg_run-02_ieeg.edf...\n",
      "EDF file detected\n",
      "Setting channel info structure...\n",
      "Creating raw.info structure...\n"
     ]
    },
    {
     "name": "stderr",
     "output_type": "stream",
     "text": [
      "100%|██████████| 127/127 [00:04<00:00, 30.5it/s] \n"
     ]
    },
    {
     "name": "stdout",
     "output_type": "stream",
     "text": [
      "Processing: sub-HUP146_ses-presurgery_task-ictal_acq-seeg_run-03_ieeg.edf\n",
      "Extracting EDF parameters from /Users/billhuang/Desktop/BU_RISE/BU_RISE_Project/data/ds004100/sub-HUP146/ses-presurgery/ieeg/sub-HUP146_ses-presurgery_task-ictal_acq-seeg_run-03_ieeg.edf...\n",
      "EDF file detected\n",
      "Setting channel info structure...\n",
      "Creating raw.info structure...\n"
     ]
    },
    {
     "name": "stderr",
     "output_type": "stream",
     "text": [
      "100%|██████████| 127/127 [00:04<00:00, 30.5it/s] \n"
     ]
    },
    {
     "name": "stdout",
     "output_type": "stream",
     "text": [
      "Processing: sub-HUP146_ses-presurgery_task-interictal_acq-seeg_run-01_ieeg.edf\n",
      "Extracting EDF parameters from /Users/billhuang/Desktop/BU_RISE/BU_RISE_Project/data/ds004100/sub-HUP146/ses-presurgery/ieeg/sub-HUP146_ses-presurgery_task-interictal_acq-seeg_run-01_ieeg.edf...\n",
      "EDF file detected\n",
      "Setting channel info structure...\n",
      "Creating raw.info structure...\n"
     ]
    },
    {
     "name": "stderr",
     "output_type": "stream",
     "text": [
      "100%|██████████| 127/127 [00:04<00:00, 27.1it/s] \n"
     ]
    },
    {
     "name": "stdout",
     "output_type": "stream",
     "text": [
      "Processing: sub-HUP146_ses-presurgery_task-interictal_acq-seeg_run-02_ieeg.edf\n",
      "Extracting EDF parameters from /Users/billhuang/Desktop/BU_RISE/BU_RISE_Project/data/ds004100/sub-HUP146/ses-presurgery/ieeg/sub-HUP146_ses-presurgery_task-interictal_acq-seeg_run-02_ieeg.edf...\n",
      "EDF file detected\n",
      "Setting channel info structure...\n",
      "Creating raw.info structure...\n"
     ]
    },
    {
     "name": "stderr",
     "output_type": "stream",
     "text": [
      "100%|██████████| 127/127 [00:04<00:00, 27.4it/s] \n"
     ]
    },
    {
     "name": "stdout",
     "output_type": "stream",
     "text": [
      "Processing: sub-HUP148_ses-presurgery_task-ictal_acq-seeg_run-01_ieeg.edf\n",
      "Extracting EDF parameters from /Users/billhuang/Desktop/BU_RISE/BU_RISE_Project/data/ds004100/sub-HUP148/ses-presurgery/ieeg/sub-HUP148_ses-presurgery_task-ictal_acq-seeg_run-01_ieeg.edf...\n",
      "EDF file detected\n",
      "Setting channel info structure...\n",
      "Creating raw.info structure...\n"
     ]
    },
    {
     "name": "stderr",
     "output_type": "stream",
     "text": [
      "100%|██████████| 107/107 [00:01<00:00, 57.7it/s] \n"
     ]
    },
    {
     "name": "stdout",
     "output_type": "stream",
     "text": [
      "Processing: sub-HUP148_ses-presurgery_task-ictal_acq-seeg_run-02_ieeg.edf\n",
      "Extracting EDF parameters from /Users/billhuang/Desktop/BU_RISE/BU_RISE_Project/data/ds004100/sub-HUP148/ses-presurgery/ieeg/sub-HUP148_ses-presurgery_task-ictal_acq-seeg_run-02_ieeg.edf...\n",
      "EDF file detected\n",
      "Setting channel info structure...\n",
      "Creating raw.info structure...\n"
     ]
    },
    {
     "name": "stderr",
     "output_type": "stream",
     "text": [
      "100%|██████████| 107/107 [00:02<00:00, 43.4it/s] \n"
     ]
    },
    {
     "name": "stdout",
     "output_type": "stream",
     "text": [
      "Processing: sub-HUP148_ses-presurgery_task-ictal_acq-seeg_run-03_ieeg.edf\n",
      "Extracting EDF parameters from /Users/billhuang/Desktop/BU_RISE/BU_RISE_Project/data/ds004100/sub-HUP148/ses-presurgery/ieeg/sub-HUP148_ses-presurgery_task-ictal_acq-seeg_run-03_ieeg.edf...\n",
      "EDF file detected\n",
      "Setting channel info structure...\n",
      "Creating raw.info structure...\n"
     ]
    },
    {
     "name": "stderr",
     "output_type": "stream",
     "text": [
      "100%|██████████| 107/107 [00:02<00:00, 47.8it/s] \n"
     ]
    },
    {
     "name": "stdout",
     "output_type": "stream",
     "text": [
      "Processing: sub-HUP148_ses-presurgery_task-ictal_acq-seeg_run-04_ieeg.edf\n",
      "Extracting EDF parameters from /Users/billhuang/Desktop/BU_RISE/BU_RISE_Project/data/ds004100/sub-HUP148/ses-presurgery/ieeg/sub-HUP148_ses-presurgery_task-ictal_acq-seeg_run-04_ieeg.edf...\n",
      "EDF file detected\n",
      "Setting channel info structure...\n",
      "Creating raw.info structure...\n"
     ]
    },
    {
     "name": "stderr",
     "output_type": "stream",
     "text": [
      "100%|██████████| 107/107 [00:02<00:00, 48.5it/s] \n"
     ]
    },
    {
     "name": "stdout",
     "output_type": "stream",
     "text": [
      "Processing: sub-HUP148_ses-presurgery_task-ictal_acq-seeg_run-05_ieeg.edf\n",
      "Extracting EDF parameters from /Users/billhuang/Desktop/BU_RISE/BU_RISE_Project/data/ds004100/sub-HUP148/ses-presurgery/ieeg/sub-HUP148_ses-presurgery_task-ictal_acq-seeg_run-05_ieeg.edf...\n",
      "EDF file detected\n",
      "Setting channel info structure...\n",
      "Creating raw.info structure...\n"
     ]
    },
    {
     "name": "stderr",
     "output_type": "stream",
     "text": [
      "100%|██████████| 107/107 [00:01<00:00, 55.6it/s] \n"
     ]
    },
    {
     "name": "stdout",
     "output_type": "stream",
     "text": [
      "Processing: sub-HUP148_ses-presurgery_task-interictal_acq-seeg_run-01_ieeg.edf\n",
      "Extracting EDF parameters from /Users/billhuang/Desktop/BU_RISE/BU_RISE_Project/data/ds004100/sub-HUP148/ses-presurgery/ieeg/sub-HUP148_ses-presurgery_task-interictal_acq-seeg_run-01_ieeg.edf...\n",
      "EDF file detected\n",
      "Setting channel info structure...\n",
      "Creating raw.info structure...\n"
     ]
    },
    {
     "name": "stderr",
     "output_type": "stream",
     "text": [
      "100%|██████████| 107/107 [00:02<00:00, 44.4it/s] "
     ]
    },
    {
     "name": "stdout",
     "output_type": "stream",
     "text": [
      "Processing: sub-HUP148_ses-presurgery_task-interictal_acq-seeg_run-02_ieeg.edf\n",
      "Extracting EDF parameters from /Users/billhuang/Desktop/BU_RISE/BU_RISE_Project/data/ds004100/sub-HUP148/ses-presurgery/ieeg/sub-HUP148_ses-presurgery_task-interictal_acq-seeg_run-02_ieeg.edf...\n",
      "EDF file detected\n",
      "Setting channel info structure...\n",
      "Creating raw.info structure...\n"
     ]
    },
    {
     "name": "stderr",
     "output_type": "stream",
     "text": [
      "\n",
      "100%|██████████| 107/107 [00:02<00:00, 43.7it/s] \n"
     ]
    },
    {
     "name": "stdout",
     "output_type": "stream",
     "text": [
      "Processing: sub-HUP150_ses-presurgery_task-ictal_acq-seeg_run-01_ieeg.edf\n",
      "Extracting EDF parameters from /Users/billhuang/Desktop/BU_RISE/BU_RISE_Project/data/ds004100/sub-HUP150/ses-presurgery/ieeg/sub-HUP150_ses-presurgery_task-ictal_acq-seeg_run-01_ieeg.edf...\n",
      "EDF file detected\n",
      "Setting channel info structure...\n",
      "Creating raw.info structure...\n"
     ]
    },
    {
     "name": "stderr",
     "output_type": "stream",
     "text": [
      "100%|██████████| 95.0/95.0 [00:01<00:00, 52.1it/s]\n"
     ]
    },
    {
     "name": "stdout",
     "output_type": "stream",
     "text": [
      "Processing: sub-HUP150_ses-presurgery_task-ictal_acq-seeg_run-02_ieeg.edf\n",
      "Extracting EDF parameters from /Users/billhuang/Desktop/BU_RISE/BU_RISE_Project/data/ds004100/sub-HUP150/ses-presurgery/ieeg/sub-HUP150_ses-presurgery_task-ictal_acq-seeg_run-02_ieeg.edf...\n",
      "EDF file detected\n",
      "Setting channel info structure...\n",
      "Creating raw.info structure...\n"
     ]
    },
    {
     "name": "stderr",
     "output_type": "stream",
     "text": [
      "100%|██████████| 95.0/95.0 [00:01<00:00, 50.6it/s]\n"
     ]
    },
    {
     "name": "stdout",
     "output_type": "stream",
     "text": [
      "Processing: sub-HUP150_ses-presurgery_task-ictal_acq-seeg_run-03_ieeg.edf\n",
      "Extracting EDF parameters from /Users/billhuang/Desktop/BU_RISE/BU_RISE_Project/data/ds004100/sub-HUP150/ses-presurgery/ieeg/sub-HUP150_ses-presurgery_task-ictal_acq-seeg_run-03_ieeg.edf...\n",
      "EDF file detected\n",
      "Setting channel info structure...\n",
      "Creating raw.info structure...\n"
     ]
    },
    {
     "name": "stderr",
     "output_type": "stream",
     "text": [
      "100%|██████████| 95.0/95.0 [00:01<00:00, 50.5it/s]\n"
     ]
    },
    {
     "name": "stdout",
     "output_type": "stream",
     "text": [
      "Processing: sub-HUP150_ses-presurgery_task-ictal_acq-seeg_run-04_ieeg.edf\n",
      "Extracting EDF parameters from /Users/billhuang/Desktop/BU_RISE/BU_RISE_Project/data/ds004100/sub-HUP150/ses-presurgery/ieeg/sub-HUP150_ses-presurgery_task-ictal_acq-seeg_run-04_ieeg.edf...\n",
      "EDF file detected\n",
      "Setting channel info structure...\n",
      "Creating raw.info structure...\n"
     ]
    },
    {
     "name": "stderr",
     "output_type": "stream",
     "text": [
      "100%|██████████| 95.0/95.0 [00:01<00:00, 50.4it/s]\n"
     ]
    },
    {
     "name": "stdout",
     "output_type": "stream",
     "text": [
      "Processing: sub-HUP150_ses-presurgery_task-ictal_acq-seeg_run-05_ieeg.edf\n",
      "Extracting EDF parameters from /Users/billhuang/Desktop/BU_RISE/BU_RISE_Project/data/ds004100/sub-HUP150/ses-presurgery/ieeg/sub-HUP150_ses-presurgery_task-ictal_acq-seeg_run-05_ieeg.edf...\n",
      "EDF file detected\n",
      "Setting channel info structure...\n",
      "Creating raw.info structure...\n"
     ]
    },
    {
     "name": "stderr",
     "output_type": "stream",
     "text": [
      "100%|██████████| 95.0/95.0 [00:01<00:00, 51.6it/s]\n"
     ]
    },
    {
     "name": "stdout",
     "output_type": "stream",
     "text": [
      "Processing: sub-HUP150_ses-presurgery_task-interictal_acq-seeg_run-01_ieeg.edf\n",
      "Extracting EDF parameters from /Users/billhuang/Desktop/BU_RISE/BU_RISE_Project/data/ds004100/sub-HUP150/ses-presurgery/ieeg/sub-HUP150_ses-presurgery_task-interictal_acq-seeg_run-01_ieeg.edf...\n",
      "EDF file detected\n",
      "Setting channel info structure...\n",
      "Creating raw.info structure...\n"
     ]
    },
    {
     "name": "stderr",
     "output_type": "stream",
     "text": [
      "100%|██████████| 95.0/95.0 [00:02<00:00, 41.7it/s]"
     ]
    },
    {
     "name": "stdout",
     "output_type": "stream",
     "text": [
      "Processing: sub-HUP150_ses-presurgery_task-interictal_acq-seeg_run-02_ieeg.edf\n",
      "Extracting EDF parameters from /Users/billhuang/Desktop/BU_RISE/BU_RISE_Project/data/ds004100/sub-HUP150/ses-presurgery/ieeg/sub-HUP150_ses-presurgery_task-interictal_acq-seeg_run-02_ieeg.edf...\n",
      "EDF file detected\n",
      "Setting channel info structure...\n",
      "Creating raw.info structure...\n"
     ]
    },
    {
     "name": "stderr",
     "output_type": "stream",
     "text": [
      "\n",
      "100%|██████████| 95.0/95.0 [00:02<00:00, 42.7it/s]\n"
     ]
    },
    {
     "name": "stdout",
     "output_type": "stream",
     "text": [
      "Processing: sub-HUP151_ses-presurgery_task-ictal_acq-seeg_run-01_ieeg.edf\n",
      "Extracting EDF parameters from /Users/billhuang/Desktop/BU_RISE/BU_RISE_Project/data/ds004100/sub-HUP151/ses-presurgery/ieeg/sub-HUP151_ses-presurgery_task-ictal_acq-seeg_run-01_ieeg.edf...\n",
      "EDF file detected\n",
      "Setting channel info structure...\n",
      "Creating raw.info structure...\n"
     ]
    },
    {
     "name": "stderr",
     "output_type": "stream",
     "text": [
      "100%|██████████| 179/179 [00:03<00:00, 58.7it/s] \n"
     ]
    },
    {
     "name": "stdout",
     "output_type": "stream",
     "text": [
      "Processing: sub-HUP151_ses-presurgery_task-ictal_acq-seeg_run-02_ieeg.edf\n",
      "Extracting EDF parameters from /Users/billhuang/Desktop/BU_RISE/BU_RISE_Project/data/ds004100/sub-HUP151/ses-presurgery/ieeg/sub-HUP151_ses-presurgery_task-ictal_acq-seeg_run-02_ieeg.edf...\n",
      "EDF file detected\n",
      "Setting channel info structure...\n",
      "Creating raw.info structure...\n"
     ]
    },
    {
     "name": "stderr",
     "output_type": "stream",
     "text": [
      "100%|██████████| 179/179 [00:03<00:00, 58.6it/s] "
     ]
    },
    {
     "name": "stdout",
     "output_type": "stream",
     "text": [
      "Processing: sub-HUP151_ses-presurgery_task-ictal_acq-seeg_run-03_ieeg.edf\n",
      "Extracting EDF parameters from /Users/billhuang/Desktop/BU_RISE/BU_RISE_Project/data/ds004100/sub-HUP151/ses-presurgery/ieeg/sub-HUP151_ses-presurgery_task-ictal_acq-seeg_run-03_ieeg.edf...\n",
      "EDF file detected\n",
      "Setting channel info structure...\n",
      "Creating raw.info structure...\n"
     ]
    },
    {
     "name": "stderr",
     "output_type": "stream",
     "text": [
      "\n",
      "100%|██████████| 179/179 [00:03<00:00, 56.8it/s] \n"
     ]
    },
    {
     "name": "stdout",
     "output_type": "stream",
     "text": [
      "Processing: sub-HUP151_ses-presurgery_task-ictal_acq-seeg_run-04_ieeg.edf\n",
      "Extracting EDF parameters from /Users/billhuang/Desktop/BU_RISE/BU_RISE_Project/data/ds004100/sub-HUP151/ses-presurgery/ieeg/sub-HUP151_ses-presurgery_task-ictal_acq-seeg_run-04_ieeg.edf...\n",
      "EDF file detected\n",
      "Setting channel info structure...\n",
      "Creating raw.info structure...\n"
     ]
    },
    {
     "name": "stderr",
     "output_type": "stream",
     "text": [
      "100%|██████████| 179/179 [00:03<00:00, 58.9it/s] \n"
     ]
    },
    {
     "name": "stdout",
     "output_type": "stream",
     "text": [
      "Processing: sub-HUP151_ses-presurgery_task-ictal_acq-seeg_run-05_ieeg.edf\n",
      "Extracting EDF parameters from /Users/billhuang/Desktop/BU_RISE/BU_RISE_Project/data/ds004100/sub-HUP151/ses-presurgery/ieeg/sub-HUP151_ses-presurgery_task-ictal_acq-seeg_run-05_ieeg.edf...\n",
      "EDF file detected\n",
      "Setting channel info structure...\n",
      "Creating raw.info structure...\n"
     ]
    },
    {
     "name": "stderr",
     "output_type": "stream",
     "text": [
      "100%|██████████| 179/179 [00:03<00:00, 54.7it/s] \n"
     ]
    },
    {
     "name": "stdout",
     "output_type": "stream",
     "text": [
      "Processing: sub-HUP151_ses-presurgery_task-interictal_acq-seeg_run-01_ieeg.edf\n",
      "Extracting EDF parameters from /Users/billhuang/Desktop/BU_RISE/BU_RISE_Project/data/ds004100/sub-HUP151/ses-presurgery/ieeg/sub-HUP151_ses-presurgery_task-interictal_acq-seeg_run-01_ieeg.edf...\n",
      "EDF file detected\n",
      "Setting channel info structure...\n",
      "Creating raw.info structure...\n"
     ]
    },
    {
     "name": "stderr",
     "output_type": "stream",
     "text": [
      "100%|██████████| 179/179 [01:00<00:00, 2.94it/s] \n"
     ]
    },
    {
     "name": "stdout",
     "output_type": "stream",
     "text": [
      "Processing: sub-HUP151_ses-presurgery_task-interictal_acq-seeg_run-02_ieeg.edf\n",
      "Extracting EDF parameters from /Users/billhuang/Desktop/BU_RISE/BU_RISE_Project/data/ds004100/sub-HUP151/ses-presurgery/ieeg/sub-HUP151_ses-presurgery_task-interictal_acq-seeg_run-02_ieeg.edf...\n",
      "EDF file detected\n",
      "Setting channel info structure...\n",
      "Creating raw.info structure...\n"
     ]
    },
    {
     "name": "stderr",
     "output_type": "stream",
     "text": [
      "100%|██████████| 179/179 [00:03<00:00, 48.8it/s] \n"
     ]
    },
    {
     "name": "stdout",
     "output_type": "stream",
     "text": [
      "Processing: sub-HUP157_ses-presurgery_task-ictal_acq-seeg_run-01_ieeg.edf\n",
      "Extracting EDF parameters from /Users/billhuang/Desktop/BU_RISE/BU_RISE_Project/data/ds004100/sub-HUP157/ses-presurgery/ieeg/sub-HUP157_ses-presurgery_task-ictal_acq-seeg_run-01_ieeg.edf...\n",
      "EDF file detected\n",
      "Setting channel info structure...\n",
      "Creating raw.info structure...\n"
     ]
    },
    {
     "name": "stderr",
     "output_type": "stream",
     "text": [
      "100%|██████████| 171/171 [00:04<00:00, 34.9it/s] \n"
     ]
    },
    {
     "name": "stdout",
     "output_type": "stream",
     "text": [
      "Processing: sub-HUP157_ses-presurgery_task-ictal_acq-seeg_run-02_ieeg.edf\n",
      "Extracting EDF parameters from /Users/billhuang/Desktop/BU_RISE/BU_RISE_Project/data/ds004100/sub-HUP157/ses-presurgery/ieeg/sub-HUP157_ses-presurgery_task-ictal_acq-seeg_run-02_ieeg.edf...\n",
      "EDF file detected\n",
      "Setting channel info structure...\n",
      "Creating raw.info structure...\n"
     ]
    },
    {
     "name": "stderr",
     "output_type": "stream",
     "text": [
      "100%|██████████| 171/171 [00:05<00:00, 32.2it/s] \n"
     ]
    },
    {
     "name": "stdout",
     "output_type": "stream",
     "text": [
      "Processing: sub-HUP157_ses-presurgery_task-ictal_acq-seeg_run-03_ieeg.edf\n",
      "Extracting EDF parameters from /Users/billhuang/Desktop/BU_RISE/BU_RISE_Project/data/ds004100/sub-HUP157/ses-presurgery/ieeg/sub-HUP157_ses-presurgery_task-ictal_acq-seeg_run-03_ieeg.edf...\n",
      "EDF file detected\n",
      "Setting channel info structure...\n",
      "Creating raw.info structure...\n"
     ]
    },
    {
     "name": "stderr",
     "output_type": "stream",
     "text": [
      "100%|██████████| 171/171 [00:05<00:00, 32.0it/s] \n"
     ]
    },
    {
     "name": "stdout",
     "output_type": "stream",
     "text": [
      "Processing: sub-HUP157_ses-presurgery_task-ictal_acq-seeg_run-04_ieeg.edf\n",
      "Extracting EDF parameters from /Users/billhuang/Desktop/BU_RISE/BU_RISE_Project/data/ds004100/sub-HUP157/ses-presurgery/ieeg/sub-HUP157_ses-presurgery_task-ictal_acq-seeg_run-04_ieeg.edf...\n",
      "EDF file detected\n",
      "Setting channel info structure...\n",
      "Creating raw.info structure...\n"
     ]
    },
    {
     "name": "stderr",
     "output_type": "stream",
     "text": [
      "100%|██████████| 171/171 [00:04<00:00, 35.0it/s] \n"
     ]
    },
    {
     "name": "stdout",
     "output_type": "stream",
     "text": [
      "Processing: sub-HUP157_ses-presurgery_task-ictal_acq-seeg_run-05_ieeg.edf\n",
      "Extracting EDF parameters from /Users/billhuang/Desktop/BU_RISE/BU_RISE_Project/data/ds004100/sub-HUP157/ses-presurgery/ieeg/sub-HUP157_ses-presurgery_task-ictal_acq-seeg_run-05_ieeg.edf...\n",
      "EDF file detected\n",
      "Setting channel info structure...\n",
      "Creating raw.info structure...\n"
     ]
    },
    {
     "name": "stderr",
     "output_type": "stream",
     "text": [
      "100%|██████████| 171/171 [00:04<00:00, 35.0it/s] \n"
     ]
    },
    {
     "name": "stdout",
     "output_type": "stream",
     "text": [
      "Processing: sub-HUP157_ses-presurgery_task-interictal_acq-seeg_run-01_ieeg.edf\n",
      "Extracting EDF parameters from /Users/billhuang/Desktop/BU_RISE/BU_RISE_Project/data/ds004100/sub-HUP157/ses-presurgery/ieeg/sub-HUP157_ses-presurgery_task-interictal_acq-seeg_run-01_ieeg.edf...\n",
      "EDF file detected\n",
      "Setting channel info structure...\n",
      "Creating raw.info structure...\n"
     ]
    },
    {
     "name": "stderr",
     "output_type": "stream",
     "text": [
      "100%|██████████| 171/171 [00:06<00:00, 27.6it/s] \n"
     ]
    },
    {
     "name": "stdout",
     "output_type": "stream",
     "text": [
      "Processing: sub-HUP157_ses-presurgery_task-interictal_acq-seeg_run-02_ieeg.edf\n",
      "Extracting EDF parameters from /Users/billhuang/Desktop/BU_RISE/BU_RISE_Project/data/ds004100/sub-HUP157/ses-presurgery/ieeg/sub-HUP157_ses-presurgery_task-interictal_acq-seeg_run-02_ieeg.edf...\n",
      "EDF file detected\n",
      "Setting channel info structure...\n",
      "Creating raw.info structure...\n"
     ]
    },
    {
     "name": "stderr",
     "output_type": "stream",
     "text": [
      "100%|██████████| 171/171 [00:05<00:00, 28.8it/s] \n"
     ]
    },
    {
     "name": "stdout",
     "output_type": "stream",
     "text": [
      "Processing: sub-HUP158_ses-presurgery_task-ictal_acq-seeg_run-04_ieeg.edf\n",
      "Extracting EDF parameters from /Users/billhuang/Desktop/BU_RISE/BU_RISE_Project/data/ds004100/sub-HUP158/ses-presurgery/ieeg/sub-HUP158_ses-presurgery_task-ictal_acq-seeg_run-04_ieeg.edf...\n",
      "EDF file detected\n",
      "Setting channel info structure...\n",
      "Creating raw.info structure...\n"
     ]
    },
    {
     "name": "stderr",
     "output_type": "stream",
     "text": [
      "100%|██████████| 231/231 [00:04<00:00, 52.6it/s] \n"
     ]
    },
    {
     "name": "stdout",
     "output_type": "stream",
     "text": [
      "Processing: sub-HUP160_ses-presurgery_task-ictal_acq-seeg_run-01_ieeg.edf\n",
      "Extracting EDF parameters from /Users/billhuang/Desktop/BU_RISE/BU_RISE_Project/data/ds004100/sub-HUP160/ses-presurgery/ieeg/sub-HUP160_ses-presurgery_task-ictal_acq-seeg_run-01_ieeg.edf...\n",
      "EDF file detected\n",
      "Setting channel info structure...\n",
      "Creating raw.info structure...\n"
     ]
    },
    {
     "name": "stderr",
     "output_type": "stream",
     "text": [
      "100%|██████████| 117/117 [00:03<00:00, 32.8it/s] \n"
     ]
    },
    {
     "name": "stdout",
     "output_type": "stream",
     "text": [
      "Processing: sub-HUP160_ses-presurgery_task-ictal_acq-seeg_run-02_ieeg.edf\n",
      "Extracting EDF parameters from /Users/billhuang/Desktop/BU_RISE/BU_RISE_Project/data/ds004100/sub-HUP160/ses-presurgery/ieeg/sub-HUP160_ses-presurgery_task-ictal_acq-seeg_run-02_ieeg.edf...\n",
      "EDF file detected\n",
      "Setting channel info structure...\n",
      "Creating raw.info structure...\n"
     ]
    },
    {
     "name": "stderr",
     "output_type": "stream",
     "text": [
      "100%|██████████| 117/117 [00:03<00:00, 30.2it/s] \n"
     ]
    },
    {
     "name": "stdout",
     "output_type": "stream",
     "text": [
      "Processing: sub-HUP160_ses-presurgery_task-ictal_acq-seeg_run-03_ieeg.edf\n",
      "Extracting EDF parameters from /Users/billhuang/Desktop/BU_RISE/BU_RISE_Project/data/ds004100/sub-HUP160/ses-presurgery/ieeg/sub-HUP160_ses-presurgery_task-ictal_acq-seeg_run-03_ieeg.edf...\n",
      "EDF file detected\n",
      "Setting channel info structure...\n",
      "Creating raw.info structure...\n"
     ]
    },
    {
     "name": "stderr",
     "output_type": "stream",
     "text": [
      "100%|██████████| 117/117 [00:03<00:00, 30.0it/s] \n"
     ]
    },
    {
     "name": "stdout",
     "output_type": "stream",
     "text": [
      "Processing: sub-HUP160_ses-presurgery_task-interictal_acq-seeg_run-01_ieeg.edf\n",
      "Extracting EDF parameters from /Users/billhuang/Desktop/BU_RISE/BU_RISE_Project/data/ds004100/sub-HUP160/ses-presurgery/ieeg/sub-HUP160_ses-presurgery_task-interictal_acq-seeg_run-01_ieeg.edf...\n",
      "EDF file detected\n",
      "Setting channel info structure...\n",
      "Creating raw.info structure...\n"
     ]
    },
    {
     "name": "stderr",
     "output_type": "stream",
     "text": [
      "100%|██████████| 117/117 [00:04<00:00, 26.5it/s] \n"
     ]
    },
    {
     "name": "stdout",
     "output_type": "stream",
     "text": [
      "Processing: sub-HUP160_ses-presurgery_task-interictal_acq-seeg_run-02_ieeg.edf\n",
      "Extracting EDF parameters from /Users/billhuang/Desktop/BU_RISE/BU_RISE_Project/data/ds004100/sub-HUP160/ses-presurgery/ieeg/sub-HUP160_ses-presurgery_task-interictal_acq-seeg_run-02_ieeg.edf...\n",
      "EDF file detected\n",
      "Setting channel info structure...\n",
      "Creating raw.info structure...\n"
     ]
    },
    {
     "name": "stderr",
     "output_type": "stream",
     "text": [
      "100%|██████████| 117/117 [00:04<00:00, 26.9it/s] \n"
     ]
    },
    {
     "name": "stdout",
     "output_type": "stream",
     "text": [
      "Processing: sub-HUP162_ses-presurgery_task-ictal_acq-seeg_run-01_ieeg.edf\n",
      "Extracting EDF parameters from /Users/billhuang/Desktop/BU_RISE/BU_RISE_Project/data/ds004100/sub-HUP162/ses-presurgery/ieeg/sub-HUP162_ses-presurgery_task-ictal_acq-seeg_run-01_ieeg.edf...\n",
      "EDF file detected\n",
      "Setting channel info structure...\n",
      "Creating raw.info structure...\n"
     ]
    },
    {
     "name": "stderr",
     "output_type": "stream",
     "text": [
      "100%|██████████| 189/189 [00:04<00:00, 40.9it/s] \n"
     ]
    },
    {
     "name": "stdout",
     "output_type": "stream",
     "text": [
      "Processing: sub-HUP162_ses-presurgery_task-ictal_acq-seeg_run-02_ieeg.edf\n",
      "Extracting EDF parameters from /Users/billhuang/Desktop/BU_RISE/BU_RISE_Project/data/ds004100/sub-HUP162/ses-presurgery/ieeg/sub-HUP162_ses-presurgery_task-ictal_acq-seeg_run-02_ieeg.edf...\n",
      "EDF file detected\n",
      "Setting channel info structure...\n",
      "Creating raw.info structure...\n"
     ]
    },
    {
     "name": "stderr",
     "output_type": "stream",
     "text": [
      "100%|██████████| 189/189 [00:05<00:00, 36.3it/s] \n"
     ]
    },
    {
     "name": "stdout",
     "output_type": "stream",
     "text": [
      "Processing: sub-HUP162_ses-presurgery_task-ictal_acq-seeg_run-03_ieeg.edf\n",
      "Extracting EDF parameters from /Users/billhuang/Desktop/BU_RISE/BU_RISE_Project/data/ds004100/sub-HUP162/ses-presurgery/ieeg/sub-HUP162_ses-presurgery_task-ictal_acq-seeg_run-03_ieeg.edf...\n",
      "EDF file detected\n",
      "Setting channel info structure...\n",
      "Creating raw.info structure...\n"
     ]
    },
    {
     "name": "stderr",
     "output_type": "stream",
     "text": [
      "100%|██████████| 189/189 [00:05<00:00, 34.2it/s] \n"
     ]
    },
    {
     "name": "stdout",
     "output_type": "stream",
     "text": [
      "Processing: sub-HUP162_ses-presurgery_task-ictal_acq-seeg_run-04_ieeg.edf\n",
      "Extracting EDF parameters from /Users/billhuang/Desktop/BU_RISE/BU_RISE_Project/data/ds004100/sub-HUP162/ses-presurgery/ieeg/sub-HUP162_ses-presurgery_task-ictal_acq-seeg_run-04_ieeg.edf...\n",
      "EDF file detected\n",
      "Setting channel info structure...\n",
      "Creating raw.info structure...\n"
     ]
    },
    {
     "name": "stderr",
     "output_type": "stream",
     "text": [
      "100%|██████████| 189/189 [00:05<00:00, 35.7it/s] \n"
     ]
    },
    {
     "name": "stdout",
     "output_type": "stream",
     "text": [
      "Processing: sub-HUP162_ses-presurgery_task-ictal_acq-seeg_run-05_ieeg.edf\n",
      "Extracting EDF parameters from /Users/billhuang/Desktop/BU_RISE/BU_RISE_Project/data/ds004100/sub-HUP162/ses-presurgery/ieeg/sub-HUP162_ses-presurgery_task-ictal_acq-seeg_run-05_ieeg.edf...\n",
      "EDF file detected\n",
      "Setting channel info structure...\n",
      "Creating raw.info structure...\n"
     ]
    },
    {
     "name": "stderr",
     "output_type": "stream",
     "text": [
      "100%|██████████| 189/189 [00:05<00:00, 32.8it/s] \n"
     ]
    },
    {
     "name": "stdout",
     "output_type": "stream",
     "text": [
      "Processing: sub-HUP162_ses-presurgery_task-interictal_acq-seeg_run-01_ieeg.edf\n",
      "Extracting EDF parameters from /Users/billhuang/Desktop/BU_RISE/BU_RISE_Project/data/ds004100/sub-HUP162/ses-presurgery/ieeg/sub-HUP162_ses-presurgery_task-interictal_acq-seeg_run-01_ieeg.edf...\n",
      "EDF file detected\n",
      "Setting channel info structure...\n",
      "Creating raw.info structure...\n"
     ]
    },
    {
     "name": "stderr",
     "output_type": "stream",
     "text": [
      "100%|██████████| 189/189 [00:06<00:00, 28.5it/s] \n"
     ]
    },
    {
     "name": "stdout",
     "output_type": "stream",
     "text": [
      "Processing: sub-HUP162_ses-presurgery_task-interictal_acq-seeg_run-02_ieeg.edf\n",
      "Extracting EDF parameters from /Users/billhuang/Desktop/BU_RISE/BU_RISE_Project/data/ds004100/sub-HUP162/ses-presurgery/ieeg/sub-HUP162_ses-presurgery_task-interictal_acq-seeg_run-02_ieeg.edf...\n",
      "EDF file detected\n",
      "Setting channel info structure...\n",
      "Creating raw.info structure...\n"
     ]
    },
    {
     "name": "stderr",
     "output_type": "stream",
     "text": [
      "100%|██████████| 189/189 [00:06<00:00, 29.0it/s] \n"
     ]
    },
    {
     "name": "stdout",
     "output_type": "stream",
     "text": [
      "Processing: sub-HUP163_ses-presurgery_task-ictal_acq-seeg_run-01_ieeg.edf\n",
      "Extracting EDF parameters from /Users/billhuang/Desktop/BU_RISE/BU_RISE_Project/data/ds004100/sub-HUP163/ses-presurgery/ieeg/sub-HUP163_ses-presurgery_task-ictal_acq-seeg_run-01_ieeg.edf...\n",
      "EDF file detected\n",
      "Setting channel info structure...\n",
      "Creating raw.info structure...\n"
     ]
    },
    {
     "name": "stderr",
     "output_type": "stream",
     "text": [
      "100%|██████████| 163/163 [00:05<00:00, 31.7it/s] \n"
     ]
    },
    {
     "name": "stdout",
     "output_type": "stream",
     "text": [
      "Processing: sub-HUP163_ses-presurgery_task-ictal_acq-seeg_run-02_ieeg.edf\n",
      "Extracting EDF parameters from /Users/billhuang/Desktop/BU_RISE/BU_RISE_Project/data/ds004100/sub-HUP163/ses-presurgery/ieeg/sub-HUP163_ses-presurgery_task-ictal_acq-seeg_run-02_ieeg.edf...\n",
      "EDF file detected\n",
      "Setting channel info structure...\n",
      "Creating raw.info structure...\n"
     ]
    },
    {
     "name": "stderr",
     "output_type": "stream",
     "text": [
      "100%|██████████| 163/163 [00:05<00:00, 28.4it/s] \n"
     ]
    },
    {
     "name": "stdout",
     "output_type": "stream",
     "text": [
      "Processing: sub-HUP163_ses-presurgery_task-ictal_acq-seeg_run-03_ieeg.edf\n",
      "Extracting EDF parameters from /Users/billhuang/Desktop/BU_RISE/BU_RISE_Project/data/ds004100/sub-HUP163/ses-presurgery/ieeg/sub-HUP163_ses-presurgery_task-ictal_acq-seeg_run-03_ieeg.edf...\n",
      "EDF file detected\n",
      "Setting channel info structure...\n",
      "Creating raw.info structure...\n"
     ]
    },
    {
     "name": "stderr",
     "output_type": "stream",
     "text": [
      "100%|██████████| 163/163 [00:04<00:00, 33.6it/s] \n"
     ]
    },
    {
     "name": "stdout",
     "output_type": "stream",
     "text": [
      "Processing: sub-HUP163_ses-presurgery_task-interictal_acq-seeg_run-01_ieeg.edf\n",
      "Extracting EDF parameters from /Users/billhuang/Desktop/BU_RISE/BU_RISE_Project/data/ds004100/sub-HUP163/ses-presurgery/ieeg/sub-HUP163_ses-presurgery_task-interictal_acq-seeg_run-01_ieeg.edf...\n",
      "EDF file detected\n",
      "Setting channel info structure...\n",
      "Creating raw.info structure...\n"
     ]
    },
    {
     "name": "stderr",
     "output_type": "stream",
     "text": [
      "100%|██████████| 163/163 [00:05<00:00, 28.6it/s] \n"
     ]
    },
    {
     "name": "stdout",
     "output_type": "stream",
     "text": [
      "Processing: sub-HUP163_ses-presurgery_task-interictal_acq-seeg_run-02_ieeg.edf\n",
      "Extracting EDF parameters from /Users/billhuang/Desktop/BU_RISE/BU_RISE_Project/data/ds004100/sub-HUP163/ses-presurgery/ieeg/sub-HUP163_ses-presurgery_task-interictal_acq-seeg_run-02_ieeg.edf...\n",
      "EDF file detected\n",
      "Setting channel info structure...\n",
      "Creating raw.info structure...\n"
     ]
    },
    {
     "name": "stderr",
     "output_type": "stream",
     "text": [
      "100%|██████████| 163/163 [00:05<00:00, 28.1it/s] \n"
     ]
    },
    {
     "name": "stdout",
     "output_type": "stream",
     "text": [
      "Processing: sub-HUP164_ses-presurgery_task-ictal_acq-seeg_run-01_ieeg.edf\n",
      "Extracting EDF parameters from /Users/billhuang/Desktop/BU_RISE/BU_RISE_Project/data/ds004100/sub-HUP164/ses-presurgery/ieeg/sub-HUP164_ses-presurgery_task-ictal_acq-seeg_run-01_ieeg.edf...\n",
      "EDF file detected\n",
      "Setting channel info structure...\n",
      "Creating raw.info structure...\n"
     ]
    },
    {
     "name": "stderr",
     "output_type": "stream",
     "text": [
      "100%|██████████| 179/179 [00:05<00:00, 34.1it/s] \n"
     ]
    },
    {
     "name": "stdout",
     "output_type": "stream",
     "text": [
      "Processing: sub-HUP164_ses-presurgery_task-ictal_acq-seeg_run-02_ieeg.edf\n",
      "Extracting EDF parameters from /Users/billhuang/Desktop/BU_RISE/BU_RISE_Project/data/ds004100/sub-HUP164/ses-presurgery/ieeg/sub-HUP164_ses-presurgery_task-ictal_acq-seeg_run-02_ieeg.edf...\n",
      "EDF file detected\n",
      "Setting channel info structure...\n",
      "Creating raw.info structure...\n"
     ]
    },
    {
     "name": "stderr",
     "output_type": "stream",
     "text": [
      "100%|██████████| 179/179 [00:05<00:00, 34.9it/s] \n"
     ]
    },
    {
     "name": "stdout",
     "output_type": "stream",
     "text": [
      "Processing: sub-HUP164_ses-presurgery_task-ictal_acq-seeg_run-03_ieeg.edf\n",
      "Extracting EDF parameters from /Users/billhuang/Desktop/BU_RISE/BU_RISE_Project/data/ds004100/sub-HUP164/ses-presurgery/ieeg/sub-HUP164_ses-presurgery_task-ictal_acq-seeg_run-03_ieeg.edf...\n",
      "EDF file detected\n",
      "Setting channel info structure...\n",
      "Creating raw.info structure...\n"
     ]
    },
    {
     "name": "stderr",
     "output_type": "stream",
     "text": [
      "100%|██████████| 179/179 [00:05<00:00, 32.5it/s] \n"
     ]
    },
    {
     "name": "stdout",
     "output_type": "stream",
     "text": [
      "Processing: sub-HUP164_ses-presurgery_task-interictal_acq-seeg_run-01_ieeg.edf\n",
      "Extracting EDF parameters from /Users/billhuang/Desktop/BU_RISE/BU_RISE_Project/data/ds004100/sub-HUP164/ses-presurgery/ieeg/sub-HUP164_ses-presurgery_task-interictal_acq-seeg_run-01_ieeg.edf...\n",
      "EDF file detected\n",
      "Setting channel info structure...\n",
      "Creating raw.info structure...\n"
     ]
    },
    {
     "name": "stderr",
     "output_type": "stream",
     "text": [
      "100%|██████████| 179/179 [00:06<00:00, 28.8it/s] \n"
     ]
    },
    {
     "name": "stdout",
     "output_type": "stream",
     "text": [
      "Processing: sub-HUP164_ses-presurgery_task-interictal_acq-seeg_run-02_ieeg.edf\n",
      "Extracting EDF parameters from /Users/billhuang/Desktop/BU_RISE/BU_RISE_Project/data/ds004100/sub-HUP164/ses-presurgery/ieeg/sub-HUP164_ses-presurgery_task-interictal_acq-seeg_run-02_ieeg.edf...\n",
      "EDF file detected\n",
      "Setting channel info structure...\n",
      "Creating raw.info structure...\n"
     ]
    },
    {
     "name": "stderr",
     "output_type": "stream",
     "text": [
      "100%|██████████| 179/179 [00:06<00:00, 28.5it/s] \n"
     ]
    },
    {
     "name": "stdout",
     "output_type": "stream",
     "text": [
      "Processing: sub-HUP165_ses-presurgery_task-interictal_acq-seeg_run-01_ieeg.edf\n",
      "Extracting EDF parameters from /Users/billhuang/Desktop/BU_RISE/BU_RISE_Project/data/ds004100/sub-HUP165/ses-presurgery/ieeg/sub-HUP165_ses-presurgery_task-interictal_acq-seeg_run-01_ieeg.edf...\n",
      "EDF file detected\n",
      "Setting channel info structure...\n",
      "Creating raw.info structure...\n"
     ]
    },
    {
     "name": "stderr",
     "output_type": "stream",
     "text": [
      "100%|██████████| 191/191 [00:06<00:00, 29.0it/s] \n"
     ]
    },
    {
     "name": "stdout",
     "output_type": "stream",
     "text": [
      "Processing: sub-HUP165_ses-presurgery_task-interictal_acq-seeg_run-02_ieeg.edf\n",
      "Extracting EDF parameters from /Users/billhuang/Desktop/BU_RISE/BU_RISE_Project/data/ds004100/sub-HUP165/ses-presurgery/ieeg/sub-HUP165_ses-presurgery_task-interictal_acq-seeg_run-02_ieeg.edf...\n",
      "EDF file detected\n",
      "Setting channel info structure...\n",
      "Creating raw.info structure...\n"
     ]
    },
    {
     "name": "stderr",
     "output_type": "stream",
     "text": [
      "100%|██████████| 191/191 [00:06<00:00, 29.3it/s] \n"
     ]
    },
    {
     "name": "stdout",
     "output_type": "stream",
     "text": [
      "Processing: sub-HUP166_ses-presurgery_task-ictal_acq-seeg_run-01_ieeg.edf\n",
      "Extracting EDF parameters from /Users/billhuang/Desktop/BU_RISE/BU_RISE_Project/data/ds004100/sub-HUP166/ses-presurgery/ieeg/sub-HUP166_ses-presurgery_task-ictal_acq-seeg_run-01_ieeg.edf...\n",
      "EDF file detected\n",
      "Setting channel info structure...\n",
      "Creating raw.info structure...\n"
     ]
    },
    {
     "name": "stderr",
     "output_type": "stream",
     "text": [
      "100%|██████████| 171/171 [00:05<00:00, 28.6it/s] \n"
     ]
    },
    {
     "name": "stdout",
     "output_type": "stream",
     "text": [
      "Processing: sub-HUP166_ses-presurgery_task-ictal_acq-seeg_run-02_ieeg.edf\n",
      "Extracting EDF parameters from /Users/billhuang/Desktop/BU_RISE/BU_RISE_Project/data/ds004100/sub-HUP166/ses-presurgery/ieeg/sub-HUP166_ses-presurgery_task-ictal_acq-seeg_run-02_ieeg.edf...\n",
      "EDF file detected\n",
      "Setting channel info structure...\n",
      "Creating raw.info structure...\n"
     ]
    },
    {
     "name": "stderr",
     "output_type": "stream",
     "text": [
      "100%|██████████| 171/171 [00:06<00:00, 26.5it/s] \n"
     ]
    },
    {
     "name": "stdout",
     "output_type": "stream",
     "text": [
      "Processing: sub-HUP166_ses-presurgery_task-interictal_acq-seeg_run-01_ieeg.edf\n",
      "Extracting EDF parameters from /Users/billhuang/Desktop/BU_RISE/BU_RISE_Project/data/ds004100/sub-HUP166/ses-presurgery/ieeg/sub-HUP166_ses-presurgery_task-interictal_acq-seeg_run-01_ieeg.edf...\n",
      "EDF file detected\n",
      "Setting channel info structure...\n",
      "Creating raw.info structure...\n"
     ]
    },
    {
     "name": "stderr",
     "output_type": "stream",
     "text": [
      "100%|██████████| 171/171 [00:05<00:00, 28.5it/s] \n"
     ]
    },
    {
     "name": "stdout",
     "output_type": "stream",
     "text": [
      "Processing: sub-HUP166_ses-presurgery_task-interictal_acq-seeg_run-02_ieeg.edf\n",
      "Extracting EDF parameters from /Users/billhuang/Desktop/BU_RISE/BU_RISE_Project/data/ds004100/sub-HUP166/ses-presurgery/ieeg/sub-HUP166_ses-presurgery_task-interictal_acq-seeg_run-02_ieeg.edf...\n",
      "EDF file detected\n",
      "Setting channel info structure...\n",
      "Creating raw.info structure...\n"
     ]
    },
    {
     "name": "stderr",
     "output_type": "stream",
     "text": [
      "100%|██████████| 171/171 [00:06<00:00, 28.4it/s] \n"
     ]
    },
    {
     "name": "stdout",
     "output_type": "stream",
     "text": [
      "Processing: sub-HUP171_ses-presurgery_task-ictal_acq-seeg_run-01_ieeg.edf\n",
      "Extracting EDF parameters from /Users/billhuang/Desktop/BU_RISE/BU_RISE_Project/data/ds004100/sub-HUP171/ses-presurgery/ieeg/sub-HUP171_ses-presurgery_task-ictal_acq-seeg_run-01_ieeg.edf...\n",
      "EDF file detected\n",
      "Setting channel info structure...\n",
      "Creating raw.info structure...\n"
     ]
    },
    {
     "name": "stderr",
     "output_type": "stream",
     "text": [
      "100%|██████████| 162/162 [00:02<00:00, 59.3it/s] \n"
     ]
    },
    {
     "name": "stdout",
     "output_type": "stream",
     "text": [
      "Processing: sub-HUP171_ses-presurgery_task-ictal_acq-seeg_run-02_ieeg.edf\n",
      "Extracting EDF parameters from /Users/billhuang/Desktop/BU_RISE/BU_RISE_Project/data/ds004100/sub-HUP171/ses-presurgery/ieeg/sub-HUP171_ses-presurgery_task-ictal_acq-seeg_run-02_ieeg.edf...\n",
      "EDF file detected\n",
      "Setting channel info structure...\n",
      "Creating raw.info structure...\n"
     ]
    },
    {
     "name": "stderr",
     "output_type": "stream",
     "text": [
      "100%|██████████| 162/162 [00:02<00:00, 58.0it/s] \n"
     ]
    },
    {
     "name": "stdout",
     "output_type": "stream",
     "text": [
      "Processing: sub-HUP171_ses-presurgery_task-ictal_acq-seeg_run-03_ieeg.edf\n",
      "Extracting EDF parameters from /Users/billhuang/Desktop/BU_RISE/BU_RISE_Project/data/ds004100/sub-HUP171/ses-presurgery/ieeg/sub-HUP171_ses-presurgery_task-ictal_acq-seeg_run-03_ieeg.edf...\n",
      "EDF file detected\n",
      "Setting channel info structure...\n",
      "Creating raw.info structure...\n"
     ]
    },
    {
     "name": "stderr",
     "output_type": "stream",
     "text": [
      "100%|██████████| 162/162 [00:02<00:00, 64.2it/s] "
     ]
    },
    {
     "name": "stdout",
     "output_type": "stream",
     "text": [
      "Processing: sub-HUP171_ses-presurgery_task-ictal_acq-seeg_run-04_ieeg.edf\n",
      "Extracting EDF parameters from /Users/billhuang/Desktop/BU_RISE/BU_RISE_Project/data/ds004100/sub-HUP171/ses-presurgery/ieeg/sub-HUP171_ses-presurgery_task-ictal_acq-seeg_run-04_ieeg.edf...\n",
      "EDF file detected\n",
      "Setting channel info structure...\n"
     ]
    },
    {
     "name": "stderr",
     "output_type": "stream",
     "text": [
      "\n"
     ]
    },
    {
     "name": "stdout",
     "output_type": "stream",
     "text": [
      "Creating raw.info structure...\n"
     ]
    },
    {
     "name": "stderr",
     "output_type": "stream",
     "text": [
      "100%|██████████| 162/162 [00:02<00:00, 60.1it/s] \n"
     ]
    },
    {
     "name": "stdout",
     "output_type": "stream",
     "text": [
      "Processing: sub-HUP171_ses-presurgery_task-interictal_acq-seeg_run-01_ieeg.edf\n",
      "Extracting EDF parameters from /Users/billhuang/Desktop/BU_RISE/BU_RISE_Project/data/ds004100/sub-HUP171/ses-presurgery/ieeg/sub-HUP171_ses-presurgery_task-interictal_acq-seeg_run-01_ieeg.edf...\n",
      "EDF file detected\n",
      "Setting channel info structure...\n",
      "Creating raw.info structure...\n"
     ]
    },
    {
     "name": "stderr",
     "output_type": "stream",
     "text": [
      "100%|██████████| 162/162 [00:03<00:00, 49.9it/s] \n"
     ]
    },
    {
     "name": "stdout",
     "output_type": "stream",
     "text": [
      "Processing: sub-HUP171_ses-presurgery_task-interictal_acq-seeg_run-02_ieeg.edf\n",
      "Extracting EDF parameters from /Users/billhuang/Desktop/BU_RISE/BU_RISE_Project/data/ds004100/sub-HUP171/ses-presurgery/ieeg/sub-HUP171_ses-presurgery_task-interictal_acq-seeg_run-02_ieeg.edf...\n",
      "EDF file detected\n",
      "Setting channel info structure...\n",
      "Creating raw.info structure...\n"
     ]
    },
    {
     "name": "stderr",
     "output_type": "stream",
     "text": [
      "100%|██████████| 162/162 [00:03<00:00, 50.2it/s] \n"
     ]
    },
    {
     "name": "stdout",
     "output_type": "stream",
     "text": [
      "Processing: sub-HUP172_ses-presurgery_task-ictal_acq-seeg_run-01_ieeg.edf\n",
      "Extracting EDF parameters from /Users/billhuang/Desktop/BU_RISE/BU_RISE_Project/data/ds004100/sub-HUP172/ses-presurgery/ieeg/sub-HUP172_ses-presurgery_task-ictal_acq-seeg_run-01_ieeg.edf...\n",
      "EDF file detected\n",
      "Setting channel info structure...\n",
      "Creating raw.info structure...\n"
     ]
    },
    {
     "name": "stderr",
     "output_type": "stream",
     "text": [
      "100%|██████████| 135/135 [00:02<00:00, 55.8it/s] \n"
     ]
    },
    {
     "name": "stdout",
     "output_type": "stream",
     "text": [
      "Processing: sub-HUP172_ses-presurgery_task-ictal_acq-seeg_run-02_ieeg.edf\n",
      "Extracting EDF parameters from /Users/billhuang/Desktop/BU_RISE/BU_RISE_Project/data/ds004100/sub-HUP172/ses-presurgery/ieeg/sub-HUP172_ses-presurgery_task-ictal_acq-seeg_run-02_ieeg.edf...\n",
      "EDF file detected\n",
      "Setting channel info structure...\n",
      "Creating raw.info structure...\n"
     ]
    },
    {
     "name": "stderr",
     "output_type": "stream",
     "text": [
      "100%|██████████| 135/135 [00:02<00:00, 54.7it/s] \n"
     ]
    },
    {
     "name": "stdout",
     "output_type": "stream",
     "text": [
      "Processing: sub-HUP172_ses-presurgery_task-ictal_acq-seeg_run-03_ieeg.edf\n",
      "Extracting EDF parameters from /Users/billhuang/Desktop/BU_RISE/BU_RISE_Project/data/ds004100/sub-HUP172/ses-presurgery/ieeg/sub-HUP172_ses-presurgery_task-ictal_acq-seeg_run-03_ieeg.edf...\n",
      "EDF file detected\n",
      "Setting channel info structure...\n",
      "Creating raw.info structure...\n"
     ]
    },
    {
     "name": "stderr",
     "output_type": "stream",
     "text": [
      "100%|██████████| 135/135 [00:02<00:00, 50.9it/s] \n"
     ]
    },
    {
     "name": "stdout",
     "output_type": "stream",
     "text": [
      "Processing: sub-HUP172_ses-presurgery_task-ictal_acq-seeg_run-04_ieeg.edf\n",
      "Extracting EDF parameters from /Users/billhuang/Desktop/BU_RISE/BU_RISE_Project/data/ds004100/sub-HUP172/ses-presurgery/ieeg/sub-HUP172_ses-presurgery_task-ictal_acq-seeg_run-04_ieeg.edf...\n",
      "EDF file detected\n",
      "Setting channel info structure...\n",
      "Creating raw.info structure...\n"
     ]
    },
    {
     "name": "stderr",
     "output_type": "stream",
     "text": [
      "100%|██████████| 135/135 [00:02<00:00, 57.3it/s] \n"
     ]
    },
    {
     "name": "stdout",
     "output_type": "stream",
     "text": [
      "Processing: sub-HUP172_ses-presurgery_task-ictal_acq-seeg_run-05_ieeg.edf\n",
      "Extracting EDF parameters from /Users/billhuang/Desktop/BU_RISE/BU_RISE_Project/data/ds004100/sub-HUP172/ses-presurgery/ieeg/sub-HUP172_ses-presurgery_task-ictal_acq-seeg_run-05_ieeg.edf...\n",
      "EDF file detected\n",
      "Setting channel info structure...\n",
      "Creating raw.info structure...\n"
     ]
    },
    {
     "name": "stderr",
     "output_type": "stream",
     "text": [
      "100%|██████████| 135/135 [00:02<00:00, 54.8it/s] \n"
     ]
    },
    {
     "name": "stdout",
     "output_type": "stream",
     "text": [
      "Processing: sub-HUP172_ses-presurgery_task-interictal_acq-seeg_run-01_ieeg.edf\n",
      "Extracting EDF parameters from /Users/billhuang/Desktop/BU_RISE/BU_RISE_Project/data/ds004100/sub-HUP172/ses-presurgery/ieeg/sub-HUP172_ses-presurgery_task-interictal_acq-seeg_run-01_ieeg.edf...\n",
      "EDF file detected\n",
      "Setting channel info structure...\n",
      "Creating raw.info structure...\n"
     ]
    },
    {
     "name": "stderr",
     "output_type": "stream",
     "text": [
      "100%|██████████| 135/135 [00:02<00:00, 47.6it/s] \n"
     ]
    },
    {
     "name": "stdout",
     "output_type": "stream",
     "text": [
      "Processing: sub-HUP172_ses-presurgery_task-interictal_acq-seeg_run-02_ieeg.edf\n",
      "Extracting EDF parameters from /Users/billhuang/Desktop/BU_RISE/BU_RISE_Project/data/ds004100/sub-HUP172/ses-presurgery/ieeg/sub-HUP172_ses-presurgery_task-interictal_acq-seeg_run-02_ieeg.edf...\n",
      "EDF file detected\n",
      "Setting channel info structure...\n",
      "Creating raw.info structure...\n"
     ]
    },
    {
     "name": "stderr",
     "output_type": "stream",
     "text": [
      "100%|██████████| 135/135 [00:02<00:00, 46.9it/s] \n"
     ]
    },
    {
     "name": "stdout",
     "output_type": "stream",
     "text": [
      "Processing: sub-HUP173_ses-presurgery_task-ictal_acq-seeg_run-01_ieeg.edf\n",
      "Extracting EDF parameters from /Users/billhuang/Desktop/BU_RISE/BU_RISE_Project/data/ds004100/sub-HUP173/ses-presurgery/ieeg/sub-HUP173_ses-presurgery_task-ictal_acq-seeg_run-01_ieeg.edf...\n",
      "EDF file detected\n",
      "Setting channel info structure...\n",
      "Creating raw.info structure...\n"
     ]
    },
    {
     "name": "stderr",
     "output_type": "stream",
     "text": [
      "100%|██████████| 125/125 [00:01<00:00, 75.5it/s] \n"
     ]
    },
    {
     "name": "stdout",
     "output_type": "stream",
     "text": [
      "Processing: sub-HUP173_ses-presurgery_task-ictal_acq-seeg_run-02_ieeg.edf\n",
      "Extracting EDF parameters from /Users/billhuang/Desktop/BU_RISE/BU_RISE_Project/data/ds004100/sub-HUP173/ses-presurgery/ieeg/sub-HUP173_ses-presurgery_task-ictal_acq-seeg_run-02_ieeg.edf...\n",
      "EDF file detected\n",
      "Setting channel info structure...\n",
      "Creating raw.info structure...\n"
     ]
    },
    {
     "name": "stderr",
     "output_type": "stream",
     "text": [
      "100%|██████████| 125/125 [00:01<00:00, 83.5it/s] \n"
     ]
    },
    {
     "name": "stdout",
     "output_type": "stream",
     "text": [
      "Processing: sub-HUP173_ses-presurgery_task-ictal_acq-seeg_run-03_ieeg.edf\n",
      "Extracting EDF parameters from /Users/billhuang/Desktop/BU_RISE/BU_RISE_Project/data/ds004100/sub-HUP173/ses-presurgery/ieeg/sub-HUP173_ses-presurgery_task-ictal_acq-seeg_run-03_ieeg.edf...\n",
      "EDF file detected\n",
      "Setting channel info structure...\n",
      "Creating raw.info structure...\n"
     ]
    },
    {
     "name": "stderr",
     "output_type": "stream",
     "text": [
      "100%|██████████| 125/125 [00:01<00:00, 87.5it/s] \n"
     ]
    },
    {
     "name": "stdout",
     "output_type": "stream",
     "text": [
      "Processing: sub-HUP173_ses-presurgery_task-ictal_acq-seeg_run-04_ieeg.edf\n",
      "Extracting EDF parameters from /Users/billhuang/Desktop/BU_RISE/BU_RISE_Project/data/ds004100/sub-HUP173/ses-presurgery/ieeg/sub-HUP173_ses-presurgery_task-ictal_acq-seeg_run-04_ieeg.edf...\n",
      "EDF file detected\n",
      "Setting channel info structure...\n",
      "Creating raw.info structure...\n"
     ]
    },
    {
     "name": "stderr",
     "output_type": "stream",
     "text": [
      "100%|██████████| 125/125 [00:01<00:00, 79.3it/s] "
     ]
    },
    {
     "name": "stdout",
     "output_type": "stream",
     "text": [
      "Processing: sub-HUP173_ses-presurgery_task-ictal_acq-seeg_run-05_ieeg.edf\n",
      "Extracting EDF parameters from /Users/billhuang/Desktop/BU_RISE/BU_RISE_Project/data/ds004100/sub-HUP173/ses-presurgery/ieeg/sub-HUP173_ses-presurgery_task-ictal_acq-seeg_run-05_ieeg.edf...\n",
      "EDF file detected\n",
      "Setting channel info structure...\n",
      "Creating raw.info structure...\n"
     ]
    },
    {
     "name": "stderr",
     "output_type": "stream",
     "text": [
      "\n",
      "100%|██████████| 125/125 [00:01<00:00, 77.1it/s] \n"
     ]
    },
    {
     "name": "stdout",
     "output_type": "stream",
     "text": [
      "Processing: sub-HUP173_ses-presurgery_task-interictal_acq-seeg_run-01_ieeg.edf\n",
      "Extracting EDF parameters from /Users/billhuang/Desktop/BU_RISE/BU_RISE_Project/data/ds004100/sub-HUP173/ses-presurgery/ieeg/sub-HUP173_ses-presurgery_task-interictal_acq-seeg_run-01_ieeg.edf...\n",
      "EDF file detected\n",
      "Setting channel info structure...\n",
      "Creating raw.info structure...\n"
     ]
    },
    {
     "name": "stderr",
     "output_type": "stream",
     "text": [
      "100%|██████████| 125/125 [00:01<00:00, 71.9it/s] \n"
     ]
    },
    {
     "name": "stdout",
     "output_type": "stream",
     "text": [
      "Processing: sub-HUP173_ses-presurgery_task-interictal_acq-seeg_run-02_ieeg.edf\n",
      "Extracting EDF parameters from /Users/billhuang/Desktop/BU_RISE/BU_RISE_Project/data/ds004100/sub-HUP173/ses-presurgery/ieeg/sub-HUP173_ses-presurgery_task-interictal_acq-seeg_run-02_ieeg.edf...\n",
      "EDF file detected\n",
      "Setting channel info structure...\n",
      "Creating raw.info structure...\n"
     ]
    },
    {
     "name": "stderr",
     "output_type": "stream",
     "text": [
      "100%|██████████| 125/125 [00:01<00:00, 71.9it/s] \n"
     ]
    },
    {
     "name": "stdout",
     "output_type": "stream",
     "text": [
      "Processing: sub-HUP177_ses-presurgery_task-ictal_acq-seeg_run-01_ieeg.edf\n",
      "Extracting EDF parameters from /Users/billhuang/Desktop/BU_RISE/BU_RISE_Project/data/ds004100/sub-HUP177/ses-presurgery/ieeg/sub-HUP177_ses-presurgery_task-ictal_acq-seeg_run-01_ieeg.edf...\n",
      "EDF file detected\n",
      "Setting channel info structure...\n",
      "Creating raw.info structure...\n"
     ]
    },
    {
     "name": "stderr",
     "output_type": "stream",
     "text": [
      "100%|██████████| 185/185 [00:02<00:00, 69.8it/s] \n"
     ]
    },
    {
     "name": "stdout",
     "output_type": "stream",
     "text": [
      "Processing: sub-HUP177_ses-presurgery_task-ictal_acq-seeg_run-02_ieeg.edf\n",
      "Extracting EDF parameters from /Users/billhuang/Desktop/BU_RISE/BU_RISE_Project/data/ds004100/sub-HUP177/ses-presurgery/ieeg/sub-HUP177_ses-presurgery_task-ictal_acq-seeg_run-02_ieeg.edf...\n",
      "EDF file detected\n",
      "Setting channel info structure...\n",
      "Creating raw.info structure...\n"
     ]
    },
    {
     "name": "stderr",
     "output_type": "stream",
     "text": [
      "100%|██████████| 185/185 [00:03<00:00, 53.6it/s] \n"
     ]
    },
    {
     "name": "stdout",
     "output_type": "stream",
     "text": [
      "Processing: sub-HUP177_ses-presurgery_task-ictal_acq-seeg_run-03_ieeg.edf\n",
      "Extracting EDF parameters from /Users/billhuang/Desktop/BU_RISE/BU_RISE_Project/data/ds004100/sub-HUP177/ses-presurgery/ieeg/sub-HUP177_ses-presurgery_task-ictal_acq-seeg_run-03_ieeg.edf...\n",
      "EDF file detected\n",
      "Setting channel info structure...\n",
      "Creating raw.info structure...\n"
     ]
    },
    {
     "name": "stderr",
     "output_type": "stream",
     "text": [
      "100%|██████████| 185/185 [00:03<00:00, 52.9it/s] \n"
     ]
    },
    {
     "name": "stdout",
     "output_type": "stream",
     "text": [
      "Processing: sub-HUP177_ses-presurgery_task-interictal_acq-seeg_run-01_ieeg.edf\n",
      "Extracting EDF parameters from /Users/billhuang/Desktop/BU_RISE/BU_RISE_Project/data/ds004100/sub-HUP177/ses-presurgery/ieeg/sub-HUP177_ses-presurgery_task-interictal_acq-seeg_run-01_ieeg.edf...\n",
      "EDF file detected\n",
      "Setting channel info structure...\n",
      "Creating raw.info structure...\n"
     ]
    },
    {
     "name": "stderr",
     "output_type": "stream",
     "text": [
      "100%|██████████| 185/185 [00:03<00:00, 53.5it/s] "
     ]
    },
    {
     "name": "stdout",
     "output_type": "stream",
     "text": [
      "Processing: sub-HUP177_ses-presurgery_task-interictal_acq-seeg_run-02_ieeg.edf\n",
      "Extracting EDF parameters from /Users/billhuang/Desktop/BU_RISE/BU_RISE_Project/data/ds004100/sub-HUP177/ses-presurgery/ieeg/sub-HUP177_ses-presurgery_task-interictal_acq-seeg_run-02_ieeg.edf...\n",
      "EDF file detected\n",
      "Setting channel info structure...\n",
      "Creating raw.info structure...\n"
     ]
    },
    {
     "name": "stderr",
     "output_type": "stream",
     "text": [
      "\n",
      "100%|██████████| 185/185 [00:03<00:00, 51.5it/s] "
     ]
    },
    {
     "name": "stdout",
     "output_type": "stream",
     "text": [
      "Processing: sub-HUP179_ses-presurgery_task-ictal_acq-seeg_run-01_ieeg.edf\n",
      "Extracting EDF parameters from /Users/billhuang/Desktop/BU_RISE/BU_RISE_Project/data/ds004100/sub-HUP179/ses-presurgery/ieeg/sub-HUP179_ses-presurgery_task-ictal_acq-seeg_run-01_ieeg.edf...\n",
      "EDF file detected\n"
     ]
    },
    {
     "name": "stderr",
     "output_type": "stream",
     "text": [
      "\n"
     ]
    },
    {
     "name": "stdout",
     "output_type": "stream",
     "text": [
      "Setting channel info structure...\n",
      "Creating raw.info structure...\n"
     ]
    },
    {
     "name": "stderr",
     "output_type": "stream",
     "text": [
      "100%|██████████| 171/171 [00:02<00:00, 64.6it/s] \n"
     ]
    },
    {
     "name": "stdout",
     "output_type": "stream",
     "text": [
      "Processing: sub-HUP179_ses-presurgery_task-ictal_acq-seeg_run-02_ieeg.edf\n",
      "Extracting EDF parameters from /Users/billhuang/Desktop/BU_RISE/BU_RISE_Project/data/ds004100/sub-HUP179/ses-presurgery/ieeg/sub-HUP179_ses-presurgery_task-ictal_acq-seeg_run-02_ieeg.edf...\n",
      "EDF file detected\n",
      "Setting channel info structure...\n",
      "Creating raw.info structure...\n"
     ]
    },
    {
     "name": "stderr",
     "output_type": "stream",
     "text": [
      "100%|██████████| 171/171 [00:02<00:00, 60.0it/s] \n"
     ]
    },
    {
     "name": "stdout",
     "output_type": "stream",
     "text": [
      "Processing: sub-HUP179_ses-presurgery_task-interictal_acq-seeg_run-01_ieeg.edf\n",
      "Extracting EDF parameters from /Users/billhuang/Desktop/BU_RISE/BU_RISE_Project/data/ds004100/sub-HUP179/ses-presurgery/ieeg/sub-HUP179_ses-presurgery_task-interictal_acq-seeg_run-01_ieeg.edf...\n",
      "EDF file detected\n",
      "Setting channel info structure...\n",
      "Creating raw.info structure...\n"
     ]
    },
    {
     "name": "stderr",
     "output_type": "stream",
     "text": [
      "100%|██████████| 171/171 [00:03<00:00, 49.4it/s] \n"
     ]
    },
    {
     "name": "stdout",
     "output_type": "stream",
     "text": [
      "Processing: sub-HUP179_ses-presurgery_task-interictal_acq-seeg_run-02_ieeg.edf\n",
      "Extracting EDF parameters from /Users/billhuang/Desktop/BU_RISE/BU_RISE_Project/data/ds004100/sub-HUP179/ses-presurgery/ieeg/sub-HUP179_ses-presurgery_task-interictal_acq-seeg_run-02_ieeg.edf...\n",
      "EDF file detected\n",
      "Setting channel info structure...\n",
      "Creating raw.info structure...\n"
     ]
    },
    {
     "name": "stderr",
     "output_type": "stream",
     "text": [
      "100%|██████████| 171/171 [00:03<00:00, 50.8it/s] \n"
     ]
    },
    {
     "name": "stdout",
     "output_type": "stream",
     "text": [
      "Processing: sub-HUP180_ses-presurgery_task-ictal_acq-seeg_run-01_ieeg.edf\n",
      "Extracting EDF parameters from /Users/billhuang/Desktop/BU_RISE/BU_RISE_Project/data/ds004100/sub-HUP180/ses-presurgery/ieeg/sub-HUP180_ses-presurgery_task-ictal_acq-seeg_run-01_ieeg.edf...\n",
      "EDF file detected\n",
      "Setting channel info structure...\n",
      "Creating raw.info structure...\n"
     ]
    },
    {
     "name": "stderr",
     "output_type": "stream",
     "text": [
      "100%|██████████| 120/120 [00:02<00:00, 54.3it/s] \n"
     ]
    },
    {
     "name": "stdout",
     "output_type": "stream",
     "text": [
      "Processing: sub-HUP180_ses-presurgery_task-ictal_acq-seeg_run-02_ieeg.edf\n",
      "Extracting EDF parameters from /Users/billhuang/Desktop/BU_RISE/BU_RISE_Project/data/ds004100/sub-HUP180/ses-presurgery/ieeg/sub-HUP180_ses-presurgery_task-ictal_acq-seeg_run-02_ieeg.edf...\n",
      "EDF file detected\n",
      "Setting channel info structure...\n",
      "Creating raw.info structure...\n"
     ]
    },
    {
     "name": "stderr",
     "output_type": "stream",
     "text": [
      "100%|██████████| 120/120 [00:02<00:00, 54.3it/s] \n"
     ]
    },
    {
     "name": "stdout",
     "output_type": "stream",
     "text": [
      "Processing: sub-HUP180_ses-presurgery_task-ictal_acq-seeg_run-03_ieeg.edf\n",
      "Extracting EDF parameters from /Users/billhuang/Desktop/BU_RISE/BU_RISE_Project/data/ds004100/sub-HUP180/ses-presurgery/ieeg/sub-HUP180_ses-presurgery_task-ictal_acq-seeg_run-03_ieeg.edf...\n",
      "EDF file detected\n",
      "Setting channel info structure...\n",
      "Creating raw.info structure...\n"
     ]
    },
    {
     "name": "stderr",
     "output_type": "stream",
     "text": [
      "100%|██████████| 120/120 [00:02<00:00, 55.5it/s] \n"
     ]
    },
    {
     "name": "stdout",
     "output_type": "stream",
     "text": [
      "Processing: sub-HUP180_ses-presurgery_task-ictal_acq-seeg_run-04_ieeg.edf\n",
      "Extracting EDF parameters from /Users/billhuang/Desktop/BU_RISE/BU_RISE_Project/data/ds004100/sub-HUP180/ses-presurgery/ieeg/sub-HUP180_ses-presurgery_task-ictal_acq-seeg_run-04_ieeg.edf...\n",
      "EDF file detected\n",
      "Setting channel info structure...\n",
      "Creating raw.info structure...\n"
     ]
    },
    {
     "name": "stderr",
     "output_type": "stream",
     "text": [
      "100%|██████████| 120/120 [00:02<00:00, 53.6it/s] \n"
     ]
    },
    {
     "name": "stdout",
     "output_type": "stream",
     "text": [
      "Processing: sub-HUP180_ses-presurgery_task-ictal_acq-seeg_run-05_ieeg.edf\n",
      "Extracting EDF parameters from /Users/billhuang/Desktop/BU_RISE/BU_RISE_Project/data/ds004100/sub-HUP180/ses-presurgery/ieeg/sub-HUP180_ses-presurgery_task-ictal_acq-seeg_run-05_ieeg.edf...\n",
      "EDF file detected\n",
      "Setting channel info structure...\n",
      "Creating raw.info structure...\n"
     ]
    },
    {
     "name": "stderr",
     "output_type": "stream",
     "text": [
      "100%|██████████| 120/120 [00:02<00:00, 54.4it/s] \n"
     ]
    },
    {
     "name": "stdout",
     "output_type": "stream",
     "text": [
      "Processing: sub-HUP180_ses-presurgery_task-interictal_acq-seeg_run-01_ieeg.edf\n",
      "Extracting EDF parameters from /Users/billhuang/Desktop/BU_RISE/BU_RISE_Project/data/ds004100/sub-HUP180/ses-presurgery/ieeg/sub-HUP180_ses-presurgery_task-interictal_acq-seeg_run-01_ieeg.edf...\n",
      "EDF file detected\n",
      "Setting channel info structure...\n",
      "Creating raw.info structure...\n"
     ]
    },
    {
     "name": "stderr",
     "output_type": "stream",
     "text": [
      "100%|██████████| 120/120 [00:02<00:00, 45.8it/s] \n"
     ]
    },
    {
     "name": "stdout",
     "output_type": "stream",
     "text": [
      "Processing: sub-HUP180_ses-presurgery_task-interictal_acq-seeg_run-02_ieeg.edf\n",
      "Extracting EDF parameters from /Users/billhuang/Desktop/BU_RISE/BU_RISE_Project/data/ds004100/sub-HUP180/ses-presurgery/ieeg/sub-HUP180_ses-presurgery_task-interictal_acq-seeg_run-02_ieeg.edf...\n",
      "EDF file detected\n",
      "Setting channel info structure...\n",
      "Creating raw.info structure...\n"
     ]
    },
    {
     "name": "stderr",
     "output_type": "stream",
     "text": [
      "100%|██████████| 120/120 [00:02<00:00, 45.3it/s] \n"
     ]
    },
    {
     "name": "stdout",
     "output_type": "stream",
     "text": [
      "Processing: sub-HUP181_ses-presurgery_task-ictal_acq-seeg_run-01_ieeg.edf\n",
      "Extracting EDF parameters from /Users/billhuang/Desktop/BU_RISE/BU_RISE_Project/data/ds004100/sub-HUP181/ses-presurgery/ieeg/sub-HUP181_ses-presurgery_task-ictal_acq-seeg_run-01_ieeg.edf...\n",
      "EDF file detected\n",
      "Setting channel info structure...\n",
      "Creating raw.info structure...\n"
     ]
    },
    {
     "name": "stderr",
     "output_type": "stream",
     "text": [
      "100%|██████████| 148/148 [00:02<00:00, 63.8it/s] "
     ]
    },
    {
     "name": "stdout",
     "output_type": "stream",
     "text": [
      "Processing: sub-HUP181_ses-presurgery_task-ictal_acq-seeg_run-02_ieeg.edf\n",
      "Extracting EDF parameters from /Users/billhuang/Desktop/BU_RISE/BU_RISE_Project/data/ds004100/sub-HUP181/ses-presurgery/ieeg/sub-HUP181_ses-presurgery_task-ictal_acq-seeg_run-02_ieeg.edf...\n",
      "EDF file detected\n",
      "Setting channel info structure...\n",
      "Creating raw.info structure...\n"
     ]
    },
    {
     "name": "stderr",
     "output_type": "stream",
     "text": [
      "\n",
      "100%|██████████| 148/148 [00:03<00:00, 42.5it/s] \n"
     ]
    },
    {
     "name": "stdout",
     "output_type": "stream",
     "text": [
      "Processing: sub-HUP181_ses-presurgery_task-ictal_acq-seeg_run-03_ieeg.edf\n",
      "Extracting EDF parameters from /Users/billhuang/Desktop/BU_RISE/BU_RISE_Project/data/ds004100/sub-HUP181/ses-presurgery/ieeg/sub-HUP181_ses-presurgery_task-ictal_acq-seeg_run-03_ieeg.edf...\n",
      "EDF file detected\n",
      "Setting channel info structure...\n",
      "Creating raw.info structure...\n"
     ]
    },
    {
     "name": "stderr",
     "output_type": "stream",
     "text": [
      "100%|██████████| 148/148 [00:03<00:00, 40.1it/s] \n"
     ]
    },
    {
     "name": "stdout",
     "output_type": "stream",
     "text": [
      "Processing: sub-HUP181_ses-presurgery_task-ictal_acq-seeg_run-04_ieeg.edf\n",
      "Extracting EDF parameters from /Users/billhuang/Desktop/BU_RISE/BU_RISE_Project/data/ds004100/sub-HUP181/ses-presurgery/ieeg/sub-HUP181_ses-presurgery_task-ictal_acq-seeg_run-04_ieeg.edf...\n",
      "EDF file detected\n",
      "Setting channel info structure...\n",
      "Creating raw.info structure...\n"
     ]
    },
    {
     "name": "stderr",
     "output_type": "stream",
     "text": [
      "100%|██████████| 148/148 [00:04<00:00, 36.8it/s] \n"
     ]
    },
    {
     "name": "stdout",
     "output_type": "stream",
     "text": [
      "Processing: sub-HUP181_ses-presurgery_task-ictal_acq-seeg_run-05_ieeg.edf\n",
      "Extracting EDF parameters from /Users/billhuang/Desktop/BU_RISE/BU_RISE_Project/data/ds004100/sub-HUP181/ses-presurgery/ieeg/sub-HUP181_ses-presurgery_task-ictal_acq-seeg_run-05_ieeg.edf...\n",
      "EDF file detected\n",
      "Setting channel info structure...\n",
      "Creating raw.info structure...\n"
     ]
    },
    {
     "name": "stderr",
     "output_type": "stream",
     "text": [
      "100%|██████████| 148/148 [00:03<00:00, 40.0it/s] \n"
     ]
    },
    {
     "name": "stdout",
     "output_type": "stream",
     "text": [
      "Processing: sub-HUP181_ses-presurgery_task-interictal_acq-seeg_run-01_ieeg.edf\n",
      "Extracting EDF parameters from /Users/billhuang/Desktop/BU_RISE/BU_RISE_Project/data/ds004100/sub-HUP181/ses-presurgery/ieeg/sub-HUP181_ses-presurgery_task-interictal_acq-seeg_run-01_ieeg.edf...\n",
      "EDF file detected\n",
      "Setting channel info structure...\n",
      "Creating raw.info structure...\n"
     ]
    },
    {
     "name": "stderr",
     "output_type": "stream",
     "text": [
      "100%|██████████| 148/148 [00:02<00:00, 50.4it/s] \n"
     ]
    },
    {
     "name": "stdout",
     "output_type": "stream",
     "text": [
      "Processing: sub-HUP181_ses-presurgery_task-interictal_acq-seeg_run-02_ieeg.edf\n",
      "Extracting EDF parameters from /Users/billhuang/Desktop/BU_RISE/BU_RISE_Project/data/ds004100/sub-HUP181/ses-presurgery/ieeg/sub-HUP181_ses-presurgery_task-interictal_acq-seeg_run-02_ieeg.edf...\n",
      "EDF file detected\n",
      "Setting channel info structure...\n",
      "Creating raw.info structure...\n"
     ]
    },
    {
     "name": "stderr",
     "output_type": "stream",
     "text": [
      "100%|██████████| 148/148 [00:03<00:00, 49.0it/s] \n"
     ]
    },
    {
     "name": "stdout",
     "output_type": "stream",
     "text": [
      "Processing: sub-HUP185_ses-presurgery_task-ictal_acq-seeg_run-01_ieeg.edf\n",
      "Extracting EDF parameters from /Users/billhuang/Desktop/BU_RISE/BU_RISE_Project/data/ds004100/sub-HUP185/ses-presurgery/ieeg/sub-HUP185_ses-presurgery_task-ictal_acq-seeg_run-01_ieeg.edf...\n",
      "EDF file detected\n",
      "Setting channel info structure...\n",
      "Creating raw.info structure...\n"
     ]
    },
    {
     "name": "stderr",
     "output_type": "stream",
     "text": [
      "100%|██████████| 125/125 [00:02<00:00, 55.9it/s] \n"
     ]
    },
    {
     "name": "stdout",
     "output_type": "stream",
     "text": [
      "Processing: sub-HUP185_ses-presurgery_task-ictal_acq-seeg_run-02_ieeg.edf\n",
      "Extracting EDF parameters from /Users/billhuang/Desktop/BU_RISE/BU_RISE_Project/data/ds004100/sub-HUP185/ses-presurgery/ieeg/sub-HUP185_ses-presurgery_task-ictal_acq-seeg_run-02_ieeg.edf...\n",
      "EDF file detected\n",
      "Setting channel info structure...\n",
      "Creating raw.info structure...\n"
     ]
    },
    {
     "name": "stderr",
     "output_type": "stream",
     "text": [
      "100%|██████████| 125/125 [00:02<00:00, 56.6it/s] \n"
     ]
    },
    {
     "name": "stdout",
     "output_type": "stream",
     "text": [
      "Processing: sub-HUP185_ses-presurgery_task-ictal_acq-seeg_run-03_ieeg.edf\n",
      "Extracting EDF parameters from /Users/billhuang/Desktop/BU_RISE/BU_RISE_Project/data/ds004100/sub-HUP185/ses-presurgery/ieeg/sub-HUP185_ses-presurgery_task-ictal_acq-seeg_run-03_ieeg.edf...\n",
      "EDF file detected\n",
      "Setting channel info structure...\n",
      "Creating raw.info structure...\n"
     ]
    },
    {
     "name": "stderr",
     "output_type": "stream",
     "text": [
      "100%|██████████| 125/125 [00:02<00:00, 59.9it/s] \n"
     ]
    },
    {
     "name": "stdout",
     "output_type": "stream",
     "text": [
      "Processing: sub-HUP185_ses-presurgery_task-ictal_acq-seeg_run-04_ieeg.edf\n",
      "Extracting EDF parameters from /Users/billhuang/Desktop/BU_RISE/BU_RISE_Project/data/ds004100/sub-HUP185/ses-presurgery/ieeg/sub-HUP185_ses-presurgery_task-ictal_acq-seeg_run-04_ieeg.edf...\n",
      "EDF file detected\n",
      "Setting channel info structure...\n",
      "Creating raw.info structure...\n"
     ]
    },
    {
     "name": "stderr",
     "output_type": "stream",
     "text": [
      "100%|██████████| 125/125 [00:02<00:00, 52.2it/s] \n"
     ]
    },
    {
     "name": "stdout",
     "output_type": "stream",
     "text": [
      "Processing: sub-HUP185_ses-presurgery_task-ictal_acq-seeg_run-05_ieeg.edf\n",
      "Extracting EDF parameters from /Users/billhuang/Desktop/BU_RISE/BU_RISE_Project/data/ds004100/sub-HUP185/ses-presurgery/ieeg/sub-HUP185_ses-presurgery_task-ictal_acq-seeg_run-05_ieeg.edf...\n",
      "EDF file detected\n",
      "Setting channel info structure...\n",
      "Creating raw.info structure...\n"
     ]
    },
    {
     "name": "stderr",
     "output_type": "stream",
     "text": [
      "100%|██████████| 125/125 [00:03<00:00, 40.4it/s] \n"
     ]
    },
    {
     "name": "stdout",
     "output_type": "stream",
     "text": [
      "Processing: sub-HUP185_ses-presurgery_task-interictal_acq-seeg_run-01_ieeg.edf\n",
      "Extracting EDF parameters from /Users/billhuang/Desktop/BU_RISE/BU_RISE_Project/data/ds004100/sub-HUP185/ses-presurgery/ieeg/sub-HUP185_ses-presurgery_task-interictal_acq-seeg_run-01_ieeg.edf...\n",
      "EDF file detected\n",
      "Setting channel info structure...\n",
      "Creating raw.info structure...\n"
     ]
    },
    {
     "name": "stderr",
     "output_type": "stream",
     "text": [
      "100%|██████████| 125/125 [00:02<00:00, 46.7it/s] \n"
     ]
    },
    {
     "name": "stdout",
     "output_type": "stream",
     "text": [
      "Processing: sub-HUP185_ses-presurgery_task-interictal_acq-seeg_run-02_ieeg.edf\n",
      "Extracting EDF parameters from /Users/billhuang/Desktop/BU_RISE/BU_RISE_Project/data/ds004100/sub-HUP185/ses-presurgery/ieeg/sub-HUP185_ses-presurgery_task-interictal_acq-seeg_run-02_ieeg.edf...\n",
      "EDF file detected\n",
      "Setting channel info structure...\n",
      "Creating raw.info structure...\n"
     ]
    },
    {
     "name": "stderr",
     "output_type": "stream",
     "text": [
      "100%|██████████| 125/125 [00:02<00:00, 46.9it/s] "
     ]
    },
    {
     "name": "stdout",
     "output_type": "stream",
     "text": [
      "Processing: sub-HUP187_ses-presurgery_task-ictal_acq-seeg_run-01_ieeg.edf\n",
      "Extracting EDF parameters from /Users/billhuang/Desktop/BU_RISE/BU_RISE_Project/data/ds004100/sub-HUP187/ses-presurgery/ieeg/sub-HUP187_ses-presurgery_task-ictal_acq-seeg_run-01_ieeg.edf...\n",
      "EDF file detected\n",
      "Setting channel info structure...\n",
      "Creating raw.info structure...\n"
     ]
    },
    {
     "name": "stderr",
     "output_type": "stream",
     "text": [
      "\n",
      "100%|██████████| 108/108 [00:02<00:00, 53.0it/s] \n"
     ]
    },
    {
     "name": "stdout",
     "output_type": "stream",
     "text": [
      "Processing: sub-HUP187_ses-presurgery_task-ictal_acq-seeg_run-02_ieeg.edf\n",
      "Extracting EDF parameters from /Users/billhuang/Desktop/BU_RISE/BU_RISE_Project/data/ds004100/sub-HUP187/ses-presurgery/ieeg/sub-HUP187_ses-presurgery_task-ictal_acq-seeg_run-02_ieeg.edf...\n",
      "EDF file detected\n",
      "Setting channel info structure...\n",
      "Creating raw.info structure...\n"
     ]
    },
    {
     "name": "stderr",
     "output_type": "stream",
     "text": [
      "100%|██████████| 108/108 [00:01<00:00, 54.1it/s] "
     ]
    },
    {
     "name": "stdout",
     "output_type": "stream",
     "text": [
      "Processing: sub-HUP187_ses-presurgery_task-ictal_acq-seeg_run-03_ieeg.edf\n",
      "Extracting EDF parameters from /Users/billhuang/Desktop/BU_RISE/BU_RISE_Project/data/ds004100/sub-HUP187/ses-presurgery/ieeg/sub-HUP187_ses-presurgery_task-ictal_acq-seeg_run-03_ieeg.edf...\n",
      "EDF file detected\n",
      "Setting channel info structure...\n",
      "Creating raw.info structure...\n"
     ]
    },
    {
     "name": "stderr",
     "output_type": "stream",
     "text": [
      "\n",
      "100%|██████████| 108/108 [00:02<00:00, 50.8it/s] "
     ]
    },
    {
     "name": "stdout",
     "output_type": "stream",
     "text": [
      "Processing: sub-HUP187_ses-presurgery_task-ictal_acq-seeg_run-04_ieeg.edf\n",
      "Extracting EDF parameters from /Users/billhuang/Desktop/BU_RISE/BU_RISE_Project/data/ds004100/sub-HUP187/ses-presurgery/ieeg/sub-HUP187_ses-presurgery_task-ictal_acq-seeg_run-04_ieeg.edf...\n",
      "EDF file detected\n",
      "Setting channel info structure...\n",
      "Creating raw.info structure...\n"
     ]
    },
    {
     "name": "stderr",
     "output_type": "stream",
     "text": [
      "\n",
      "100%|██████████| 108/108 [00:02<00:00, 50.5it/s] \n"
     ]
    },
    {
     "name": "stdout",
     "output_type": "stream",
     "text": [
      "Processing: sub-HUP187_ses-presurgery_task-ictal_acq-seeg_run-05_ieeg.edf\n",
      "Extracting EDF parameters from /Users/billhuang/Desktop/BU_RISE/BU_RISE_Project/data/ds004100/sub-HUP187/ses-presurgery/ieeg/sub-HUP187_ses-presurgery_task-ictal_acq-seeg_run-05_ieeg.edf...\n",
      "EDF file detected\n",
      "Setting channel info structure...\n",
      "Creating raw.info structure...\n"
     ]
    },
    {
     "name": "stderr",
     "output_type": "stream",
     "text": [
      "100%|██████████| 108/108 [00:01<00:00, 55.7it/s] \n"
     ]
    },
    {
     "name": "stdout",
     "output_type": "stream",
     "text": [
      "Processing: sub-HUP187_ses-presurgery_task-interictal_acq-seeg_run-01_ieeg.edf\n",
      "Extracting EDF parameters from /Users/billhuang/Desktop/BU_RISE/BU_RISE_Project/data/ds004100/sub-HUP187/ses-presurgery/ieeg/sub-HUP187_ses-presurgery_task-interictal_acq-seeg_run-01_ieeg.edf...\n",
      "EDF file detected\n",
      "Setting channel info structure...\n",
      "Creating raw.info structure...\n"
     ]
    },
    {
     "name": "stderr",
     "output_type": "stream",
     "text": [
      "100%|██████████| 108/108 [00:02<00:00, 45.1it/s] \n"
     ]
    },
    {
     "name": "stdout",
     "output_type": "stream",
     "text": [
      "Processing: sub-HUP187_ses-presurgery_task-interictal_acq-seeg_run-02_ieeg.edf\n",
      "Extracting EDF parameters from /Users/billhuang/Desktop/BU_RISE/BU_RISE_Project/data/ds004100/sub-HUP187/ses-presurgery/ieeg/sub-HUP187_ses-presurgery_task-interictal_acq-seeg_run-02_ieeg.edf...\n",
      "EDF file detected\n",
      "Setting channel info structure...\n",
      "Creating raw.info structure...\n"
     ]
    },
    {
     "name": "stderr",
     "output_type": "stream",
     "text": [
      "100%|██████████| 108/108 [00:02<00:00, 44.2it/s] \n"
     ]
    },
    {
     "name": "stdout",
     "output_type": "stream",
     "text": [
      "Processing: sub-HUP188_ses-presurgery_task-ictal_acq-seeg_run-01_ieeg.edf\n",
      "Extracting EDF parameters from /Users/billhuang/Desktop/BU_RISE/BU_RISE_Project/data/ds004100/sub-HUP188/ses-presurgery/ieeg/sub-HUP188_ses-presurgery_task-ictal_acq-seeg_run-01_ieeg.edf...\n",
      "EDF file detected\n",
      "Setting channel info structure...\n",
      "Creating raw.info structure...\n"
     ]
    },
    {
     "name": "stderr",
     "output_type": "stream",
     "text": [
      "100%|██████████| 173/173 [00:02<00:00, 67.8it/s] \n"
     ]
    },
    {
     "name": "stdout",
     "output_type": "stream",
     "text": [
      "Processing: sub-HUP188_ses-presurgery_task-ictal_acq-seeg_run-02_ieeg.edf\n",
      "Extracting EDF parameters from /Users/billhuang/Desktop/BU_RISE/BU_RISE_Project/data/ds004100/sub-HUP188/ses-presurgery/ieeg/sub-HUP188_ses-presurgery_task-ictal_acq-seeg_run-02_ieeg.edf...\n",
      "EDF file detected\n",
      "Setting channel info structure...\n",
      "Creating raw.info structure...\n"
     ]
    },
    {
     "name": "stderr",
     "output_type": "stream",
     "text": [
      "100%|██████████| 173/173 [00:02<00:00, 72.2it/s] \n"
     ]
    },
    {
     "name": "stdout",
     "output_type": "stream",
     "text": [
      "Processing: sub-HUP188_ses-presurgery_task-ictal_acq-seeg_run-03_ieeg.edf\n",
      "Extracting EDF parameters from /Users/billhuang/Desktop/BU_RISE/BU_RISE_Project/data/ds004100/sub-HUP188/ses-presurgery/ieeg/sub-HUP188_ses-presurgery_task-ictal_acq-seeg_run-03_ieeg.edf...\n",
      "EDF file detected\n",
      "Setting channel info structure...\n",
      "Creating raw.info structure...\n"
     ]
    },
    {
     "name": "stderr",
     "output_type": "stream",
     "text": [
      "100%|██████████| 173/173 [00:02<00:00, 68.2it/s] \n"
     ]
    },
    {
     "name": "stdout",
     "output_type": "stream",
     "text": [
      "Processing: sub-HUP188_ses-presurgery_task-ictal_acq-seeg_run-04_ieeg.edf\n",
      "Extracting EDF parameters from /Users/billhuang/Desktop/BU_RISE/BU_RISE_Project/data/ds004100/sub-HUP188/ses-presurgery/ieeg/sub-HUP188_ses-presurgery_task-ictal_acq-seeg_run-04_ieeg.edf...\n",
      "EDF file detected\n",
      "Setting channel info structure...\n",
      "Creating raw.info structure...\n"
     ]
    },
    {
     "name": "stderr",
     "output_type": "stream",
     "text": [
      "100%|██████████| 173/173 [00:02<00:00, 68.6it/s] "
     ]
    },
    {
     "name": "stdout",
     "output_type": "stream",
     "text": [
      "Processing: sub-HUP188_ses-presurgery_task-ictal_acq-seeg_run-05_ieeg.edf\n",
      "Extracting EDF parameters from /Users/billhuang/Desktop/BU_RISE/BU_RISE_Project/data/ds004100/sub-HUP188/ses-presurgery/ieeg/sub-HUP188_ses-presurgery_task-ictal_acq-seeg_run-05_ieeg.edf...\n",
      "EDF file detected\n"
     ]
    },
    {
     "name": "stderr",
     "output_type": "stream",
     "text": [
      "\n"
     ]
    },
    {
     "name": "stdout",
     "output_type": "stream",
     "text": [
      "Setting channel info structure...\n",
      "Creating raw.info structure...\n"
     ]
    },
    {
     "name": "stderr",
     "output_type": "stream",
     "text": [
      "100%|██████████| 173/173 [00:02<00:00, 66.1it/s] \n"
     ]
    },
    {
     "name": "stdout",
     "output_type": "stream",
     "text": [
      "Processing: sub-HUP188_ses-presurgery_task-interictal_acq-seeg_run-01_ieeg.edf\n",
      "Extracting EDF parameters from /Users/billhuang/Desktop/BU_RISE/BU_RISE_Project/data/ds004100/sub-HUP188/ses-presurgery/ieeg/sub-HUP188_ses-presurgery_task-interictal_acq-seeg_run-01_ieeg.edf...\n",
      "EDF file detected\n",
      "Setting channel info structure...\n",
      "Creating raw.info structure...\n"
     ]
    },
    {
     "name": "stderr",
     "output_type": "stream",
     "text": [
      "100%|██████████| 173/173 [00:03<00:00, 50.5it/s] "
     ]
    },
    {
     "name": "stdout",
     "output_type": "stream",
     "text": [
      "Processing: sub-HUP188_ses-presurgery_task-interictal_acq-seeg_run-02_ieeg.edf\n",
      "Extracting EDF parameters from /Users/billhuang/Desktop/BU_RISE/BU_RISE_Project/data/ds004100/sub-HUP188/ses-presurgery/ieeg/sub-HUP188_ses-presurgery_task-interictal_acq-seeg_run-02_ieeg.edf...\n",
      "EDF file detected\n",
      "Setting channel info structure...\n",
      "Creating raw.info structure...\n"
     ]
    },
    {
     "name": "stderr",
     "output_type": "stream",
     "text": [
      "\n",
      "100%|██████████| 173/173 [00:03<00:00, 50.7it/s] "
     ]
    },
    {
     "name": "stdout",
     "output_type": "stream",
     "text": [
      "Processing: sub-HUP190_ses-presurgery_task-ictal_acq-seeg_run-01_ieeg.edf\n",
      "Extracting EDF parameters from /Users/billhuang/Desktop/BU_RISE/BU_RISE_Project/data/ds004100/sub-HUP190/ses-presurgery/ieeg/sub-HUP190_ses-presurgery_task-ictal_acq-seeg_run-01_ieeg.edf...\n",
      "EDF file detected\n",
      "Setting channel info structure...\n",
      "Creating raw.info structure...\n"
     ]
    },
    {
     "name": "stderr",
     "output_type": "stream",
     "text": [
      "\n",
      "100%|██████████| 161/161 [00:05<00:00, 31.1it/s] \n"
     ]
    },
    {
     "name": "stdout",
     "output_type": "stream",
     "text": [
      "Processing: sub-HUP190_ses-presurgery_task-ictal_acq-seeg_run-02_ieeg.edf\n",
      "Extracting EDF parameters from /Users/billhuang/Desktop/BU_RISE/BU_RISE_Project/data/ds004100/sub-HUP190/ses-presurgery/ieeg/sub-HUP190_ses-presurgery_task-ictal_acq-seeg_run-02_ieeg.edf...\n",
      "EDF file detected\n",
      "Setting channel info structure...\n",
      "Creating raw.info structure...\n"
     ]
    },
    {
     "name": "stderr",
     "output_type": "stream",
     "text": [
      "100%|██████████| 161/161 [00:05<00:00, 31.1it/s] \n"
     ]
    },
    {
     "name": "stdout",
     "output_type": "stream",
     "text": [
      "Processing: sub-HUP190_ses-presurgery_task-ictal_acq-seeg_run-03_ieeg.edf\n",
      "Extracting EDF parameters from /Users/billhuang/Desktop/BU_RISE/BU_RISE_Project/data/ds004100/sub-HUP190/ses-presurgery/ieeg/sub-HUP190_ses-presurgery_task-ictal_acq-seeg_run-03_ieeg.edf...\n",
      "EDF file detected\n",
      "Setting channel info structure...\n",
      "Creating raw.info structure...\n"
     ]
    },
    {
     "name": "stderr",
     "output_type": "stream",
     "text": [
      "100%|██████████| 161/161 [00:04<00:00, 33.3it/s] \n"
     ]
    },
    {
     "name": "stdout",
     "output_type": "stream",
     "text": [
      "Processing: sub-HUP190_ses-presurgery_task-interictal_acq-seeg_run-01_ieeg.edf\n",
      "Extracting EDF parameters from /Users/billhuang/Desktop/BU_RISE/BU_RISE_Project/data/ds004100/sub-HUP190/ses-presurgery/ieeg/sub-HUP190_ses-presurgery_task-interictal_acq-seeg_run-01_ieeg.edf...\n",
      "EDF file detected\n",
      "Setting channel info structure...\n",
      "Creating raw.info structure...\n"
     ]
    },
    {
     "name": "stderr",
     "output_type": "stream",
     "text": [
      "100%|██████████| 161/161 [00:05<00:00, 28.3it/s] \n"
     ]
    },
    {
     "name": "stdout",
     "output_type": "stream",
     "text": [
      "Processing: sub-HUP190_ses-presurgery_task-interictal_acq-seeg_run-02_ieeg.edf\n",
      "Extracting EDF parameters from /Users/billhuang/Desktop/BU_RISE/BU_RISE_Project/data/ds004100/sub-HUP190/ses-presurgery/ieeg/sub-HUP190_ses-presurgery_task-interictal_acq-seeg_run-02_ieeg.edf...\n",
      "EDF file detected\n",
      "Setting channel info structure...\n",
      "Creating raw.info structure...\n"
     ]
    },
    {
     "name": "stderr",
     "output_type": "stream",
     "text": [
      "100%|██████████| 161/161 [00:05<00:00, 28.4it/s] \n"
     ]
    }
   ],
   "source": [
    "\n",
    "\n",
    "# edf_path = '../data/ds\n",
    "detector = ste.STEDetector(\n",
    "    # filter paramters\n",
    "    sample_freq=500.0, \n",
    "    filter_freq=[80, 200],\n",
    "    # STE parameters\n",
    "    rms_window=3*1e-3, \n",
    "    min_window=6*1e-3, \n",
    "    min_gap=10 * 1e-3, \n",
    "    epoch_len=600, \n",
    "    min_osc=6, \n",
    "    rms_thres=5, \n",
    "    peak_thres=3,\n",
    "    # multi-processing parameters\n",
    "    n_jobs=4, #Caution: this depends on how many core you CPU has\n",
    "    front_num=1\n",
    ")\n",
    "\n",
    "results = []\n",
    "\n",
    "for edf_path in edf_files:\n",
    "    try:\n",
    "        print(f\"Processing: {edf_path.name}\")\n",
    "        \n",
    "        # Locate matching channels.tsv\n",
    "        channels_path = edf_path.with_name(edf_path.name.replace(\"_ieeg.edf\", \"_channels.tsv\"))\n",
    "        if not channels_path.exists():\n",
    "            print(f\"Missing channel file: {channels_path.name}\")\n",
    "            continue\n",
    "\n",
    "        # Read good channels only\n",
    "        channels_df = pd.read_csv(channels_path, sep='\\t')\n",
    "        good_channels = channels_df[channels_df['status'] != 'bad']['name'].tolist()\n",
    "\n",
    "        # Run HFO detection\n",
    "        channel_names, start_end = detector.detect_edf(str(edf_path))\n",
    "\n",
    "        # Filter by good channels\n",
    "        for ch, intervals in zip(channel_names, start_end):\n",
    "            if ch not in good_channels:\n",
    "                continue\n",
    "            hfo_count = len(intervals)\n",
    "            hfo_duration = sum(e - s for s, e in intervals)\n",
    "            results.append({\n",
    "                \"file\": edf_path.name,\n",
    "                \"channel\": ch,\n",
    "                \"n_hfos\": hfo_count,\n",
    "                \"duration_samples\": hfo_duration,  # divide by 500.0 for seconds if needed\n",
    "                \"duration_sec\": hfo_duration / 500.0\n",
    "            })\n",
    "\n",
    "    except Exception as e:\n",
    "        print(f\"Error with {edf_path.name}: {e}\")\n",
    "\n",
    "results_df = pd.DataFrame(results)\n",
    "results_df.to_csv(\"../data/hfo_detection_results.csv\")"
   ]
  },
  {
   "cell_type": "code",
   "execution_count": 14,
   "id": "a36b2b1e",
   "metadata": {},
   "outputs": [
    {
     "data": {
      "text/html": [
       "<div>\n",
       "<style scoped>\n",
       "    .dataframe tbody tr th:only-of-type {\n",
       "        vertical-align: middle;\n",
       "    }\n",
       "\n",
       "    .dataframe tbody tr th {\n",
       "        vertical-align: top;\n",
       "    }\n",
       "\n",
       "    .dataframe thead th {\n",
       "        text-align: right;\n",
       "    }\n",
       "</style>\n",
       "<table border=\"1\" class=\"dataframe\">\n",
       "  <thead>\n",
       "    <tr style=\"text-align: right;\">\n",
       "      <th></th>\n",
       "      <th>file</th>\n",
       "      <th>channel</th>\n",
       "      <th>n_hfos</th>\n",
       "      <th>duration_samples</th>\n",
       "      <th>duration_sec</th>\n",
       "    </tr>\n",
       "  </thead>\n",
       "  <tbody>\n",
       "    <tr>\n",
       "      <th>0</th>\n",
       "      <td>sub-HUP060_ses-presurgery_task-ictal_acq-seeg_...</td>\n",
       "      <td>LAF1</td>\n",
       "      <td>2</td>\n",
       "      <td>83</td>\n",
       "      <td>0.166</td>\n",
       "    </tr>\n",
       "    <tr>\n",
       "      <th>1</th>\n",
       "      <td>sub-HUP060_ses-presurgery_task-ictal_acq-seeg_...</td>\n",
       "      <td>LAF2</td>\n",
       "      <td>0</td>\n",
       "      <td>0</td>\n",
       "      <td>0.000</td>\n",
       "    </tr>\n",
       "    <tr>\n",
       "      <th>2</th>\n",
       "      <td>sub-HUP060_ses-presurgery_task-ictal_acq-seeg_...</td>\n",
       "      <td>LAF3</td>\n",
       "      <td>2</td>\n",
       "      <td>62</td>\n",
       "      <td>0.124</td>\n",
       "    </tr>\n",
       "    <tr>\n",
       "      <th>3</th>\n",
       "      <td>sub-HUP060_ses-presurgery_task-ictal_acq-seeg_...</td>\n",
       "      <td>LAF4</td>\n",
       "      <td>2</td>\n",
       "      <td>51</td>\n",
       "      <td>0.102</td>\n",
       "    </tr>\n",
       "    <tr>\n",
       "      <th>4</th>\n",
       "      <td>sub-HUP060_ses-presurgery_task-ictal_acq-seeg_...</td>\n",
       "      <td>RA2</td>\n",
       "      <td>0</td>\n",
       "      <td>0</td>\n",
       "      <td>0.000</td>\n",
       "    </tr>\n",
       "  </tbody>\n",
       "</table>\n",
       "</div>"
      ],
      "text/plain": [
       "                                                file channel  n_hfos  \\\n",
       "0  sub-HUP060_ses-presurgery_task-ictal_acq-seeg_...    LAF1       2   \n",
       "1  sub-HUP060_ses-presurgery_task-ictal_acq-seeg_...    LAF2       0   \n",
       "2  sub-HUP060_ses-presurgery_task-ictal_acq-seeg_...    LAF3       2   \n",
       "3  sub-HUP060_ses-presurgery_task-ictal_acq-seeg_...    LAF4       2   \n",
       "4  sub-HUP060_ses-presurgery_task-ictal_acq-seeg_...     RA2       0   \n",
       "\n",
       "   duration_samples  duration_sec  \n",
       "0                83         0.166  \n",
       "1                 0         0.000  \n",
       "2                62         0.124  \n",
       "3                51         0.102  \n",
       "4                 0         0.000  "
      ]
     },
     "execution_count": 14,
     "metadata": {},
     "output_type": "execute_result"
    }
   ],
   "source": [
    "\n",
    "results_df = pd.DataFrame(results)\n",
    "results_df.head()"
   ]
  },
  {
   "cell_type": "code",
   "execution_count": null,
   "id": "f69b702c",
   "metadata": {},
   "outputs": [],
   "source": [
    "# Need to remove bad channels and use only ictal"
   ]
  },
  {
   "cell_type": "markdown",
   "id": "a62341d9",
   "metadata": {},
   "source": [
    "### MNI Detector"
   ]
  },
  {
   "cell_type": "code",
   "execution_count": 10,
   "id": "09d8a3f7",
   "metadata": {},
   "outputs": [
    {
     "name": "stdout",
     "output_type": "stream",
     "text": [
      "59 59\n"
     ]
    }
   ],
   "source": [
    "# channel_names is a list that is the same length as the number of channels in the edf\n",
    "# start_end is a nested list with the same length as channel_names. start_end[i][j][0] and start_end[i][j][1] \n",
    "# will give the start and end index respectively for the jth detected HFO in channel \n",
    "print(len(channel_names), len(start_end))"
   ]
  },
  {
   "cell_type": "code",
   "execution_count": 11,
   "id": "3adfe0a5",
   "metadata": {},
   "outputs": [],
   "source": [
    "# convert to pandas dataframe\n",
    "channel_names = np.concatenate([[channel_names[i]]*len(start_end[i]) for i in range(len(channel_names))])\n",
    "#removes channels that have no HFO detections\n",
    "start_end = [start_end[i] for i in range(len(start_end)) if len(start_end[i])>0]\n",
    "#combines all detected start-end time intervals into one big list\n",
    "start_end = np.concatenate(start_end)\n",
    "\n",
    "#Creates a table (DataFrame) with three columns:\n",
    "# \"channel\": channel name where the HFO was detected.\n",
    "#\"start\": start time (or sample index) of the detected HFO.\n",
    "#\"end\": end time (or sample index) of the detected HFO.\n",
    "HFO_ste_df = pd.DataFrame({\"channel\":channel_names,\"start\":start_end[:,0],\"end\":start_end[:,1]})"
   ]
  },
  {
   "cell_type": "code",
   "execution_count": 12,
   "id": "317951b4",
   "metadata": {},
   "outputs": [
    {
     "data": {
      "text/html": [
       "<div>\n",
       "<style scoped>\n",
       "    .dataframe tbody tr th:only-of-type {\n",
       "        vertical-align: middle;\n",
       "    }\n",
       "\n",
       "    .dataframe tbody tr th {\n",
       "        vertical-align: top;\n",
       "    }\n",
       "\n",
       "    .dataframe thead th {\n",
       "        text-align: right;\n",
       "    }\n",
       "</style>\n",
       "<table border=\"1\" class=\"dataframe\">\n",
       "  <thead>\n",
       "    <tr style=\"text-align: right;\">\n",
       "      <th></th>\n",
       "      <th>channel</th>\n",
       "      <th>start</th>\n",
       "      <th>end</th>\n",
       "    </tr>\n",
       "  </thead>\n",
       "  <tbody>\n",
       "    <tr>\n",
       "      <th>0</th>\n",
       "      <td>C3</td>\n",
       "      <td>91126</td>\n",
       "      <td>91156</td>\n",
       "    </tr>\n",
       "    <tr>\n",
       "      <th>1</th>\n",
       "      <td>C3</td>\n",
       "      <td>91452</td>\n",
       "      <td>91465</td>\n",
       "    </tr>\n",
       "    <tr>\n",
       "      <th>2</th>\n",
       "      <td>C3</td>\n",
       "      <td>97340</td>\n",
       "      <td>97354</td>\n",
       "    </tr>\n",
       "    <tr>\n",
       "      <th>3</th>\n",
       "      <td>C4</td>\n",
       "      <td>0</td>\n",
       "      <td>19</td>\n",
       "    </tr>\n",
       "    <tr>\n",
       "      <th>4</th>\n",
       "      <td>C4</td>\n",
       "      <td>188898</td>\n",
       "      <td>188937</td>\n",
       "    </tr>\n",
       "    <tr>\n",
       "      <th>5</th>\n",
       "      <td>CZ</td>\n",
       "      <td>188907</td>\n",
       "      <td>188932</td>\n",
       "    </tr>\n",
       "    <tr>\n",
       "      <th>6</th>\n",
       "      <td>EKG1</td>\n",
       "      <td>86905</td>\n",
       "      <td>86931</td>\n",
       "    </tr>\n",
       "    <tr>\n",
       "      <th>7</th>\n",
       "      <td>EKG1</td>\n",
       "      <td>88386</td>\n",
       "      <td>88411</td>\n",
       "    </tr>\n",
       "    <tr>\n",
       "      <th>8</th>\n",
       "      <td>EKG2</td>\n",
       "      <td>86921</td>\n",
       "      <td>86942</td>\n",
       "    </tr>\n",
       "    <tr>\n",
       "      <th>9</th>\n",
       "      <td>EKG2</td>\n",
       "      <td>88387</td>\n",
       "      <td>88404</td>\n",
       "    </tr>\n",
       "  </tbody>\n",
       "</table>\n",
       "</div>"
      ],
      "text/plain": [
       "  channel   start     end\n",
       "0      C3   91126   91156\n",
       "1      C3   91452   91465\n",
       "2      C3   97340   97354\n",
       "3      C4       0      19\n",
       "4      C4  188898  188937\n",
       "5      CZ  188907  188932\n",
       "6    EKG1   86905   86931\n",
       "7    EKG1   88386   88411\n",
       "8    EKG2   86921   86942\n",
       "9    EKG2   88387   88404"
      ]
     },
     "execution_count": 12,
     "metadata": {},
     "output_type": "execute_result"
    }
   ],
   "source": [
    "HFO_ste_df.head(10)\n",
    "#channel = which EEG channel detected the HFO\n",
    "#start = when it started\n",
    "#end = when it ended"
   ]
  },
  {
   "cell_type": "code",
   "execution_count": 13,
   "id": "fea2f055",
   "metadata": {},
   "outputs": [
    {
     "name": "stdout",
     "output_type": "stream",
     "text": [
      "  channel   start     end\n",
      "0      C3   91126   91156\n",
      "1      C3   91452   91465\n",
      "2      C3   97340   97354\n",
      "3      C4       0      19\n",
      "4      C4  188898  188937\n"
     ]
    }
   ],
   "source": [
    "HFO_ste_df.to_csv(\"HFO_ste.csv\", index=False)\n",
    "print(HFO_ste_df.head())\n"
   ]
  },
  {
   "cell_type": "markdown",
   "id": "b90d3542",
   "metadata": {},
   "source": [
    "MNI Detector"
   ]
  },
  {
   "cell_type": "code",
   "execution_count": null,
   "id": "6406d671",
   "metadata": {},
   "outputs": [
    {
     "name": "stdout",
     "output_type": "stream",
     "text": [
      "Extracting EDF parameters from C:\\Users\\washi\\OneDrive\\Documents\\Final Project\\sub-HUP060\\ses-presurgery\\ieeg\\sub-HUP060_ses-presurgery_task-ictal_acq-seeg_run-01_ieeg.edf...\n",
      "EDF file detected\n",
      "Setting channel info structure...\n",
      "Creating raw.info structure...\n"
     ]
    },
    {
     "name": "stderr",
     "output_type": "stream",
     "text": [
      "100%|██████████| 58.0/58.0 [01:31<00:00, 1.58s/it]\n"
     ]
    }
   ],
   "source": [
    "\n",
    "\n",
    "edf_path = 'C:\\\\Users\\\\washi\\\\OneDrive\\\\Documents\\\\Final Project\\\\sub-HUP060\\\\ses-presurgery\\\\ieeg\\\\sub-HUP060_ses-presurgery_task-ictal_acq-seeg_run-01_ieeg.edf' #change this to your edf path\n",
    "sample_freq=2000 #change this to your sample frequency\n",
    "detector = mni.MNIDetector(sample_freq, filter_freq=[80, 500], \n",
    "            epoch_time=10, epo_CHF=60, per_CHF=95/100, \n",
    "            min_win=10*1e-3, min_gap=10*1e-3, thrd_perc=99.9999/100, \n",
    "            base_seg=125*1e-3, base_shift=0.5, base_thrd=0.67, base_min=5,\n",
    "            n_jobs=32, front_num=1)\n",
    "channel_names, start_end = detector.detect_edf(edf_path)\n",
    "channel_names = np.concatenate([[channel_names[i]]*len(start_end[i]) for i in range(len(channel_names))])\n",
    "start_end = [start_end[i] for i in range(len(start_end)) if len(start_end[i])>0]\n",
    "start_end = np.concatenate(start_end)\n",
    "HFO_mni_df = pd.DataFrame({\"channel\":channel_names,\"start\":start_end[:,0],\"end\":start_end[:,1]})"
   ]
  },
  {
   "cell_type": "code",
   "execution_count": 16,
   "id": "f352324a",
   "metadata": {},
   "outputs": [
    {
     "name": "stdout",
     "output_type": "stream",
     "text": [
      "  channel   start     end\n",
      "0      C3       0      32\n",
      "1      C3  181625  189000\n",
      "2      C4       0      43\n",
      "3      C4  177875  189000\n",
      "4      CZ       0      56\n"
     ]
    }
   ],
   "source": [
    "HFO_mni_df.head(10)\n",
    "HFO_mni_df.to_csv(\"HFO_mni.csv\", index=False)\n",
    "print(HFO_mni_df.head())"
   ]
  }
 ],
 "metadata": {
  "kernelspec": {
   "display_name": "mbta_env",
   "language": "python",
   "name": "python3"
  },
  "language_info": {
   "codemirror_mode": {
    "name": "ipython",
    "version": 3
   },
   "file_extension": ".py",
   "mimetype": "text/x-python",
   "name": "python",
   "nbconvert_exporter": "python",
   "pygments_lexer": "ipython3",
   "version": "3.13.5"
  }
 },
 "nbformat": 4,
 "nbformat_minor": 5
}
