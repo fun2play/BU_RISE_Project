{
 "cells": [
  {
   "cell_type": "code",
   "execution_count": 63,
   "id": "529a2bde",
   "metadata": {},
   "outputs": [],
   "source": [
    "import numpy as np\n",
    "import numpy as np\n",
    "import mne\n",
    "import matplotlib.pyplot as plt\n",
    "import pandas as pd\n",
    "import csv\n",
    "from pathlib import Path\n",
    "import os"
   ]
  },
  {
   "cell_type": "code",
   "execution_count": 64,
   "id": "1e10f4a5",
   "metadata": {},
   "outputs": [],
   "source": [
    "# adding average HFO duration as another column in participants\n",
    "\n",
    "# change this function to change the dependent variable (e.g. duration, count. etc.)\n",
    "def avgduration(subjn, runn):\n",
    "    subjectfile = f'dataset/derivatives/sub-{subjn}/ses-01/eeg/sub-{subjn}_ses-01_task-hfo_run-0{runn}_events.tsv'\n",
    "    df = pd.read_csv(subjectfile, sep='\\t', header=0)\n",
    "    return df.loc[:, 'indDuration'].mean()\n",
    "\n",
    "nine = ['01', '02', '03', '04', '05', '06', '07', '08', '09']\n",
    "avgdurations = [] #rename this according to what variable you're looking at\n",
    "for subj in nine:\n",
    "    avg = 0\n",
    "    count = 0\n",
    "    for i in range(1, 19):\n",
    "        if (os.path.exists(f'dataset/derivatives/sub-{subj}/ses-01/eeg/sub-{subj}_ses-01_task-hfo_run-0{i}_events.tsv')):\n",
    "            try:\n",
    "                avg = avg + avgduration(subj, i) #change \"avgduration\" to match function above\n",
    "                count = count + 1\n",
    "            except:\n",
    "                continue\n",
    "    if (count != 0):\n",
    "        avg = avg / count\n",
    "    avgdurations.append(int(avg)) #rename this to match array above\n",
    "\n",
    "for subj in range(10, 31):\n",
    "    avg = 0\n",
    "    count = 0\n",
    "    for i in range(1, 19):\n",
    "        if (os.path.exists(f'dataset/derivatives/sub-{subj}/ses-01/eeg/sub-{subj}_ses-01_task-hfo_run-0{i}_events.tsv')):\n",
    "            try:\n",
    "                avg = avg + avgduration(subj, i) #change this to match function above\n",
    "                count = count + 1\n",
    "            except:\n",
    "                continue\n",
    "    if (count != 0):\n",
    "        avg = avg / count\n",
    "    avgdurations.append(int(avg)) #rename this to match array above\n",
    "\n",
    "participants = pd.read_csv('dataset/participants.tsv', sep='\\t', header=0)\n",
    "participants['HFODuration'] = avgdurations #rename this to whatever variable you're looking at + the array, be sure to stack (see count vs. age below)\n",
    "participants.to_csv('participants.csv', index=False)\n",
    "participants = pd.read_csv('participants.csv')\n",
    "\n"
   ]
  },
  {
   "cell_type": "code",
   "execution_count": 65,
   "id": "f815d58f",
   "metadata": {},
   "outputs": [],
   "source": [
    "import numpy as np\n",
    "import matplotlib.pyplot as plt\n",
    "from sklearn.linear_model import LinearRegression\n",
    "from sklearn.metrics import r2_score\n",
    "from scipy import stats"
   ]
  },
  {
   "cell_type": "markdown",
   "id": "426d05b3",
   "metadata": {},
   "source": [
    "# Duration vs. Age"
   ]
  },
  {
   "cell_type": "code",
   "execution_count": 66,
   "id": "95674a42",
   "metadata": {},
   "outputs": [
    {
     "data": {
      "image/png": "[encoded data removed]",
      "text/plain": [
       "<Figure size 640x480 with 1 Axes>"
      ]
     },
     "metadata": {},
     "output_type": "display_data"
    },
    {
     "name": "stdout",
     "output_type": "stream",
     "text": [
      "R² = 0.0325\n"
     ]
    }
   ],
   "source": [
    "#regression graph of duration vs. age\n",
    "x = participants['age'] #independent variable, change this depending on what you're looking at\n",
    "y = participants['HFODuration'] #dependent variable, change \n",
    "\n",
    "slope, intercept, r, p, std_err = stats.linregress(x, y)\n",
    "\n",
    "def myfunc(x):\n",
    "  return slope * x + intercept\n",
    "\n",
    "mymodel = list(map(myfunc, x))\n",
    "\n",
    "\n",
    "plt.scatter(x, y)\n",
    "plt.plot(x, mymodel)\n",
    "plt.show()\n",
    "\n",
    "# r^2\n",
    "\n",
    "x = np.array([float(num) for num in x]).reshape(-1, 1)\n",
    "y = [float(num) for num in y]\n",
    "\n",
    "model = LinearRegression()\n",
    "model.fit(x, y)\n",
    "y_pred = model.predict(x)\n",
    "# Calculate R^2\n",
    "r_squared = r2_score(y, y_pred)\n",
    "print(f\"R² = {r_squared:.4f}\")"
   ]
  },
  {
   "cell_type": "markdown",
   "id": "9bfb7173",
   "metadata": {},
   "source": [
    "# Duration vs. Sex"
   ]
  },
  {
   "cell_type": "code",
   "execution_count": 67,
   "id": "c18ebd6f",
   "metadata": {},
   "outputs": [
    {
     "data": {
      "image/png": "[encoded data removed]",
      "text/plain": [
       "<Figure size 640x480 with 1 Axes>"
      ]
     },
     "metadata": {},
     "output_type": "display_data"
    }
   ],
   "source": [
    "#regression graph of duration vs. sex\n",
    "\n",
    "import matplotlib.pyplot as plt\n",
    "from scipy import stats\n",
    "\n",
    "x = participants['sex']\n",
    "y = participants['HFODuration']\n",
    "\n",
    "plt.scatter(x, y)\n",
    "plt.show()"
   ]
  },
  {
   "cell_type": "markdown",
   "id": "6f774d37",
   "metadata": {},
   "source": [
    "# Count vs Age"
   ]
  },
  {
   "cell_type": "code",
   "execution_count": 68,
   "id": "fe29eac1",
   "metadata": {},
   "outputs": [],
   "source": [
    "def hfocount(subjn, runn):\n",
    "    subjectfile = f'dataset/derivatives/sub-{subjn}/ses-01/eeg/sub-{subjn}_ses-01_task-hfo_run-0{runn}_events.tsv'\n",
    "    df = pd.read_csv(subjectfile, sep='\\t', header=0)\n",
    "    return df['nChannel'].count()\n",
    "\n",
    "nine = ['01', '02', '03', '04', '05', '06', '07', '08', '09']\n",
    "hfocounts = []\n",
    "for subj in nine:\n",
    "    avg = 0\n",
    "    count = 0\n",
    "    for i in range(1, 19):\n",
    "        if (os.path.exists(f'dataset/derivatives/sub-{subj}/ses-01/eeg/sub-{subj}_ses-01_task-hfo_run-0{i}_events.tsv')):\n",
    "            try:\n",
    "                avg = avg + hfocount(subj, i)\n",
    "                count = count + 1\n",
    "            except:\n",
    "                continue\n",
    "    if (count != 0):\n",
    "        avg = avg / count\n",
    "    hfocounts.append(int(avg))\n",
    "\n",
    "for subj in range(10, 31):\n",
    "    avg = 0\n",
    "    count = 0\n",
    "    for i in range(1, 19):\n",
    "        if (os.path.exists(f'dataset/derivatives/sub-{subj}/ses-01/eeg/sub-{subj}_ses-01_task-hfo_run-0{i}_events.tsv')):\n",
    "            try:\n",
    "                avg = avg + hfocount(subj, i)\n",
    "                count = count + 1\n",
    "            except:\n",
    "                continue\n",
    "    if (count != 0):\n",
    "        avg = avg / count\n",
    "    hfocounts.append(int(avg))\n",
    "\n",
    "participants = pd.read_csv('dataset/participants.tsv', sep='\\t', header=0)\n",
    "participants['HFODuration'] = avgdurations #be sure to stack!!\n",
    "participants['hfocount'] = hfocounts\n",
    "participants.to_csv('participants.csv', index=False)\n",
    "participants = pd.read_csv('participants.csv')"
   ]
  },
  {
   "cell_type": "code",
   "execution_count": 69,
   "id": "46919c98",
   "metadata": {},
   "outputs": [
    {
     "data": {
      "image/png": "[encoded data removed]",
      "text/plain": [
       "<Figure size 640x480 with 1 Axes>"
      ]
     },
     "metadata": {},
     "output_type": "display_data"
    },
    {
     "name": "stdout",
     "output_type": "stream",
     "text": [
      "R² = 0.0103\n"
     ]
    }
   ],
   "source": [
    "x = participants['age']\n",
    "y = participants['hfocount']\n",
    "\n",
    "slope, intercept, r, p, std_err = stats.linregress(x, y)\n",
    "\n",
    "def myfunc(x):\n",
    "  return slope * x + intercept\n",
    "\n",
    "mymodel = list(map(myfunc, x))\n",
    "\n",
    "\n",
    "plt.scatter(x, y)\n",
    "plt.plot(x, mymodel)\n",
    "plt.show()\n",
    "\n",
    "# r^2\n",
    "\n",
    "x = np.array([float(num) for num in x]).reshape(-1, 1)\n",
    "y = [float(num) for num in y]\n",
    "\n",
    "model = LinearRegression()\n",
    "model.fit(x, y)\n",
    "y_pred = model.predict(x)\n",
    "# Calculate R^2\n",
    "r_squared = r2_score(y, y_pred)\n",
    "print(f\"R² = {r_squared:.4f}\")"
   ]
  }
 ],
 "metadata": {
  "kernelspec": {
   "display_name": "base",
   "language": "python",
   "name": "python3"
  },
  "language_info": {
   "codemirror_mode": {
    "name": "ipython",
    "version": 3
   },
   "file_extension": ".py",
   "mimetype": "text/x-python",
   "name": "python",
   "nbconvert_exporter": "python",
   "pygments_lexer": "ipython3",
   "version": "3.13.5"
  }
 },
 "nbformat": 4,
 "nbformat_minor": 5
}
