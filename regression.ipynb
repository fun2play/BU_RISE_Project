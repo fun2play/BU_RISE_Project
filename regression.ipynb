{
 "cells": [
  {
   "cell_type": "code",
   "execution_count": 2,
   "id": "529a2bde",
   "metadata": {},
   "outputs": [],
   "source": [
    "import numpy as np\n",
    "import numpy as np\n",
    "import mne\n",
    "import matplotlib.pyplot as plt\n",
    "import pandas as pd\n",
    "import csv\n",
    "from pathlib import Path\n",
    "import os"
   ]
  },
  {
   "cell_type": "code",
   "execution_count": null,
   "id": "0573f9f0",
   "metadata": {},
   "outputs": [],
   "source": [
    "def avgduration(subjn, runn):\n",
    "    subjectfile = f'dataset/derivatives/sub-{subjn}/ses-01/eeg/sub-{subjn}_ses-01_task-hfo_run-0{runn}_events.tsv'\n",
    "    df = pd.read_csv(subjectfile, sep='\\t', header=0)\n",
    "    return df.loc[:, 'indDuration'].mean()\n",
    "\n",
    "nine = ['01', '02', '03', '04', '05', '06', '07', '08', '09']\n",
    "avgdurations = []\n",
    "for subj in nine:\n",
    "    avg = 0\n",
    "    count = 0\n",
    "    for i in range(1, 19):\n",
    "        if (os.path.exists(f'dataset/derivatives/sub-{subj}/ses-01/eeg/sub-{subj}_ses-01_task-hfo_run-0{i}_events.tsv')):\n",
    "            try:\n",
    "                avg = avg + avgduration(subj, i)\n",
    "                count = count + 1\n",
    "            except:\n",
    "                continue\n",
    "    if (count != 0):\n",
    "        avg = avg / count\n",
    "    avgdurations.append(int(avg))\n",
    "\n",
    "for subj in range(10, 31):\n",
    "    avg = 0\n",
    "    count = 0\n",
    "    for i in range(1, 19):\n",
    "        if (os.path.exists(f'dataset/derivatives/sub-{subj}/ses-01/eeg/sub-{subj}_ses-01_task-hfo_run-0{i}_events.tsv')):\n",
    "            try:\n",
    "                avg = avg + avgduration(subj, i)\n",
    "                count = count + 1\n",
    "            except:\n",
    "                continue\n",
    "    if (count != 0):\n",
    "        avg = avg / count\n",
    "    avgdurations.append(int(avg))\n",
    "\n",
    "participants = pd.read_csv('dataset/participants.tsv', sep='\\t', header=0)\n",
    "participants['HFODuration'] = avgdurations\n",
    "participants.to_csv('participants.csv')\n",
    "\n"
   ]
  }
 ],
 "metadata": {
  "kernelspec": {
   "display_name": "base",
   "language": "python",
   "name": "python3"
  },
  "language_info": {
   "codemirror_mode": {
    "name": "ipython",
    "version": 3
   },
   "file_extension": ".py",
   "mimetype": "text/x-python",
   "name": "python",
   "nbconvert_exporter": "python",
   "pygments_lexer": "ipython3",
   "version": "3.13.5"
  }
 },
 "nbformat": 4,
 "nbformat_minor": 5
}
